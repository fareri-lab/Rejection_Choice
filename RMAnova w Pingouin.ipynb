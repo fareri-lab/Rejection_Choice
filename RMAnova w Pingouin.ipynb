{
 "cells": [
  {
   "cell_type": "code",
   "execution_count": 1,
   "id": "253ae133",
   "metadata": {},
   "outputs": [],
   "source": [
    "import pandas as pd\n",
    "import numpy as np\n",
    "import os \n",
    "import statistics \n",
    "import numpy as np\n",
    "import pandas as pd\n",
    "from pathlib import Path\n",
    "from scipy.stats import ttest_rel\n",
    "import matplotlib.pyplot as plt\n",
    "import math\n",
    "from statsmodels.stats.anova import AnovaRM\n",
    "from numpy import mean, std, cov\n",
    "from numpy.random import seed, randn\n",
    "import random as rd\n",
    "from sklearn import preprocessing\n",
    "from sklearn import datasets\n",
    "from sklearn.preprocessing import StandardScaler\n",
    "from sklearn.decomposition import PCA\n",
    "import matplotlib.pyplot as plt\n",
    "from matplotlib import pyplot\n",
    "from __future__ import division\n",
    "import sys\n",
    "import scipy\n",
    "from math import sqrt\n",
    "import scipy.stats as stats\n",
    "from scipy import stats \n",
    "from scipy.stats import t, pearsonr, sem\n",
    "import seaborn as sns\n",
    "from statistics import mean, stdev\n",
    "import statsmodels.api as sm\n",
    "import statsmodels.formula.api as smf\n",
    "import math\n",
    "import pingouin as pg\n"
   ]
  },
  {
   "cell_type": "code",
   "execution_count": 4,
   "id": "b1e2d7e0",
   "metadata": {},
   "outputs": [],
   "source": [
    "current_dir = os.getcwd()\n",
    "updatedchoicedata = pd.read_csv('shortformdata.csv')\n"
   ]
  },
  {
   "cell_type": "code",
   "execution_count": 5,
   "id": "bbf3a286",
   "metadata": {},
   "outputs": [
    {
     "name": "stdout",
     "output_type": "stream",
     "text": [
      "                  PROLIFIC_ID    choice  condition  salience  stress\n",
      "0    5a4636c92f91ec0001dcba07  0.000000          0       3.0     6.0\n",
      "1    5a4636c92f91ec0001dcba07  0.090909          1       1.5     5.5\n",
      "2    5a4636c92f91ec0001dcba07  0.000000          2       3.0     5.0\n",
      "3    5ad2c8334d061300011b1985  0.500000          0       2.0     3.0\n",
      "4    5ad2c8334d061300011b1985  0.500000          1       3.0     4.0\n",
      "..                        ...       ...        ...       ...     ...\n",
      "142  63eac31811a6da58d4f32d76  0.000000          1       3.0     9.0\n",
      "143  63eac31811a6da58d4f32d76  0.000000          2       3.0     9.0\n",
      "144  63fac97f0d4e8f6bfd753d90  0.000000          0       1.0     5.0\n",
      "145  63fac97f0d4e8f6bfd753d90  0.000000          1       1.0     5.0\n",
      "146  63fac97f0d4e8f6bfd753d90  0.000000          2       1.0     5.0\n",
      "\n",
      "[147 rows x 5 columns]\n"
     ]
    }
   ],
   "source": [
    "print(updatedchoicedata)"
   ]
  },
  {
   "cell_type": "code",
   "execution_count": 15,
   "id": "bc755840",
   "metadata": {},
   "outputs": [],
   "source": [
    "anova = pg.rm_anova(data=updatedchoicedata, dv='choice', within='condition', subject='PROLIFIC_ID', detailed=True, correction = True)"
   ]
  },
  {
   "cell_type": "code",
   "execution_count": 16,
   "id": "6ced157a",
   "metadata": {},
   "outputs": [
    {
     "name": "stdout",
     "output_type": "stream",
     "text": [
      "      Source        SS  DF        MS         F     p-unc  p-GG-corr       ng2  \\\n",
      "0  condition  0.079499   2  0.039749  1.466322  0.235894    0.23715  0.003005   \n",
      "1      Error  2.602382  96  0.027108       NaN       NaN        NaN       NaN   \n",
      "\n",
      "        eps sphericity   W-spher   p-spher  \n",
      "0  0.724238      False  0.619238  0.000013  \n",
      "1       NaN        NaN       NaN       NaN  \n"
     ]
    }
   ],
   "source": [
    "print(anova)"
   ]
  },
  {
   "cell_type": "code",
   "execution_count": 19,
   "id": "51b61f23",
   "metadata": {},
   "outputs": [
    {
     "name": "stdout",
     "output_type": "stream",
     "text": [
      "      Source         SS  DF         MS          F         p-unc     ng2  \\\n",
      "0  condition  25.010204   2  12.505102  28.253602  2.244305e-10  0.1659   \n",
      "1      Error  42.489796  96   0.442602        NaN           NaN     NaN   \n",
      "\n",
      "      eps  \n",
      "0  0.9876  \n",
      "1     NaN  \n"
     ]
    }
   ],
   "source": [
    "anova2 = pg.rm_anova(data=updatedchoicedata, dv='salience', within='condition', subject='PROLIFIC_ID', detailed=True)\n",
    "print(anova2)"
   ]
  },
  {
   "cell_type": "code",
   "execution_count": 18,
   "id": "2124f325",
   "metadata": {},
   "outputs": [
    {
     "name": "stdout",
     "output_type": "stream",
     "text": [
      "      Source         SS  DF       MS         F     p-unc  p-GG-corr       ng2  \\\n",
      "0  condition   2.350340   2  1.17517  1.593084  0.208625   0.211754  0.003233   \n",
      "1      Error  70.816327  96  0.73767       NaN       NaN        NaN       NaN   \n",
      "\n",
      "        eps sphericity   W-spher   p-spher  \n",
      "0  0.864721      False  0.843558  0.018353  \n",
      "1       NaN        NaN       NaN       NaN  \n"
     ]
    }
   ],
   "source": [
    "anova3 = pg.rm_anova(data=updatedchoicedata, dv='stress', within='condition', subject='PROLIFIC_ID', detailed=True, correction = True)\n",
    "print(anova3)"
   ]
  },
  {
   "cell_type": "code",
   "execution_count": 22,
   "id": "de20ccf8",
   "metadata": {},
   "outputs": [
    {
     "ename": "NameError",
     "evalue": "name 'stressdiffscore' is not defined",
     "output_type": "error",
     "traceback": [
      "\u001b[0;31m---------------------------------------------------------------------------\u001b[0m",
      "\u001b[0;31mNameError\u001b[0m                                 Traceback (most recent call last)",
      "\u001b[0;32m<ipython-input-22-380ae33ba8ac>\u001b[0m in \u001b[0;36m<module>\u001b[0;34m\u001b[0m\n\u001b[1;32m      1\u001b[0m mostaffected = updatedchoicedata.loc[\n\u001b[0;32m----> 2\u001b[0;31m     stressdiffscore['ifnegvalue'] == 1].reset_index()\n\u001b[0m\u001b[1;32m      3\u001b[0m \u001b[0mmostaffected\u001b[0m \u001b[0;34m=\u001b[0m \u001b[0mmostaffected\u001b[0m\u001b[0;34m[\u001b[0m\u001b[0;34m'PROLIFIC_ID'\u001b[0m\u001b[0;34m]\u001b[0m\u001b[0;34m\u001b[0m\u001b[0;34m\u001b[0m\u001b[0m\n\u001b[1;32m      4\u001b[0m \u001b[0mmostaffected\u001b[0m \u001b[0;34m=\u001b[0m \u001b[0mpd\u001b[0m\u001b[0;34m.\u001b[0m\u001b[0mDataFrame\u001b[0m\u001b[0;34m(\u001b[0m\u001b[0mdata\u001b[0m \u001b[0;34m=\u001b[0m \u001b[0mmostaffected\u001b[0m\u001b[0;34m.\u001b[0m\u001b[0msort_values\u001b[0m\u001b[0;34m(\u001b[0m\u001b[0;34m)\u001b[0m\u001b[0;34m.\u001b[0m\u001b[0mreset_index\u001b[0m\u001b[0;34m(\u001b[0m\u001b[0mdrop\u001b[0m\u001b[0;34m=\u001b[0m\u001b[0;32mTrue\u001b[0m\u001b[0;34m)\u001b[0m\u001b[0;34m)\u001b[0m\u001b[0;34m\u001b[0m\u001b[0;34m\u001b[0m\u001b[0m\n\u001b[1;32m      5\u001b[0m \u001b[0mprint\u001b[0m\u001b[0;34m(\u001b[0m\u001b[0mmostaffected\u001b[0m\u001b[0;34m)\u001b[0m\u001b[0;34m\u001b[0m\u001b[0;34m\u001b[0m\u001b[0m\n",
      "\u001b[0;31mNameError\u001b[0m: name 'stressdiffscore' is not defined"
     ]
    }
   ],
   "source": [
    "mostaffected = updatedchoicedata.loc[\n",
    "    stressdiffscore['ifnegvalue'] == 1].reset_index()\n",
    "mostaffected = mostaffected['PROLIFIC_ID']\n",
    "mostaffected = pd.DataFrame(data = mostaffected.sort_values().reset_index(drop=True))\n",
    "print(mostaffected)"
   ]
  },
  {
   "cell_type": "code",
   "execution_count": null,
   "id": "27279b26",
   "metadata": {},
   "outputs": [],
   "source": []
  }
 ],
 "metadata": {
  "kernelspec": {
   "display_name": "Python 3",
   "language": "python",
   "name": "python3"
  },
  "language_info": {
   "codemirror_mode": {
    "name": "ipython",
    "version": 3
   },
   "file_extension": ".py",
   "mimetype": "text/x-python",
   "name": "python",
   "nbconvert_exporter": "python",
   "pygments_lexer": "ipython3",
   "version": "3.8.10"
  }
 },
 "nbformat": 4,
 "nbformat_minor": 5
}
