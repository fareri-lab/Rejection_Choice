{
 "cells": [
  {
   "cell_type": "code",
   "execution_count": 92,
   "id": "64ee4af1",
   "metadata": {},
   "outputs": [],
   "source": [
    "#import packages\n",
    "import os\n",
    "import pandas as pd\n",
    "import numpy as np\n",
    "from numpy import mean, std, cov \n",
    "from numpy.random import seed, randn\n",
    "import random as rd\n",
    "from sklearn import preprocessing\n",
    "from sklearn import datasets\n",
    "from sklearn.preprocessing import StandardScaler\n",
    "from sklearn.decomposition import PCA\n",
    "import matplotlib.pyplot as plt\n",
    "from matplotlib import pyplot\n",
    "\n",
    "from __future__ import division \n",
    "import sys\n",
    "import scipy\n",
    "from math import sqrt\n",
    "import scipy.stats as stats \n",
    "from scipy.stats import t, pearsonr, sem\n",
    "import seaborn as sns\n",
    "from statistics import mean, stdev\n",
    "\n",
    "import statsmodels.api as sm\n",
    "import statsmodels.formula.api as smf"
   ]
  },
  {
   "cell_type": "code",
   "execution_count": 3,
   "id": "c81dc7b4",
   "metadata": {},
   "outputs": [
    {
     "name": "stdout",
     "output_type": "stream",
     "text": [
      "/Users/jordansiegel/opt/anaconda3/bin/python\n",
      "Collecting homebrew\n",
      "  Downloading homebrew-0.2.5-py3-none-any.whl (4.8 kB)\n",
      "Installing collected packages: homebrew\n",
      "Successfully installed homebrew-0.2.5\n"
     ]
    }
   ],
   "source": [
    "print(sys.executable)\n",
    "!{sys.executable} -m pip install homebrew"
   ]
  },
  {
   "cell_type": "code",
   "execution_count": 7,
   "id": "a812da4f",
   "metadata": {},
   "outputs": [
    {
     "name": "stdout",
     "output_type": "stream",
     "text": [
      "/Users/jordansiegel/Documents/GitHub/Rejection_Choice\n"
     ]
    }
   ],
   "source": [
    "#set paths\n",
    "\n",
    "current_dir = os.getcwd()\n",
    "print(current_dir)"
   ]
  },
  {
   "cell_type": "code",
   "execution_count": 22,
   "id": "944e886f",
   "metadata": {},
   "outputs": [],
   "source": [
    "aq = pd.read_csv('%s/scoring/aq.csv'%(current_dir))\n",
    "ntbs = pd.read_csv('%s/scoring/ntbs.csv'%(current_dir))\n",
    "scs = pd.read_csv('%s/scoring/scs.csv'%(current_dir))\n",
    "srq = pd.read_csv('%s/scoring/srq.csv'%(current_dir))\n",
    "mspss = pd.read_csv('%s/scoring/mspss.csv'%(current_dir))\n",
    "rsq = pd.read_csv('%s/scoring/rsq.csv'%(current_dir))\n",
    "updatedchoicedata = pd.read_csv('shortformdata_DF.csv')\n",
    "plottingdata = pd.read_csv('longformdata_DF_plotting.csv')"
   ]
  },
  {
   "cell_type": "code",
   "execution_count": 77,
   "id": "15a85bcd",
   "metadata": {},
   "outputs": [
    {
     "name": "stdout",
     "output_type": "stream",
     "text": [
      "                            aq  ntbs     rsq  scs  srqadmiration  \\\n",
      "Prolific_ID                                                        \n",
      "568d286ab5a2c2000cb6a91c  24.0    34  11.000   77           2.50   \n",
      "595727bd7c76640001aa8f6e  33.0    31  19.250   38           5.25   \n",
      "5a4636c92f91ec0001dcba07  32.0    38   4.000   74           4.00   \n",
      "5ad2c8334d061300011b1985  11.0    32   9.500  102           6.25   \n",
      "5adef850eb60400001539109  21.0    30  10.375   59           6.00   \n",
      "...                        ...   ...     ...  ...            ...   \n",
      "63fac97f0d4e8f6bfd753d90  30.0    32  13.500   62           6.00   \n",
      "6400d8ca785ee04d9b02ae9c  19.0    33  11.500   60           5.00   \n",
      "64023a98627b1116180dff0b  30.0    36  13.250   30           5.00   \n",
      "641361334c91a0c6ff4c5b79  10.0    34   8.125  115           7.00   \n",
      "641a3df3c874807a1a8734bc  20.0    34   8.750   57           6.25   \n",
      "\n",
      "                          srqnegativesocpot  srqsexualbehavior  srqprosocial  \\\n",
      "Prolific_ID                                                                    \n",
      "568d286ab5a2c2000cb6a91c                1.0           3.000000           7.0   \n",
      "595727bd7c76640001aa8f6e                2.8           5.666667           5.6   \n",
      "5a4636c92f91ec0001dcba07                1.0           4.666667           6.2   \n",
      "5ad2c8334d061300011b1985                1.2           3.666667           7.0   \n",
      "5adef850eb60400001539109                2.2           5.000000           5.8   \n",
      "...                                     ...                ...           ...   \n",
      "63fac97f0d4e8f6bfd753d90                1.6           5.000000           6.8   \n",
      "6400d8ca785ee04d9b02ae9c                1.6           6.333333           6.0   \n",
      "64023a98627b1116180dff0b                1.0           5.666667           6.4   \n",
      "641361334c91a0c6ff4c5b79                5.4           7.000000           6.8   \n",
      "641a3df3c874807a1a8734bc                2.8           4.000000           6.0   \n",
      "\n",
      "                          srqsociability     mspss  \n",
      "Prolific_ID                                         \n",
      "568d286ab5a2c2000cb6a91c        2.666667  3.666667  \n",
      "595727bd7c76640001aa8f6e        5.666667  3.083333  \n",
      "5a4636c92f91ec0001dcba07        4.666667  5.583333  \n",
      "5ad2c8334d061300011b1985        4.333333  6.166667  \n",
      "5adef850eb60400001539109        5.333333  3.250000  \n",
      "...                                  ...       ...  \n",
      "63fac97f0d4e8f6bfd753d90        5.333333  4.916667  \n",
      "6400d8ca785ee04d9b02ae9c        5.333333  4.416667  \n",
      "64023a98627b1116180dff0b        5.333333  2.666667  \n",
      "641361334c91a0c6ff4c5b79        7.000000  7.000000  \n",
      "641a3df3c874807a1a8734bc        5.666667  5.500000  \n",
      "\n",
      "[84 rows x 10 columns]\n"
     ]
    }
   ],
   "source": [
    "\n",
    "socialselfreport_pca = ''\n",
    "socialselfreport_pca = pd.DataFrame()\n",
    "socialselfreport_pca['Prolific_ID'] = aq['Prolific_ID']\n",
    "socialselfreport_pca['aq'] = aq['AQ']\n",
    "socialselfreport_pca['ntbs'] = ntbs['NTBS_score']\n",
    "socialselfreport_pca['rsq'] = rsq['RSQ_finalscore']\n",
    "socialselfreport_pca['scs'] = scs['SCS_score']\n",
    "socialselfreport_pca['srqadmiration'] = srq['SRQ_admiration']\n",
    "socialselfreport_pca['srqnegativesocpot'] = srq['SRQ_negsocpot']\n",
    "socialselfreport_pca['srqsexualbehavior'] = srq['SRQ_sexrel']\n",
    "socialselfreport_pca['srqprosocial'] = srq['SRQ_prosocint']\n",
    "socialselfreport_pca['srqsociability'] = srq['SRQ_sociability']\n",
    "socialselfreport_pca['mspss'] = mspss['MSPSS_score']\n",
    "ids = socialselfreport_pca['Prolific_ID']\n",
    "\n",
    "socialselfreport_pca = pd.DataFrame(data=socialselfreport_pca)\n",
    "socialselfreport_pca = socialselfreport_pca.drop(['Prolific_ID'], axis =1)\n",
    "socialselfreport_pca.index = ids\n",
    "measures = socialselfreport_pca.columns\n",
    "print(socialselfreport_pca)\n",
    "\n",
    "\n"
   ]
  },
  {
   "cell_type": "code",
   "execution_count": 59,
   "id": "414cbdb5",
   "metadata": {},
   "outputs": [
    {
     "name": "stdout",
     "output_type": "stream",
     "text": [
      "84\n"
     ]
    }
   ],
   "source": [
    "#sample size\n",
    "sample_size = len(socialselfreport_pca)\n",
    "print(sample_size\n",
    "     )"
   ]
  },
  {
   "cell_type": "code",
   "execution_count": 60,
   "id": "bbe3dba8",
   "metadata": {},
   "outputs": [
    {
     "name": "stdout",
     "output_type": "stream",
     "text": [
      "Prolific_ID        568d286ab5a2c2000cb6a91c  595727bd7c76640001aa8f6e  \\\n",
      "aq                                24.000000                 33.000000   \n",
      "ntbs                              34.000000                 31.000000   \n",
      "rsq                               11.000000                 19.250000   \n",
      "scs                               77.000000                 38.000000   \n",
      "srqadmiration                      2.500000                  5.250000   \n",
      "srqnegativesocpot                  1.000000                  2.800000   \n",
      "srqsexualbehavior                  3.000000                  5.666667   \n",
      "srqprosocial                       7.000000                  5.600000   \n",
      "srqsociability                     2.666667                  5.666667   \n",
      "mspss                              3.666667                  3.083333   \n",
      "\n",
      "Prolific_ID        5a4636c92f91ec0001dcba07  5ad2c8334d061300011b1985  \\\n",
      "aq                                32.000000                 11.000000   \n",
      "ntbs                              38.000000                 32.000000   \n",
      "rsq                                4.000000                  9.500000   \n",
      "scs                               74.000000                102.000000   \n",
      "srqadmiration                      4.000000                  6.250000   \n",
      "srqnegativesocpot                  1.000000                  1.200000   \n",
      "srqsexualbehavior                  4.666667                  3.666667   \n",
      "srqprosocial                       6.200000                  7.000000   \n",
      "srqsociability                     4.666667                  4.333333   \n",
      "mspss                              5.583333                  6.166667   \n",
      "\n",
      "Prolific_ID        5adef850eb60400001539109  5aec7e89ae13140001fc0cdf  \\\n",
      "aq                                21.000000                 20.000000   \n",
      "ntbs                              30.000000                 33.000000   \n",
      "rsq                               10.375000                 13.500000   \n",
      "scs                               59.000000                 75.000000   \n",
      "srqadmiration                      6.000000                  5.750000   \n",
      "srqnegativesocpot                  2.200000                  2.200000   \n",
      "srqsexualbehavior                  5.000000                  5.666667   \n",
      "srqprosocial                       5.800000                  6.200000   \n",
      "srqsociability                     5.333333                  6.333333   \n",
      "mspss                              3.250000                  5.250000   \n",
      "\n",
      "Prolific_ID        5b6c312fa1fda800015fe165  5bcc60b95c2b810001dc68e2  \\\n",
      "aq                                14.000000                 32.000000   \n",
      "ntbs                              33.000000                 33.000000   \n",
      "rsq                               10.625000                  6.500000   \n",
      "scs                               69.000000                107.000000   \n",
      "srqadmiration                      5.500000                  4.750000   \n",
      "srqnegativesocpot                  1.000000                  4.000000   \n",
      "srqsexualbehavior                  2.666667                  3.000000   \n",
      "srqprosocial                       6.800000                  4.600000   \n",
      "srqsociability                     4.333333                  3.333333   \n",
      "mspss                              5.333333                  7.000000   \n",
      "\n",
      "Prolific_ID        5c1c74700036a80001193c24  5c1edaeaafeeef00011588b3  ...  \\\n",
      "aq                                24.000000                    18.000  ...   \n",
      "ntbs                              28.000000                    41.000  ...   \n",
      "rsq                                7.875000                     5.125  ...   \n",
      "scs                               68.000000                   108.000  ...   \n",
      "srqadmiration                      5.000000                     7.000  ...   \n",
      "srqnegativesocpot                  2.800000                     2.000  ...   \n",
      "srqsexualbehavior                  6.000000                     7.000  ...   \n",
      "srqprosocial                       6.200000                     6.800  ...   \n",
      "srqsociability                     3.000000                     6.000  ...   \n",
      "mspss                              3.666667                     6.750  ...   \n",
      "\n",
      "Prolific_ID        63ddc6baab6a2130b8a41bf7  63e51e528df11f83a1aacab8  \\\n",
      "aq                                20.000000                 29.000000   \n",
      "ntbs                              41.000000                 28.000000   \n",
      "rsq                               14.500000                  9.250000   \n",
      "scs                               61.000000                 53.000000   \n",
      "srqadmiration                      7.000000                  2.250000   \n",
      "srqnegativesocpot                  1.000000                  1.800000   \n",
      "srqsexualbehavior                  5.666667                  5.000000   \n",
      "srqprosocial                       7.000000                  6.800000   \n",
      "srqsociability                     5.666667                  2.333333   \n",
      "mspss                              5.083333                  4.666667   \n",
      "\n",
      "Prolific_ID        63e52399159a69bf0ea848c6  63ea4ab1ce4168cbe9f63775  \\\n",
      "aq                                23.000000                 19.000000   \n",
      "ntbs                              33.000000                 25.000000   \n",
      "rsq                                8.125000                  4.375000   \n",
      "scs                               71.000000                 83.000000   \n",
      "srqadmiration                      5.500000                  4.000000   \n",
      "srqnegativesocpot                  2.000000                  1.800000   \n",
      "srqsexualbehavior                  6.000000                  5.333333   \n",
      "srqprosocial                       5.800000                  5.800000   \n",
      "srqsociability                     4.333333                  3.666667   \n",
      "mspss                              4.500000                  5.916667   \n",
      "\n",
      "Prolific_ID        63eac31811a6da58d4f32d76  63fac97f0d4e8f6bfd753d90  \\\n",
      "aq                                16.000000                 30.000000   \n",
      "ntbs                              34.000000                 32.000000   \n",
      "rsq                               12.250000                 13.500000   \n",
      "scs                               95.000000                 62.000000   \n",
      "srqadmiration                      6.250000                  6.000000   \n",
      "srqnegativesocpot                  3.600000                  1.600000   \n",
      "srqsexualbehavior                  7.000000                  5.000000   \n",
      "srqprosocial                       6.400000                  6.800000   \n",
      "srqsociability                     5.666667                  5.333333   \n",
      "mspss                              6.750000                  4.916667   \n",
      "\n",
      "Prolific_ID        6400d8ca785ee04d9b02ae9c  64023a98627b1116180dff0b  \\\n",
      "aq                                19.000000                 30.000000   \n",
      "ntbs                              33.000000                 36.000000   \n",
      "rsq                               11.500000                 13.250000   \n",
      "scs                               60.000000                 30.000000   \n",
      "srqadmiration                      5.000000                  5.000000   \n",
      "srqnegativesocpot                  1.600000                  1.000000   \n",
      "srqsexualbehavior                  6.333333                  5.666667   \n",
      "srqprosocial                       6.000000                  6.400000   \n",
      "srqsociability                     5.333333                  5.333333   \n",
      "mspss                              4.416667                  2.666667   \n",
      "\n",
      "Prolific_ID        641361334c91a0c6ff4c5b79  641a3df3c874807a1a8734bc  \n",
      "aq                                   10.000                 20.000000  \n",
      "ntbs                                 34.000                 34.000000  \n",
      "rsq                                   8.125                  8.750000  \n",
      "scs                                 115.000                 57.000000  \n",
      "srqadmiration                         7.000                  6.250000  \n",
      "srqnegativesocpot                     5.400                  2.800000  \n",
      "srqsexualbehavior                     7.000                  4.000000  \n",
      "srqprosocial                          6.800                  6.000000  \n",
      "srqsociability                        7.000                  5.666667  \n",
      "mspss                                 7.000                  5.500000  \n",
      "\n",
      "[10 rows x 84 columns]\n"
     ]
    }
   ],
   "source": [
    "#transpose dataframe so that the rows represent measures and columns represent each participant\n",
    "socialselfreport_pca = socialselfreport_pca.transpose()\n",
    "print(socialselfreport_pca)"
   ]
  },
  {
   "cell_type": "code",
   "execution_count": 61,
   "id": "c22ae258",
   "metadata": {},
   "outputs": [
    {
     "name": "stdout",
     "output_type": "stream",
     "text": [
      "Prolific_ID    568d286ab5a2c2000cb6a91c  595727bd7c76640001aa8f6e  \\\n",
      "aq                                 24.0                     33.00   \n",
      "ntbs                               34.0                     31.00   \n",
      "rsq                                11.0                     19.25   \n",
      "scs                                77.0                     38.00   \n",
      "srqadmiration                       2.5                      5.25   \n",
      "\n",
      "Prolific_ID    5a4636c92f91ec0001dcba07  5ad2c8334d061300011b1985  \\\n",
      "aq                                 32.0                     11.00   \n",
      "ntbs                               38.0                     32.00   \n",
      "rsq                                 4.0                      9.50   \n",
      "scs                                74.0                    102.00   \n",
      "srqadmiration                       4.0                      6.25   \n",
      "\n",
      "Prolific_ID    5adef850eb60400001539109  5aec7e89ae13140001fc0cdf  \\\n",
      "aq                               21.000                     20.00   \n",
      "ntbs                             30.000                     33.00   \n",
      "rsq                              10.375                     13.50   \n",
      "scs                              59.000                     75.00   \n",
      "srqadmiration                     6.000                      5.75   \n",
      "\n",
      "Prolific_ID    5b6c312fa1fda800015fe165  5bcc60b95c2b810001dc68e2  \\\n",
      "aq                               14.000                     32.00   \n",
      "ntbs                             33.000                     33.00   \n",
      "rsq                              10.625                      6.50   \n",
      "scs                              69.000                    107.00   \n",
      "srqadmiration                     5.500                      4.75   \n",
      "\n",
      "Prolific_ID    5c1c74700036a80001193c24  5c1edaeaafeeef00011588b3  ...  \\\n",
      "aq                               24.000                    18.000  ...   \n",
      "ntbs                             28.000                    41.000  ...   \n",
      "rsq                               7.875                     5.125  ...   \n",
      "scs                              68.000                   108.000  ...   \n",
      "srqadmiration                     5.000                     7.000  ...   \n",
      "\n",
      "Prolific_ID    63ddc6baab6a2130b8a41bf7  63e51e528df11f83a1aacab8  \\\n",
      "aq                                 20.0                     29.00   \n",
      "ntbs                               41.0                     28.00   \n",
      "rsq                                14.5                      9.25   \n",
      "scs                                61.0                     53.00   \n",
      "srqadmiration                       7.0                      2.25   \n",
      "\n",
      "Prolific_ID    63e52399159a69bf0ea848c6  63ea4ab1ce4168cbe9f63775  \\\n",
      "aq                               23.000                    19.000   \n",
      "ntbs                             33.000                    25.000   \n",
      "rsq                               8.125                     4.375   \n",
      "scs                              71.000                    83.000   \n",
      "srqadmiration                     5.500                     4.000   \n",
      "\n",
      "Prolific_ID    63eac31811a6da58d4f32d76  63fac97f0d4e8f6bfd753d90  \\\n",
      "aq                                16.00                      30.0   \n",
      "ntbs                              34.00                      32.0   \n",
      "rsq                               12.25                      13.5   \n",
      "scs                               95.00                      62.0   \n",
      "srqadmiration                      6.25                       6.0   \n",
      "\n",
      "Prolific_ID    6400d8ca785ee04d9b02ae9c  64023a98627b1116180dff0b  \\\n",
      "aq                                 19.0                     30.00   \n",
      "ntbs                               33.0                     36.00   \n",
      "rsq                                11.5                     13.25   \n",
      "scs                                60.0                     30.00   \n",
      "srqadmiration                       5.0                      5.00   \n",
      "\n",
      "Prolific_ID    641361334c91a0c6ff4c5b79  641a3df3c874807a1a8734bc  \n",
      "aq                               10.000                     20.00  \n",
      "ntbs                             34.000                     34.00  \n",
      "rsq                               8.125                      8.75  \n",
      "scs                             115.000                     57.00  \n",
      "srqadmiration                     7.000                      6.25  \n",
      "\n",
      "[5 rows x 84 columns]\n",
      "(10, 84)\n"
     ]
    }
   ],
   "source": [
    "#return 1st five values of dataframe\n",
    "print(socialselfreport_pca.head())\n",
    "#return dimensions of our data matrix: 6 measures by 84 participants\n",
    "print(socialselfreport_pca.shape)"
   ]
  },
  {
   "cell_type": "code",
   "execution_count": 66,
   "id": "b682758b",
   "metadata": {},
   "outputs": [
    {
     "name": "stdout",
     "output_type": "stream",
     "text": [
      "                          id         0         1         2         3  \\\n",
      "0   568d286ab5a2c2000cb6a91c  0.178828  0.209067  0.268913  0.087305   \n",
      "1   595727bd7c76640001aa8f6e  1.305446 -0.532973  2.654282 -1.615142   \n",
      "2   5a4636c92f91ec0001dcba07  1.180266  1.198454 -1.755036 -0.043652   \n",
      "3   5ad2c8334d061300011b1985 -1.448509 -0.285627 -0.164790  1.178617   \n",
      "4   5adef850eb60400001539109 -0.196711 -0.780320  0.088204 -0.698440   \n",
      "..                       ...       ...       ...       ...       ...   \n",
      "79  63fac97f0d4e8f6bfd753d90  0.929907 -0.285627  0.991752 -0.567482   \n",
      "80  6400d8ca785ee04d9b02ae9c -0.447071 -0.038280  0.413481 -0.654787   \n",
      "81  64023a98627b1116180dff0b  0.929907  0.703760  0.919468 -1.964362   \n",
      "82  641361334c91a0c6ff4c5b79 -1.573688  0.209067 -0.562351  1.746100   \n",
      "83  641a3df3c874807a1a8734bc -0.321891  0.209067 -0.381642 -0.785745   \n",
      "\n",
      "           4         5         6         7         8         9  \n",
      "0  -2.344092 -0.975396 -1.237835  1.182423 -1.788438 -1.312933  \n",
      "1  -0.010104  0.910536  0.574420 -1.190494  0.767440 -1.801235  \n",
      "2  -1.071008 -0.975396 -0.105176 -0.173530 -0.084520  0.291486  \n",
      "3   0.838619 -0.765848 -0.784771  1.182423 -0.368506  0.779788  \n",
      "4   0.626438  0.281892  0.121356 -0.851506  0.483453 -1.661720  \n",
      "..       ...       ...       ...       ...       ...       ...  \n",
      "79  0.626438 -0.346752  0.121356  0.843435  0.483453 -0.266573  \n",
      "80 -0.222285 -0.346752  1.027484 -0.512518  0.483453 -0.685117  \n",
      "81 -0.222285 -0.975396  0.574420  0.165458  0.483453 -2.150022  \n",
      "82  1.475161  3.634660  1.480548  0.843435  1.903385  1.477361  \n",
      "83  0.838619  0.910536 -0.558240 -0.512518  0.767440  0.221729  \n",
      "\n",
      "[84 rows x 11 columns]\n"
     ]
    }
   ],
   "source": [
    "#STEP 1: before PCA, scale and center the data\n",
    "#Standardizarion ensures the range of the continous inital variables each equally contributes to the analysis\n",
    "scaled_socialselfreport_pca = preprocessing.scale(socialselfreport_pca.T)\n",
    "# print(scaled_data)\n",
    "#alternative function: StandardScaler().fit_transform(data.T)\n",
    "type(scaled_socialselfreport_pca)\n",
    "scaled_socialselfreport_pca_df = pd.DataFrame(data= scaled_socialselfreport_pca)\n",
    "# print(scaled_df)\n",
    "scaled_socialselfreport_pca_df.insert(0,'id',ids)\n",
    "print(scaled_socialselfreport_pca_df)"
   ]
  },
  {
   "cell_type": "code",
   "execution_count": 95,
   "id": "5fbbe618",
   "metadata": {},
   "outputs": [
    {
     "name": "stdout",
     "output_type": "stream",
     "text": [
      "[[ 2.12925926e+00  2.84645576e-01  2.44048922e+00]\n",
      " [ 2.89046848e+00 -9.45047664e-01 -2.43369285e+00]\n",
      " [ 1.17130265e-01  1.16232743e-01  7.96079262e-01]\n",
      " [-1.74599885e+00 -1.15990784e-01  1.64558123e+00]\n",
      " [ 8.25970782e-01 -1.16896923e-01 -1.26834605e+00]\n",
      " [-4.36831071e-01 -7.47796371e-01 -1.01834158e+00]\n",
      " [-1.58103680e-01 -5.64094397e-01  1.52757034e+00]\n",
      " [-2.61098860e-01  3.47049309e+00 -1.65395309e+00]\n",
      " [ 1.23730909e+00  1.39995909e+00 -3.15105425e-01]\n",
      " [-3.37074840e+00 -1.14387969e+00 -3.30497875e-01]\n",
      " [ 1.39947550e+00 -1.15357996e+00  1.33527888e+00]\n",
      " [ 1.78823566e-01  1.39031953e+00  1.16216855e+00]\n",
      " [-3.68032042e+00 -1.71182221e+00  4.95404254e-01]\n",
      " [-2.05726171e-01  1.24317575e+00 -6.67532322e-01]\n",
      " [ 2.27955267e-01  1.65000330e+00  9.25222843e-01]\n",
      " [-2.38462348e+00 -1.44109610e-01  1.04577204e+00]\n",
      " [-1.10008496e+00 -1.72047603e+00 -5.46275497e-01]\n",
      " [-5.37705780e-01  2.59207669e+00 -5.47839569e-01]\n",
      " [ 1.73733627e+00 -3.58677388e-01  1.28744211e+00]\n",
      " [-1.63581029e-01 -1.64580130e-01 -8.71449988e-02]\n",
      " [ 3.57857909e+00 -1.12328972e+00  3.76491057e-02]\n",
      " [-6.49067563e-03 -3.41298587e-01 -2.24629436e+00]\n",
      " [-1.21701686e+00 -2.25052924e+00  5.27977576e-02]\n",
      " [ 4.97828361e-01  9.49151744e-02  1.13044850e+00]\n",
      " [-9.60444664e-01  2.39528499e-01  6.27556648e-01]\n",
      " [ 1.11090493e+00  6.47001773e-01 -1.24642414e+00]\n",
      " [ 7.90207121e-01  1.61629892e+00  3.01060250e+00]\n",
      " [ 4.17703136e-01 -1.21641910e+00 -2.28036230e+00]\n",
      " [ 2.62949491e+00 -1.53925187e+00 -2.43424390e+00]\n",
      " [-2.82506262e+00  1.02833687e+00 -1.81475848e-01]\n",
      " [-1.70893590e+00  1.65236330e+00  2.24288873e+00]\n",
      " [-2.62550629e+00  7.38202845e-01 -2.02495276e-01]\n",
      " [ 4.28861449e-01  3.78465900e-01  4.34062397e-02]\n",
      " [-4.20294046e-01  1.57587922e-01  1.36841029e+00]\n",
      " [ 9.49535324e-01  1.27532674e+00  2.99018578e-01]\n",
      " [ 2.37149453e+00  8.73042599e-01  1.14661565e+00]\n",
      " [-2.31309468e+00 -6.55315756e-01 -9.51537829e-03]\n",
      " [ 1.57056895e+00  1.96710433e+00 -2.41698972e+00]\n",
      " [-1.40611676e-04 -6.44498441e-01 -2.85124113e-01]\n",
      " [-1.35210834e+00 -1.79362204e+00  1.02748214e+00]\n",
      " [-9.64889683e-01 -1.39536753e+00 -5.85725292e-01]\n",
      " [-9.71133008e-01  1.85257474e-01  7.36617582e-01]\n",
      " [ 3.06267030e-02  1.87415149e+00 -2.18119430e+00]\n",
      " [-1.86510936e+00  5.07508427e-01  2.10720248e+00]\n",
      " [-1.37352618e+00 -3.10100751e-01  7.48817238e-01]\n",
      " [-7.59577109e-02  8.36689922e-01  1.31317668e+00]\n",
      " [-1.43060217e+00 -2.44865945e+00  1.37860184e-01]\n",
      " [-2.22176194e+00  1.29832316e-01  5.91043096e-01]\n",
      " [ 5.14997984e-01 -1.77239891e+00  1.18848019e+00]\n",
      " [ 5.11201480e-01 -9.74490298e-03 -8.90963119e-01]\n",
      " [-3.54728418e-01 -1.06734967e+00 -1.02331997e+00]\n",
      " [ 1.46739005e+00  2.19284813e-01 -3.24555273e-01]\n",
      " [ 1.97087772e+00  1.33159697e+00 -6.03636005e-01]\n",
      " [ 1.54077115e+00  5.08818973e-01 -7.64817186e-02]\n",
      " [-5.78749063e-01  2.62404713e+00 -1.08752030e+00]\n",
      " [ 1.50077920e+00 -6.95520334e-01  1.09562233e+00]\n",
      " [-1.08593915e+00  1.37373429e+00 -7.57765318e-01]\n",
      " [-2.78377009e+00  1.67234807e+00  3.65284430e-01]\n",
      " [ 2.00319208e+00 -4.39451906e-01 -7.61962897e-01]\n",
      " [ 1.84782276e+00  1.65370852e+00  3.94287837e-01]\n",
      " [-1.49491214e+00 -1.82519188e+00 -1.18401516e-01]\n",
      " [-1.37753066e-02 -9.98187108e-01  5.76713419e-02]\n",
      " [-1.00629528e+00 -1.67950125e+00  8.47972341e-01]\n",
      " [ 6.32463498e-01  1.96991835e-01 -7.90903318e-01]\n",
      " [-7.29899388e-01 -9.31198945e-01 -7.26288609e-02]\n",
      " [-3.88185885e-01  1.28674012e+00  1.18114124e-01]\n",
      " [ 1.00632704e+00  4.73714605e-01 -5.33823551e-01]\n",
      " [-2.99350057e+00  1.48369776e-01  3.83591150e-01]\n",
      " [-1.03911705e+00  3.31141959e-01 -2.54082972e+00]\n",
      " [ 2.00342075e+00 -3.14612825e-01  1.16344954e+00]\n",
      " [-2.55797553e-01 -1.04682461e+00  1.12923729e+00]\n",
      " [ 4.71552006e+00 -9.55980247e-01  2.95229512e-01]\n",
      " [ 1.87141594e+00 -7.15500098e-01 -2.80716870e-01]\n",
      " [ 3.03599610e+00 -1.15607120e+00  6.79490932e-01]\n",
      " [-5.52424270e-01 -3.15987061e+00  3.70267688e-02]\n",
      " [ 2.59413497e+00  1.56054451e+00  1.82911793e+00]\n",
      " [ 2.51926740e-01  4.32398861e-01 -6.20398740e-01]\n",
      " [-1.37292638e-01  2.79156549e+00  8.41874425e-01]\n",
      " [-1.94703576e+00  8.07113826e-02 -1.46188663e+00]\n",
      " [ 6.88245313e-01 -1.29965465e+00 -4.45925811e-02]\n",
      " [ 4.60054679e-01 -4.06253311e-01 -4.94477385e-01]\n",
      " [ 2.39683180e+00 -2.14682169e+00 -4.24606132e-01]\n",
      " [-3.91951004e+00  3.99036143e-01 -2.62034788e+00]\n",
      " [-4.75072299e-01 -2.07835944e-01 -1.24066061e+00]]\n"
     ]
    }
   ],
   "source": [
    "#create PCA object\n",
    "#sklearn uses objects that can be trained using one dataseet and applied to another dataset\n",
    "pca = PCA(n_components=3)\n",
    "\n",
    "#call fit method on scaled data, where all PCA math occurs (i.e. calculate loading scores and the variation each principal component accounts for)\n",
    "pca.fit(scaled_socialselfreport_pca)\n",
    "\n",
    "\n",
    "#generate coordinates for PCA graph based on loading scores and scaled data\n",
    "pca_data = pca.transform(scaled_socialselfreport_pca)\n",
    "print(pca_data)"
   ]
  },
  {
   "cell_type": "code",
   "execution_count": 96,
   "id": "43e5c64f",
   "metadata": {},
   "outputs": [],
   "source": [
    "#calculate the percentage of variation that each principal component accounts for\n",
    "per_var = np.round(pca.explained_variance_ratio_*100,decimals=1)\n",
    "\n",
    "type(per_var)\n",
    "per_var = np.round(pca.explained_variance_ratio_*100,decimals=1)"
   ]
  },
  {
   "cell_type": "code",
   "execution_count": 97,
   "id": "8bd8d1fe",
   "metadata": {},
   "outputs": [],
   "source": [
    "#now create labels for scree plot, 1 label per principal component; PC1, PC2, etc\n",
    "labels = ['PC' +str(x) for x in range(1,len(per_var)+1)]"
   ]
  },
  {
   "cell_type": "code",
   "execution_count": 98,
   "id": "68e4516f",
   "metadata": {},
   "outputs": [
    {
     "name": "stdout",
     "output_type": "stream",
     "text": [
      "[29.  16.8 14.6]\n"
     ]
    }
   ],
   "source": [
    "percs = pd.DataFrame(per_var)\n",
    "print(per_var)"
   ]
  },
  {
   "cell_type": "code",
   "execution_count": 99,
   "id": "3ab768fa",
   "metadata": {},
   "outputs": [
    {
     "data": {
      "image/png": "[encoded data removed]",
      "text/plain": [
       "<Figure size 1080x1080 with 1 Axes>"
      ]
     },
     "metadata": {},
     "output_type": "display_data"
    }
   ],
   "source": [
    "#use matplotlib to create a bar plot\n",
    "plt.figure(figsize=(15,15))\n",
    "plt.bar(x=range(1,len(per_var)+1), height= per_var,tick_label=labels)\n",
    "plt.ylabel('Percentage of Explained Variance')\n",
    "plt.xlabel('Principal Component')\n",
    "plt.title('Scree Plot')\n",
    "plt.savefig('PCAskreeplotall.png')\n",
    "plt.show()"
   ]
  },
  {
   "cell_type": "code",
   "execution_count": 100,
   "id": "c4c9e460",
   "metadata": {},
   "outputs": [
    {
     "name": "stdout",
     "output_type": "stream",
     "text": [
      "[29.0, 16.8, 14.6]\n"
     ]
    }
   ],
   "source": [
    "per_var2 = list(per_var[0:3])\n",
    "print(per_var2)\n",
    "labels2 = ['PC' +str(x) for x in range(1,len(per_var2)+1)]\n"
   ]
  },
  {
   "cell_type": "code",
   "execution_count": 101,
   "id": "895118a3",
   "metadata": {},
   "outputs": [
    {
     "data": {
      "image/png": "[encoded data removed]",
      "text/plain": [
       "<Figure size 432x288 with 1 Axes>"
      ]
     },
     "metadata": {},
     "output_type": "display_data"
    }
   ],
   "source": [
    "#use matplotlib to create a bar plot\n",
    "# plt.figure(figsize=(,15))\n",
    "plt.bar(x=range(1,len(per_var2)+1), height= per_var2,tick_label=labels2)\n",
    "plt.ylabel('Percentage of Explained Variance')\n",
    "plt.xlabel('Principal Component')\n",
    "plt.title('Scree Plot')\n",
    "plt.savefig('PCAskreeplot_top3.png')\n",
    "plt.show()"
   ]
  },
  {
   "cell_type": "code",
   "execution_count": 102,
   "id": "c6aebb33",
   "metadata": {},
   "outputs": [
    {
     "name": "stdout",
     "output_type": "stream",
     "text": [
      "                               PC1       PC2       PC3\n",
      "Prolific_ID                                           \n",
      "568d286ab5a2c2000cb6a91c  2.129259  0.284646  2.440489\n",
      "595727bd7c76640001aa8f6e  2.890468 -0.945048 -2.433693\n",
      "5a4636c92f91ec0001dcba07  0.117130  0.116233  0.796079\n",
      "5ad2c8334d061300011b1985 -1.745999 -0.115991  1.645581\n",
      "5adef850eb60400001539109  0.825971 -0.116897 -1.268346\n",
      "...                            ...       ...       ...\n",
      "63fac97f0d4e8f6bfd753d90  0.688245 -1.299655 -0.044593\n",
      "6400d8ca785ee04d9b02ae9c  0.460055 -0.406253 -0.494477\n",
      "64023a98627b1116180dff0b  2.396832 -2.146822 -0.424606\n",
      "641361334c91a0c6ff4c5b79 -3.919510  0.399036 -2.620348\n",
      "641a3df3c874807a1a8734bc -0.475072 -0.207836 -1.240661\n",
      "\n",
      "[84 rows x 3 columns]\n"
     ]
    }
   ],
   "source": [
    "#draw a PCA plot\n",
    "#first, put the new coordinates created by pca.transform(scaled.data)\n",
    "#into a matrix where the rows have the participant ids and the columns have PC labels\n",
    "pca_df = pd.DataFrame(pca_data, index=ids,columns=labels)\n",
    "print(pca_df)\n",
    "pca_df.to_csv('rejectionchoice_PCA_allsubjects_socialmeasures.csv')"
   ]
  },
  {
   "cell_type": "code",
   "execution_count": 103,
   "id": "1412ff60",
   "metadata": {},
   "outputs": [
    {
     "data": {
      "image/png": "[encoded data removed]",
      "text/plain": [
       "<Figure size 1080x1080 with 1 Axes>"
      ]
     },
     "metadata": {},
     "output_type": "display_data"
    },
    {
     "data": {
      "text/plain": [
       "<Figure size 432x288 with 0 Axes>"
      ]
     },
     "metadata": {},
     "output_type": "display_data"
    }
   ],
   "source": [
    "#Visualize the distribution of the samples\n",
    "#draw a scatter plot\n",
    "plt.figure(figsize=(15,15))\n",
    "plt.scatter(pca_df.PC1,pca_df.PC2)\n",
    "plt.title('My PCA Graph')\n",
    "plt.xlabel('PC1 - {0}%'.format(per_var[0]))\n",
    "plt.ylabel('PC2 - {0}%'.format(per_var[1]))\n",
    "#add sample names to graph\n",
    "# for sample in pca_df.index:\n",
    "#     plt.annotate(sample,(pca_df.PC1.loc[sample],pca_df.PC2.loc[sample]))\n",
    "plt.show()\n",
    "plt.savefig('PCAscatterplotall.png')"
   ]
  },
  {
   "cell_type": "code",
   "execution_count": 104,
   "id": "160b9b32",
   "metadata": {},
   "outputs": [
    {
     "name": "stdout",
     "output_type": "stream",
     "text": [
      "aq                   0.424477\n",
      "ntbs                -0.139162\n",
      "rsq                  0.333075\n",
      "scs                 -0.485114\n",
      "srqadmiration       -0.355809\n",
      "srqnegativesocpot   -0.038689\n",
      "srqsexualbehavior   -0.106910\n",
      "srqprosocial        -0.109994\n",
      "srqsociability      -0.321749\n",
      "mspss               -0.446129\n",
      "dtype: float64\n",
      "['scs' 'mspss' 'aq' 'srqadmiration' 'rsq' 'srqsociability' 'ntbs'\n",
      " 'srqprosocial' 'srqsexualbehavior' 'srqnegativesocpot']\n"
     ]
    }
   ],
   "source": [
    "###All measures and their loading scores for PC 1\n",
    "\n",
    "#create series obj w/ the loading scores in PC1\n",
    "loading_scores = pd.Series(pca.components_[0], index=measures)\n",
    "print(loading_scores)\n",
    "#sort loading scores based on their magnitude(absolute value)\n",
    "sorted_loading_scores = loading_scores.abs().sort_values(ascending=False)\n",
    "#get the names of the top 10 indexes (measure names )\n",
    "top_measures = sorted_loading_scores.index.values\n",
    "print(top_measures)"
   ]
  },
  {
   "cell_type": "code",
   "execution_count": 105,
   "id": "fc93e3f9",
   "metadata": {},
   "outputs": [
    {
     "name": "stdout",
     "output_type": "stream",
     "text": [
      "scs                 -0.485114\n",
      "mspss               -0.446129\n",
      "aq                   0.424477\n",
      "srqadmiration       -0.355809\n",
      "rsq                  0.333075\n",
      "srqsociability      -0.321749\n",
      "ntbs                -0.139162\n",
      "srqprosocial        -0.109994\n",
      "srqsexualbehavior   -0.106910\n",
      "srqnegativesocpot   -0.038689\n",
      "dtype: float64\n",
      "        scs     mspss        aq  srqadmiration       rsq  srqsociability  \\\n",
      "0 -0.485114 -0.446129  0.424477      -0.355809  0.333075       -0.321749   \n",
      "\n",
      "       ntbs  srqprosocial  srqsexualbehavior  srqnegativesocpot  \n",
      "0 -0.139162     -0.109994           -0.10691          -0.038689  \n"
     ]
    }
   ],
   "source": [
    "#PC1 - top 10 measures and their corresponding loading scores\n",
    "print(loading_scores[top_measures])\n",
    "PC1 = pd.DataFrame(loading_scores[top_measures]).transpose()\n",
    "print(PC1)\n",
    "# PC1.to_csv('PC1.csv')"
   ]
  },
  {
   "cell_type": "code",
   "execution_count": 106,
   "id": "791f98ec",
   "metadata": {},
   "outputs": [
    {
     "name": "stdout",
     "output_type": "stream",
     "text": [
      "aq                  -0.063582\n",
      "ntbs                -0.499588\n",
      "rsq                 -0.303112\n",
      "scs                  0.272738\n",
      "srqadmiration       -0.363571\n",
      "srqnegativesocpot    0.296359\n",
      "srqsexualbehavior   -0.031327\n",
      "srqprosocial        -0.431770\n",
      "srqsociability      -0.358873\n",
      "mspss                0.209516\n",
      "dtype: float64\n"
     ]
    }
   ],
   "source": [
    "###ALL measures and their loading scores for PC 2\n",
    "#look at the loading scores for PC2 to determine which measures had the largest influence\n",
    "#... on separating the two clusters along the x-axis\n",
    "#create series obj w/ the loading scores in PC1\n",
    "loading_scores = pd.Series(pca.components_[1], index=measures)\n",
    "print(loading_scores)\n",
    "#sort loading scores based on their magnitude(absolute value)\n",
    "sorted_loading_scores = loading_scores.abs().sort_values(ascending=False)\n",
    "#get the names of the top 10 indexes (measure names )\n",
    "top_measures = sorted_loading_scores.index.values"
   ]
  },
  {
   "cell_type": "code",
   "execution_count": 107,
   "id": "0b873db4",
   "metadata": {},
   "outputs": [
    {
     "name": "stdout",
     "output_type": "stream",
     "text": [
      "ntbs                -0.499588\n",
      "srqprosocial        -0.431770\n",
      "srqadmiration       -0.363571\n",
      "srqsociability      -0.358873\n",
      "rsq                 -0.303112\n",
      "srqnegativesocpot    0.296359\n",
      "scs                  0.272738\n",
      "mspss                0.209516\n",
      "aq                  -0.063582\n",
      "srqsexualbehavior   -0.031327\n",
      "dtype: float64\n"
     ]
    }
   ],
   "source": [
    "#PC2 -  top 10 measures and their corresponding loading scores\n",
    "print(loading_scores[top_measures])\n",
    "PC2 = pd.DataFrame(loading_scores[top_measures]).transpose()\n",
    "# print(PC2.columns)"
   ]
  },
  {
   "cell_type": "code",
   "execution_count": 108,
   "id": "92dd06c2",
   "metadata": {},
   "outputs": [
    {
     "name": "stdout",
     "output_type": "stream",
     "text": [
      "aq                  -0.147769\n",
      "ntbs                -0.110479\n",
      "rsq                 -0.084391\n",
      "scs                  0.099498\n",
      "srqadmiration       -0.282810\n",
      "srqnegativesocpot   -0.647988\n",
      "srqsexualbehavior   -0.180937\n",
      "srqprosocial         0.486148\n",
      "srqsociability      -0.375014\n",
      "mspss                0.198374\n",
      "dtype: float64\n"
     ]
    }
   ],
   "source": [
    "###All measures and their loading scores for PC 3\n",
    "\n",
    "#look at the loading scores for PC2 to determine which measures had the largest influence\n",
    "#... on separating the two clusters along the x-axis\n",
    "#create series obj w/ the loading scores in PC1\n",
    "loading_scores = pd.Series(pca.components_[2], index=measures)\n",
    "print(loading_scores)\n",
    "#sort loading scores based on their magnitude(absolute value)\n",
    "sorted_loading_scores = loading_scores.abs().sort_values(ascending=False)\n",
    "#get the names of the top 10 indexes (measure names )\n",
    "top_measures = sorted_loading_scores.index.values"
   ]
  },
  {
   "cell_type": "code",
   "execution_count": 109,
   "id": "b2269634",
   "metadata": {},
   "outputs": [
    {
     "name": "stdout",
     "output_type": "stream",
     "text": [
      "srqnegativesocpot   -0.647988\n",
      "srqprosocial         0.486148\n",
      "srqsociability      -0.375014\n",
      "srqadmiration       -0.282810\n",
      "mspss                0.198374\n",
      "srqsexualbehavior   -0.180937\n",
      "aq                  -0.147769\n",
      "ntbs                -0.110479\n",
      "scs                  0.099498\n",
      "rsq                 -0.084391\n",
      "dtype: float64\n",
      "Index(['srqnegativesocpot', 'srqprosocial', 'srqsociability', 'srqadmiration',\n",
      "       'mspss', 'srqsexualbehavior', 'aq', 'ntbs', 'scs', 'rsq'],\n",
      "      dtype='object')\n"
     ]
    }
   ],
   "source": [
    "#PC 3 print top 10 measures and their corresponding loading scores\n",
    "print(loading_scores[top_measures])\n",
    "PC3 = pd.DataFrame(loading_scores[top_measures]).transpose()\n",
    "print(PC3.columns)"
   ]
  },
  {
   "cell_type": "code",
   "execution_count": 112,
   "id": "083d1074",
   "metadata": {},
   "outputs": [],
   "source": [
    "selfreports = ['Autism Quotient','Need to Belong','Rejection Sensitivity','Social Connectedness ','Social Reward - Admiration', 'Social Reward - Negsocpot','Social Reward - Sexual Behavior',\n",
    "               'Social Reward - prosocial', 'Social Reward - Sociability', 'Social Support', ]"
   ]
  },
  {
   "cell_type": "code",
   "execution_count": 114,
   "id": "790e5105",
   "metadata": {},
   "outputs": [
    {
     "data": {
      "image/png": "[encoded data removed]",
      "text/plain": [
       "<Figure size 1800x2520 with 2 Axes>"
      ]
     },
     "metadata": {},
     "output_type": "display_data"
    }
   ],
   "source": [
    "sns.set(font_scale=1.5)\n",
    "fig, ax = plt.subplots(figsize=(25,35)) \n",
    "ax = sns.heatmap(pca.components_,\n",
    "                 cmap='RdBu_r',\n",
    "                 yticklabels=[ \"PCA\"+str(x) for x in range(1,pca.n_components_+1)],\n",
    "                 xticklabels=list(selfreports),\n",
    "                 cbar_kws={\"orientation\": \"horizontal\"})\n",
    "ax.set_aspect(\"equal\")\n",
    "plt.savefig('PCA_heatmap.png')"
   ]
  },
  {
   "cell_type": "code",
   "execution_count": null,
   "id": "30a6b929",
   "metadata": {},
   "outputs": [],
   "source": []
  }
 ],
 "metadata": {
  "kernelspec": {
   "display_name": "Python 3",
   "language": "python",
   "name": "python3"
  },
  "language_info": {
   "codemirror_mode": {
    "name": "ipython",
    "version": 3
   },
   "file_extension": ".py",
   "mimetype": "text/x-python",
   "name": "python",
   "nbconvert_exporter": "python",
   "pygments_lexer": "ipython3",
   "version": "3.8.10"
  }
 },
 "nbformat": 4,
 "nbformat_minor": 5
}
