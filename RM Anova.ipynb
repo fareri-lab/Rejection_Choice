{
 "cells": [
  {
   "cell_type": "code",
   "execution_count": 1,
   "id": "57e1e4a0",
   "metadata": {},
   "outputs": [],
   "source": [
    "import pandas as pd\n",
    "import numpy as np\n",
    "import os \n",
    "import statistics \n",
    "import numpy as np\n",
    "import pandas as pd\n",
    "from pathlib import Path\n",
    "from scipy.stats import ttest_rel\n",
    "import matplotlib.pyplot as plt\n",
    "import math\n",
    "from statsmodels.stats.anova import AnovaRM"
   ]
  },
  {
   "cell_type": "code",
   "execution_count": 24,
   "id": "5f798480",
   "metadata": {},
   "outputs": [],
   "source": [
    "current_dir = os.getcwd()\n",
    "updatedchoicedata = pd.read_csv('shortformdata.csv')\n",
    "updatedchoicedata=updatedchoicedata.sort_values(['condition']).reset_index(drop=True)\n"
   ]
  },
  {
   "cell_type": "code",
   "execution_count": 25,
   "id": "ea440777",
   "metadata": {},
   "outputs": [
    {
     "name": "stdout",
     "output_type": "stream",
     "text": [
      "                  PROLIFIC_ID    choice  condition  salience  stress\n",
      "0    5a4636c92f91ec0001dcba07  0.000000        0.0       3.0     6.0\n",
      "1    6056bcf1cee7a41435889255  0.000000        0.0       2.0     9.0\n",
      "2    63d7c5cbacd85e95302f3a62  1.000000        0.0       1.0     4.0\n",
      "3    605b5b5feff0e95f2cd60834  0.000000        0.0       1.0     7.0\n",
      "4    608209b96e955ba5201eff25  1.000000        0.0       3.0     5.0\n",
      "..                        ...       ...        ...       ...     ...\n",
      "130  60bff9298f56d55c8ecd9adf  0.636364        2.0       3.0     2.5\n",
      "131  63eac31811a6da58d4f32d76  0.000000        2.0       3.0     9.0\n",
      "132                       NaN       NaN        NaN       NaN     NaN\n",
      "133                       NaN       NaN        NaN       NaN     NaN\n",
      "134                       NaN       NaN        NaN       NaN     NaN\n",
      "\n",
      "[135 rows x 5 columns]\n"
     ]
    }
   ],
   "source": [
    "print(updatedchoicedata)"
   ]
  },
  {
   "cell_type": "code",
   "execution_count": 29,
   "id": "3fef46ec",
   "metadata": {},
   "outputs": [
    {
     "name": "stdout",
     "output_type": "stream",
     "text": [
      "(0      5a4636c92f91ec0001dcba07\n",
      "1      6056bcf1cee7a41435889255\n",
      "2      63d7c5cbacd85e95302f3a62\n",
      "3      605b5b5feff0e95f2cd60834\n",
      "4      608209b96e955ba5201eff25\n",
      "                 ...           \n",
      "130    60bff9298f56d55c8ecd9adf\n",
      "131    63eac31811a6da58d4f32d76\n",
      "132                         NaN\n",
      "133                         NaN\n",
      "134                         NaN\n",
      "Name: PROLIFIC_ID, Length: 135, dtype: object, 0      0.000000\n",
      "1      0.000000\n",
      "2      1.000000\n",
      "3      0.000000\n",
      "4      1.000000\n",
      "         ...   \n",
      "130    0.636364\n",
      "131    0.000000\n",
      "132         NaN\n",
      "133         NaN\n",
      "134         NaN\n",
      "Name: choice, Length: 135, dtype: float64, 0      0.0\n",
      "1      0.0\n",
      "2      0.0\n",
      "3      0.0\n",
      "4      0.0\n",
      "      ... \n",
      "130    2.0\n",
      "131    2.0\n",
      "132    NaN\n",
      "133    NaN\n",
      "134    NaN\n",
      "Name: condition, Length: 135, dtype: float64)\n"
     ]
    }
   ],
   "source": []
  },
  {
   "cell_type": "code",
   "execution_count": 32,
   "id": "be1862f1",
   "metadata": {},
   "outputs": [
    {
     "ename": "TypeError",
     "evalue": "tuple indices must be integers or slices, not str",
     "output_type": "error",
     "traceback": [
      "\u001b[0;31m---------------------------------------------------------------------------\u001b[0m",
      "\u001b[0;31mTypeError\u001b[0m                                 Traceback (most recent call last)",
      "\u001b[0;32m<ipython-input-32-b2fc51ace277>\u001b[0m in \u001b[0;36m<module>\u001b[0;34m\u001b[0m\n\u001b[0;32m----> 1\u001b[0;31m print(AnovaRM(data= choiceanova, depvar=choiceanova['choice'],\n\u001b[0m\u001b[1;32m      2\u001b[0m               subject=choiceanova['PROLIFIC_ID'], within=choiceanova['condition']).fit())\n",
      "\u001b[0;31mTypeError\u001b[0m: tuple indices must be integers or slices, not str"
     ]
    }
   ],
   "source": [
    "print(AnovaRM(data= choiceanova, depvar=choiceanova['choice'],\n",
    "              subject=choiceanova['PROLIFIC_ID'], within=choiceanova['condition']).fit())"
   ]
  },
  {
   "cell_type": "code",
   "execution_count": null,
   "id": "52a3f260",
   "metadata": {},
   "outputs": [],
   "source": []
  },
  {
   "cell_type": "code",
   "execution_count": null,
   "id": "02b5ea1a",
   "metadata": {},
   "outputs": [],
   "source": []
  }
 ],
 "metadata": {
  "kernelspec": {
   "display_name": "Python 3",
   "language": "python",
   "name": "python3"
  },
  "language_info": {
   "codemirror_mode": {
    "name": "ipython",
    "version": 3
   },
   "file_extension": ".py",
   "mimetype": "text/x-python",
   "name": "python",
   "nbconvert_exporter": "python",
   "pygments_lexer": "ipython3",
   "version": "3.8.10"
  }
 },
 "nbformat": 4,
 "nbformat_minor": 5
}
