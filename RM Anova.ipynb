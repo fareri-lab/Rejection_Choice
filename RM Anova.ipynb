{
 "cells": [
  {
   "cell_type": "code",
   "execution_count": 10,
   "id": "57e1e4a0",
   "metadata": {},
   "outputs": [],
   "source": [
    "import pandas as pd\n",
    "import numpy as np\n",
    "import os \n",
    "import statistics \n",
    "import numpy as np\n",
    "import pandas as pd\n",
    "from pathlib import Path\n",
    "from scipy.stats import ttest_rel\n",
    "import matplotlib.pyplot as plt\n",
    "import math\n",
    "from statsmodels.stats.anova import AnovaRM\n",
    "import os\n",
    "import pandas as pd\n",
    "import numpy as np\n",
    "from numpy import mean, std, cov\n",
    "from numpy.random import seed, randn\n",
    "import random as rd\n",
    "from sklearn import preprocessing\n",
    "from sklearn import datasets\n",
    "from sklearn.preprocessing import StandardScaler\n",
    "from sklearn.decomposition import PCA\n",
    "import matplotlib.pyplot as plt\n",
    "from matplotlib import pyplot\n",
    "from __future__ import division\n",
    "import sys\n",
    "import scipy\n",
    "from math import sqrt\n",
    "import scipy.stats as stats\n",
    "from scipy import stats \n",
    "from scipy.stats import t, pearsonr, sem\n",
    "import seaborn as sns\n",
    "from statistics import mean, stdev\n",
    "import statsmodels.api as sm\n",
    "import statsmodels.formula.api as smf\n",
    "import math"
   ]
  },
  {
   "cell_type": "code",
   "execution_count": 3,
   "id": "5f798480",
   "metadata": {},
   "outputs": [],
   "source": [
    "current_dir = os.getcwd()\n",
    "updatedchoicedata = pd.read_csv('shortformdata.csv')\n",
    "updatedchoicedata=updatedchoicedata.sort_values(['condition']).reset_index(drop=True)\n"
   ]
  },
  {
   "cell_type": "code",
   "execution_count": 63,
   "id": "ea440777",
   "metadata": {},
   "outputs": [
    {
     "name": "stdout",
     "output_type": "stream",
     "text": [
      "                  PROLIFIC_ID    choice  condition  salience  stress\n",
      "0    5a4636c92f91ec0001dcba07  0.000000          0       3.0     6.0\n",
      "1    6056bcf1cee7a41435889255  0.000000          0       2.0     9.0\n",
      "2    63d7c5cbacd85e95302f3a62  1.000000          0       1.0     4.0\n",
      "3    605b5b5feff0e95f2cd60834  0.000000          0       1.0     7.0\n",
      "4    608209b96e955ba5201eff25  1.000000          0       3.0     5.0\n",
      "..                        ...       ...        ...       ...     ...\n",
      "127  6154a88b71a7f4347658b0f7  0.500000          2       4.0     1.0\n",
      "128  62a885d5b6af18b3d4579e1b  0.000000          2       3.0     7.0\n",
      "129  62fb84322433c8d7e890a145  0.090909          2       4.0     5.5\n",
      "130  60bff9298f56d55c8ecd9adf  0.636364          2       3.0     2.5\n",
      "131  63eac31811a6da58d4f32d76  0.000000          2       3.0     9.0\n",
      "\n",
      "[132 rows x 5 columns]\n"
     ]
    }
   ],
   "source": [
    "print(updatedchoicedata)"
   ]
  },
  {
   "cell_type": "code",
   "execution_count": 4,
   "id": "be1862f1",
   "metadata": {
    "scrolled": false
   },
   "outputs": [
    {
     "name": "stdout",
     "output_type": "stream",
     "text": [
      "                 Anova\n",
      "=======================================\n",
      "          F Value Num DF  Den DF Pr > F\n",
      "---------------------------------------\n",
      "condition  1.6516 2.0000 86.0000 0.1978\n",
      "=======================================\n",
      "\n"
     ]
    }
   ],
   "source": [
    "anova = AnovaRM(updatedchoicedata, depvar='choice',\n",
    "              subject='PROLIFIC_ID', within=['condition']).fit()\n",
    "print(anova)"
   ]
  },
  {
   "cell_type": "code",
   "execution_count": 5,
   "id": "2192903e",
   "metadata": {},
   "outputs": [
    {
     "name": "stdout",
     "output_type": "stream",
     "text": [
      "                 Anova\n",
      "=======================================\n",
      "          F Value Num DF  Den DF Pr > F\n",
      "---------------------------------------\n",
      "condition 30.0340 2.0000 86.0000 0.0000\n",
      "=======================================\n",
      "\n"
     ]
    }
   ],
   "source": [
    "anova = AnovaRM(updatedchoicedata, depvar='salience',\n",
    "              subject='PROLIFIC_ID', within=['condition']).fit()\n",
    "print(anova)"
   ]
  },
  {
   "cell_type": "code",
   "execution_count": 6,
   "id": "2d570051",
   "metadata": {},
   "outputs": [
    {
     "name": "stdout",
     "output_type": "stream",
     "text": [
      "                 Anova\n",
      "=======================================\n",
      "          F Value Num DF  Den DF Pr > F\n",
      "---------------------------------------\n",
      "condition  0.9543 2.0000 86.0000 0.3891\n",
      "=======================================\n",
      "\n"
     ]
    }
   ],
   "source": [
    "anova = AnovaRM(updatedchoicedata, depvar='stress',\n",
    "              subject='PROLIFIC_ID', within=['condition']).fit()\n",
    "print(anova)"
   ]
  },
  {
   "cell_type": "code",
   "execution_count": 7,
   "id": "9e382fd4",
   "metadata": {},
   "outputs": [
    {
     "name": "stdout",
     "output_type": "stream",
     "text": [
      "    index               PROLIFIC_ID    choice  condition  salience  stress\n",
      "0       0  5a4636c92f91ec0001dcba07  0.000000          0       3.0     6.0\n",
      "1       1  6056bcf1cee7a41435889255  0.000000          0       2.0     9.0\n",
      "2       2  63d7c5cbacd85e95302f3a62  1.000000          0       1.0     4.0\n",
      "3       3  605b5b5feff0e95f2cd60834  0.000000          0       1.0     7.0\n",
      "4       4  608209b96e955ba5201eff25  1.000000          0       3.0     5.0\n",
      "5       5  60bff9298f56d55c8ecd9adf  1.000000          0       1.0     3.0\n",
      "6       6  63d5bb0d1cc3800ad1e343dc  0.000000          0       3.0     2.0\n",
      "7       7  631f3abc8826b6e7e8982648  0.000000          0       3.0     4.0\n",
      "8       8  60ef2700e476748689a999f7  1.000000          0       2.0     1.0\n",
      "9       9  60fcebba7345a976efc9c080  0.166667          0       2.0     5.0\n",
      "10     10  63d40481d12fc9cc4c1adab0  0.200000          0       2.0     4.0\n",
      "11     11  60fd5a99c4e4ead0c9a6fff4  1.000000          0       3.0     3.0\n",
      "12     12  60fd80b85dd6b22f66d16822  0.000000          0       3.0     4.0\n",
      "13     13  60fdb9ec6c3006abe82e5182  0.000000          0       3.0     5.0\n",
      "14     14  60ff33eea57872b7188f12e2  0.000000          0       3.0     5.0\n",
      "15     15  63d1b0363f9bd5a6062dfb1c  0.500000          0       2.0     6.0\n",
      "16     16  610024bfd6e1038ba3b1601d  1.000000          0       3.0     2.0\n",
      "17     17  61006614d4c56450afce3a6b  1.000000          0       4.0     3.0\n",
      "18     18  6111234ac8cfa49e38acbfb4  0.000000          0       3.0     1.0\n",
      "19     19  63d13e2a6dd3ec4a5f6bff7b  0.200000          0       4.0     6.0\n",
      "20     20  6112dccad39227e361c13866  0.833333          0       3.0     5.0\n",
      "21     21  61338374ecef87bfdfd1c7bb  0.000000          0       3.0     6.0\n",
      "22     22  6154a88b71a7f4347658b0f7  0.500000          0       3.0     1.0\n",
      "23     23  63ced670c8d001d1d5057140  1.000000          0       4.0     6.0\n",
      "24     24  62a885d5b6af18b3d4579e1b  0.000000          0       3.0     7.0\n",
      "25     25  62fb84322433c8d7e890a145  0.000000          0       4.0     5.0\n",
      "26     26  630386f64c5bbd56ab1c3b0f  1.000000          0       3.0     9.0\n",
      "27     27  63235c5bf70d8e4f79b205cd  0.000000          0       2.0     5.0\n",
      "28     28  5ff27bb4ad8fba794c1b96fa  0.000000          0       2.0     7.0\n",
      "29     29  5f32bc368853aa03df112fc6  0.000000          0       3.0     3.0\n",
      "30     30  60dbf4d94a3b5564b68881e8  0.000000          0       1.0     6.0\n",
      "31     31  63ddc6baab6a2130b8a41bf7  0.000000          0       3.0     4.0\n",
      "32     32  5ec75df0d799ae1c11a8115c  0.000000          0       1.0     5.0\n",
      "33     33  5dcb685070d51c8275d7bd54  1.000000          0       3.0     2.0\n",
      "34     34  5adef850eb60400001539109  1.000000          0       3.0     4.0\n",
      "35     35  5eefc651cb94ad4c4d017b86  0.800000          0       1.0     5.0\n",
      "36     36  5b6c312fa1fda800015fe165  1.000000          0       2.0     3.0\n",
      "37     37  63e52399159a69bf0ea848c6  0.000000          0       2.0     6.0\n",
      "38     38  5dee8ee31255595293a9906b  0.200000          0       2.0     2.0\n",
      "39     39  5d55d562e04e1c0001f5e682  0.000000          0       1.0     7.0\n",
      "40     40  5f16f559325a640008bb9a07  1.000000          0       2.0     1.0\n",
      "41     41  63eac31811a6da58d4f32d76  0.400000          0       3.0     9.0\n",
      "42     42  5ad2c8334d061300011b1985  0.500000          0       2.0     3.0\n",
      "43     43  63e51e528df11f83a1aacab8  0.000000          0       3.0     3.0\n",
      "    index               PROLIFIC_ID    choice  condition  salience  stress\n",
      "0      44  610024bfd6e1038ba3b1601d  1.000000          1       1.0     1.5\n",
      "1      45  5d55d562e04e1c0001f5e682  0.090909          1       2.0     6.5\n",
      "2      46  61006614d4c56450afce3a6b  1.000000          1       4.0     3.0\n",
      "3      47  63d13e2a6dd3ec4a5f6bff7b  0.000000          1       2.0     4.5\n",
      "4      48  5b6c312fa1fda800015fe165  1.000000          1       2.0     3.0\n",
      "5      49  60ff33eea57872b7188f12e2  0.000000          1       2.0     4.5\n",
      "6      50  63eac31811a6da58d4f32d76  0.000000          1       3.0     9.0\n",
      "7      51  6111234ac8cfa49e38acbfb4  0.090909          1       1.5     2.0\n",
      "8      52  5f32bc368853aa03df112fc6  1.000000          1       2.0     4.5\n",
      "9      53  5adef850eb60400001539109  1.000000          1       3.0     2.0\n",
      "10     54  61338374ecef87bfdfd1c7bb  0.000000          1       2.5     6.5\n",
      "11     55  63ced670c8d001d1d5057140  1.000000          1       3.5     6.5\n",
      "12     56  6154a88b71a7f4347658b0f7  0.583333          1       1.5     1.0\n",
      "13     57  5ad2c8334d061300011b1985  0.500000          1       3.0     4.0\n",
      "14     58  62a885d5b6af18b3d4579e1b  0.000000          1       3.5     7.0\n",
      "15     59  62fb84322433c8d7e890a145  0.090909          1       2.0     4.0\n",
      "16     60  63235c5bf70d8e4f79b205cd  0.181818          1       2.5     4.5\n",
      "17     61  630386f64c5bbd56ab1c3b0f  1.000000          1       3.0     9.0\n",
      "18     62  5a4636c92f91ec0001dcba07  0.090909          1       1.5     5.5\n",
      "19     63  63e52399159a69bf0ea848c6  0.090909          1       1.0     6.5\n",
      "20     64  6112dccad39227e361c13866  0.181818          1       1.0     2.5\n",
      "21     65  60fdb9ec6c3006abe82e5182  0.800000          1       2.0     3.5\n",
      "22     66  60bff9298f56d55c8ecd9adf  0.666667          1       1.5     2.5\n",
      "23     67  5f16f559325a640008bb9a07  1.000000          1       1.5     1.0\n",
      "24     68  5ff27bb4ad8fba794c1b96fa  0.000000          1       1.5     7.0\n",
      "25     69  63d7c5cbacd85e95302f3a62  1.000000          1       1.0     3.5\n",
      "26     70  6056bcf1cee7a41435889255  0.000000          1       1.5     8.5\n",
      "27     71  63ddc6baab6a2130b8a41bf7  0.000000          1       1.5     2.5\n",
      "28     72  5eefc651cb94ad4c4d017b86  0.363636          1       1.5     5.0\n",
      "29     73  605b5b5feff0e95f2cd60834  0.583333          1       1.0     6.0\n",
      "30     74  608209b96e955ba5201eff25  1.000000          1       2.0     5.0\n",
      "31     75  63d5bb0d1cc3800ad1e343dc  0.000000          1       2.0     2.5\n",
      "32     76  63d1b0363f9bd5a6062dfb1c  1.000000          1       2.0     7.0\n",
      "33     77  5ec75df0d799ae1c11a8115c  0.181818          1       2.0     4.5\n",
      "34     78  631f3abc8826b6e7e8982648  0.454545          1       1.0     2.0\n",
      "35     79  63e51e528df11f83a1aacab8  0.700000          1       3.0     2.5\n",
      "36     80  60ef2700e476748689a999f7  1.000000          1       1.0     1.0\n",
      "37     81  60fd80b85dd6b22f66d16822  0.090909          1       1.5     4.5\n",
      "38     82  63d40481d12fc9cc4c1adab0  0.000000          1       1.5     1.5\n",
      "39     83  5dee8ee31255595293a9906b  0.000000          1       1.5     2.0\n",
      "40     84  5dcb685070d51c8275d7bd54  1.000000          1       2.0     2.5\n",
      "41     85  60fcebba7345a976efc9c080  0.181818          1       2.0     5.5\n",
      "42     86  60dbf4d94a3b5564b68881e8  0.000000          1       1.5     7.5\n",
      "43     87  60fd5a99c4e4ead0c9a6fff4  1.000000          1       2.5     3.0\n",
      "    index               PROLIFIC_ID    choice  condition  salience  stress\n",
      "0      88  63d7c5cbacd85e95302f3a62  1.000000          2       1.0     3.5\n",
      "1      89  63d1b0363f9bd5a6062dfb1c  0.909091          2       4.0     3.0\n",
      "2      90  63d40481d12fc9cc4c1adab0  0.000000          2       2.0     2.0\n",
      "3      91  63235c5bf70d8e4f79b205cd  0.000000          2       1.5     7.0\n",
      "4      92  63e52399159a69bf0ea848c6  0.000000          2       2.5     6.5\n",
      "5      93  63d5bb0d1cc3800ad1e343dc  0.181818          2       4.0     2.5\n",
      "6      94  63ddc6baab6a2130b8a41bf7  0.000000          2       2.5     3.5\n",
      "7      95  63ced670c8d001d1d5057140  1.000000          2       4.0     7.0\n",
      "8      96  63d13e2a6dd3ec4a5f6bff7b  0.000000          2       2.5     5.0\n",
      "9      97  63e51e528df11f83a1aacab8  0.500000          2       3.5     4.0\n",
      "10     98  60fdb9ec6c3006abe82e5182  0.000000          2       3.5     4.5\n",
      "11     99  630386f64c5bbd56ab1c3b0f  1.000000          2       3.0     8.0\n",
      "12    100  5a4636c92f91ec0001dcba07  0.000000          2       3.0     5.0\n",
      "13    101  5ad2c8334d061300011b1985  0.363636          2       4.5     2.5\n",
      "14    102  5adef850eb60400001539109  1.000000          2       3.0     4.5\n",
      "15    103  5b6c312fa1fda800015fe165  1.000000          2       3.5     6.5\n",
      "16    104  5d55d562e04e1c0001f5e682  0.000000          2       2.0     6.0\n",
      "17    105  5dcb685070d51c8275d7bd54  1.000000          2       2.5     2.5\n",
      "18    106  5dee8ee31255595293a9906b  0.000000          2       3.0     2.0\n",
      "19    107  5ec75df0d799ae1c11a8115c  0.000000          2       3.5     3.0\n",
      "20    108  5eefc651cb94ad4c4d017b86  0.727273          2       3.5     3.0\n",
      "21    109  5f16f559325a640008bb9a07  1.000000          2       3.5     1.0\n",
      "22    110  5f32bc368853aa03df112fc6  0.583333          2       5.0     1.0\n",
      "23    111  5ff27bb4ad8fba794c1b96fa  0.000000          2       2.5     6.0\n",
      "24    112  6056bcf1cee7a41435889255  0.181818          2       2.0     9.0\n",
      "25    113  605b5b5feff0e95f2cd60834  0.363636          2       1.5     6.0\n",
      "26    114  631f3abc8826b6e7e8982648  0.272727          2       1.5     4.5\n",
      "27    115  608209b96e955ba5201eff25  1.000000          2       4.0     6.5\n",
      "28    116  60dbf4d94a3b5564b68881e8  0.000000          2       2.5     6.0\n",
      "29    117  60ef2700e476748689a999f7  0.900000          2       3.5     1.0\n",
      "30    118  60fcebba7345a976efc9c080  0.272727          2       2.5     5.0\n",
      "31    119  60fd5a99c4e4ead0c9a6fff4  1.000000          2       3.5     3.0\n",
      "32    120  60fd80b85dd6b22f66d16822  0.090909          2       3.5     5.5\n",
      "33    121  60ff33eea57872b7188f12e2  0.000000          2       3.5     5.0\n",
      "34    122  610024bfd6e1038ba3b1601d  1.000000          2       4.0     1.5\n",
      "35    123  61006614d4c56450afce3a6b  0.666667          2       3.5     3.0\n",
      "36    124  6111234ac8cfa49e38acbfb4  0.000000          2       2.5     1.0\n",
      "37    125  6112dccad39227e361c13866  0.500000          2       3.0     4.5\n",
      "38    126  61338374ecef87bfdfd1c7bb  0.000000          2       2.5     7.5\n",
      "39    127  6154a88b71a7f4347658b0f7  0.500000          2       4.0     1.0\n",
      "40    128  62a885d5b6af18b3d4579e1b  0.000000          2       3.0     7.0\n",
      "41    129  62fb84322433c8d7e890a145  0.090909          2       4.0     5.5\n",
      "42    130  60bff9298f56d55c8ecd9adf  0.636364          2       3.0     2.5\n",
      "43    131  63eac31811a6da58d4f32d76  0.000000          2       3.0     9.0\n"
     ]
    }
   ],
   "source": [
    "#indexing data frame to isolate variables by condition\n",
    "neutralcondition = updatedchoicedata[updatedchoicedata['condition'] == 0].reset_index()\n",
    "rejectioncondition = updatedchoicedata[updatedchoicedata['condition'] == 1].reset_index()\n",
    "acceptcondition = updatedchoicedata[updatedchoicedata['condition'] == 2].reset_index()\n",
    "\n",
    "print(neutralcondition)\n",
    "print(rejectioncondition)\n",
    "print(acceptcondition)"
   ]
  },
  {
   "cell_type": "code",
   "execution_count": 12,
   "id": "69c2585f",
   "metadata": {},
   "outputs": [
    {
     "name": "stdout",
     "output_type": "stream",
     "text": [
      "T-statistic value: -6.361649804515658\n",
      "P-value: 1.0882962409871402e-07\n",
      "-1.3480731963528803\n",
      "T-statistic value: -2.868548662402545\n",
      "P-value: 0.006366855959083715\n",
      "-0.6676017339295613\n",
      "T-statistic value: 2.837607373242712\n",
      "P-value: 0.006908367763289988\n",
      "0.627848740743234\n"
     ]
    }
   ],
   "source": [
    "#%% paired samples t-test for condition by salience\n",
    "t_stat, p_value = ttest_rel(rejectioncondition['salience'],acceptcondition['salience'])\n",
    "print(\"T-statistic value:\", t_stat)\n",
    "print('P-value:', p_value)\n",
    "\n",
    "#effect size t-test rej v acc salience level (likelihood to share in the future)\n",
    "cohens_d = (mean(rejectioncondition['salience']) - mean(acceptcondition['salience'])) / (sqrt((stdev(rejectioncondition['salience']) ** 2 + stdev(acceptcondition['salience']) ** 2) / 2))\n",
    "print(cohens_d)\n",
    "\n",
    "#%% paired samples t-test for condition by salience\n",
    "t_stat, p_value = ttest_rel(rejectioncondition['salience'],neutralcondition['salience'])\n",
    "print(\"T-statistic value:\", t_stat)\n",
    "print('P-value:', p_value)\n",
    "\n",
    "#effect size t-test rej v acc salience level (likelihood to share in the future)\n",
    "cohens_d = (mean(rejectioncondition['salience']) - mean(neutralcondition['salience'])) / (sqrt((stdev(rejectioncondition['salience']) ** 2 + stdev(neutralcondition['salience']) ** 2) / 2))\n",
    "print(cohens_d)\n",
    "\n",
    "#%% paired samples t-test for condition by salience\n",
    "t_stat, p_value = ttest_rel(acceptcondition['salience'],neutralcondition['salience'])\n",
    "print(\"T-statistic value:\", t_stat)\n",
    "print('P-value:', p_value)\n",
    "\n",
    "#effect size t-test rej v acc salience level (likelihood to share in the future)\n",
    "cohens_d = (mean(acceptcondition['salience']) - mean(neutralcondition['salience'])) / (sqrt((stdev(acceptcondition['salience']) ** 2 + stdev(neutralcondition['salience']) ** 2) / 2))\n",
    "print(cohens_d)"
   ]
  },
  {
   "cell_type": "code",
   "execution_count": null,
   "id": "ad068a74",
   "metadata": {},
   "outputs": [],
   "source": []
  }
 ],
 "metadata": {
  "kernelspec": {
   "display_name": "Python 3",
   "language": "python",
   "name": "python3"
  },
  "language_info": {
   "codemirror_mode": {
    "name": "ipython",
    "version": 3
   },
   "file_extension": ".py",
   "mimetype": "text/x-python",
   "name": "python",
   "nbconvert_exporter": "python",
   "pygments_lexer": "ipython3",
   "version": "3.8.10"
  }
 },
 "nbformat": 4,
 "nbformat_minor": 5
}
