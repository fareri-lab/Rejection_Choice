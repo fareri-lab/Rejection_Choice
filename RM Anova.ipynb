{
 "cells": [
  {
   "cell_type": "code",
   "execution_count": 61,
   "id": "57e1e4a0",
   "metadata": {},
   "outputs": [],
   "source": [
    "import pandas as pd\n",
    "import numpy as np\n",
    "import os \n",
    "import statistics \n",
    "import numpy as np\n",
    "import pandas as pd\n",
    "from pathlib import Path\n",
    "from scipy.stats import ttest_rel\n",
    "import matplotlib.pyplot as plt\n",
    "import math\n",
    "from statsmodels.stats.anova import AnovaRM"
   ]
  },
  {
   "cell_type": "code",
   "execution_count": 62,
   "id": "5f798480",
   "metadata": {},
   "outputs": [],
   "source": [
    "current_dir = os.getcwd()\n",
    "updatedchoicedata = pd.read_csv('shortformdata.csv')\n",
    "updatedchoicedata=updatedchoicedata.sort_values(['condition']).reset_index(drop=True)\n"
   ]
  },
  {
   "cell_type": "code",
   "execution_count": 63,
   "id": "ea440777",
   "metadata": {},
   "outputs": [
    {
     "name": "stdout",
     "output_type": "stream",
     "text": [
      "                  PROLIFIC_ID    choice  condition  salience  stress\n",
      "0    5a4636c92f91ec0001dcba07  0.000000          0       3.0     6.0\n",
      "1    6056bcf1cee7a41435889255  0.000000          0       2.0     9.0\n",
      "2    63d7c5cbacd85e95302f3a62  1.000000          0       1.0     4.0\n",
      "3    605b5b5feff0e95f2cd60834  0.000000          0       1.0     7.0\n",
      "4    608209b96e955ba5201eff25  1.000000          0       3.0     5.0\n",
      "..                        ...       ...        ...       ...     ...\n",
      "127  6154a88b71a7f4347658b0f7  0.500000          2       4.0     1.0\n",
      "128  62a885d5b6af18b3d4579e1b  0.000000          2       3.0     7.0\n",
      "129  62fb84322433c8d7e890a145  0.090909          2       4.0     5.5\n",
      "130  60bff9298f56d55c8ecd9adf  0.636364          2       3.0     2.5\n",
      "131  63eac31811a6da58d4f32d76  0.000000          2       3.0     9.0\n",
      "\n",
      "[132 rows x 5 columns]\n"
     ]
    }
   ],
   "source": [
    "print(updatedchoicedata)"
   ]
  },
  {
   "cell_type": "code",
   "execution_count": 64,
   "id": "be1862f1",
   "metadata": {
    "scrolled": false
   },
   "outputs": [
    {
     "name": "stdout",
     "output_type": "stream",
     "text": [
      "                 Anova\n",
      "=======================================\n",
      "          F Value Num DF  Den DF Pr > F\n",
      "---------------------------------------\n",
      "condition  1.6516 2.0000 86.0000 0.1978\n",
      "=======================================\n",
      "\n"
     ]
    }
   ],
   "source": [
    "anova = AnovaRM(updatedchoicedata, depvar='choice',\n",
    "              subject='PROLIFIC_ID', within=['condition']).fit()\n",
    "print(anova)"
   ]
  }
 ],
 "metadata": {
  "kernelspec": {
   "display_name": "Python 3 (ipykernel)",
   "language": "python",
   "name": "python3"
  },
  "language_info": {
   "codemirror_mode": {
    "name": "ipython",
    "version": 3
   },
   "file_extension": ".py",
   "mimetype": "text/x-python",
   "name": "python",
   "nbconvert_exporter": "python",
   "pygments_lexer": "ipython3",
   "version": "3.9.7"
  }
 },
 "nbformat": 4,
 "nbformat_minor": 5
}
