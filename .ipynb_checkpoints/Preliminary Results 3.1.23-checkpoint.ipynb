{
 "cells": [
  {
   "cell_type": "code",
   "execution_count": 32,
   "id": "ea3055a8",
   "metadata": {},
   "outputs": [],
   "source": [
    "#import packages\n",
    "import os\n",
    "import pandas as pd\n",
    "import numpy as np\n",
    "from numpy import mean, std, cov\n",
    "from numpy.random import seed, randn\n",
    "import random as rd\n",
    "from sklearn import preprocessing\n",
    "from sklearn import datasets\n",
    "from sklearn.preprocessing import StandardScaler\n",
    "from sklearn.decomposition import PCA\n",
    "import matplotlib.pyplot as plt\n",
    "from matplotlib import pyplot\n",
    "from __future__ import division\n",
    "import sys\n",
    "import scipy\n",
    "from math import sqrt\n",
    "import scipy.stats as stats\n",
    "from scipy.stats import t, pearsonr, sem\n",
    "import seaborn as sns\n",
    "from statistics import mean, stdev\n",
    "import statsmodels.api as sm\n",
    "import statsmodels.formula.api as smf\n",
    "\n",
    "current_dir = os.getcwd()\n",
    "updatedchoicedata = pd.read_csv('updatedchoicedata.csv')\n",
    "selfreportdata = pd.read_csv('%s/scoring/selfreportdata_master.csv'%(current_dir))"
   ]
  },
  {
   "cell_type": "code",
   "execution_count": 33,
   "id": "2159a4f2",
   "metadata": {},
   "outputs": [
    {
     "name": "stdout",
     "output_type": "stream",
     "text": [
      "    index               Prolific_id  choiceresponse  condition  salience  \\\n",
      "0       0  61006614d4056450af0e3a6b        1.000000          0       4.0   \n",
      "1       3  5eef06510b94ad404d017b86        0.800000          0       1.0   \n",
      "2       6  5a4636092f91e00001d0ba07        0.000000          0       3.0   \n",
      "3       9  5ff27bb4ad8fba79401b96fa        0.000000          0       2.0   \n",
      "4      12  5e075df0d799ae1011a81150        0.000000          0       1.0   \n",
      "5      15  61338374e0ef87bfdfd107bb        0.000000          0       3.0   \n",
      "6      18  610024bfd6e1038ba3b1601d        1.000000          0       3.0   \n",
      "7      21  5dee8ee31255595293a9906b        0.200000          0       2.0   \n",
      "8      24  60bff9298f56d5508e0d9adf        1.000000          0       1.0   \n",
      "9      27  6111234a080fa49e38a0bfb4        0.000000          0       3.0   \n",
      "10     30  5f16f559325a640008bb9a07        1.000000          0       2.0   \n",
      "11     33  60f0ebba7345a976ef090080        0.166667          0       2.0   \n",
      "12     36  5adef850eb60400001539109        1.000000          0       3.0   \n",
      "13     39  63d1b0363f9bd5a6062dfb10        0.500000          0       2.0   \n",
      "14     42  5ad208334d061300011b1985        0.500000          0       2.0   \n",
      "15     45  5d55d562e04e100001f5e682        0.000000          0       1.0   \n",
      "16     48  5d0b685070d5108275d7bd54        1.000000          0       3.0   \n",
      "17     51  5f32b0368853aa03df112f06        0.000000          0       3.0   \n",
      "18     54  60dbf4d94a3b5564b68881e8        0.000000          0       1.0   \n",
      "19     57  60ef2700e476748689a999f7        1.000000          0       2.0   \n",
      "20     60  63d5bb0d1003800ad1e343d0        0.000000          0       3.0   \n",
      "21     63  63e51e528df11f83a1aa0ab8        0.000000          0       3.0   \n",
      "22     66  631f3ab08826b6e7e8982648        0.000000          0       3.0   \n",
      "23     69  6154a88b71a7f4347658b0f7        0.500000          0       3.0   \n",
      "24     72  6323505bf70d8e4f79b2050d        0.000000          0       2.0   \n",
      "25     75  630386f6405bbd56ab103b0f        1.000000          0       3.0   \n",
      "26     78  63e52399159a69bf0ea848c6        0.000000          0       2.0   \n",
      "\n",
      "    stress  \n",
      "0      3.0  \n",
      "1      5.0  \n",
      "2      6.0  \n",
      "3      7.0  \n",
      "4      5.0  \n",
      "5      6.0  \n",
      "6      2.0  \n",
      "7      2.0  \n",
      "8      3.0  \n",
      "9      1.0  \n",
      "10     1.0  \n",
      "11     5.0  \n",
      "12     4.0  \n",
      "13     6.0  \n",
      "14     3.0  \n",
      "15     7.0  \n",
      "16     2.0  \n",
      "17     3.0  \n",
      "18     6.0  \n",
      "19     1.0  \n",
      "20     2.0  \n",
      "21     3.0  \n",
      "22     4.0  \n",
      "23     1.0  \n",
      "24     5.0  \n",
      "25     9.0  \n",
      "26     6.0  \n",
      "    index               Prolific_id  choiceresponse  condition  salience  \\\n",
      "0       1  61006614d4056450af0e3a6b        1.000000          1       4.0   \n",
      "1       4  5eef06510b94ad404d017b86        0.363636          1       1.5   \n",
      "2       7  5a4636092f91e00001d0ba07        0.090909          1       1.5   \n",
      "3      10  5ff27bb4ad8fba79401b96fa        0.000000          1       1.5   \n",
      "4      13  5e075df0d799ae1011a81150        0.181818          1       2.0   \n",
      "5      16  61338374e0ef87bfdfd107bb        0.000000          1       2.5   \n",
      "6      19  610024bfd6e1038ba3b1601d        1.000000          1       1.0   \n",
      "7      22  5dee8ee31255595293a9906b        0.000000          1       1.0   \n",
      "8      25  60bff9298f56d5508e0d9adf        0.666667          1       1.5   \n",
      "9      28  6111234a080fa49e38a0bfb4        0.090909          1       1.5   \n",
      "10     31  5f16f559325a640008bb9a07        1.000000          1       1.5   \n",
      "11     34  60f0ebba7345a976ef090080        0.181818          1       2.0   \n",
      "12     37  5adef850eb60400001539109        1.000000          1       3.0   \n",
      "13     40  63d1b0363f9bd5a6062dfb10        1.000000          1       2.0   \n",
      "14     43  5ad208334d061300011b1985        0.500000          1       3.0   \n",
      "15     46  5d55d562e04e100001f5e682        0.090909          1       2.0   \n",
      "16     49  5d0b685070d5108275d7bd54        1.000000          1       2.0   \n",
      "17     52  5f32b0368853aa03df112f06        1.000000          1       2.0   \n",
      "18     55  60dbf4d94a3b5564b68881e8        0.000000          1       1.5   \n",
      "19     58  60ef2700e476748689a999f7        1.000000          1       1.0   \n",
      "20     61  63d5bb0d1003800ad1e343d0        0.000000          1       2.0   \n",
      "21     64  63e51e528df11f83a1aa0ab8        0.700000          1       3.0   \n",
      "22     67  631f3ab08826b6e7e8982648        0.454545          1       1.0   \n",
      "23     70  6154a88b71a7f4347658b0f7        0.583333          1       1.5   \n",
      "24     73  6323505bf70d8e4f79b2050d        0.181818          1       2.5   \n",
      "25     76  630386f6405bbd56ab103b0f        1.000000          1       3.0   \n",
      "26     79  63e52399159a69bf0ea848c6        0.000000          1       1.0   \n",
      "\n",
      "    stress  \n",
      "0      3.0  \n",
      "1      5.0  \n",
      "2      5.5  \n",
      "3      7.0  \n",
      "4      4.5  \n",
      "5      6.5  \n",
      "6      1.5  \n",
      "7      2.0  \n",
      "8      2.5  \n",
      "9      1.5  \n",
      "10     1.0  \n",
      "11     5.5  \n",
      "12     2.0  \n",
      "13     7.0  \n",
      "14     4.0  \n",
      "15     6.5  \n",
      "16     2.5  \n",
      "17     4.5  \n",
      "18     7.5  \n",
      "19     1.0  \n",
      "20     2.5  \n",
      "21     2.5  \n",
      "22     2.0  \n",
      "23     1.0  \n",
      "24     4.5  \n",
      "25     9.0  \n",
      "26     6.5  \n",
      "    index               Prolific_id  choiceresponse  condition  salience  \\\n",
      "0       2  61006614d4056450af0e3a6b        0.625000          2       3.5   \n",
      "1       5  5eef06510b94ad404d017b86        0.727273          2       3.5   \n",
      "2       8  5a4636092f91e00001d0ba07        0.000000          2       3.0   \n",
      "3      11  5ff27bb4ad8fba79401b96fa        0.000000          2       2.5   \n",
      "4      14  5e075df0d799ae1011a81150        0.000000          2       3.5   \n",
      "5      17  61338374e0ef87bfdfd107bb        0.000000          2       2.5   \n",
      "6      20  610024bfd6e1038ba3b1601d        1.000000          2       4.0   \n",
      "7      23  5dee8ee31255595293a9906b        0.000000          2       3.0   \n",
      "8      26  60bff9298f56d5508e0d9adf        0.272727          2       3.0   \n",
      "9      29  6111234a080fa49e38a0bfb4        0.000000          2       2.5   \n",
      "10     32  5f16f559325a640008bb9a07        1.000000          2       3.5   \n",
      "11     35  60f0ebba7345a976ef090080        0.272727          2       2.5   \n",
      "12     38  5adef850eb60400001539109        1.000000          2       2.0   \n",
      "13     41  63d1b0363f9bd5a6062dfb10        0.909091          2       4.0   \n",
      "14     44  5ad208334d061300011b1985        0.363636          2       4.5   \n",
      "15     47  5d55d562e04e100001f5e682        0.000000          2       2.0   \n",
      "16     50  5d0b685070d5108275d7bd54        1.000000          2       2.5   \n",
      "17     53  5f32b0368853aa03df112f06        0.583333          2       5.0   \n",
      "18     56  60dbf4d94a3b5564b68881e8        0.000000          2       2.5   \n",
      "19     59  60ef2700e476748689a999f7        0.900000          2       3.5   \n",
      "20     62  63d5bb0d1003800ad1e343d0        0.181818          2       4.0   \n",
      "21     65  63e51e528df11f83a1aa0ab8        0.500000          2       3.5   \n",
      "22     68  631f3ab08826b6e7e8982648        0.272727          2       1.5   \n",
      "23     71  6154a88b71a7f4347658b0f7        0.500000          2       4.0   \n",
      "24     74  6323505bf70d8e4f79b2050d        0.000000          2       1.5   \n",
      "25     77  630386f6405bbd56ab103b0f        1.000000          2       3.0   \n",
      "26     80  63e52399159a69bf0ea848c6        0.000000          2       2.5   \n",
      "\n",
      "    stress  \n",
      "0      3.5  \n",
      "1      3.0  \n",
      "2      5.0  \n",
      "3      6.0  \n",
      "4      3.0  \n",
      "5      7.5  \n",
      "6      1.5  \n",
      "7      2.0  \n",
      "8      2.5  \n",
      "9      1.0  \n",
      "10     1.0  \n",
      "11     5.0  \n",
      "12     4.5  \n",
      "13     3.0  \n",
      "14     2.5  \n",
      "15     6.0  \n",
      "16     2.5  \n",
      "17     1.0  \n",
      "18     6.0  \n",
      "19     1.0  \n",
      "20     2.5  \n",
      "21     4.0  \n",
      "22     4.5  \n",
      "23     1.0  \n",
      "24     7.0  \n",
      "25     8.0  \n",
      "26     6.5  \n"
     ]
    }
   ],
   "source": [
    "#indexing data frame to isolate variables by condition\n",
    "neutralcondition = updatedchoicedata[updatedchoicedata['condition'] == 0].reset_index()\n",
    "rejectioncondition = updatedchoicedata[updatedchoicedata['condition'] == 1].reset_index()\n",
    "acceptcondition = updatedchoicedata[updatedchoicedata['condition'] == 2].reset_index()\n",
    "\n",
    "print(neutralcondition)\n",
    "print(rejectioncondition)\n",
    "print(acceptcondition)"
   ]
  },
  {
   "cell_type": "code",
   "execution_count": 4,
   "id": "81a239b5",
   "metadata": {},
   "outputs": [
    {
     "name": "stdout",
     "output_type": "stream",
     "text": [
      "                 PROLIFIC_ID  AQ  BRCS  ERQ_emosuppression  \\\n",
      "0   5a4636c92f91ec0001dcba07  32    14                4.25   \n",
      "1   5ad2c8334d061300011b1985  11    18                3.00   \n",
      "2   5adef850eb60400001539109  21    15                5.25   \n",
      "3   5d55d562e04e1c0001f5e682   7    18                1.00   \n",
      "4   5dcb685070d51c8275d7bd54   8    17                1.00   \n",
      "5   5dee8ee31255595293a9906b  14    16                3.50   \n",
      "6   5ec75df0d799ae1c11a8115c  28    19                6.00   \n",
      "7   5eefc651cb94ad4c4d017b86  17    17                1.50   \n",
      "8   5f16f559325a640008bb9a07  31    13                4.25   \n",
      "9   5f32bc368853aa03df112fc6  13    17                2.00   \n",
      "10  5ff27bb4ad8fba794c1b96fa  31    16                2.75   \n",
      "11  60bff9298f56d55c8ecd9adf  19    15                2.00   \n",
      "12  60dbf4d94a3b5564b68881e8  13    15                5.00   \n",
      "13  60ef2700e476748689a999f7  33    12                4.50   \n",
      "14  60fcebba7345a976efc9c080  16    17                1.25   \n",
      "15  610024bfd6e1038ba3b1601d  18    14                4.75   \n",
      "16  61006614d4c56450afce3a6b  26    17                3.75   \n",
      "17  6111234ac8cfa49e38acbfb4  10    15                4.50   \n",
      "18  61338374ecef87bfdfd1c7bb  16    19                1.00   \n",
      "19  6154a88b71a7f4347658b0f7  27    16                5.75   \n",
      "20  630386f64c5bbd56ab1c3b0f  21    15                1.25   \n",
      "21  631f3abc8826b6e7e8982648  32     8                4.25   \n",
      "22  63235c5bf70d8e4f79b205cd  20    15                3.50   \n",
      "23  63d1b0363f9bd5a6062dfb1c  21    17                5.50   \n",
      "24  63d5bb0d1cc3800ad1e343dc  13    20                2.50   \n",
      "25  63e51e528df11f83a1aacab8  37    14                5.00   \n",
      "26  63e52399159a69bf0ea848c6  29    19                2.75   \n",
      "\n",
      "    ERQ_cogreappraisal  NTBS  PSS     RSQ  SCS  SRQ_admiration  ...  \\\n",
      "0             5.000000    38   17   4.000   74            4.00  ...   \n",
      "1             6.833333    32   10   9.500  102            6.25  ...   \n",
      "2             4.166667    30   21  10.375   59            6.00  ...   \n",
      "3             5.000000    34    5   6.375  116            7.00  ...   \n",
      "4             4.333333    38    4  10.625  116            7.00  ...   \n",
      "5             5.000000    28   19  11.875   89            5.00  ...   \n",
      "6             6.666667    26    3   5.750   70            5.25  ...   \n",
      "7             5.333333    32   16   5.875  100            6.00  ...   \n",
      "8             4.000000    36   15  11.875   86            7.00  ...   \n",
      "9             5.833333    33    8  10.625  108            4.25  ...   \n",
      "10            2.833333    25   28  11.250   67            5.00  ...   \n",
      "11            6.833333    36   23  11.750   77            6.75  ...   \n",
      "12            4.000000    28   17  12.125   81            2.25  ...   \n",
      "13            3.000000    37   40  13.750   20            6.00  ...   \n",
      "14            6.166667    27    9   6.625  117            3.50  ...   \n",
      "15            5.166667    33   15  11.250   89            5.00  ...   \n",
      "16            5.500000    24   17  10.125   88            6.00  ...   \n",
      "17            2.666667    33   27   7.500  110            4.25  ...   \n",
      "18            4.500000    37    9   8.750  103            7.00  ...   \n",
      "19            3.833333    28   22   9.875   62            3.75  ...   \n",
      "20            1.666667    27   23   8.125   98            5.50  ...   \n",
      "21            3.500000    30    2  10.875   67            4.50  ...   \n",
      "22            3.166667    39   25   7.500   76            7.00  ...   \n",
      "23            4.666667    30   33  11.000   65            6.00  ...   \n",
      "24            6.000000    38   12  13.250  115            7.00  ...   \n",
      "25            5.333333    36   19  10.250   66            5.00  ...   \n",
      "26            5.333333    28   17   9.250   53            2.25  ...   \n",
      "\n",
      "    SRQ_sexrel  SRQ_sociability  DAST  DII_functionalimpulsivity  \\\n",
      "0     4.666667         4.666667     4                          5   \n",
      "1     3.666667         4.333333     6                          7   \n",
      "2     5.000000         5.333333     6                          7   \n",
      "3     7.000000         6.666667     4                          7   \n",
      "4     7.000000         6.666667     5                          3   \n",
      "5     5.000000         5.333333     5                          6   \n",
      "6     6.000000         3.333333     4                          8   \n",
      "7     5.000000         6.000000     5                          4   \n",
      "8     6.000000         6.333333     5                          5   \n",
      "9     3.666667         4.333333     3                          8   \n",
      "10    1.000000         5.333333     4                          3   \n",
      "11    6.666667         6.333333     4                          4   \n",
      "12    6.000000         2.333333     4                          5   \n",
      "13    2.000000         5.666667     5                          4   \n",
      "14    7.000000         4.666667     4                          4   \n",
      "15    4.000000         4.000000     7                          5   \n",
      "16    6.333333         6.000000     6                          7   \n",
      "17    5.000000         4.666667     4                          5   \n",
      "18    5.666667         5.333333     4                          7   \n",
      "19    6.000000         5.000000     4                          6   \n",
      "20    4.000000         4.000000     4                          5   \n",
      "21    2.666667         2.666667     5                          7   \n",
      "22    4.000000         6.000000     3                          8   \n",
      "23    7.000000         5.666667     4                          4   \n",
      "24    7.000000         7.000000     4                          5   \n",
      "25    1.000000         3.000000     5                          4   \n",
      "26    5.000000         2.333333     5                          7   \n",
      "\n",
      "    DII_dysfunctionalimpulsivity  LSAS_avoidance  LSAS_fear  LSAS_total  \\\n",
      "0                              3              35         37          72   \n",
      "1                              2              28         31          59   \n",
      "2                              2              26         27          53   \n",
      "3                              2              24         32          56   \n",
      "4                              2              36         37          73   \n",
      "5                              1              60         51         111   \n",
      "6                              3              35         35          70   \n",
      "7                              2              23         36          59   \n",
      "8                              2              27         26          53   \n",
      "9                              6              28         63          91   \n",
      "10                             3               6          8          14   \n",
      "11                             2              11         13          24   \n",
      "12                             2              92         93         185   \n",
      "13                             3              13         13          26   \n",
      "14                             2              40         38          78   \n",
      "15                             2              68         65         133   \n",
      "16                             7              23         17          40   \n",
      "17                             2              26         28          54   \n",
      "18                             3              65         63         128   \n",
      "19                             2              33         24          57   \n",
      "20                             2              17         19          36   \n",
      "21                             5              55         27          82   \n",
      "22                             1              79         89         168   \n",
      "23                             1              24         24          48   \n",
      "24                             2              53         51         104   \n",
      "25                             4              82         68         150   \n",
      "26                             1              57         54         111   \n",
      "\n",
      "       MSPSS  RR  \n",
      "0   5.583333  25  \n",
      "1   6.166667  26  \n",
      "2   3.250000  31  \n",
      "3   6.916667  29  \n",
      "4   4.916667  20  \n",
      "5   6.166667  25  \n",
      "6   6.750000  29  \n",
      "7   6.083333  25  \n",
      "8   6.166667  26  \n",
      "9   3.583333  17  \n",
      "10  5.083333  22  \n",
      "11  6.166667  26  \n",
      "12  2.916667  21  \n",
      "13  7.000000  22  \n",
      "14  3.916667  22  \n",
      "15  6.500000  26  \n",
      "16  6.416667  25  \n",
      "17  6.500000  27  \n",
      "18  3.666667  24  \n",
      "19  6.000000  30  \n",
      "20  5.500000  22  \n",
      "21  5.250000  29  \n",
      "22  4.416667  28  \n",
      "23  7.000000  32  \n",
      "24  4.500000  24  \n",
      "25  4.666667  28  \n",
      "26  4.500000  23  \n",
      "\n",
      "[27 rows x 22 columns]\n"
     ]
    }
   ],
   "source": [
    "print(selfreportdata)"
   ]
  },
  {
   "cell_type": "code",
   "execution_count": 35,
   "id": "d1373df4",
   "metadata": {},
   "outputs": [],
   "source": [
    "prop_choicerej = rejectioncondition['choiceresponse']\n",
    "prop_choiceacc = acceptcondition['choiceresponse']\n",
    "prop_choiceneu = neutralcondition['choiceresponse']\n",
    "aq = selfreportdata.AQ #autism quotient\n",
    "BRCS = selfreportdata.BRCS #brief resilience coping scale\n",
    "ERQ_emosuppression = selfreportdata.ERQ_emosuppression #ERQ emotional suppression\n",
    "ERQ_cogreappraisal = selfreportdata.ERQ_cogreappraisal #ERQ cognitive reappraisal\n",
    "mspss = selfreportdata.MSPSS #perceived social support\n",
    "ntbs = selfreportdata.NTBS #need to belong scale\n",
    "pss = selfreportdata.PSS #perceived stress scale\n",
    "rsq = selfreportdata.RSQ #rejection sensitivty questionnaire\n",
    "scs = selfreportdata.SCS #social connectedness scale\n",
    "rr = selfreportdata.RR #reward responsiveness\n",
    "lsas = selfreportdata.LSAS_total #social anxiety scale total\n",
    "DII_functional = selfreportdata.DII_functionalimpulsivity\n",
    "DII_dysfunctional = selfreportdata.DII_dysfunctionalimpulsivity\n",
    "dast = selfreportdata.DAST #drug abuse screening test\n",
    "SRQ_admiration = selfreportdata.SRQ_admiration #social reward subscale\n",
    "SRQ_negsocpot = selfreportdata.SRQ_negsocpot # social reward subscale\n",
    "SRQ_prosocint = selfreportdata.SRQ_prosocint # social reward subscale\n",
    "SRQ_sexrel = selfreportdata.SRQ_sexrel # social reward subscale\n",
    "SRQ_sociability = selfreportdata.SRQ_sociability # social reward subscale"
   ]
  },
  {
   "cell_type": "code",
   "execution_count": 36,
   "id": "e0d45c33",
   "metadata": {},
   "outputs": [
    {
     "data": {
      "image/png": "[encoded data removed]",
      "text/plain": [
       "<Figure size 432x288 with 1 Axes>"
      ]
     },
     "metadata": {
      "needs_background": "light"
     },
     "output_type": "display_data"
    },
    {
     "name": "stdout",
     "output_type": "stream",
     "text": [
      "[[ 0.17864737  2.00184534]\n",
      " [ 2.00184534 73.94871795]]\n",
      "Pearsons correlation: 0.551\n",
      "p value: 0.0029\n",
      "Reject the null hypothesis that the means are equal.\n"
     ]
    }
   ],
   "source": [
    "# prop_choicerej // aq\n",
    "pyplot.scatter(prop_choicerej, aq)\n",
    "pyplot.show()\n",
    "covariance = cov(prop_choicerej, aq)\n",
    "print(covariance)\n",
    "corr, _ = pearsonr(prop_choicerej, aq)\n",
    "print('Pearsons correlation: %.3f' % corr)\n",
    "r,p = scipy.stats.pearsonr(prop_choicerej, aq)\n",
    "print('p value: %.4f' % p)\n",
    "\n",
    "alpha = 0.10\n",
    "if p > alpha:\n",
    " print('Accept null hypothesis that the means are equal.')\n",
    "else:\n",
    "    print('Reject the null hypothesis that the means are equal.')"
   ]
  },
  {
   "cell_type": "code",
   "execution_count": 11,
   "id": "4a012535",
   "metadata": {},
   "outputs": [
    {
     "name": "stdout",
     "output_type": "stream",
     "text": [
      "0     32\n",
      "1     11\n",
      "2     21\n",
      "3      7\n",
      "4      8\n",
      "5     14\n",
      "6     28\n",
      "7     17\n",
      "8     31\n",
      "9     13\n",
      "10    31\n",
      "11    19\n",
      "12    13\n",
      "13    33\n",
      "14    16\n",
      "15    18\n",
      "16    26\n",
      "17    10\n",
      "18    16\n",
      "19    27\n",
      "20    21\n",
      "21    32\n",
      "22    20\n",
      "23    21\n",
      "24    13\n",
      "25    37\n",
      "26    29\n",
      "Name: AQ, dtype: int64\n"
     ]
    }
   ],
   "source": [
    "print(aq)"
   ]
  },
  {
   "cell_type": "code",
   "execution_count": 15,
   "id": "75580d02",
   "metadata": {},
   "outputs": [
    {
     "name": "stdout",
     "output_type": "stream",
     "text": [
      "1     1.000000\n",
      "4     0.363636\n",
      "7     0.090909\n",
      "10    0.000000\n",
      "13    0.181818\n",
      "16    0.000000\n",
      "19    1.000000\n",
      "22    0.000000\n",
      "25    0.666667\n",
      "28    0.090909\n",
      "31    1.000000\n",
      "34    0.181818\n",
      "37    1.000000\n",
      "40    1.000000\n",
      "43    0.500000\n",
      "46    0.090909\n",
      "49    0.090909\n",
      "52    1.000000\n",
      "55    1.000000\n",
      "58    0.000000\n",
      "61    1.000000\n",
      "64    0.000000\n",
      "67    0.700000\n",
      "70    0.454545\n",
      "73    0.583333\n",
      "76    0.181818\n",
      "79    1.000000\n",
      "82    0.000000\n",
      "Name: choiceresponse, dtype: float64\n"
     ]
    }
   ],
   "source": [
    "print(prop_choicerej)"
   ]
  },
  {
   "cell_type": "code",
   "execution_count": 16,
   "id": "1789b44d",
   "metadata": {},
   "outputs": [
    {
     "name": "stdout",
     "output_type": "stream",
     "text": [
      "neutral_by_choice\n",
      "0.38095238096428574\n",
      "0.4469769119127617\n"
     ]
    }
   ],
   "source": [
    "#proportion of self-choice in neutral condition\n",
    "neutralchoice_mean = neutralcondition['choiceresponse'].mean()\n",
    "neutralchoice_std = neutralcondition['choiceresponse'].std()\n",
    "print('neutral_by_choice')\n",
    "print(neutralchoice_mean)\n",
    "print(neutralchoice_std)"
   ]
  },
  {
   "cell_type": "code",
   "execution_count": 17,
   "id": "b7f1e8fe",
   "metadata": {},
   "outputs": [
    {
     "name": "stdout",
     "output_type": "stream",
     "text": [
      "rej_by_choice\n",
      "0.4706168882142857\n",
      "0.42138877575306555\n"
     ]
    }
   ],
   "source": [
    "#proportion of self-choice in rejection condition\n",
    "rejectionchoice_mean = rejectioncondition['choiceresponse'].mean()\n",
    "rejectionchoice_std = rejectioncondition['choiceresponse'].std()\n",
    "print('rej_by_choice')\n",
    "print(rejectionchoice_mean)\n",
    "print(rejectionchoice_std)"
   ]
  },
  {
   "cell_type": "code",
   "execution_count": 18,
   "id": "c49e2ec0",
   "metadata": {},
   "outputs": [
    {
     "name": "stdout",
     "output_type": "stream",
     "text": [
      "acc_by_choice\n",
      "0.39672619285714283\n",
      "0.4026641645663256\n"
     ]
    }
   ],
   "source": [
    "#proportion of self-choice in acceptance condition\n",
    "acceptchoice_mean = acceptcondition['choiceresponse'].mean()\n",
    "acceptchoice_std = acceptcondition['choiceresponse'].std() \n",
    "print('acc_by_choice')                \n",
    "print(acceptchoice_mean)\n",
    "print(acceptchoice_std)"
   ]
  },
  {
   "cell_type": "code",
   "execution_count": 19,
   "id": "2247fc63",
   "metadata": {},
   "outputs": [
    {
     "name": "stdout",
     "output_type": "stream",
     "text": [
      "neutralsalience\n",
      "2.357142857142857\n",
      "0.8261595987094033\n"
     ]
    }
   ],
   "source": [
    "neutralsalience_mean = neutralcondition['salience'].mean()\n",
    "neutralsalience_std = neutralcondition['salience'].std()\n",
    "print('neutralsalience') \n",
    "print(neutralsalience_mean)\n",
    "print(neutralsalience_std)"
   ]
  },
  {
   "cell_type": "code",
   "execution_count": 20,
   "id": "a6af2c10",
   "metadata": {},
   "outputs": [
    {
     "name": "stdout",
     "output_type": "stream",
     "text": [
      "rejectionsalience\n",
      "1.9107142857142858\n",
      "0.7583311529708756\n"
     ]
    }
   ],
   "source": [
    "rejsalience_mean = rejectioncondition['salience'].mean()\n",
    "rejsalience_std = rejectioncondition['salience'].std()\n",
    "print('rejectionsalience')\n",
    "print(rejsalience_mean)\n",
    "print(rejsalience_std)"
   ]
  },
  {
   "cell_type": "code",
   "execution_count": 21,
   "id": "1cfd61a9",
   "metadata": {},
   "outputs": [
    {
     "name": "stdout",
     "output_type": "stream",
     "text": [
      "accsalience\n",
      "3.0714285714285716\n",
      "0.8575836609041332\n"
     ]
    }
   ],
   "source": [
    "accsalience_mean = acceptcondition['salience'].mean()\n",
    "accsalience_std = acceptcondition['salience'].std()\n",
    "print('accsalience')\n",
    "print(accsalience_mean)\n",
    "print(accsalience_std)"
   ]
  },
  {
   "cell_type": "code",
   "execution_count": 22,
   "id": "53e28607",
   "metadata": {},
   "outputs": [
    {
     "name": "stdout",
     "output_type": "stream",
     "text": [
      "rejstress\n",
      "4.071428571428571\n",
      "2.3082552562579224\n"
     ]
    }
   ],
   "source": [
    "rejstress_mean = rejectioncondition['stress'].mean()\n",
    "rejstress_std = rejectioncondition['stress'].std()\n",
    "print('rejstress')\n",
    "print(rejstress_mean)\n",
    "print(rejstress_std)"
   ]
  },
  {
   "cell_type": "code",
   "execution_count": 23,
   "id": "a3fa733c",
   "metadata": {},
   "outputs": [
    {
     "name": "stdout",
     "output_type": "stream",
     "text": [
      "accstress\n",
      "3.7857142857142856\n",
      "2.1535009026155842\n"
     ]
    }
   ],
   "source": [
    "accstress_mean = acceptcondition['stress'].mean()\n",
    "accstress_std = acceptcondition['stress'].std()\n",
    "print('accstress')\n",
    "print(accstress_mean)\n",
    "print(accstress_std)"
   ]
  },
  {
   "cell_type": "code",
   "execution_count": 24,
   "id": "473cbc4d",
   "metadata": {},
   "outputs": [
    {
     "name": "stdout",
     "output_type": "stream",
     "text": [
      "T-statistic value: 2.4177191381211127\n",
      "P-value: 0.022641174777283144\n"
     ]
    }
   ],
   "source": [
    "#paired samples t-test for condition by choice\n",
    "t_stat, p_value = ttest_rel(rejectioncondition['choiceresponse'],acceptcondition['choiceresponse'])\n",
    "print(\"T-statistic value:\", t_stat)\n",
    "print('P-value:', p_value)\n"
   ]
  },
  {
   "cell_type": "code",
   "execution_count": 25,
   "id": "ffec61f6",
   "metadata": {},
   "outputs": [
    {
     "name": "stdout",
     "output_type": "stream",
     "text": [
      "T-statistic value: -5.595844699670224\n",
      "P-value: 6.175373288317241e-06\n"
     ]
    }
   ],
   "source": [
    "#%% paired samples t-test for condition by salience\n",
    "t_stat, p_value = ttest_rel(rejectioncondition['salience'],acceptcondition['salience'])\n",
    "print(\"T-statistic value:\", t_stat)\n",
    "print('P-value:', p_value)"
   ]
  },
  {
   "cell_type": "code",
   "execution_count": 26,
   "id": "c0baf781",
   "metadata": {},
   "outputs": [
    {
     "name": "stdout",
     "output_type": "stream",
     "text": [
      "T-statistic value: 0.9959735240557235\n",
      "P-value: 0.32810579708454235\n"
     ]
    }
   ],
   "source": [
    "#paired samples t-test for condition by stress\n",
    "t_stat, p_value = ttest_rel(rejectioncondition['stress'],acceptcondition['stress'])\n",
    "print(\"T-statistic value:\", t_stat)\n",
    "print('P-value:', p_value)"
   ]
  },
  {
   "cell_type": "code",
   "execution_count": 39,
   "id": "8d672379",
   "metadata": {},
   "outputs": [
    {
     "data": {
      "image/png": "[encoded data removed]",
      "text/plain": [
       "<Figure size 432x288 with 1 Axes>"
      ]
     },
     "metadata": {
      "needs_background": "light"
     },
     "output_type": "display_data"
    },
    {
     "name": "stdout",
     "output_type": "stream",
     "text": [
      "[[0.17864737 0.09532882]\n",
      " [0.09532882 1.48814894]]\n",
      "Pearsons correlation: 0.185\n",
      "p value: 0.3559\n",
      "Accept null hypothesis that the means are equal.\n"
     ]
    }
   ],
   "source": [
    "# prop_choicerej // mspss\n",
    "pyplot.scatter(prop_choicerej, mspss)\n",
    "pyplot.show()\n",
    "covariance = cov(prop_choicerej, mspss)\n",
    "print(covariance)\n",
    "corr, _ = pearsonr(prop_choicerej, mspss)\n",
    "print('Pearsons correlation: %.3f' % corr)\n",
    "r,p = scipy.stats.pearsonr(prop_choicerej, mspss)\n",
    "print('p value: %.4f' % p)\n",
    "\n",
    "alpha = 0.10\n",
    "if p > alpha:\n",
    " print('Accept null hypothesis that the means are equal.')\n",
    "else:\n",
    "    print('Reject the null hypothesis that the means are equal.')"
   ]
  },
  {
   "cell_type": "code",
   "execution_count": 40,
   "id": "9edeb3e4",
   "metadata": {},
   "outputs": [
    {
     "data": {
      "image/png": "[encoded data removed]",
      "text/plain": [
       "<Figure size 432x288 with 1 Axes>"
      ]
     },
     "metadata": {
      "needs_background": "light"
     },
     "output_type": "display_data"
    },
    {
     "name": "stdout",
     "output_type": "stream",
     "text": [
      "[[1.78647368e-01 3.02463789e-03]\n",
      " [3.02463789e-03 5.98188212e+00]]\n",
      "Pearsons correlation: 0.003\n",
      "p value: 0.9884\n",
      "Accept null hypothesis that the means are equal.\n"
     ]
    }
   ],
   "source": [
    "# prop_choicerej // rsq\n",
    "pyplot.scatter(prop_choicerej, rsq)\n",
    "pyplot.show()\n",
    "covariance = cov(prop_choicerej, rsq)\n",
    "print(covariance)\n",
    "corr, _ = pearsonr(prop_choicerej, rsq)\n",
    "print('Pearsons correlation: %.3f' % corr)\n",
    "r,p = scipy.stats.pearsonr(prop_choicerej, rsq)\n",
    "print('p value: %.4f' % p)\n",
    "\n",
    "alpha = 0.10\n",
    "if p > alpha:\n",
    " print('Accept null hypothesis that the means are equal.')\n",
    "else:\n",
    "    print('Reject the null hypothesis that the means are equal.')"
   ]
  },
  {
   "cell_type": "code",
   "execution_count": 41,
   "id": "7a54019b",
   "metadata": {},
   "outputs": [
    {
     "data": {
      "image/png": "[encoded data removed]",
      "text/plain": [
       "<Figure size 432x288 with 1 Axes>"
      ]
     },
     "metadata": {
      "needs_background": "light"
     },
     "output_type": "display_data"
    },
    {
     "name": "stdout",
     "output_type": "stream",
     "text": [
      "[[ 1.78647368e-01 -4.33090513e+00]\n",
      " [-4.33090513e+00  5.53948718e+02]]\n",
      "Pearsons correlation: -0.435\n",
      "p value: 0.0232\n",
      "Reject the null hypothesis that the means are equal.\n"
     ]
    }
   ],
   "source": [
    "# prop_choicerej // scs\n",
    "pyplot.scatter(prop_choicerej, scs)\n",
    "pyplot.show()\n",
    "covariance = cov(prop_choicerej, scs)\n",
    "print(covariance)\n",
    "corr, _ = pearsonr(prop_choicerej, scs)\n",
    "print('Pearsons correlation: %.3f' % corr)\n",
    "r,p = scipy.stats.pearsonr(prop_choicerej, scs)\n",
    "print('p value: %.4f' % p)\n",
    "\n",
    "alpha = 0.10\n",
    "if p > alpha:\n",
    " print('Accept null hypothesis that the means are equal.')\n",
    "else:\n",
    "    print('Reject the null hypothesis that the means are equal.')"
   ]
  },
  {
   "cell_type": "code",
   "execution_count": 42,
   "id": "9333ca4a",
   "metadata": {},
   "outputs": [
    {
     "data": {
      "image/png": "[encoded data removed]",
      "text/plain": [
       "<Figure size 432x288 with 1 Axes>"
      ]
     },
     "metadata": {
      "needs_background": "light"
     },
     "output_type": "display_data"
    },
    {
     "name": "stdout",
     "output_type": "stream",
     "text": [
      "[[ 0.17864737 -0.33940039]\n",
      " [-0.33940039 20.65242165]]\n",
      "Pearsons correlation: -0.177\n",
      "p value: 0.3780\n",
      "Accept null hypothesis that the means are equal.\n"
     ]
    }
   ],
   "source": [
    "# prop_choicerej // ntbs\n",
    "pyplot.scatter(prop_choicerej, ntbs)\n",
    "pyplot.show()\n",
    "covariance = cov(prop_choicerej, ntbs)\n",
    "print(covariance)\n",
    "corr, _ = pearsonr(prop_choicerej, ntbs)\n",
    "print('Pearsons correlation: %.3f' % corr)\n",
    "r,p = scipy.stats.pearsonr(prop_choicerej, ntbs)\n",
    "print('p value: %.4f' % p)\n",
    "\n",
    "alpha = 0.10\n",
    "if p > alpha:\n",
    " print('Accept null hypothesis that the means are equal.')\n",
    "else:\n",
    "    print('Reject the null hypothesis that the means are equal.')"
   ]
  },
  {
   "cell_type": "code",
   "execution_count": 43,
   "id": "9303d38a",
   "metadata": {},
   "outputs": [
    {
     "data": {
      "image/png": "[encoded data removed]",
      "text/plain": [
       "<Figure size 432x288 with 1 Axes>"
      ]
     },
     "metadata": {
      "needs_background": "light"
     },
     "output_type": "display_data"
    },
    {
     "name": "stdout",
     "output_type": "stream",
     "text": [
      "[[0.16209679 0.09940897]\n",
      " [0.09940897 1.48814894]]\n",
      "Pearsons correlation: 0.202\n",
      "p value: 0.3559\n",
      "Accept null hypothesis that the means are equal.\n"
     ]
    }
   ],
   "source": [
    "# prop_choicerej // mspss\n",
    "pyplot.scatter(prop_choiceacc, mspss)\n",
    "pyplot.show()\n",
    "covariance = cov(prop_choiceacc, mspss)\n",
    "print(covariance)\n",
    "corr, _ = pearsonr(prop_choiceacc, mspss)\n",
    "print('Pearsons correlation: %.3f' % corr)\n",
    "r,p = scipy.stats.pearsonr(prop_choicerej, mspss)\n",
    "print('p value: %.4f' % p)\n",
    "\n",
    "alpha = 0.10\n",
    "if p > alpha:\n",
    " print('Accept null hypothesis that the means are equal.')\n",
    "else:\n",
    "    print('Reject the null hypothesis that the means are equal.')"
   ]
  },
  {
   "cell_type": "code",
   "execution_count": 46,
   "id": "1e94cc27",
   "metadata": {},
   "outputs": [
    {
     "data": {
      "image/png": "[encoded data removed]",
      "text/plain": [
       "<Figure size 432x288 with 1 Axes>"
      ]
     },
     "metadata": {
      "needs_background": "light"
     },
     "output_type": "display_data"
    },
    {
     "name": "stdout",
     "output_type": "stream",
     "text": [
      "[[0.16209679 0.03705875]\n",
      " [0.03705875 5.98188212]]\n",
      "Pearsons correlation: 0.038\n",
      "p value: 0.8522\n",
      "Accept null hypothesis that the means are equal.\n"
     ]
    }
   ],
   "source": [
    "# prop_choicerej // rsq\n",
    "pyplot.scatter(prop_choiceacc, rsq)\n",
    "pyplot.show()\n",
    "covariance = cov(prop_choiceacc, rsq)\n",
    "print(covariance)\n",
    "corr, _ = pearsonr(prop_choiceacc, rsq)\n",
    "print('Pearsons correlation: %.3f' % corr)\n",
    "r,p = scipy.stats.pearsonr(prop_choiceacc, rsq)\n",
    "print('p value: %.4f' % p)\n",
    "\n",
    "alpha = 0.10\n",
    "if p > alpha:\n",
    " print('Accept null hypothesis that the means are equal.')\n",
    "else:\n",
    "    print('Reject the null hypothesis that the means are equal.')"
   ]
  },
  {
   "cell_type": "code",
   "execution_count": 47,
   "id": "f763f873",
   "metadata": {},
   "outputs": [
    {
     "data": {
      "image/png": "[encoded data removed]",
      "text/plain": [
       "<Figure size 432x288 with 1 Axes>"
      ]
     },
     "metadata": {
      "needs_background": "light"
     },
     "output_type": "display_data"
    },
    {
     "name": "stdout",
     "output_type": "stream",
     "text": [
      "[[ 0.16209679  1.7815333 ]\n",
      " [ 1.7815333  73.94871795]]\n",
      "Pearsons correlation: 0.515\n",
      "p value: 0.3559\n",
      "Accept null hypothesis that the means are equal.\n"
     ]
    }
   ],
   "source": [
    "# prop_choicerej // aq\n",
    "pyplot.scatter(prop_choiceacc, aq)\n",
    "pyplot.show()\n",
    "covariance = cov(prop_choiceacc, aq)\n",
    "print(covariance)\n",
    "corr, _ = pearsonr(prop_choiceacc, aq)\n",
    "print('Pearsons correlation: %.3f' % corr)\n",
    "r,p = scipy.stats.pearsonr(prop_choicerej, mspss)\n",
    "print('p value: %.4f' % p)\n",
    "\n",
    "alpha = 0.10\n",
    "if p > alpha:\n",
    " print('Accept null hypothesis that the means are equal.')\n",
    "else:\n",
    "    print('Reject the null hypothesis that the means are equal.')"
   ]
  },
  {
   "cell_type": "code",
   "execution_count": 48,
   "id": "5241f013",
   "metadata": {},
   "outputs": [
    {
     "data": {
      "image/png": "[encoded data removed]",
      "text/plain": [
       "<Figure size 432x288 with 1 Axes>"
      ]
     },
     "metadata": {
      "needs_background": "light"
     },
     "output_type": "display_data"
    },
    {
     "name": "stdout",
     "output_type": "stream",
     "text": [
      "[[ 0.17864737  2.00184534]\n",
      " [ 2.00184534 73.94871795]]\n",
      "Pearsons correlation: 0.551\n",
      "p value: 0.3559\n",
      "Accept null hypothesis that the means are equal.\n"
     ]
    }
   ],
   "source": [
    "# prop_choicerej // aq\n",
    "pyplot.scatter(prop_choicerej, aq)\n",
    "pyplot.show()\n",
    "covariance = cov(prop_choicerej, aq)\n",
    "print(covariance)\n",
    "corr, _ = pearsonr(prop_choicerej, aq)\n",
    "print('Pearsons correlation: %.3f' % corr)\n",
    "r,p = scipy.stats.pearsonr(prop_choicerej, mspss)\n",
    "print('p value: %.4f' % p)\n",
    "\n",
    "alpha = 0.10\n",
    "if p > alpha:\n",
    " print('Accept null hypothesis that the means are equal.')\n",
    "else:\n",
    "    print('Reject the null hypothesis that the means are equal.')"
   ]
  },
  {
   "cell_type": "code",
   "execution_count": 56,
   "id": "a3f38615",
   "metadata": {},
   "outputs": [],
   "source": [
    "acceptancechoiceresponse = acceptcondition['choiceresponse']\n",
    "rejectionchoiceresponse = rejectioncondition['choiceresponse']\n",
    "\n",
    "def cohend(acceptancechoiceresponse, rejectionchoiceresponse):\n",
    "    # calculate the size of samples\n",
    "    n1, n2 = len(acceptancechoiceresponse), len(rejectionchoiceresponse)\n",
    "    # calculate the variance of the samples\n",
    "    s1, s2 = np.var(acceptancechoiceresponse, ddof=26), np.var(rejectionchoiceresponse, ddof=26)\n",
    "    # calculate the pooled standard deviation\n",
    "    s = np.sqrt(((n1 - 1) * s1 + (n2 - 1) * s2) / (n1 + n2 - 2))\n",
    "    # calculate the means of the samples\n",
    "    u1, u2 = np.mean(acceptancechoiceresponse), np.mean(rejectionchoiceresponse)\n",
    "    # calculate the effect size\n",
    "    return (u1 - u2) / s"
   ]
  },
  {
   "cell_type": "code",
   "execution_count": 57,
   "id": "472438fd",
   "metadata": {},
   "outputs": [
    {
     "name": "stdout",
     "output_type": "stream",
     "text": [
      "0     0.625000\n",
      "1     0.727273\n",
      "2     0.000000\n",
      "3     0.000000\n",
      "4     0.000000\n",
      "5     0.000000\n",
      "6     1.000000\n",
      "7     0.000000\n",
      "8     0.272727\n",
      "9     0.000000\n",
      "10    1.000000\n",
      "11    0.272727\n",
      "12    1.000000\n",
      "13    0.909091\n",
      "14    0.363636\n",
      "15    0.000000\n",
      "16    1.000000\n",
      "17    0.583333\n",
      "18    0.000000\n",
      "19    0.900000\n",
      "20    0.181818\n",
      "21    0.500000\n",
      "22    0.272727\n",
      "23    0.500000\n",
      "24    0.000000\n",
      "25    1.000000\n",
      "26    0.000000\n",
      "Name: choiceresponse, dtype: float64\n",
      "0     1.000000\n",
      "1     0.363636\n",
      "2     0.090909\n",
      "3     0.000000\n",
      "4     0.181818\n",
      "5     0.000000\n",
      "6     1.000000\n",
      "7     0.000000\n",
      "8     0.666667\n",
      "9     0.090909\n",
      "10    1.000000\n",
      "11    0.181818\n",
      "12    1.000000\n",
      "13    1.000000\n",
      "14    0.500000\n",
      "15    0.090909\n",
      "16    1.000000\n",
      "17    1.000000\n",
      "18    0.000000\n",
      "19    1.000000\n",
      "20    0.000000\n",
      "21    0.700000\n",
      "22    0.454545\n",
      "23    0.583333\n",
      "24    0.181818\n",
      "25    1.000000\n",
      "26    0.000000\n",
      "Name: choiceresponse, dtype: float64\n"
     ]
    }
   ],
   "source": [
    "print(acceptancechoiceresponse)\n",
    "print(rejectionchoiceresponse)"
   ]
  },
  {
   "cell_type": "code",
   "execution_count": 58,
   "id": "93383622",
   "metadata": {},
   "outputs": [],
   "source": [
    "def cohend(acceptancechoiceresponse, rejectionchoiceresponse):\n",
    "    # calculate the size of samples\n",
    "    n1, n2 = len(acceptancechoiceresponse), len(rejectionchoiceresponse)\n",
    "    # calculate the variance of the samples\n",
    "    s1, s2 = np.var(acceptancechoiceresponse, ddof=26), np.var(rejectionchoiceresponse, ddof=26)\n",
    "    # calculate the pooled standard deviation\n",
    "    s = np.sqrt(((n1 - 1) * s1 + (n2 - 1) * s2) / (n1 + n2 - 2))\n",
    "    # calculate the means of the samples\n",
    "    u1, u2 = np.mean(acceptancechoiceresponse), np.mean(rejectionchoiceresponse)\n",
    "    # calculate the effect size\n",
    "    return (u1 - u2) / s"
   ]
  },
  {
   "cell_type": "code",
   "execution_count": 59,
   "id": "7a03354e",
   "metadata": {},
   "outputs": [],
   "source": [
    "def interpret_cohens_d(cohens_d):\n",
    "    \"\"\"\n",
    "    Determines text interpretation of effect size given Cohen's d value\n",
    "\n",
    "    :param cohens_d: float of Cohen's d value\n",
    "    :returns: effect_size_interpretation: adjective to describe magnitude of effect size\n",
    "    \"\"\"\n",
    "    if 0<=cohens_d<0.1:\n",
    "        effect_size_interpretation = \"Very Small\"\n",
    "    elif 0.1<=cohens_d<0.35:\n",
    "        effect_size_interpretation = \"Small\"\n",
    "    elif 0.35<=cohens_d<0.65:\n",
    "        effect_size_interpretation = \"Medium\"\n",
    "    elif 0.65<=cohens_d<0.9:\n",
    "        effect_size_interpretation = \"Large\"\n",
    "    elif cohens_d >= 0.9:\n",
    "        effect_size_interpretation = \"Very Large\"\n",
    "    return effect_size_interpretation\n"
   ]
  },
  {
   "cell_type": "code",
   "execution_count": 61,
   "id": "d08ede71",
   "metadata": {},
   "outputs": [
    {
     "name": "stdout",
     "output_type": "stream",
     "text": [
      "0.1774884014318516\n"
     ]
    }
   ],
   "source": [
    "cohens_d = (mean(rejectionchoiceresponse) - mean(acceptancechoiceresponse)) / (sqrt((stdev(rejectionchoiceresponse) ** 2 + stdev(acceptancechoiceresponse) ** 2) / 2))\n",
    "print(cohens_d)"
   ]
  },
  {
   "cell_type": "code",
   "execution_count": 62,
   "id": "bc153b9f",
   "metadata": {},
   "outputs": [
    {
     "name": "stdout",
     "output_type": "stream",
     "text": [
      "0.12294970768292483\n"
     ]
    }
   ],
   "source": [
    "acceptance_stress = acceptcondition['stress']\n",
    "rejection_stress = rejectioncondition['stress']\n",
    "\n",
    "#effect size t-test rej v acc stress level\n",
    "cohens_d = (mean(rejection_stress) - mean(acceptance_stress)) / (sqrt((stdev(rejection_stress) ** 2 + stdev(acceptance_stress) ** 2) / 2))\n",
    "print(cohens_d)"
   ]
  },
  {
   "cell_type": "code",
   "execution_count": 63,
   "id": "92a64880",
   "metadata": {},
   "outputs": [
    {
     "name": "stdout",
     "output_type": "stream",
     "text": [
      "-1.395421541355788\n"
     ]
    }
   ],
   "source": [
    "acceptance_salience = acceptcondition['salience']\n",
    "rejection_salience = rejectioncondition['salience']\n",
    "\n",
    "#effect size t-test rej v acc salience level (likelihood to share in the future)\n",
    "cohens_d = (mean(rejection_salience) - mean(acceptance_salience)) / (sqrt((stdev(rejection_salience) ** 2 + stdev(acceptance_salience) ** 2) / 2))\n",
    "print(cohens_d)"
   ]
  },
  {
   "cell_type": "code",
   "execution_count": 64,
   "id": "29058985",
   "metadata": {},
   "outputs": [
    {
     "name": "stdout",
     "output_type": "stream",
     "text": [
      "neutral_by_choice\n",
      "0.39506172840740744\n",
      "0.44909250409439755\n",
      "rej_by_choice\n",
      "0.48468013962962964\n",
      "0.4226669710307219\n",
      "acc_by_choice\n",
      "0.41141975555555554\n",
      "0.402612459263603\n",
      "neutralsalience\n",
      "2.3333333333333335\n",
      "0.8320502943378435\n",
      "rejectionsalience\n",
      "1.9259259259259258\n",
      "0.7684112443580198\n",
      "accsalience\n",
      "3.074074074074074\n",
      "0.873803618402192\n",
      "neutralstress\n",
      "4.0\n",
      "2.1838568563966754\n",
      "rejstress\n",
      "4.018518518518518\n",
      "2.334859086019315\n",
      "accstress\n",
      "3.740740740740741\n",
      "2.1810828748863504\n",
      "T-statistic value: 2.3103901617877423\n",
      "P-value: 0.029060502774852736\n",
      "T-statistic value: -5.343727965702275\n",
      "P-value: 1.3596380084133792e-05\n",
      "T-statistic value: 0.9334418422816989\n",
      "P-value: 0.3591802432742933\n"
     ]
    }
   ],
   "source": [
    "#indexing data frame to isolate variables by condition\n",
    "neutralcondition = updatedchoicedata[updatedchoicedata['condition'] == 0]\n",
    "rejectioncondition = updatedchoicedata[updatedchoicedata['condition'] == 1]\n",
    "acceptcondition = updatedchoicedata[updatedchoicedata['condition'] == 2]\n",
    "\n",
    "#%%\n",
    "\n",
    "#proportion of self-choice in neutral condition\n",
    "neutralchoice_mean = neutralcondition['choiceresponse'].mean()\n",
    "neutralchoice_std = neutralcondition['choiceresponse'].std()\n",
    "print('neutral_by_choice')\n",
    "print(neutralchoice_mean)\n",
    "print(neutralchoice_std)\n",
    "\n",
    "#%%\n",
    "#proportion of self-choice in rejection condition\n",
    "rejectionchoice_mean = rejectioncondition['choiceresponse'].mean()\n",
    "rejectionchoice_std = rejectioncondition['choiceresponse'].std()\n",
    "print('rej_by_choice')\n",
    "print(rejectionchoice_mean)\n",
    "print(rejectionchoice_std)\n",
    "\n",
    "#%%\n",
    "#proportion of self-choice in acceptance condition\n",
    "acceptchoice_mean = acceptcondition['choiceresponse'].mean()\n",
    "acceptchoice_std = acceptcondition['choiceresponse'].std() \n",
    "print('acc_by_choice')                \n",
    "print(acceptchoice_mean)\n",
    "print(acceptchoice_std)\n",
    "\n",
    "#%%\n",
    "\n",
    "neutralsalience_mean = neutralcondition['salience'].mean()\n",
    "neutralsalience_std = neutralcondition['salience'].std()\n",
    "print('neutralsalience') \n",
    "print(neutralsalience_mean)\n",
    "print(neutralsalience_std)\n",
    "\n",
    "#%%\n",
    "\n",
    "rejsalience_mean = rejectioncondition['salience'].mean()\n",
    "rejsalience_std = rejectioncondition['salience'].std()\n",
    "print('rejectionsalience')\n",
    "print(rejsalience_mean)\n",
    "print(rejsalience_std)\n",
    "\n",
    "#%%\n",
    "\n",
    "accsalience_mean = acceptcondition['salience'].mean()\n",
    "accsalience_std = acceptcondition['salience'].std()\n",
    "print('accsalience')\n",
    "print(accsalience_mean)\n",
    "print(accsalience_std)\n",
    "\n",
    "#%%\n",
    "\n",
    "neutralstress_mean = neutralcondition['stress'].mean()\n",
    "neutralstress_std = neutralcondition['stress'].std()\n",
    "print('neutralstress')\n",
    "print(neutralstress_mean)\n",
    "print(neutralstress_std)\n",
    "\n",
    "#%%\n",
    "\n",
    "rejstress_mean = rejectioncondition['stress'].mean()\n",
    "rejstress_std = rejectioncondition['stress'].std()\n",
    "print('rejstress')\n",
    "print(rejstress_mean)\n",
    "print(rejstress_std)\n",
    "\n",
    "#%%\n",
    "\n",
    "accstress_mean = acceptcondition['stress'].mean()\n",
    "accstress_std = acceptcondition['stress'].std()\n",
    "print('accstress')\n",
    "print(accstress_mean)\n",
    "print(accstress_std)\n",
    "\n",
    "#%%\n",
    "#paired samples t-test for condition by choice\n",
    "t_stat, p_value = ttest_rel(rejectioncondition['choiceresponse'],acceptcondition['choiceresponse'])\n",
    "print(\"T-statistic value:\", t_stat)\n",
    "print('P-value:', p_value)\n",
    "\n",
    "#%% paired samples t-test for condition by salience\n",
    "t_stat, p_value = ttest_rel(rejectioncondition['salience'],acceptcondition['salience'])\n",
    "print(\"T-statistic value:\", t_stat)\n",
    "print('P-value:', p_value)\n",
    "\n",
    "#%%\n",
    "#paired samples t-test for condition by stress\n",
    "t_stat, p_value = ttest_rel(rejectioncondition['stress'],acceptcondition['stress'])\n",
    "print(\"T-statistic value:\", t_stat)\n",
    "print('P-value:', p_value)"
   ]
  },
  {
   "cell_type": "code",
   "execution_count": null,
   "id": "785c7467",
   "metadata": {},
   "outputs": [],
   "source": []
  }
 ],
 "metadata": {
  "kernelspec": {
   "display_name": "Python 3",
   "language": "python",
   "name": "python3"
  },
  "language_info": {
   "codemirror_mode": {
    "name": "ipython",
    "version": 3
   },
   "file_extension": ".py",
   "mimetype": "text/x-python",
   "name": "python",
   "nbconvert_exporter": "python",
   "pygments_lexer": "ipython3",
   "version": "3.8.10"
  }
 },
 "nbformat": 4,
 "nbformat_minor": 5
}
