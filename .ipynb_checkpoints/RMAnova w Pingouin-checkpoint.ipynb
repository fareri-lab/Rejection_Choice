{
 "cells": [
  {
   "cell_type": "code",
   "execution_count": 41,
   "id": "253ae133",
   "metadata": {},
   "outputs": [],
   "source": [
    "import pandas as pd\n",
    "import numpy as np\n",
    "import os \n",
    "import statistics \n",
    "import numpy as np\n",
    "import pandas as pd\n",
    "from pathlib import Path\n",
    "from scipy.stats import ttest_rel\n",
    "import matplotlib.pyplot as plt\n",
    "import math\n",
    "from statsmodels.stats.anova import AnovaRM\n",
    "from numpy import mean, std, cov\n",
    "from numpy.random import seed, randn\n",
    "import random as rd\n",
    "from sklearn import preprocessing\n",
    "from sklearn import datasets\n",
    "from sklearn.preprocessing import StandardScaler\n",
    "from sklearn.decomposition import PCA\n",
    "import matplotlib.pyplot as plt\n",
    "from matplotlib import pyplot\n",
    "from __future__ import division\n",
    "import sys\n",
    "import scipy\n",
    "from math import sqrt\n",
    "import scipy.stats as stats\n",
    "from scipy import stats \n",
    "from scipy.stats import t, pearsonr, sem\n",
    "import seaborn as sns\n",
    "from statistics import mean, stdev\n",
    "import statsmodels.api as sm\n",
    "import statsmodels.formula.api as smf\n",
    "import math\n",
    "import pingouin as pg\n",
    "from pingouin import ttest\n",
    "from scipy.special import logsumexp"
   ]
  },
  {
   "cell_type": "code",
   "execution_count": 35,
   "id": "b1e2d7e0",
   "metadata": {},
   "outputs": [],
   "source": [
    "current_dir = os.getcwd()\n",
    "updatedchoicedata = pd.read_csv('shortformdata.csv')\n"
   ]
  },
  {
   "cell_type": "code",
   "execution_count": 22,
   "id": "bbf3a286",
   "metadata": {},
   "outputs": [
    {
     "name": "stdout",
     "output_type": "stream",
     "text": [
      "                  PROLIFIC_ID  condition_recode  afterstresschange  \\\n",
      "0    5a4636c92f91ec0001dcba07                 0                  0   \n",
      "1    5a4636c92f91ec0001dcba07                 1                  0   \n",
      "2    5a4636c92f91ec0001dcba07                 2                  0   \n",
      "3    5ad2c8334d061300011b1985                 0                  0   \n",
      "4    5ad2c8334d061300011b1985                 1                  0   \n",
      "..                        ...               ...                ...   \n",
      "142  63eac31811a6da58d4f32d76                 1                  1   \n",
      "143  63eac31811a6da58d4f32d76                 2                  1   \n",
      "144  63fac97f0d4e8f6bfd753d90                 0                  1   \n",
      "145  63fac97f0d4e8f6bfd753d90                 1                  1   \n",
      "146  63fac97f0d4e8f6bfd753d90                 2                  1   \n",
      "\n",
      "     salience_mean  stress_mean  recoded_stress    choice  rej-acc  ifnegvalue  \n",
      "0              3.0          6.0             4.0  0.000000     -0.5           1  \n",
      "1              1.5          5.5             4.5  0.090909     -0.5           1  \n",
      "2              3.0          5.0             5.0  0.000000     -0.5           1  \n",
      "3              2.0          3.0             7.0  0.500000     -1.5           1  \n",
      "4              3.0          4.0             6.0  0.500000     -1.5           1  \n",
      "..             ...          ...             ...       ...      ...         ...  \n",
      "142            3.0          9.0             9.0  0.000000      0.0           0  \n",
      "143            3.0          9.0             9.0  0.000000      0.0           0  \n",
      "144            1.0          5.0             5.0  0.000000      0.0           0  \n",
      "145            1.0          5.0             5.0  0.000000      0.0           0  \n",
      "146            1.0          5.0             5.0  0.000000      0.0           0  \n",
      "\n",
      "[147 rows x 9 columns]\n"
     ]
    }
   ],
   "source": [
    "print(updatedchoicedata)"
   ]
  },
  {
   "cell_type": "code",
   "execution_count": 5,
   "id": "bc755840",
   "metadata": {},
   "outputs": [],
   "source": [
    "anovachoice = pg.rm_anova(data=updatedchoicedata, dv='choice', within='condition_recode', subject='PROLIFIC_ID', detailed=True, correction = True)"
   ]
  },
  {
   "cell_type": "code",
   "execution_count": 6,
   "id": "6ced157a",
   "metadata": {},
   "outputs": [
    {
     "name": "stdout",
     "output_type": "stream",
     "text": [
      "             Source        SS  DF        MS         F     p-unc  p-GG-corr  \\\n",
      "0  condition_recode  0.079499   2  0.039749  1.466322  0.235894    0.23715   \n",
      "1             Error  2.602382  96  0.027108       NaN       NaN        NaN   \n",
      "\n",
      "        ng2       eps sphericity   W-spher   p-spher  \n",
      "0  0.003005  0.724238      False  0.619238  0.000013  \n",
      "1       NaN       NaN        NaN       NaN       NaN  \n"
     ]
    }
   ],
   "source": [
    "print(anovachoice)"
   ]
  },
  {
   "cell_type": "code",
   "execution_count": 8,
   "id": "51b61f23",
   "metadata": {},
   "outputs": [
    {
     "name": "stdout",
     "output_type": "stream",
     "text": [
      "             Source         SS  DF         MS          F         p-unc  \\\n",
      "0  condition_recode  25.010204   2  12.505102  28.253602  2.244305e-10   \n",
      "1             Error  42.489796  96   0.442602        NaN           NaN   \n",
      "\n",
      "      ng2     eps  \n",
      "0  0.1659  0.9876  \n",
      "1     NaN     NaN  \n"
     ]
    }
   ],
   "source": [
    "anovasalience = pg.rm_anova(data=updatedchoicedata, dv='salience_mean', within='condition_recode', subject='PROLIFIC_ID', detailed=True)\n",
    "print(anovasalience)"
   ]
  },
  {
   "cell_type": "code",
   "execution_count": 10,
   "id": "2124f325",
   "metadata": {},
   "outputs": [
    {
     "name": "stdout",
     "output_type": "stream",
     "text": [
      "             Source         SS  DF        MS         F     p-unc  p-GG-corr  \\\n",
      "0  condition_recode   7.357143   2  3.678571  5.366136  0.006178    0.00812   \n",
      "1             Error  65.809524  96  0.685516       NaN       NaN        NaN   \n",
      "\n",
      "        ng2       eps sphericity   W-spher   p-spher  \n",
      "0  0.010905  0.901394       True  0.890607  0.065708  \n",
      "1       NaN       NaN        NaN       NaN       NaN  \n"
     ]
    }
   ],
   "source": [
    "anovastress = pg.rm_anova(data=updatedchoicedata, dv='recoded_stress', within='condition_recode', subject='PROLIFIC_ID', detailed=True, correction = True)\n",
    "print(anovastress)"
   ]
  },
  {
   "cell_type": "code",
   "execution_count": 36,
   "id": "27279b26",
   "metadata": {},
   "outputs": [],
   "source": [
    "rej = updatedchoicedata.loc[updatedchoicedata['condition_recode']==1].reset_index(drop=True)\n",
    "acc = updatedchoicedata.loc[updatedchoicedata['condition_recode']==2].reset_index(drop=True)\n",
    "neu = updatedchoicedata.loc[updatedchoicedata['condition_recode']==0].reset_index(drop=True)\n"
   ]
  },
  {
   "cell_type": "code",
   "execution_count": 14,
   "id": "47eb97b8",
   "metadata": {},
   "outputs": [
    {
     "name": "stdout",
     "output_type": "stream",
     "text": [
      "           T  dof alternative  p-val          CI95%  cohen-d    BF10  power\n",
      "T-test -2.88   48        less    0.0  [-inf, -0.23]     0.25  11.913   0.53\n"
     ]
    }
   ],
   "source": [
    "rej_accstressttest = ttest(rej['recoded_stress'], acc['recoded_stress'], paired=True, alternative='less').round(2)\n",
    "print(rej_accstressttest)"
   ]
  },
  {
   "cell_type": "code",
   "execution_count": 15,
   "id": "18238a99",
   "metadata": {},
   "outputs": [
    {
     "name": "stdout",
     "output_type": "stream",
     "text": [
      "           T  dof alternative  p-val          CI95%  cohen-d  BF10  power\n",
      "T-test -2.49   48        less   0.01  [-inf, -0.11]     0.16  5.01   0.29\n"
     ]
    }
   ],
   "source": [
    "rej_neustressttest = ttest(rej['recoded_stress'], neu['recoded_stress'], paired=True, alternative='less').round(2)\n",
    "print(rej_neustressttest)"
   ]
  },
  {
   "cell_type": "code",
   "execution_count": 16,
   "id": "b17b7a52",
   "metadata": {},
   "outputs": [
    {
     "name": "stdout",
     "output_type": "stream",
     "text": [
      "           T  dof alternative  p-val         CI95%  cohen-d   BF10  power\n",
      "T-test -1.13   48        less   0.13  [-inf, 0.09]     0.09  0.567   0.16\n"
     ]
    }
   ],
   "source": [
    "neu_accstressttest = ttest(neu['recoded_stress'], acc['recoded_stress'], paired=True, alternative='less').round(2)\n",
    "print(neu_accstressttest)"
   ]
  },
  {
   "cell_type": "code",
   "execution_count": 17,
   "id": "f0d6945a",
   "metadata": {},
   "outputs": [
    {
     "name": "stdout",
     "output_type": "stream",
     "text": [
      "           T  dof alternative  p-val          CI95%  cohen-d       BF10  power\n",
      "T-test -7.49   48        less    0.0  [-inf, -0.78]     1.14  1.759e+07    1.0\n"
     ]
    }
   ],
   "source": [
    "rej_accsaliencettest = ttest(rej['salience_mean'], acc['salience_mean'], paired=True, alternative='less').round(2)\n",
    "print(rej_accsaliencettest)"
   ]
  },
  {
   "cell_type": "code",
   "execution_count": 18,
   "id": "8ffcd83b",
   "metadata": {},
   "outputs": [
    {
     "name": "stdout",
     "output_type": "stream",
     "text": [
      "           T  dof alternative  p-val          CI95%  cohen-d     BF10  power\n",
      "T-test -3.84   48        less    0.0  [-inf, -0.28]     0.52  144.164   0.97\n"
     ]
    }
   ],
   "source": [
    "rej_neusaliencettest = ttest(rej['salience_mean'], neu['salience_mean'], paired=True, alternative='less').round(2)\n",
    "print(rej_neusaliencettest)"
   ]
  },
  {
   "cell_type": "code",
   "execution_count": 19,
   "id": "277b746e",
   "metadata": {},
   "outputs": [
    {
     "name": "stdout",
     "output_type": "stream",
     "text": [
      "          T  dof alternative  p-val          CI95%  cohen-d    BF10  power\n",
      "T-test -3.7   48        less    0.0  [-inf, -0.28]     0.54  97.848   0.98\n"
     ]
    }
   ],
   "source": [
    "neu_accsaliencettest = ttest(neu['salience_mean'], acc['salience_mean'], paired=True, alternative='less').round(2)\n",
    "print(neu_accsaliencettest)"
   ]
  },
  {
   "cell_type": "code",
   "execution_count": 27,
   "id": "c276f7f3",
   "metadata": {},
   "outputs": [
    {
     "name": "stdout",
     "output_type": "stream",
     "text": [
      "                 PROLIFIC_ID  condition_recode  afterstresschange  \\\n",
      "0   5a4636c92f91ec0001dcba07                 1                  0   \n",
      "1   5ad2c8334d061300011b1985                 1                  0   \n",
      "2   5b6c312fa1fda800015fe165                 1                  1   \n",
      "3   5d55d562e04e1c0001f5e682                 1                  0   \n",
      "4   5ec75df0d799ae1c11a8115c                 1                  0   \n",
      "5   5eefc651cb94ad4c4d017b86                 1                  0   \n",
      "6   5f32bc368853aa03df112fc6                 1                  0   \n",
      "7   5ff27bb4ad8fba794c1b96fa                 1                  0   \n",
      "8   6056bcf1cee7a41435889255                 1                  1   \n",
      "9   608209b96e955ba5201eff25                 1                  1   \n",
      "10  60dbf4d94a3b5564b68881e8                 1                  0   \n",
      "11  60fcebba7345a976efc9c080                 1                  0   \n",
      "12  60fd56db5fe37ebeca00bc83                 1                  1   \n",
      "13  60fd80b85dd6b22f66d16822                 1                  1   \n",
      "14  60fdb9ec6c3006abe82e5182                 1                  1   \n",
      "15  60ff33eea57872b7188f12e2                 1                  1   \n",
      "16  6111234ac8cfa49e38acbfb4                 1                  0   \n",
      "17  6112dccad39227e361c13866                 1                  1   \n",
      "18  62fb84322433c8d7e890a145                 1                  1   \n",
      "19  630386f64c5bbd56ab1c3b0f                 1                  0   \n",
      "20  63ced670c8d001d1d5057140                 1                  1   \n",
      "21  63d13e2a6dd3ec4a5f6bff7b                 1                  1   \n",
      "22  63d1b0363f9bd5a6062dfb1c                 1                  0   \n",
      "23  63d3f98237a95683bfa381e3                 1                  1   \n",
      "24  63d3f9d0ab6c170778b0d3d1                 1                  1   \n",
      "25  63d40481d12fc9cc4c1adab0                 1                  1   \n",
      "26  63ddc6baab6a2130b8a41bf7                 1                  1   \n",
      "\n",
      "    salience_mean  stress_mean  recoded_stress    choice  rej-acc  ifnegvalue  \n",
      "0             1.5          5.5             4.5  0.090909     -0.5           1  \n",
      "1             3.0          4.0             6.0  0.500000     -1.5           1  \n",
      "2             2.0          3.0             3.0  1.000000     -3.5           1  \n",
      "3             2.0          6.5             3.5  0.090909     -0.5           1  \n",
      "4             2.0          4.5             5.5  0.181818     -1.5           1  \n",
      "5             1.5          5.0             5.0  0.363636     -2.0           1  \n",
      "6             2.0          4.5             5.5  1.000000     -3.5           1  \n",
      "7             1.5          7.0             3.0  0.000000     -1.0           1  \n",
      "8             1.5          8.5             8.5  0.000000     -0.5           1  \n",
      "9             2.0          5.0             5.0  1.000000     -1.5           1  \n",
      "10            1.5          7.5             2.5  0.000000     -1.5           1  \n",
      "11            2.0          5.5             4.5  0.181818     -0.5           1  \n",
      "12            3.5          6.0             6.0  0.916667     -1.0           1  \n",
      "13            1.5          4.5             4.5  0.090909     -1.0           1  \n",
      "14            2.0          3.5             3.5  0.800000     -1.0           1  \n",
      "15            2.0          4.5             4.5  0.000000     -0.5           1  \n",
      "16            1.5          2.0             8.0  0.090909     -1.0           1  \n",
      "17            1.0          2.5             2.5  0.181818     -2.0           1  \n",
      "18            2.0          4.0             4.0  0.090909     -1.5           1  \n",
      "19            3.0          9.0             1.0  1.000000     -1.0           1  \n",
      "20            3.5          6.5             6.5  1.000000     -0.5           1  \n",
      "21            2.0          4.5             4.5  0.000000     -0.5           1  \n",
      "22            2.0          7.0             3.0  1.000000     -4.0           1  \n",
      "23            1.5          1.5             1.5  0.583333     -2.5           1  \n",
      "24            4.0          8.0             8.0  0.090909     -0.5           1  \n",
      "25            1.5          1.5             1.5  0.000000     -0.5           1  \n",
      "26            1.5          2.5             2.5  0.000000     -1.0           1  \n"
     ]
    }
   ],
   "source": []
  },
  {
   "cell_type": "code",
   "execution_count": 28,
   "id": "0daf0129",
   "metadata": {},
   "outputs": [
    {
     "data": {
      "text/plain": [
       "27"
      ]
     },
     "execution_count": 28,
     "metadata": {},
     "output_type": "execute_result"
    }
   ],
   "source": [
    "len(rej)"
   ]
  },
  {
   "cell_type": "code",
   "execution_count": 56,
   "id": "59b6596c",
   "metadata": {},
   "outputs": [],
   "source": [
    "mostaffectedpps = updatedchoicedata.loc[updatedchoicedata['ifnegvalue']==1].reset_index(drop=True)\n",
    "leastaffectedpps = updatedchoicedata.loc[updatedchoicedata['ifnegvalue']==0].reset_index(drop=True)"
   ]
  },
  {
   "cell_type": "code",
   "execution_count": 52,
   "id": "bcee672a",
   "metadata": {},
   "outputs": [
    {
     "name": "stdout",
     "output_type": "stream",
     "text": [
      "81\n"
     ]
    }
   ],
   "source": [
    "print(len(mostaffectedpps))"
   ]
  },
  {
   "cell_type": "code",
   "execution_count": 53,
   "id": "1b979084",
   "metadata": {},
   "outputs": [],
   "source": [
    "mostaffectedanovachoice = pg.rm_anova(data=mostaffectedpps, dv='choice', within='condition_recode', subject='PROLIFIC_ID', detailed=True, correction = True)"
   ]
  },
  {
   "cell_type": "code",
   "execution_count": 54,
   "id": "9946ca03",
   "metadata": {},
   "outputs": [
    {
     "name": "stdout",
     "output_type": "stream",
     "text": [
      "             Source        SS  DF        MS         F     p-unc  p-GG-corr  \\\n",
      "0  condition_recode  0.027659   2  0.013829  0.413637  0.663397   0.598349   \n",
      "1             Error  1.738535  52  0.033433       NaN       NaN        NaN   \n",
      "\n",
      "        ng2      eps sphericity   W-spher   p-spher  \n",
      "0  0.002051  0.72223      False  0.615399  0.002315  \n",
      "1       NaN      NaN        NaN       NaN       NaN  \n"
     ]
    }
   ],
   "source": [
    "print(mostaffectedanovachoice)"
   ]
  },
  {
   "cell_type": "code",
   "execution_count": 57,
   "id": "5b165bf4",
   "metadata": {},
   "outputs": [],
   "source": [
    "leastaffectedanovachoice = pg.rm_anova(data=leastaffectedpps, dv='choice', within='condition_recode', subject='PROLIFIC_ID', detailed=True, correction = True)"
   ]
  },
  {
   "cell_type": "code",
   "execution_count": 58,
   "id": "caeb7f25",
   "metadata": {},
   "outputs": [
    {
     "name": "stdout",
     "output_type": "stream",
     "text": [
      "             Source        SS  DF        MS         F     p-unc  p-GG-corr  \\\n",
      "0  condition_recode  0.056102   2  0.028051  1.370588  0.265082    0.26168   \n",
      "1             Error  0.859585  42  0.020466       NaN       NaN        NaN   \n",
      "\n",
      "        ng2       eps sphericity   W-spher   p-spher  \n",
      "0  0.004614  0.659324      False  0.483294  0.000695  \n",
      "1       NaN       NaN        NaN       NaN       NaN  \n"
     ]
    }
   ],
   "source": [
    "print(leastaffectedanovachoice)"
   ]
  },
  {
   "cell_type": "code",
   "execution_count": null,
   "id": "d4c2e53a",
   "metadata": {},
   "outputs": [],
   "source": []
  }
 ],
 "metadata": {
  "kernelspec": {
   "display_name": "Python 3",
   "language": "python",
   "name": "python3"
  },
  "language_info": {
   "codemirror_mode": {
    "name": "ipython",
    "version": 3
   },
   "file_extension": ".py",
   "mimetype": "text/x-python",
   "name": "python",
   "nbconvert_exporter": "python",
   "pygments_lexer": "ipython3",
   "version": "3.8.10"
  }
 },
 "nbformat": 4,
 "nbformat_minor": 5
}
