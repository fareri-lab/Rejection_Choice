{
 "cells": [
  {
   "cell_type": "code",
   "execution_count": 1,
   "metadata": {},
   "outputs": [
    {
     "name": "stderr",
     "output_type": "stream",
     "text": [
      "/opt/anaconda3/lib/python3.8/site-packages/pandas/core/computation/expressions.py:20: UserWarning: Pandas requires version '2.7.3' or newer of 'numexpr' (version '2.7.1' currently installed).\n",
      "  from pandas.core.computation.check import NUMEXPR_INSTALLED\n"
     ]
    }
   ],
   "source": [
    "import pandas as pd\n",
    "import numpy as np\n",
    "import os \n",
    "import statistics \n",
    "from pathlib import Path\n",
    "from scipy.stats import ttest_rel\n",
    "import matplotlib.pyplot as plt\n",
    "import math\n",
    "from statsmodels.stats.anova import AnovaRM\n",
    "from numpy import mean, std, cov\n",
    "from numpy.random import seed, randn\n",
    "import random as rd\n",
    "#from sklearn import preprocessing\n",
    "#from sklearn import datasets\n",
    "#from sklearn.preprocessing import StandardScaler\n",
    "#from sklearn.decomposition import PCA\n",
    "import matplotlib.pyplot as plt\n",
    "from matplotlib import pyplot\n",
    "from __future__ import division\n",
    "import sys\n",
    "import scipy\n",
    "from math import sqrt\n",
    "import scipy.stats as stats\n",
    "from scipy import stats \n",
    "from scipy.stats import t, pearsonr, sem, spearmanr\n",
    "import seaborn as sns\n",
    "from statistics import mean, stdev\n",
    "import statsmodels.api as sm\n",
    "import statsmodels.formula.api as smf\n",
    "import math\n",
    "import pingouin as pg\n",
    "from pingouin import ttest\n",
    "from scipy.special import logsumexp"
   ]
  },
  {
   "cell_type": "code",
   "execution_count": 2,
   "metadata": {},
   "outputs": [],
   "source": [
    "current_dir = os.getcwd()\n",
    "updatedchoicedata = pd.read_csv('shortformdata_DF.csv')\n",
    "plottingdata = pd.read_csv('longformdata_DF_plotting.csv')"
   ]
  },
  {
   "cell_type": "code",
   "execution_count": 3,
   "metadata": {},
   "outputs": [
    {
     "data": {
      "text/html": [
       "<div>\n",
       "<style scoped>\n",
       "    .dataframe tbody tr th:only-of-type {\n",
       "        vertical-align: middle;\n",
       "    }\n",
       "\n",
       "    .dataframe tbody tr th {\n",
       "        vertical-align: top;\n",
       "    }\n",
       "\n",
       "    .dataframe thead th {\n",
       "        text-align: right;\n",
       "    }\n",
       "</style>\n",
       "<table border=\"1\" class=\"dataframe\">\n",
       "  <thead>\n",
       "    <tr style=\"text-align: right;\">\n",
       "      <th></th>\n",
       "      <th>PROLIFIC_ID</th>\n",
       "      <th>condition_recode</th>\n",
       "      <th>afterstresschange</th>\n",
       "      <th>salience_mean</th>\n",
       "      <th>stress_mean</th>\n",
       "      <th>recoded_stress</th>\n",
       "      <th>choice</th>\n",
       "      <th>rej-acc</th>\n",
       "      <th>ifnegvalue</th>\n",
       "    </tr>\n",
       "  </thead>\n",
       "  <tbody>\n",
       "    <tr>\n",
       "      <th>0</th>\n",
       "      <td>568d286ab5a2c2000cb6a91c</td>\n",
       "      <td>0</td>\n",
       "      <td>1.0</td>\n",
       "      <td>4.0</td>\n",
       "      <td>5.0</td>\n",
       "      <td>5.0</td>\n",
       "      <td>0.833333</td>\n",
       "      <td>-0.5</td>\n",
       "      <td>1</td>\n",
       "    </tr>\n",
       "    <tr>\n",
       "      <th>1</th>\n",
       "      <td>568d286ab5a2c2000cb6a91c</td>\n",
       "      <td>1</td>\n",
       "      <td>1.0</td>\n",
       "      <td>1.5</td>\n",
       "      <td>4.5</td>\n",
       "      <td>4.5</td>\n",
       "      <td>1.000000</td>\n",
       "      <td>-0.5</td>\n",
       "      <td>1</td>\n",
       "    </tr>\n",
       "    <tr>\n",
       "      <th>2</th>\n",
       "      <td>568d286ab5a2c2000cb6a91c</td>\n",
       "      <td>2</td>\n",
       "      <td>1.0</td>\n",
       "      <td>3.5</td>\n",
       "      <td>5.0</td>\n",
       "      <td>5.0</td>\n",
       "      <td>1.000000</td>\n",
       "      <td>-0.5</td>\n",
       "      <td>1</td>\n",
       "    </tr>\n",
       "    <tr>\n",
       "      <th>3</th>\n",
       "      <td>595727bd7c76640001aa8f6e</td>\n",
       "      <td>0</td>\n",
       "      <td>1.0</td>\n",
       "      <td>4.0</td>\n",
       "      <td>5.0</td>\n",
       "      <td>5.0</td>\n",
       "      <td>0.600000</td>\n",
       "      <td>1.0</td>\n",
       "      <td>0</td>\n",
       "    </tr>\n",
       "    <tr>\n",
       "      <th>4</th>\n",
       "      <td>595727bd7c76640001aa8f6e</td>\n",
       "      <td>1</td>\n",
       "      <td>1.0</td>\n",
       "      <td>4.0</td>\n",
       "      <td>7.0</td>\n",
       "      <td>7.0</td>\n",
       "      <td>0.250000</td>\n",
       "      <td>1.0</td>\n",
       "      <td>0</td>\n",
       "    </tr>\n",
       "    <tr>\n",
       "      <th>...</th>\n",
       "      <td>...</td>\n",
       "      <td>...</td>\n",
       "      <td>...</td>\n",
       "      <td>...</td>\n",
       "      <td>...</td>\n",
       "      <td>...</td>\n",
       "      <td>...</td>\n",
       "      <td>...</td>\n",
       "      <td>...</td>\n",
       "    </tr>\n",
       "    <tr>\n",
       "      <th>196</th>\n",
       "      <td>641361334c91a0c6ff4c5b79</td>\n",
       "      <td>1</td>\n",
       "      <td>1.0</td>\n",
       "      <td>1.0</td>\n",
       "      <td>9.0</td>\n",
       "      <td>9.0</td>\n",
       "      <td>1.000000</td>\n",
       "      <td>0.0</td>\n",
       "      <td>0</td>\n",
       "    </tr>\n",
       "    <tr>\n",
       "      <th>197</th>\n",
       "      <td>641361334c91a0c6ff4c5b79</td>\n",
       "      <td>2</td>\n",
       "      <td>1.0</td>\n",
       "      <td>1.0</td>\n",
       "      <td>9.0</td>\n",
       "      <td>9.0</td>\n",
       "      <td>1.000000</td>\n",
       "      <td>0.0</td>\n",
       "      <td>0</td>\n",
       "    </tr>\n",
       "    <tr>\n",
       "      <th>198</th>\n",
       "      <td>641a3df3c874807a1a8734bc</td>\n",
       "      <td>0</td>\n",
       "      <td>1.0</td>\n",
       "      <td>3.0</td>\n",
       "      <td>6.0</td>\n",
       "      <td>6.0</td>\n",
       "      <td>0.500000</td>\n",
       "      <td>-1.0</td>\n",
       "      <td>1</td>\n",
       "    </tr>\n",
       "    <tr>\n",
       "      <th>199</th>\n",
       "      <td>641a3df3c874807a1a8734bc</td>\n",
       "      <td>1</td>\n",
       "      <td>1.0</td>\n",
       "      <td>3.0</td>\n",
       "      <td>6.0</td>\n",
       "      <td>6.0</td>\n",
       "      <td>0.166667</td>\n",
       "      <td>-1.0</td>\n",
       "      <td>1</td>\n",
       "    </tr>\n",
       "    <tr>\n",
       "      <th>200</th>\n",
       "      <td>641a3df3c874807a1a8734bc</td>\n",
       "      <td>2</td>\n",
       "      <td>1.0</td>\n",
       "      <td>5.0</td>\n",
       "      <td>7.0</td>\n",
       "      <td>7.0</td>\n",
       "      <td>0.181818</td>\n",
       "      <td>-1.0</td>\n",
       "      <td>1</td>\n",
       "    </tr>\n",
       "  </tbody>\n",
       "</table>\n",
       "<p>201 rows × 9 columns</p>\n",
       "</div>"
      ],
      "text/plain": [
       "                  PROLIFIC_ID  condition_recode  afterstresschange  \\\n",
       "0    568d286ab5a2c2000cb6a91c                 0                1.0   \n",
       "1    568d286ab5a2c2000cb6a91c                 1                1.0   \n",
       "2    568d286ab5a2c2000cb6a91c                 2                1.0   \n",
       "3    595727bd7c76640001aa8f6e                 0                1.0   \n",
       "4    595727bd7c76640001aa8f6e                 1                1.0   \n",
       "..                        ...               ...                ...   \n",
       "196  641361334c91a0c6ff4c5b79                 1                1.0   \n",
       "197  641361334c91a0c6ff4c5b79                 2                1.0   \n",
       "198  641a3df3c874807a1a8734bc                 0                1.0   \n",
       "199  641a3df3c874807a1a8734bc                 1                1.0   \n",
       "200  641a3df3c874807a1a8734bc                 2                1.0   \n",
       "\n",
       "     salience_mean  stress_mean  recoded_stress    choice  rej-acc  ifnegvalue  \n",
       "0              4.0          5.0             5.0  0.833333     -0.5           1  \n",
       "1              1.5          4.5             4.5  1.000000     -0.5           1  \n",
       "2              3.5          5.0             5.0  1.000000     -0.5           1  \n",
       "3              4.0          5.0             5.0  0.600000      1.0           0  \n",
       "4              4.0          7.0             7.0  0.250000      1.0           0  \n",
       "..             ...          ...             ...       ...      ...         ...  \n",
       "196            1.0          9.0             9.0  1.000000      0.0           0  \n",
       "197            1.0          9.0             9.0  1.000000      0.0           0  \n",
       "198            3.0          6.0             6.0  0.500000     -1.0           1  \n",
       "199            3.0          6.0             6.0  0.166667     -1.0           1  \n",
       "200            5.0          7.0             7.0  0.181818     -1.0           1  \n",
       "\n",
       "[201 rows x 9 columns]"
      ]
     },
     "metadata": {},
     "output_type": "display_data"
    }
   ],
   "source": [
    "display(updatedchoicedata)"
   ]
  },
  {
   "cell_type": "code",
   "execution_count": 4,
   "metadata": {},
   "outputs": [
    {
     "data": {
      "text/html": [
       "<div>\n",
       "<style scoped>\n",
       "    .dataframe tbody tr th:only-of-type {\n",
       "        vertical-align: middle;\n",
       "    }\n",
       "\n",
       "    .dataframe tbody tr th {\n",
       "        vertical-align: top;\n",
       "    }\n",
       "\n",
       "    .dataframe thead th {\n",
       "        text-align: right;\n",
       "    }\n",
       "</style>\n",
       "<table border=\"1\" class=\"dataframe\">\n",
       "  <thead>\n",
       "    <tr style=\"text-align: right;\">\n",
       "      <th></th>\n",
       "      <th>subID</th>\n",
       "      <th>Social Condition</th>\n",
       "      <th>condition_recode</th>\n",
       "      <th>afterstresschange</th>\n",
       "      <th>salience_mean</th>\n",
       "      <th>stress_mean</th>\n",
       "      <th>recoded_stress</th>\n",
       "      <th>Choice</th>\n",
       "      <th>rej-acc</th>\n",
       "      <th>ifnegvalue</th>\n",
       "    </tr>\n",
       "  </thead>\n",
       "  <tbody>\n",
       "    <tr>\n",
       "      <th>0</th>\n",
       "      <td>568d286ab5a2c2000cb6a91c</td>\n",
       "      <td>Neutral</td>\n",
       "      <td>0</td>\n",
       "      <td>1</td>\n",
       "      <td>4.0</td>\n",
       "      <td>5.0</td>\n",
       "      <td>5.0</td>\n",
       "      <td>0.833333</td>\n",
       "      <td>-0.5</td>\n",
       "      <td>1</td>\n",
       "    </tr>\n",
       "    <tr>\n",
       "      <th>1</th>\n",
       "      <td>595727bd7c76640001aa8f6e</td>\n",
       "      <td>Neutral</td>\n",
       "      <td>0</td>\n",
       "      <td>1</td>\n",
       "      <td>4.0</td>\n",
       "      <td>5.0</td>\n",
       "      <td>5.0</td>\n",
       "      <td>0.600000</td>\n",
       "      <td>1.0</td>\n",
       "      <td>0</td>\n",
       "    </tr>\n",
       "    <tr>\n",
       "      <th>2</th>\n",
       "      <td>5a4636c92f91ec0001dcba07</td>\n",
       "      <td>Neutral</td>\n",
       "      <td>0</td>\n",
       "      <td>0</td>\n",
       "      <td>3.0</td>\n",
       "      <td>6.0</td>\n",
       "      <td>4.0</td>\n",
       "      <td>0.000000</td>\n",
       "      <td>-0.5</td>\n",
       "      <td>1</td>\n",
       "    </tr>\n",
       "    <tr>\n",
       "      <th>3</th>\n",
       "      <td>5ad2c8334d061300011b1985</td>\n",
       "      <td>Neutral</td>\n",
       "      <td>0</td>\n",
       "      <td>0</td>\n",
       "      <td>2.0</td>\n",
       "      <td>3.0</td>\n",
       "      <td>7.0</td>\n",
       "      <td>0.500000</td>\n",
       "      <td>-1.5</td>\n",
       "      <td>1</td>\n",
       "    </tr>\n",
       "    <tr>\n",
       "      <th>4</th>\n",
       "      <td>5adef850eb60400001539109</td>\n",
       "      <td>Neutral</td>\n",
       "      <td>0</td>\n",
       "      <td>0</td>\n",
       "      <td>3.0</td>\n",
       "      <td>4.0</td>\n",
       "      <td>6.0</td>\n",
       "      <td>1.000000</td>\n",
       "      <td>2.5</td>\n",
       "      <td>0</td>\n",
       "    </tr>\n",
       "    <tr>\n",
       "      <th>...</th>\n",
       "      <td>...</td>\n",
       "      <td>...</td>\n",
       "      <td>...</td>\n",
       "      <td>...</td>\n",
       "      <td>...</td>\n",
       "      <td>...</td>\n",
       "      <td>...</td>\n",
       "      <td>...</td>\n",
       "      <td>...</td>\n",
       "      <td>...</td>\n",
       "    </tr>\n",
       "    <tr>\n",
       "      <th>196</th>\n",
       "      <td>63eac31811a6da58d4f32d76</td>\n",
       "      <td>Acceptance</td>\n",
       "      <td>2</td>\n",
       "      <td>1</td>\n",
       "      <td>3.0</td>\n",
       "      <td>9.0</td>\n",
       "      <td>9.0</td>\n",
       "      <td>0.000000</td>\n",
       "      <td>0.0</td>\n",
       "      <td>0</td>\n",
       "    </tr>\n",
       "    <tr>\n",
       "      <th>197</th>\n",
       "      <td>63fac97f0d4e8f6bfd753d90</td>\n",
       "      <td>Acceptance</td>\n",
       "      <td>2</td>\n",
       "      <td>1</td>\n",
       "      <td>1.0</td>\n",
       "      <td>5.0</td>\n",
       "      <td>5.0</td>\n",
       "      <td>0.000000</td>\n",
       "      <td>0.0</td>\n",
       "      <td>0</td>\n",
       "    </tr>\n",
       "    <tr>\n",
       "      <th>198</th>\n",
       "      <td>64023a98627b1116180dff0b</td>\n",
       "      <td>Acceptance</td>\n",
       "      <td>2</td>\n",
       "      <td>1</td>\n",
       "      <td>4.0</td>\n",
       "      <td>6.0</td>\n",
       "      <td>6.0</td>\n",
       "      <td>0.000000</td>\n",
       "      <td>-4.0</td>\n",
       "      <td>1</td>\n",
       "    </tr>\n",
       "    <tr>\n",
       "      <th>199</th>\n",
       "      <td>641361334c91a0c6ff4c5b79</td>\n",
       "      <td>Acceptance</td>\n",
       "      <td>2</td>\n",
       "      <td>1</td>\n",
       "      <td>1.0</td>\n",
       "      <td>9.0</td>\n",
       "      <td>9.0</td>\n",
       "      <td>1.000000</td>\n",
       "      <td>0.0</td>\n",
       "      <td>0</td>\n",
       "    </tr>\n",
       "    <tr>\n",
       "      <th>200</th>\n",
       "      <td>641a3df3c874807a1a8734bc</td>\n",
       "      <td>Acceptance</td>\n",
       "      <td>2</td>\n",
       "      <td>1</td>\n",
       "      <td>5.0</td>\n",
       "      <td>7.0</td>\n",
       "      <td>7.0</td>\n",
       "      <td>0.181818</td>\n",
       "      <td>-1.0</td>\n",
       "      <td>1</td>\n",
       "    </tr>\n",
       "  </tbody>\n",
       "</table>\n",
       "<p>201 rows × 10 columns</p>\n",
       "</div>"
      ],
      "text/plain": [
       "                        subID Social Condition  condition_recode  \\\n",
       "0    568d286ab5a2c2000cb6a91c          Neutral                 0   \n",
       "1    595727bd7c76640001aa8f6e          Neutral                 0   \n",
       "2    5a4636c92f91ec0001dcba07          Neutral                 0   \n",
       "3    5ad2c8334d061300011b1985          Neutral                 0   \n",
       "4    5adef850eb60400001539109          Neutral                 0   \n",
       "..                        ...              ...               ...   \n",
       "196  63eac31811a6da58d4f32d76       Acceptance                 2   \n",
       "197  63fac97f0d4e8f6bfd753d90       Acceptance                 2   \n",
       "198  64023a98627b1116180dff0b       Acceptance                 2   \n",
       "199  641361334c91a0c6ff4c5b79       Acceptance                 2   \n",
       "200  641a3df3c874807a1a8734bc       Acceptance                 2   \n",
       "\n",
       "     afterstresschange  salience_mean  stress_mean  recoded_stress    Choice  \\\n",
       "0                    1            4.0          5.0             5.0  0.833333   \n",
       "1                    1            4.0          5.0             5.0  0.600000   \n",
       "2                    0            3.0          6.0             4.0  0.000000   \n",
       "3                    0            2.0          3.0             7.0  0.500000   \n",
       "4                    0            3.0          4.0             6.0  1.000000   \n",
       "..                 ...            ...          ...             ...       ...   \n",
       "196                  1            3.0          9.0             9.0  0.000000   \n",
       "197                  1            1.0          5.0             5.0  0.000000   \n",
       "198                  1            4.0          6.0             6.0  0.000000   \n",
       "199                  1            1.0          9.0             9.0  1.000000   \n",
       "200                  1            5.0          7.0             7.0  0.181818   \n",
       "\n",
       "     rej-acc  ifnegvalue  \n",
       "0       -0.5           1  \n",
       "1        1.0           0  \n",
       "2       -0.5           1  \n",
       "3       -1.5           1  \n",
       "4        2.5           0  \n",
       "..       ...         ...  \n",
       "196      0.0           0  \n",
       "197      0.0           0  \n",
       "198     -4.0           1  \n",
       "199      0.0           0  \n",
       "200     -1.0           1  \n",
       "\n",
       "[201 rows x 10 columns]"
      ]
     },
     "metadata": {},
     "output_type": "display_data"
    }
   ],
   "source": [
    "display(plottingdata)"
   ]
  },
  {
   "cell_type": "code",
   "execution_count": 151,
   "metadata": {},
   "outputs": [],
   "source": [
    "anovachoice = pg.rm_anova(data=updatedchoicedata, dv='choice', within='condition_recode', subject='PROLIFIC_ID', detailed=True, correction = True)"
   ]
  },
  {
   "cell_type": "code",
   "execution_count": 152,
   "metadata": {},
   "outputs": [
    {
     "name": "stdout",
     "output_type": "stream",
     "text": [
      "             Source        SS   DF        MS         F     p-unc  p-GG-corr  \\\n",
      "0  condition_recode  0.073489    2  0.036745  1.398559  0.250587   0.250683   \n",
      "1             Error  3.468066  132  0.026273       NaN       NaN        NaN   \n",
      "\n",
      "        ng2       eps sphericity   W-spher   p-spher  \n",
      "0  0.002149  0.874549      False  0.856553  0.006524  \n",
      "1       NaN       NaN        NaN       NaN       NaN  \n"
     ]
    }
   ],
   "source": [
    "print(anovachoice)"
   ]
  },
  {
   "cell_type": "code",
   "execution_count": 153,
   "metadata": {},
   "outputs": [
    {
     "name": "stdout",
     "output_type": "stream",
     "text": [
      "             Source         SS   DF         MS          F         p-unc  \\\n",
      "0  condition_recode  41.450249    2  20.725124  43.389805  3.291757e-15   \n",
      "1             Error  63.049751  132   0.477650        NaN           NaN   \n",
      "\n",
      "      p-GG-corr       ng2       eps sphericity   W-spher   p-spher  \n",
      "0  3.835181e-15  0.189288  0.994816       True  0.994789  0.843842  \n",
      "1           NaN       NaN       NaN        NaN       NaN       NaN  \n"
     ]
    }
   ],
   "source": [
    "anovasalience = pg.rm_anova(data=updatedchoicedata, dv='salience_mean', within='condition_recode', subject='PROLIFIC_ID', detailed=True, correction = True)\n",
    "print(anovasalience)"
   ]
  },
  {
   "cell_type": "code",
   "execution_count": 154,
   "metadata": {},
   "outputs": [
    {
     "name": "stdout",
     "output_type": "stream",
     "text": [
      "             Source          SS   DF        MS         F     p-unc  p-GG-corr  \\\n",
      "0  condition_recode   18.300995    2  9.150498  9.751416  0.000112   0.000139   \n",
      "1             Error  123.865672  132  0.938376       NaN       NaN        NaN   \n",
      "\n",
      "        ng2       eps sphericity   W-spher   p-spher  \n",
      "0  0.020236  0.966373       True  0.965203  0.316303  \n",
      "1       NaN       NaN        NaN       NaN       NaN  \n"
     ]
    }
   ],
   "source": [
    "anovastress = pg.rm_anova(data=updatedchoicedata, dv='recoded_stress', within='condition_recode', subject='PROLIFIC_ID', detailed=True, correction = True)\n",
    "print(anovastress)"
   ]
  },
  {
   "cell_type": "code",
   "execution_count": 155,
   "metadata": {},
   "outputs": [],
   "source": [
    "rej = updatedchoicedata.loc[updatedchoicedata['condition_recode']==1].reset_index(drop=True)\n",
    "acc = updatedchoicedata.loc[updatedchoicedata['condition_recode']==2].reset_index(drop=True)\n",
    "neu = updatedchoicedata.loc[updatedchoicedata['condition_recode']==0].reset_index(drop=True)\n"
   ]
  },
  {
   "cell_type": "code",
   "execution_count": 156,
   "metadata": {},
   "outputs": [
    {
     "name": "stdout",
     "output_type": "stream",
     "text": [
      "           T  dof alternative  p-val          CI95%  cohen-d     BF10  power\n",
      "T-test -4.12   66        less    0.0  [-inf, -0.44]     0.35  392.838   0.89\n"
     ]
    }
   ],
   "source": [
    "rej_accstressttest = ttest(rej['recoded_stress'], acc['recoded_stress'], paired=True, alternative='less').round(2)\n",
    "print(rej_accstressttest)"
   ]
  },
  {
   "cell_type": "code",
   "execution_count": 157,
   "metadata": {},
   "outputs": [
    {
     "name": "stdout",
     "output_type": "stream",
     "text": [
      "           T  dof alternative  p-val          CI95%  cohen-d  BF10  power\n",
      "T-test -2.29   66        less   0.01  [-inf, -0.11]     0.17  3.05   0.41\n"
     ]
    }
   ],
   "source": [
    "rej_neustressttest = ttest(rej['recoded_stress'], neu['recoded_stress'], paired=True, alternative='less').round(2)\n",
    "print(rej_neustressttest)"
   ]
  },
  {
   "cell_type": "code",
   "execution_count": 158,
   "metadata": {},
   "outputs": [
    {
     "name": "stdout",
     "output_type": "stream",
     "text": [
      "          T  dof alternative  p-val         CI95%  cohen-d   BF10  power\n",
      "T-test -2.3   66        less   0.01  [-inf, -0.1]     0.17  3.133   0.41\n"
     ]
    }
   ],
   "source": [
    "neu_accstressttest = ttest(neu['recoded_stress'], acc['recoded_stress'], paired=True, alternative='less').round(2)\n",
    "print(neu_accstressttest)"
   ]
  },
  {
   "cell_type": "code",
   "execution_count": 159,
   "metadata": {},
   "outputs": [
    {
     "name": "stdout",
     "output_type": "stream",
     "text": [
      "           T  dof alternative  p-val          CI95%  cohen-d       BF10  power\n",
      "T-test -9.29   66        less    0.0  [-inf, -0.91]     1.24  1.134e+11    1.0\n"
     ]
    }
   ],
   "source": [
    "rej_accsaliencettest = ttest(rej['salience_mean'], acc['salience_mean'], paired=True, alternative='less').round(2)\n",
    "print(rej_accsaliencettest)"
   ]
  },
  {
   "cell_type": "code",
   "execution_count": 160,
   "metadata": {},
   "outputs": [
    {
     "name": "stdout",
     "output_type": "stream",
     "text": [
      "           T  dof alternative  p-val          CI95%  cohen-d     BF10  power\n",
      "T-test -4.59   66        less    0.0  [-inf, -0.34]     0.57  1825.27    1.0\n"
     ]
    }
   ],
   "source": [
    "rej_neusaliencettest = ttest(rej['salience_mean'], neu['salience_mean'], paired=True, alternative='less').round(2)\n",
    "print(rej_neusaliencettest)"
   ]
  },
  {
   "cell_type": "code",
   "execution_count": 161,
   "metadata": {},
   "outputs": [
    {
     "name": "stdout",
     "output_type": "stream",
     "text": [
      "           T  dof alternative  p-val          CI95%  cohen-d      BF10  power\n",
      "T-test -4.74   66        less    0.0  [-inf, -0.38]     0.58  3004.275    1.0\n"
     ]
    }
   ],
   "source": [
    "neu_accsaliencettest = ttest(neu['salience_mean'], acc['salience_mean'], paired=True, alternative='less').round(2)\n",
    "print(neu_accsaliencettest)"
   ]
  },
  {
   "cell_type": "code",
   "execution_count": 162,
   "metadata": {},
   "outputs": [
    {
     "name": "stdout",
     "output_type": "stream",
     "text": [
      "                 PROLIFIC_ID  condition_recode  afterstresschange  \\\n",
      "0   568d286ab5a2c2000cb6a91c                 1                1.0   \n",
      "1   595727bd7c76640001aa8f6e                 1                1.0   \n",
      "2   5a4636c92f91ec0001dcba07                 1                0.0   \n",
      "3   5ad2c8334d061300011b1985                 1                0.0   \n",
      "4   5adef850eb60400001539109                 1                0.0   \n",
      "..                       ...               ...                ...   \n",
      "62  63eac31811a6da58d4f32d76                 1                1.0   \n",
      "63  63fac97f0d4e8f6bfd753d90                 1                1.0   \n",
      "64  64023a98627b1116180dff0b                 1                1.0   \n",
      "65  641361334c91a0c6ff4c5b79                 1                1.0   \n",
      "66  641a3df3c874807a1a8734bc                 1                1.0   \n",
      "\n",
      "    salience_mean  stress_mean  recoded_stress    choice  rej-acc  ifnegvalue  \n",
      "0             1.5          4.5             4.5  1.000000     -0.5           1  \n",
      "1             4.0          7.0             7.0  0.250000      1.0           0  \n",
      "2             1.5          5.5             4.5  0.090909     -0.5           1  \n",
      "3             3.0          4.0             6.0  0.500000     -1.5           1  \n",
      "4             3.0          2.0             8.0  1.000000      2.5           0  \n",
      "..            ...          ...             ...       ...      ...         ...  \n",
      "62            3.0          9.0             9.0  0.000000      0.0           0  \n",
      "63            1.0          5.0             5.0  0.000000      0.0           0  \n",
      "64            1.5          2.0             2.0  0.666667     -4.0           1  \n",
      "65            1.0          9.0             9.0  1.000000      0.0           0  \n",
      "66            3.0          6.0             6.0  0.166667     -1.0           1  \n",
      "\n",
      "[67 rows x 9 columns]\n"
     ]
    }
   ],
   "source": [
    "print(rej)"
   ]
  },
  {
   "cell_type": "code",
   "execution_count": 163,
   "metadata": {},
   "outputs": [
    {
     "name": "stdout",
     "output_type": "stream",
     "text": [
      "67\n",
      "67\n",
      "67\n"
     ]
    }
   ],
   "source": [
    "print(len(rej))\n",
    "print(len(neu))\n",
    "print(len(acc))"
   ]
  },
  {
   "cell_type": "code",
   "execution_count": 164,
   "metadata": {},
   "outputs": [],
   "source": [
    "mostaffectedpps = updatedchoicedata.loc[updatedchoicedata['ifnegvalue']==1].reset_index(drop=True)\n",
    "leastaffectedpps = updatedchoicedata.loc[updatedchoicedata['ifnegvalue']==0].reset_index(drop=True)"
   ]
  },
  {
   "cell_type": "code",
   "execution_count": 165,
   "metadata": {},
   "outputs": [
    {
     "name": "stdout",
     "output_type": "stream",
     "text": [
      "120\n"
     ]
    }
   ],
   "source": [
    "print(len(mostaffectedpps))"
   ]
  },
  {
   "cell_type": "code",
   "execution_count": 166,
   "metadata": {},
   "outputs": [],
   "source": [
    "mostaffectedanovachoice = pg.rm_anova(data=mostaffectedpps, dv='choice', within='condition_recode', subject='PROLIFIC_ID', detailed=True, correction = True)"
   ]
  },
  {
   "cell_type": "code",
   "execution_count": 167,
   "metadata": {},
   "outputs": [
    {
     "name": "stdout",
     "output_type": "stream",
     "text": [
      "             Source        SS  DF        MS         F     p-unc  p-GG-corr  \\\n",
      "0  condition_recode  0.025705   2  0.012853  0.408484  0.666071   0.650227   \n",
      "1             Error  2.454188  78  0.031464       NaN       NaN        NaN   \n",
      "\n",
      "        ng2      eps sphericity   W-spher   p-spher  \n",
      "0  0.001398  0.92476       True  0.918638  0.199408  \n",
      "1       NaN      NaN        NaN       NaN       NaN  \n"
     ]
    }
   ],
   "source": [
    "print(mostaffectedanovachoice)"
   ]
  },
  {
   "cell_type": "code",
   "execution_count": 168,
   "metadata": {},
   "outputs": [],
   "source": [
    "leastaffectedanovachoice = pg.rm_anova(data=leastaffectedpps, dv='choice', within='condition_recode', subject='PROLIFIC_ID', detailed=True, correction = True)"
   ]
  },
  {
   "cell_type": "code",
   "execution_count": 169,
   "metadata": {},
   "outputs": [
    {
     "name": "stdout",
     "output_type": "stream",
     "text": [
      "             Source        SS  DF        MS         F     p-unc  p-GG-corr  \\\n",
      "0  condition_recode  0.056029   2  0.028014  1.448581  0.244225   0.244465   \n",
      "1             Error  1.005634  52  0.019339       NaN       NaN        NaN   \n",
      "\n",
      "        ng2       eps sphericity   W-spher   p-spher  \n",
      "0  0.003816  0.664269      False  0.494585  0.000151  \n",
      "1       NaN       NaN        NaN       NaN       NaN  \n"
     ]
    }
   ],
   "source": [
    "print(leastaffectedanovachoice)"
   ]
  },
  {
   "cell_type": "code",
   "execution_count": 170,
   "metadata": {},
   "outputs": [
    {
     "name": "stdout",
     "output_type": "stream",
     "text": [
      "rejchoice_mean\n",
      "0.4305744007236545\n",
      "rejchoice_std\n",
      "0.4117122529795472\n"
     ]
    }
   ],
   "source": [
    "#proportion of self-choice in neutral condition\n",
    "rejchoice_mean = rej['choice'].mean()\n",
    "rejchoice_std = rej['choice'].std()\n",
    "print('rejchoice_mean')\n",
    "print(rejchoice_mean)\n",
    "print('rejchoice_std')\n",
    "print(rejchoice_std)"
   ]
  },
  {
   "cell_type": "code",
   "execution_count": 171,
   "metadata": {},
   "outputs": [
    {
     "name": "stdout",
     "output_type": "stream",
     "text": [
      "accchoice_mean\n",
      "0.3841926729986432\n",
      "accchoice_std\n",
      "0.3990062494947449\n"
     ]
    }
   ],
   "source": [
    "accchoice_mean = acc['choice'].mean()\n",
    "accchoice_std = acc['choice'].std()\n",
    "print('accchoice_mean')\n",
    "print(accchoice_mean)\n",
    "print('accchoice_std')\n",
    "print(accchoice_std)"
   ]
  },
  {
   "cell_type": "code",
   "execution_count": 172,
   "metadata": {},
   "outputs": [
    {
     "name": "stdout",
     "output_type": "stream",
     "text": [
      "neuchoice_mean\n",
      "0.4017412935323383\n",
      "neuchoice_std\n",
      "0.43385879493495255\n"
     ]
    }
   ],
   "source": [
    "neuchoice_mean = neu['choice'].mean()\n",
    "neuchoice_std = neu['choice'].std()\n",
    "print('neuchoice_mean')\n",
    "print(neuchoice_mean)\n",
    "print('neuchoice_std')\n",
    "print(neuchoice_std)"
   ]
  },
  {
   "cell_type": "code",
   "execution_count": 188,
   "metadata": {},
   "outputs": [],
   "source": [
    "aq = pd.read_csv('%s/scoring/aq.csv'%(current_dir))\n",
    "brcs = pd.read_csv('%s/scoring/brcs.csv'%(current_dir))\n",
    "erq = pd.read_csv('%s/scoring/erq.csv'%(current_dir))\n",
    "ntbs = pd.read_csv('%s/scoring/ntbs.csv'%(current_dir))\n",
    "scs = pd.read_csv('%s/scoring/scs.csv'%(current_dir))\n",
    "srq = pd.read_csv('%s/scoring/srq.csv'%(current_dir))\n",
    "pss = pd.read_csv('%s/scoring/pss.csv'%(current_dir))\n",
    "rsq = pd.read_csv('%s/scoring/rsq.csv'%(current_dir))\n",
    "rr = pd.read_csv('%s/scoring/rr.csv'%(current_dir))\n",
    "mspss = pd.read_csv('%s/scoring/mspss.csv'%(current_dir))"
   ]
  },
  {
   "cell_type": "code",
   "execution_count": 174,
   "metadata": {},
   "outputs": [
    {
     "name": "stdout",
     "output_type": "stream",
     "text": [
      "67\n",
      "67\n",
      "67\n",
      "67\n",
      "67\n",
      "67\n"
     ]
    }
   ],
   "source": [
    "rejchoice = rej['choice']\n",
    "accchoice = acc['choice']\n",
    "neuchoice = neu['choice']\n",
    "print(len(rejchoice))\n",
    "print(len(accchoice))\n",
    "print(len(neuchoice))\n",
    "print(len(aq))\n",
    "print(len(ntbs))\n",
    "print(len(mspss))"
   ]
  },
  {
   "cell_type": "code",
   "execution_count": 175,
   "metadata": {},
   "outputs": [
    {
     "name": "stdout",
     "output_type": "stream",
     "text": [
      "                 Prolific_ID    AQ\n",
      "0   568d286ab5a2c2000cb6a91c  24.0\n",
      "1   595727bd7c76640001aa8f6e  33.0\n",
      "2   5a4636c92f91ec0001dcba07  32.0\n",
      "3   5ad2c8334d061300011b1985  11.0\n",
      "4   5adef850eb60400001539109  21.0\n",
      "..                       ...   ...\n",
      "62  63eac31811a6da58d4f32d76  16.0\n",
      "63  63fac97f0d4e8f6bfd753d90  30.0\n",
      "64  64023a98627b1116180dff0b  30.0\n",
      "65  641361334c91a0c6ff4c5b79  10.0\n",
      "66  641a3df3c874807a1a8734bc  20.0\n",
      "\n",
      "[67 rows x 2 columns]\n"
     ]
    }
   ],
   "source": [
    "print(aq)"
   ]
  },
  {
   "cell_type": "code",
   "execution_count": 176,
   "metadata": {},
   "outputs": [],
   "source": [
    "rejchoice = rej['choice']\n",
    "accchoice = acc['choice']\n",
    "neuchoice = neu['choice']\n",
    "\n",
    "rejstress = rej['recoded_stress']\n",
    "accstress = acc['recoded_stress']\n",
    "neustress = neu['recoded_stress']\n",
    "\n",
    "rejsalience = rej['salience_mean']\n",
    "accsalience = acc['salience_mean']\n",
    "neusalience = neu['salience_mean']"
   ]
  },
  {
   "cell_type": "code",
   "execution_count": 177,
   "metadata": {},
   "outputs": [
    {
     "data": {
      "image/png": "[encoded data removed]",
      "text/plain": [
       "<Figure size 432x288 with 1 Axes>"
      ]
     },
     "metadata": {
      "needs_background": "light"
     },
     "output_type": "display_data"
    },
    {
     "name": "stdout",
     "output_type": "stream",
     "text": [
      "[[68.95251018 -0.44580952]\n",
      " [-0.44580952  0.16950698]]\n",
      "Spearmans correlation: -0.165\n",
      "p value: 0.1814\n",
      "Accept null hypothesis that the means are equal.\n"
     ]
    }
   ],
   "source": [
    "# prop_choicerej // aq\n",
    "pyplot.scatter(aq['AQ'],rejchoice)\n",
    "pyplot.show()\n",
    "covariance = cov(aq['AQ'],rejchoice)\n",
    "print(covariance)\n",
    "corr, _ = spearmanr(aq['AQ'],rejchoice)\n",
    "print('Spearmans correlation: %.3f' % corr)\n",
    "r,p = scipy.stats.spearmanr(aq['AQ'],rejchoice)\n",
    "print('p value: %.4f' % p)\n",
    "\n",
    "alpha = 0.10\n",
    "if p > alpha:\n",
    " print('Accept null hypothesis that the means are equal.')\n",
    "else:\n",
    "    print('Reject the null hypothesis that the means are equal.')"
   ]
  },
  {
   "cell_type": "code",
   "execution_count": 178,
   "metadata": {},
   "outputs": [
    {
     "data": {
      "image/png": "[encoded data removed]",
      "text/plain": [
       "<Figure size 432x288 with 1 Axes>"
      ]
     },
     "metadata": {
      "needs_background": "light"
     },
     "output_type": "display_data"
    },
    {
     "name": "stdout",
     "output_type": "stream",
     "text": [
      "[[17.30710086 -0.72841474]\n",
      " [-0.72841474  0.16950698]]\n",
      "Spearmans correlation: -0.413\n",
      "p value: 0.0005\n",
      "Reject the null hypothesis that the means are equal.\n"
     ]
    }
   ],
   "source": [
    "# prop_choicerej // ntbs\n",
    "pyplot.scatter(ntbs['NTBS_score'],rejchoice)\n",
    "pyplot.show()\n",
    "covariance = cov(ntbs['NTBS_score'],rejchoice)\n",
    "print(covariance)\n",
    "corr, _ = spearmanr(ntbs['NTBS_score'],rejchoice)\n",
    "print('Spearmans correlation: %.3f' % corr)\n",
    "r,p = scipy.stats.spearmanr(ntbs['NTBS_score'],rejchoice)\n",
    "print('p value: %.4f' % p)\n",
    "\n",
    "alpha = 0.10\n",
    "if p > alpha:\n",
    " print('Accept null hypothesis that the means are equal.')\n",
    "else:\n",
    "    print('Reject the null hypothesis that the means are equal.')"
   ]
  },
  {
   "cell_type": "code",
   "execution_count": 179,
   "metadata": {},
   "outputs": [
    {
     "data": {
      "image/png": "[encoded data removed]",
      "text/plain": [
       "<Figure size 432x288 with 1 Axes>"
      ]
     },
     "metadata": {
      "needs_background": "light"
     },
     "output_type": "display_data"
    },
    {
     "name": "stdout",
     "output_type": "stream",
     "text": [
      "[[1.24124689e+01 4.17313399e-03]\n",
      " [4.17313399e-03 1.69506979e-01]]\n",
      "Spearmans correlation: -0.004\n",
      "p value: 0.9760\n",
      "Accept null hypothesis that the means are equal.\n"
     ]
    }
   ],
   "source": [
    "# prop_choicerej // rsq\n",
    "pyplot.scatter(rsq[\"RSQ_finalscore\"],rejchoice)\n",
    "pyplot.show()\n",
    "covariance = cov(rsq[\"RSQ_finalscore\"],rejchoice)\n",
    "print(covariance)\n",
    "corr, _ = spearmanr(rsq[\"RSQ_finalscore\"],rejchoice)\n",
    "print('Spearmans correlation: %.3f' % corr)\n",
    "r,p = scipy.stats.spearmanr(rsq[\"RSQ_finalscore\"],rejchoice)\n",
    "print('p value: %.4f' % p)\n",
    "\n",
    "alpha = 0.10\n",
    "if p > alpha:\n",
    " print('Accept null hypothesis that the means are equal.')\n",
    "else:\n",
    "    print('Reject the null hypothesis that the means are equal.')\n"
   ]
  },
  {
   "cell_type": "code",
   "execution_count": 180,
   "metadata": {},
   "outputs": [
    {
     "data": {
      "image/png": "[encoded data removed]",
      "text/plain": [
       "<Figure size 432x288 with 1 Axes>"
      ]
     },
     "metadata": {
      "needs_background": "light"
     },
     "output_type": "display_data"
    },
    {
     "name": "stdout",
     "output_type": "stream",
     "text": [
      "[[83.55540479  0.18047401]\n",
      " [ 0.18047401  0.16950698]]\n",
      "Spearmans correlation: 0.066\n",
      "p value: 0.5942\n",
      "Accept null hypothesis that the means are equal.\n"
     ]
    }
   ],
   "source": [
    "# prop_choicerej // pss\n",
    "\n",
    "pyplot.scatter(pss[\"PSS_score\"],rejchoice)\n",
    "pyplot.show()\n",
    "covariance = cov(pss[\"PSS_score\"],rejchoice)\n",
    "print(covariance)\n",
    "corr, _ = spearmanr(pss[\"PSS_score\"],rejchoice)\n",
    "print('Spearmans correlation: %.3f' % corr)\n",
    "r,p = scipy.stats.spearmanr(pss[\"PSS_score\"],rejchoice)\n",
    "print('p value: %.4f' % p)\n",
    "\n",
    "alpha = 0.10\n",
    "if p > alpha:\n",
    " print('Accept null hypothesis that the means are equal.')\n",
    "else:\n",
    "    print('Reject the null hypothesis that the means are equal.')"
   ]
  },
  {
   "cell_type": "code",
   "execution_count": 181,
   "metadata": {},
   "outputs": [
    {
     "data": {
      "image/png": "[encoded data removed]",
      "text/plain": [
       "<Figure size 432x288 with 1 Axes>"
      ]
     },
     "metadata": {
      "needs_background": "light"
     },
     "output_type": "display_data"
    },
    {
     "name": "stdout",
     "output_type": "stream",
     "text": [
      "[[ 1.90326775 -0.06620667]\n",
      " [-0.06620667  0.16950698]]\n",
      "Spearmans correlation: -0.102\n",
      "p value: 0.4130\n",
      "Accept null hypothesis that the means are equal.\n"
     ]
    }
   ],
   "source": [
    "# prop_choicerej // erq emotional suppression\n",
    "pyplot.scatter(erq['ERQ_emosuppression'],rejchoice)\n",
    "pyplot.show()\n",
    "covariance = cov(erq['ERQ_emosuppression'],rejchoice)\n",
    "print(covariance)\n",
    "corr, _ = spearmanr(erq['ERQ_emosuppression'],rejchoice)\n",
    "print('Spearmans correlation: %.3f' % corr)\n",
    "r,p = scipy.stats.spearmanr(erq['ERQ_emosuppression'],rejchoice)\n",
    "print('p value: %.4f' % p)\n",
    "\n",
    "alpha = 0.10\n",
    "if p > alpha:\n",
    " print('Accept null hypothesis that the means are equal.')\n",
    "else:\n",
    "    print('Reject the null hypothesis that the means are equal.')\n"
   ]
  },
  {
   "cell_type": "code",
   "execution_count": 182,
   "metadata": {},
   "outputs": [
    {
     "data": {
      "image/png": "[encoded data removed]",
      "text/plain": [
       "<Figure size 432x288 with 1 Axes>"
      ]
     },
     "metadata": {
      "needs_background": "light"
     },
     "output_type": "display_data"
    },
    {
     "name": "stdout",
     "output_type": "stream",
     "text": [
      "[[1.91327454 0.01554698]\n",
      " [0.01554698 0.16950698]]\n",
      "Spearmans correlation: 0.030\n",
      "p value: 0.8068\n",
      "Accept null hypothesis that the means are equal.\n"
     ]
    }
   ],
   "source": [
    "# prop_choicerej // erq emotional cogreappraisal\n",
    "pyplot.scatter(erq['ERQ_cogreappraisal'],rejchoice)\n",
    "pyplot.show()\n",
    "covariance = cov(erq['ERQ_cogreappraisal'],rejchoice)\n",
    "print(covariance)\n",
    "corr, _ = spearmanr(erq['ERQ_cogreappraisal'],rejchoice)\n",
    "print('Spearmans correlation: %.3f' % corr)\n",
    "r,p = scipy.stats.spearmanr(erq['ERQ_cogreappraisal'],rejchoice)\n",
    "print('p value: %.4f' % p)\n",
    "\n",
    "alpha = 0.10\n",
    "if p > alpha:\n",
    " print('Accept null hypothesis that the means are equal.')\n",
    "else:\n",
    "    print('Reject the null hypothesis that the means are equal.')\n"
   ]
  },
  {
   "cell_type": "code",
   "execution_count": 183,
   "metadata": {},
   "outputs": [
    {
     "data": {
      "image/png": "[encoded data removed]",
      "text/plain": [
       "<Figure size 432x288 with 1 Axes>"
      ]
     },
     "metadata": {
      "needs_background": "light"
     },
     "output_type": "display_data"
    },
    {
     "name": "stdout",
     "output_type": "stream",
     "text": [
      "[[5.49665762e+02 9.27326864e-01]\n",
      " [9.27326864e-01 1.69506979e-01]]\n",
      "Spearmans correlation: 0.105\n",
      "p value: 0.3958\n",
      "Accept null hypothesis that the means are equal.\n"
     ]
    }
   ],
   "source": [
    "# prop_choicerej // scs\n",
    "\n",
    "pyplot.scatter(scs[\"SCS_score\"],rejchoice)\n",
    "pyplot.show()\n",
    "covariance = cov(scs[\"SCS_score\"],rejchoice)\n",
    "print(covariance)\n",
    "corr, _ = spearmanr(scs[\"SCS_score\"],rejchoice)\n",
    "print('Spearmans correlation: %.3f' % corr)\n",
    "r,p = scipy.stats.spearmanr(scs[\"SCS_score\"],rejchoice)\n",
    "print('p value: %.4f' % p)\n",
    "\n",
    "alpha = 0.10\n",
    "if p > alpha:\n",
    " print('Accept null hypothesis that the means are equal.')\n",
    "else:\n",
    "    print('Reject the null hypothesis that the means are equal.')"
   ]
  },
  {
   "cell_type": "code",
   "execution_count": 190,
   "metadata": {},
   "outputs": [
    {
     "data": {
      "image/png": "[encoded data removed]",
      "text/plain": [
       "<Figure size 432x288 with 1 Axes>"
      ]
     },
     "metadata": {
      "needs_background": "light"
     },
     "output_type": "display_data"
    },
    {
     "name": "stdout",
     "output_type": "stream",
     "text": [
      "[[ 1.64009498 -0.15361365]\n",
      " [-0.15361365  0.16950698]]\n",
      "Spearmans correlation: -0.265\n",
      "p value: 0.0304\n",
      "Reject the null hypothesis that the means are equal.\n"
     ]
    }
   ],
   "source": [
    "# prop_choicerej // srq admiration\n",
    "\n",
    "pyplot.scatter(srq[\"SRQ_admiration\"],rejchoice)\n",
    "pyplot.show()\n",
    "covariance = cov(srq[\"SRQ_admiration\"],rejchoice)\n",
    "print(covariance)\n",
    "corr, _ = spearmanr(srq[\"SRQ_admiration\"],rejchoice)\n",
    "print('Spearmans correlation: %.3f' % corr)\n",
    "r,p = scipy.stats.spearmanr(srq[\"SRQ_admiration\"],rejchoice)\n",
    "print('p value: %.4f' % p)\n",
    "\n",
    "alpha = 0.10\n",
    "if p > alpha:\n",
    " print('Accept null hypothesis that the means are equal.')\n",
    "else:\n",
    "    print('Reject the null hypothesis that the means are equal.')"
   ]
  },
  {
   "cell_type": "code",
   "execution_count": 191,
   "metadata": {},
   "outputs": [
    {
     "data": {
      "image/png": "[encoded data removed]",
      "text/plain": [
       "<Figure size 432x288 with 1 Axes>"
      ]
     },
     "metadata": {
      "needs_background": "light"
     },
     "output_type": "display_data"
    },
    {
     "name": "stdout",
     "output_type": "stream",
     "text": [
      "[[ 1.01054726e+00 -9.96395433e-05]\n",
      " [-9.96395433e-05  1.69506979e-01]]\n",
      "Spearmans correlation: -0.046\n",
      "p value: 0.7130\n",
      "Accept null hypothesis that the means are equal.\n"
     ]
    }
   ],
   "source": [
    "# prop_choicerej // srq negsocpot\n",
    "\n",
    "pyplot.scatter(srq['SRQ_negsocpot'],rejchoice)\n",
    "pyplot.show()\n",
    "covariance = cov(srq['SRQ_negsocpot'],rejchoice)\n",
    "print(covariance)\n",
    "corr, _ = spearmanr(srq['SRQ_negsocpot'],rejchoice)\n",
    "print('Spearmans correlation: %.3f' % corr)\n",
    "r,p = scipy.stats.spearmanr(srq['SRQ_negsocpot'],rejchoice)\n",
    "print('p value: %.4f' % p)\n",
    "\n",
    "alpha = 0.10\n",
    "if p > alpha:\n",
    " print('Accept null hypothesis that the means are equal.')\n",
    "else:\n",
    "    print('Reject the null hypothesis that the means are equal.')"
   ]
  },
  {
   "cell_type": "code",
   "execution_count": 192,
   "metadata": {},
   "outputs": [
    {
     "data": {
      "image/png": "[encoded data removed]",
      "text/plain": [
       "<Figure size 432x288 with 1 Axes>"
      ]
     },
     "metadata": {
      "needs_background": "light"
     },
     "output_type": "display_data"
    },
    {
     "name": "stdout",
     "output_type": "stream",
     "text": [
      "[[0.38588874 0.00255616]\n",
      " [0.00255616 0.16950698]]\n",
      "Spearmans correlation: 0.010\n",
      "p value: 0.9340\n",
      "Accept null hypothesis that the means are equal.\n"
     ]
    }
   ],
   "source": [
    "# prop_choicerej // srq prosocint\n",
    "\n",
    "pyplot.scatter(srq['SRQ_prosocint'],rejchoice)\n",
    "pyplot.show()\n",
    "covariance = cov(srq['SRQ_prosocint'],rejchoice)\n",
    "print(covariance)\n",
    "corr, _ = spearmanr(srq['SRQ_prosocint'],rejchoice)\n",
    "print('Spearmans correlation: %.3f' % corr)\n",
    "r,p = scipy.stats.spearmanr(srq['SRQ_prosocint'],rejchoice)\n",
    "print('p value: %.4f' % p)\n",
    "\n",
    "alpha = 0.10\n",
    "if p > alpha:\n",
    " print('Accept null hypothesis that the means are equal.')\n",
    "else:\n",
    "    print('Reject the null hypothesis that the means are equal.')"
   ]
  },
  {
   "cell_type": "code",
   "execution_count": 193,
   "metadata": {},
   "outputs": [
    {
     "data": {
      "image/png": "[encoded data removed]",
      "text/plain": [
       "<Figure size 432x288 with 1 Axes>"
      ]
     },
     "metadata": {
      "needs_background": "light"
     },
     "output_type": "display_data"
    },
    {
     "name": "stdout",
     "output_type": "stream",
     "text": [
      "[[ 2.32257902 -0.06640957]\n",
      " [-0.06640957  0.16950698]]\n",
      "Spearmans correlation: -0.114\n",
      "p value: 0.3581\n",
      "Accept null hypothesis that the means are equal.\n"
     ]
    }
   ],
   "source": [
    "# prop_choicerej // srq sexrel\n",
    "\n",
    "pyplot.scatter(srq['SRQ_sexrel'],rejchoice)\n",
    "pyplot.show()\n",
    "covariance = cov(srq['SRQ_sexrel'],rejchoice)\n",
    "print(covariance)\n",
    "corr, _ = spearmanr(srq['SRQ_sexrel'],rejchoice)\n",
    "print('Spearmans correlation: %.3f' % corr)\n",
    "r,p = scipy.stats.spearmanr(srq['SRQ_sexrel'],rejchoice)\n",
    "print('p value: %.4f' % p)\n",
    "\n",
    "alpha = 0.10\n",
    "if p > alpha:\n",
    " print('Accept null hypothesis that the means are equal.')\n",
    "else:\n",
    "    print('Reject the null hypothesis that the means are equal.')"
   ]
  },
  {
   "cell_type": "code",
   "execution_count": 194,
   "metadata": {},
   "outputs": [
    {
     "data": {
      "image/png": "[encoded data removed]",
      "text/plain": [
       "<Figure size 432x288 with 1 Axes>"
      ]
     },
     "metadata": {
      "needs_background": "light"
     },
     "output_type": "display_data"
    },
    {
     "name": "stdout",
     "output_type": "stream",
     "text": [
      "[[ 1.43213227 -0.03292045]\n",
      " [-0.03292045  0.16950698]]\n",
      "Spearmans correlation: -0.040\n",
      "p value: 0.7463\n",
      "Accept null hypothesis that the means are equal.\n"
     ]
    }
   ],
   "source": [
    "# prop_choicerej // srq sociability\n",
    "\n",
    "pyplot.scatter(srq['SRQ_sociability'],rejchoice)\n",
    "pyplot.show()\n",
    "covariance = cov(srq['SRQ_sociability'],rejchoice)\n",
    "print(covariance)\n",
    "corr, _ = spearmanr(srq['SRQ_sociability'],rejchoice)\n",
    "print('Spearmans correlation: %.3f' % corr)\n",
    "r,p = scipy.stats.spearmanr(srq['SRQ_sociability'],rejchoice)\n",
    "print('p value: %.4f' % p)\n",
    "\n",
    "alpha = 0.10\n",
    "if p > alpha:\n",
    " print('Accept null hypothesis that the means are equal.')\n",
    "else:\n",
    "    print('Reject the null hypothesis that the means are equal.')"
   ]
  },
  {
   "cell_type": "code",
   "execution_count": 195,
   "metadata": {},
   "outputs": [
    {
     "data": {
      "text/plain": [
       "<matplotlib.axes._subplots.AxesSubplot at 0x7f89b017afd0>"
      ]
     },
     "execution_count": 195,
     "metadata": {},
     "output_type": "execute_result"
    },
    {
     "data": {
      "image/png": "[encoded data removed]",
      "text/plain": [
       "<Figure size 432x288 with 1 Axes>"
      ]
     },
     "metadata": {
      "needs_background": "light"
     },
     "output_type": "display_data"
    }
   ],
   "source": [
    "sns.histplot(data= rejchoice, kde=True)"
   ]
  },
  {
   "cell_type": "code",
   "execution_count": 196,
   "metadata": {},
   "outputs": [
    {
     "data": {
      "text/plain": [
       "<matplotlib.axes._subplots.AxesSubplot at 0x7f89d84a0e80>"
      ]
     },
     "execution_count": 196,
     "metadata": {},
     "output_type": "execute_result"
    },
    {
     "data": {
      "image/png": "[encoded data removed]",
      "text/plain": [
       "<Figure size 432x288 with 1 Axes>"
      ]
     },
     "metadata": {
      "needs_background": "light"
     },
     "output_type": "display_data"
    }
   ],
   "source": [
    "sns.histplot(data= accchoice, kde=True)"
   ]
  },
  {
   "cell_type": "code",
   "execution_count": 197,
   "metadata": {},
   "outputs": [
    {
     "data": {
      "text/plain": [
       "<matplotlib.axes._subplots.AxesSubplot at 0x7f89900cf220>"
      ]
     },
     "execution_count": 197,
     "metadata": {},
     "output_type": "execute_result"
    },
    {
     "data": {
      "image/png": "[encoded data removed]",
      "text/plain": [
       "<Figure size 432x288 with 1 Axes>"
      ]
     },
     "metadata": {
      "needs_background": "light"
     },
     "output_type": "display_data"
    }
   ],
   "source": [
    "sns.histplot(data= neuchoice, kde=True)"
   ]
  },
  {
   "cell_type": "code",
   "execution_count": 198,
   "metadata": {},
   "outputs": [
    {
     "data": {
      "image/png": "[encoded data removed]",
      "text/plain": [
       "<Figure size 432x288 with 1 Axes>"
      ]
     },
     "metadata": {
      "needs_background": "light"
     },
     "output_type": "display_data"
    },
    {
     "name": "stdout",
     "output_type": "stream",
     "text": [
      "[[ 0.16950698 -0.72841474]\n",
      " [-0.72841474 17.30710086]]\n",
      "Spearmans correlation: -0.413\n",
      "p value: 0.0005\n",
      "Reject the null hypothesis that the means are equal.\n"
     ]
    }
   ],
   "source": [
    "# prop_choicerej // ntbs\n",
    "pyplot.scatter(rejchoice, ntbs['NTBS_score'])\n",
    "pyplot.show()\n",
    "covariance = cov(rejchoice, ntbs['NTBS_score'])\n",
    "print(covariance)\n",
    "corr, _ = spearmanr(rejchoice, ntbs['NTBS_score'])\n",
    "print('Spearmans correlation: %.3f' % corr)\n",
    "r,p = scipy.stats.spearmanr(rejchoice, ntbs['NTBS_score'])\n",
    "print('p value: %.4f' % p)\n",
    "\n",
    "alpha = 0.10\n",
    "if p > alpha:\n",
    " print('Accept null hypothesis that the means are equal.')\n",
    "else:\n",
    "    print('Reject the null hypothesis that the means are equal.')"
   ]
  },
  {
   "cell_type": "code",
   "execution_count": 199,
   "metadata": {},
   "outputs": [
    {
     "data": {
      "image/png": "[encoded data removed]",
      "text/plain": [
       "<Figure size 432x288 with 1 Axes>"
      ]
     },
     "metadata": {
      "needs_background": "light"
     },
     "output_type": "display_data"
    },
    {
     "name": "stdout",
     "output_type": "stream",
     "text": [
      "[[ 5.25011307 -3.673564  ]\n",
      " [-3.673564   17.30710086]]\n",
      "Spearmans correlation: -0.402\n",
      "p value: 0.0007\n",
      "Reject the null hypothesis that the means are equal.\n"
     ]
    }
   ],
   "source": [
    "# rejstress // ntbs\n",
    "pyplot.scatter(rejstress, ntbs['NTBS_score'])\n",
    "pyplot.show()\n",
    "covariance = cov(rejstress, ntbs['NTBS_score'])\n",
    "print(covariance)\n",
    "corr, _ = spearmanr(rejstress, ntbs['NTBS_score'])\n",
    "print('Spearmans correlation: %.3f' % corr)\n",
    "r,p = scipy.stats.spearmanr(rejstress, ntbs['NTBS_score'])\n",
    "print('p value: %.4f' % p)\n",
    "\n",
    "alpha = 0.10\n",
    "if p > alpha:\n",
    " print('Accept null hypothesis that the means are equal.')\n",
    "else:\n",
    "    print('Reject the null hypothesis that the means are equal.')\n",
    "\n"
   ]
  },
  {
   "cell_type": "code",
   "execution_count": 200,
   "metadata": {},
   "outputs": [
    {
     "data": {
      "image/png": "[encoded data removed]",
      "text/plain": [
       "<Figure size 432x288 with 1 Axes>"
      ]
     },
     "metadata": {
      "needs_background": "light"
     },
     "output_type": "display_data"
    },
    {
     "name": "stdout",
     "output_type": "stream",
     "text": [
      "[[ 5.25011307 -3.673564  ]\n",
      " [-3.673564   17.30710086]]\n",
      "Pearsons correlation: -0.385\n",
      "p value: 0.0013\n",
      "Reject the null hypothesis that the means are equal.\n"
     ]
    }
   ],
   "source": [
    "#rejstress // ntbs\n",
    "pyplot.scatter(rejstress, ntbs['NTBS_score'])\n",
    "pyplot.show()\n",
    "covariance = cov(rejstress, ntbs['NTBS_score'])\n",
    "print(covariance)\n",
    "corr, _ = pearsonr(rejstress, ntbs['NTBS_score'])\n",
    "print('Pearsons correlation: %.3f' % corr)\n",
    "r,p = scipy.stats.pearsonr(rejstress, ntbs['NTBS_score'])\n",
    "print('p value: %.4f' % p)\n",
    "\n",
    "alpha = 0.10\n",
    "if p > alpha:\n",
    " print('Accept null hypothesis that the means are equal.')\n",
    "else:\n",
    "    print('Reject the null hypothesis that the means are equal.')"
   ]
  },
  {
   "cell_type": "code",
   "execution_count": 201,
   "metadata": {},
   "outputs": [
    {
     "data": {
      "image/png": "[encoded data removed]",
      "text/plain": [
       "<Figure size 432x288 with 1 Axes>"
      ]
     },
     "metadata": {
      "needs_background": "light"
     },
     "output_type": "display_data"
    },
    {
     "name": "stdout",
     "output_type": "stream",
     "text": [
      "[[ 0.16950698 -0.1257216 ]\n",
      " [-0.1257216  10.22795115]]\n",
      "Spearmansr correlation: -0.049\n",
      "p value: 0.6951\n",
      "Accept null hypothesis that the means are equal.\n"
     ]
    }
   ],
   "source": [
    "# prop_choicerej // rr\n",
    "pyplot.scatter(rejchoice, rr['RR_score'])\n",
    "pyplot.show()\n",
    "covariance = cov(rejchoice, rr['RR_score'])\n",
    "print(covariance)\n",
    "corr, _ = spearmanr(rejchoice, rr['RR_score'])\n",
    "print('Spearmansr correlation: %.3f' % corr)\n",
    "r,p = scipy.stats.spearmanr(rejchoice, rr['RR_score'])\n",
    "print('p value: %.4f' % p)\n",
    "\n",
    "alpha = 0.10\n",
    "if p > alpha:\n",
    " print('Accept null hypothesis that the means are equal.')\n",
    "else:\n",
    "    print('Reject the null hypothesis that the means are equal.')"
   ]
  },
  {
   "cell_type": "code",
   "execution_count": 202,
   "metadata": {},
   "outputs": [
    {
     "data": {
      "image/png": "[encoded data removed]",
      "text/plain": [
       "<Figure size 432x288 with 1 Axes>"
      ]
     },
     "metadata": {
      "needs_background": "light"
     },
     "output_type": "display_data"
    },
    {
     "name": "stdout",
     "output_type": "stream",
     "text": [
      "[[ 0.16950698 -0.050455  ]\n",
      " [-0.050455    1.54231054]]\n",
      "Spearmansr correlation: -0.063\n",
      "p value: 0.6153\n",
      "Accept null hypothesis that the means are equal.\n"
     ]
    }
   ],
   "source": [
    "# prop_choicerej // mspss\n",
    "pyplot.scatter(rejchoice, mspss['MSPSS_score'])\n",
    "pyplot.show()\n",
    "covariance = cov(rejchoice, mspss['MSPSS_score'])\n",
    "print(covariance)\n",
    "corr, _ = spearmanr(rejchoice, mspss['MSPSS_score'])\n",
    "print('Spearmansr correlation: %.3f' % corr)\n",
    "r,p = scipy.stats.spearmanr(rejchoice, mspss['MSPSS_score'])\n",
    "print('p value: %.4f' % p)\n",
    "\n",
    "alpha = 0.10\n",
    "if p > alpha:\n",
    " print('Accept null hypothesis that the means are equal.')\n",
    "else:\n",
    "    print('Reject the null hypothesis that the means are equal.')"
   ]
  },
  {
   "cell_type": "code",
   "execution_count": 263,
   "metadata": {},
   "outputs": [],
   "source": [
    "ntbschoicescatter = pd.DataFrame()\n",
    "ntbschoicescatter['ntbs_'] = ntbs['NTBS_score']\n",
    "ntbschoicescatter['rejchoice_'] = rejchoice\n"
   ]
  },
  {
   "cell_type": "code",
   "execution_count": 264,
   "metadata": {},
   "outputs": [
    {
     "name": "stdout",
     "output_type": "stream",
     "text": [
      "    ntbs_  rejchoice_\n",
      "0      34    1.000000\n",
      "1      31    0.250000\n",
      "2      38    0.090909\n",
      "3      32    0.500000\n",
      "4      30    1.000000\n",
      "..    ...         ...\n",
      "62     34    0.000000\n",
      "63     32    0.000000\n",
      "64     36    0.666667\n",
      "65     34    1.000000\n",
      "66     34    0.166667\n",
      "\n",
      "[67 rows x 2 columns]\n"
     ]
    }
   ],
   "source": [
    "print(ntbschoicescatter)"
   ]
  },
  {
   "cell_type": "code",
   "execution_count": 238,
   "metadata": {},
   "outputs": [
    {
     "data": {
      "image/png": "[encoded data removed]",
      "text/plain": [
       "<Figure size 432x288 with 1 Axes>"
      ]
     },
     "metadata": {
      "needs_background": "light"
     },
     "output_type": "display_data"
    }
   ],
   "source": [
    "r = scipy.stats.pearsonr(x=ntbschoicescatter.ntbs, y=ntbschoicescatter.rejchoice)[0]\n",
    "scatterntbschoice = sns.scatterplot(data=ntbschoicescatter, x=ntbschoicescatter.ntbs, y=ntbschoicescatter.rejchoice)\n",
    "scatterntbschoice.set_title('Need to Belong and Choice')\n",
    "scatterntbschoice= plt.text(24, .8, 'r = ' + str(round(r, 2)))\n",
    "plt.savefig('ntbschoicescatterplot.png')\n"
   ]
  },
  {
   "cell_type": "code",
   "execution_count": 272,
   "metadata": {},
   "outputs": [
    {
     "name": "stdout",
     "output_type": "stream",
     "text": [
      "    ntbs_  rejstress_\n",
      "0      34         4.5\n",
      "1      31         7.0\n",
      "2      38         4.5\n",
      "3      32         6.0\n",
      "4      30         8.0\n",
      "..    ...         ...\n",
      "62     34         9.0\n",
      "63     32         5.0\n",
      "64     36         2.0\n",
      "65     34         9.0\n",
      "66     34         6.0\n",
      "\n",
      "[67 rows x 2 columns]\n"
     ]
    }
   ],
   "source": [
    "ntbsstressscatter = pd.DataFrame()\n",
    "ntbsstressscatter['ntbs_'] = ntbs['NTBS_score']\n",
    "ntbsstressscatter['rejstress_'] = rej['recoded_stress']\n",
    "print(ntbsstressscatter)\n"
   ]
  },
  {
   "cell_type": "code",
   "execution_count": 321,
   "metadata": {},
   "outputs": [
    {
     "data": {
      "image/png": "[encoded data removed]",
      "text/plain": [
       "<Figure size 432x288 with 1 Axes>"
      ]
     },
     "metadata": {
      "needs_background": "light"
     },
     "output_type": "display_data"
    }
   ],
   "source": [
    "r = scipy.stats.pearsonr(x=ntbsstressscatter.ntbs_, y=ntbsstressscatter.rejstress_)[0]\n",
    "ntbs_stress_scatter = sns.regplot(x= \"ntbs_\", y= \"rejstress_\", data= ntbsstressscatter)\n",
    "ntbs_stress_scatter.set_title('Need to Belong and Affect')\n",
    "ntbs_stress_scatter.set_ylabel('Affect Rating')\n",
    "ntbs_stress_scatter.set_xlabel('Need to Belong Scale')\n",
    "ntbs_stress_scatter.text(24, 1.5, 'r = ' + str(round(r, 2)))\n",
    "plt.savefig('ntbs_stress_scatter.png')\n"
   ]
  },
  {
   "cell_type": "code",
   "execution_count": 298,
   "metadata": {},
   "outputs": [
    {
     "data": {
      "image/png": "[encoded data removed]",
      "text/plain": [
       "<Figure size 432x288 with 1 Axes>"
      ]
     },
     "metadata": {
      "needs_background": "light"
     },
     "output_type": "display_data"
    }
   ],
   "source": [
    "r = scipy.stats.spearmanr(a=ntbschoicescatter.ntbs_, b=ntbschoicescatter.rejchoice_)[0]\n",
    "scatterntbschoice = sns.regplot(x= \"ntbs_\", y= \"rejchoice_\", data= ntbschoicescatter)\n",
    "scatterntbschoice.set_title('Need to Belong and Choice')\n",
    "scatterntbschoice.set_ylabel('Self Choice %')\n",
    "scatterntbschoice.set_xlabel('Need to Belong Scale')\n",
    "scatterntbschoice= plt.text(24, .85, 'r = ' + str(round(r, 2)))\n",
    "plt.savefig('ntbs_choice_scatterplot.png')"
   ]
  },
  {
   "cell_type": "code",
   "execution_count": 290,
   "metadata": {},
   "outputs": [
    {
     "name": "stdout",
     "output_type": "stream",
     "text": [
      "    ntbs_  rejstress_\n",
      "0      34         4.5\n",
      "1      31         7.0\n",
      "2      38         4.5\n",
      "3      32         6.0\n",
      "4      30         8.0\n",
      "..    ...         ...\n",
      "62     34         9.0\n",
      "63     32         5.0\n",
      "64     36         2.0\n",
      "65     34         9.0\n",
      "66     34         6.0\n",
      "\n",
      "[67 rows x 2 columns]\n"
     ]
    }
   ],
   "source": [
    "ntbssaliencescatter = pd.DataFrame()\n",
    "ntbssaliencescatter['ntbs_'] = ntbs['NTBS_score']\n",
    "ntbssaliencescatter['salience_'] = rej['salience_mean']\n",
    "print(ntbsstressscatter)"
   ]
  },
  {
   "cell_type": "code",
   "execution_count": 320,
   "metadata": {},
   "outputs": [
    {
     "data": {
      "image/png": "[encoded data removed]",
      "text/plain": [
       "<Figure size 432x288 with 1 Axes>"
      ]
     },
     "metadata": {
      "needs_background": "light"
     },
     "output_type": "display_data"
    }
   ],
   "source": [
    "r = scipy.stats.pearsonr(x=ntbschoicescatter.ntbs_, y=ntbschoicescatter.rejchoice_)[0]\n",
    "scatterntbssalience = sns.regplot(x= \"ntbs_\", y= \"salience_\", data= ntbssaliencescatter)\n",
    "scatterntbssalience.set_title('Need to Belong and Likelihood to Share')\n",
    "scatterntbssalience.set_ylabel('Likelihood to Share')\n",
    "scatterntbssalience.set_xlabel('Need to Belong Scale')\n",
    "scatterntbssalience= plt.text(24, 3.5, 'r = ' + str(round(r, 2)))\n",
    "plt.savefig('ntbs_salience_scatterplot.png')"
   ]
  },
  {
   "cell_type": "code",
   "execution_count": 48,
   "metadata": {},
   "outputs": [
    {
     "ename": "NameError",
     "evalue": "name 'aq' is not defined",
     "output_type": "error",
     "traceback": [
      "\u001b[0;31m---------------------------------------------------------------------------\u001b[0m",
      "\u001b[0;31mNameError\u001b[0m                                 Traceback (most recent call last)",
      "\u001b[0;32m<ipython-input-48-bf387bbf8465>\u001b[0m in \u001b[0;36m<module>\u001b[0;34m\u001b[0m\n\u001b[1;32m      1\u001b[0m \u001b[0maqchoicescatter\u001b[0m \u001b[0;34m=\u001b[0m \u001b[0mpd\u001b[0m\u001b[0;34m.\u001b[0m\u001b[0mDataFrame\u001b[0m\u001b[0;34m(\u001b[0m\u001b[0;34m)\u001b[0m\u001b[0;34m\u001b[0m\u001b[0;34m\u001b[0m\u001b[0m\n\u001b[0;32m----> 2\u001b[0;31m \u001b[0maqchoicescatter\u001b[0m\u001b[0;34m[\u001b[0m\u001b[0;34m'AQ_'\u001b[0m\u001b[0;34m]\u001b[0m \u001b[0;34m=\u001b[0m \u001b[0maq\u001b[0m\u001b[0;34m[\u001b[0m\u001b[0;34m'AQ'\u001b[0m\u001b[0;34m]\u001b[0m\u001b[0;34m\u001b[0m\u001b[0;34m\u001b[0m\u001b[0m\n\u001b[0m\u001b[1;32m      3\u001b[0m \u001b[0maqchoicescatter\u001b[0m\u001b[0;34m[\u001b[0m\u001b[0;34m'rejchoice_'\u001b[0m\u001b[0;34m]\u001b[0m \u001b[0;34m=\u001b[0m \u001b[0mrejchoice\u001b[0m\u001b[0;34m\u001b[0m\u001b[0;34m\u001b[0m\u001b[0m\n\u001b[1;32m      4\u001b[0m \u001b[0mprint\u001b[0m\u001b[0;34m(\u001b[0m\u001b[0maqchoicescatter\u001b[0m\u001b[0;34m)\u001b[0m\u001b[0;34m\u001b[0m\u001b[0;34m\u001b[0m\u001b[0m\n",
      "\u001b[0;31mNameError\u001b[0m: name 'aq' is not defined"
     ]
    }
   ],
   "source": [
    "aqchoicescatter = pd.DataFrame()\n",
    "aqchoicescatter['AQ_'] = aq['AQ']\n",
    "aqchoicescatter['rejchoice_'] = rejchoice\n",
    "print(aqchoicescatter)"
   ]
  },
  {
   "cell_type": "code",
   "execution_count": 47,
   "metadata": {},
   "outputs": [
    {
     "ename": "NameError",
     "evalue": "name 'aqchoicescatter' is not defined",
     "output_type": "error",
     "traceback": [
      "\u001b[0;31m---------------------------------------------------------------------------\u001b[0m",
      "\u001b[0;31mNameError\u001b[0m                                 Traceback (most recent call last)",
      "\u001b[0;32m<ipython-input-47-77f3c53fa594>\u001b[0m in \u001b[0;36m<module>\u001b[0;34m\u001b[0m\n\u001b[0;32m----> 1\u001b[0;31m \u001b[0mr\u001b[0m \u001b[0;34m=\u001b[0m \u001b[0mscipy\u001b[0m\u001b[0;34m.\u001b[0m\u001b[0mstats\u001b[0m\u001b[0;34m.\u001b[0m\u001b[0mspearmanr\u001b[0m\u001b[0;34m(\u001b[0m\u001b[0ma\u001b[0m\u001b[0;34m=\u001b[0m\u001b[0maqchoicescatter\u001b[0m\u001b[0;34m.\u001b[0m\u001b[0mAQ_\u001b[0m\u001b[0;34m,\u001b[0m \u001b[0mb\u001b[0m\u001b[0;34m=\u001b[0m\u001b[0maqchoicescatter\u001b[0m\u001b[0;34m.\u001b[0m\u001b[0mrejchoice_\u001b[0m\u001b[0;34m)\u001b[0m\u001b[0;34m[\u001b[0m\u001b[0;36m0\u001b[0m\u001b[0;34m]\u001b[0m\u001b[0;34m\u001b[0m\u001b[0;34m\u001b[0m\u001b[0m\n\u001b[0m\u001b[1;32m      2\u001b[0m \u001b[0mscatter_aq_choice\u001b[0m \u001b[0;34m=\u001b[0m \u001b[0msns\u001b[0m\u001b[0;34m.\u001b[0m\u001b[0mregplot\u001b[0m\u001b[0;34m(\u001b[0m\u001b[0mx\u001b[0m\u001b[0;34m=\u001b[0m \u001b[0;34m\"AQ_\"\u001b[0m\u001b[0;34m,\u001b[0m \u001b[0my\u001b[0m\u001b[0;34m=\u001b[0m \u001b[0;34m\"rejchoice_\"\u001b[0m\u001b[0;34m,\u001b[0m \u001b[0mdata\u001b[0m\u001b[0;34m=\u001b[0m \u001b[0maqchoicescatter\u001b[0m\u001b[0;34m)\u001b[0m\u001b[0;34m\u001b[0m\u001b[0;34m\u001b[0m\u001b[0m\n\u001b[1;32m      3\u001b[0m \u001b[0mscatter_aq_choice\u001b[0m\u001b[0;34m.\u001b[0m\u001b[0mset_title\u001b[0m\u001b[0;34m(\u001b[0m\u001b[0;34m'Autism Quotient and Choice'\u001b[0m\u001b[0;34m)\u001b[0m\u001b[0;34m\u001b[0m\u001b[0;34m\u001b[0m\u001b[0m\n\u001b[1;32m      4\u001b[0m \u001b[0mscatter_aq_choice\u001b[0m\u001b[0;34m.\u001b[0m\u001b[0mset_ylabel\u001b[0m\u001b[0;34m(\u001b[0m\u001b[0;34m'Self Choice %'\u001b[0m\u001b[0;34m)\u001b[0m\u001b[0;34m\u001b[0m\u001b[0;34m\u001b[0m\u001b[0m\n\u001b[1;32m      5\u001b[0m \u001b[0mscatter_aq_choice\u001b[0m\u001b[0;34m.\u001b[0m\u001b[0mset_xlabel\u001b[0m\u001b[0;34m(\u001b[0m\u001b[0;34m'Autism Quotient'\u001b[0m\u001b[0;34m)\u001b[0m\u001b[0;34m\u001b[0m\u001b[0;34m\u001b[0m\u001b[0m\n",
      "\u001b[0;31mNameError\u001b[0m: name 'aqchoicescatter' is not defined"
     ]
    }
   ],
   "source": [
    "r = scipy.stats.spearmanr(a=aqchoicescatter.AQ_, b=aqchoicescatter.rejchoice_)[0]\n",
    "scatter_aq_choice = sns.regplot(x= \"AQ_\", y= \"rejchoice_\", data= aqchoicescatter)\n",
    "scatter_aq_choice.set_title('Autism Quotient and Choice')\n",
    "scatter_aq_choice.set_ylabel('Self Choice %')\n",
    "scatter_aq_choice.set_xlabel('Autism Quotient')\n",
    "scatter_aq_choice= plt.text(9.5, .82, 'r = ' + str(round(r, 2)))\n",
    "plt.savefig('aq_choice_scatterplot.png',bbox_inches='tight')"
   ]
  },
  {
   "cell_type": "code",
   "execution_count": 310,
   "metadata": {},
   "outputs": [
    {
     "name": "stdout",
     "output_type": "stream",
     "text": [
      "    SRQ_admiration_  rejchoice_\n",
      "0              2.50    1.000000\n",
      "1              5.25    0.250000\n",
      "2              4.00    0.090909\n",
      "3              6.25    0.500000\n",
      "4              6.00    1.000000\n",
      "..              ...         ...\n",
      "62             6.25    0.000000\n",
      "63             6.00    0.000000\n",
      "64             5.00    0.666667\n",
      "65             7.00    1.000000\n",
      "66             6.25    0.166667\n",
      "\n",
      "[67 rows x 2 columns]\n"
     ]
    }
   ],
   "source": [
    "srqadmirationchoicescatter = pd.DataFrame()\n",
    "srqadmirationchoicescatter['SRQ_admiration_'] = srq['SRQ_admiration']\n",
    "srqadmirationchoicescatter['rejchoice_'] = rejchoice\n",
    "print(srqadmirationchoicescatter)"
   ]
  },
  {
   "cell_type": "code",
   "execution_count": 322,
   "metadata": {},
   "outputs": [
    {
     "data": {
      "image/png": "[encoded data removed]",
      "text/plain": [
       "<Figure size 432x288 with 1 Axes>"
      ]
     },
     "metadata": {
      "needs_background": "light"
     },
     "output_type": "display_data"
    }
   ],
   "source": [
    "r = scipy.stats.spearmanr(a=srqadmirationchoicescatter.SRQ_admiration_, b=srqadmirationchoicescatter.rejchoice_)[0]\n",
    "scatter_srqadmiration_choice = sns.regplot(x= \"SRQ_admiration_\", y= \"rejchoice_\", data= srqadmirationchoicescatter, scatter_kws={\"color\": \"green\"}, line_kws={\"color\": \"green\"})\n",
    "scatter_srqadmiration_choice.set_title('Social Reward and Choice')\n",
    "scatter_srqadmiration_choice.set_ylabel('Self Choice %')\n",
    "scatter_srqadmiration_choice.set_xlabel('SRQ Admiration Subscale')\n",
    "scatter_srqadmiration_choice= plt.text(2, .82, 'r = ' + str(round(r, 2)))\n",
    "plt.savefig('srqadmiration_choice_scatterplot.png')"
   ]
  },
  {
   "cell_type": "code",
   "execution_count": 323,
   "metadata": {},
   "outputs": [
    {
     "name": "stdout",
     "output_type": "stream",
     "text": [
      "rejstress_mean\n",
      "5.149253731343284\n",
      "rejstress_std\n",
      "2.29131252146201\n"
     ]
    }
   ],
   "source": [
    "#affect ratings in rejection condition\n",
    "rejstress_mean = rej['recoded_stress'].mean()\n",
    "rejstress_std = rej['recoded_stress'].std()\n",
    "print('rejstress_mean')\n",
    "print(rejstress_mean)\n",
    "print('rejstress_std')\n",
    "print(rejstress_std)"
   ]
  },
  {
   "cell_type": "code",
   "execution_count": 324,
   "metadata": {},
   "outputs": [
    {
     "name": "stdout",
     "output_type": "stream",
     "text": [
      "neustress_mean\n",
      "5.537313432835821\n",
      "neustress_std\n",
      "2.141426586300309\n"
     ]
    }
   ],
   "source": [
    "#affect ratings in neutral condition\n",
    "neustress_mean = neu['recoded_stress'].mean()\n",
    "neustress_std = neu['recoded_stress'].std()\n",
    "print('neustress_mean')\n",
    "print(neustress_mean)\n",
    "print('neustress_std')\n",
    "print(neustress_std)"
   ]
  },
  {
   "cell_type": "code",
   "execution_count": 325,
   "metadata": {},
   "outputs": [
    {
     "name": "stdout",
     "output_type": "stream",
     "text": [
      "accstress_mean\n",
      "5.888059701492537\n",
      "accstress_std\n",
      "1.8946113688052153\n"
     ]
    }
   ],
   "source": [
    "#affect ratings in acceptance condition\n",
    "accstress_mean = acc['recoded_stress'].mean()\n",
    "accstress_std = acc['recoded_stress'].std()\n",
    "print('accstress_mean')\n",
    "print(accstress_mean)\n",
    "print('accstress_std')\n",
    "print(accstress_std)"
   ]
  },
  {
   "cell_type": "code",
   "execution_count": 46,
   "metadata": {},
   "outputs": [
    {
     "data": {
      "image/png": "[encoded data removed]",
      "text/plain": [
       "<Figure size 720x432 with 1 Axes>"
      ]
     },
     "metadata": {},
     "output_type": "display_data"
    }
   ],
   "source": [
    "#sns.set(font_scale=2)\n",
    "plt.figure(figsize=(10,6))\n",
    "choiceplot = sns.barplot(x='Social Condition', y='Choice', palette='rocket',data= plottingdata,errorbar=('ci', 68))\n",
    "choiceplot.set_ylabel('Self Choice %')\n",
    "#sns.set_style('white')\n",
    "choiceplot.set_ylim(0,1)\n",
    "choiceplot.figure.savefig('ANOVA_choiceplot.png',bbox_inches='tight')"
   ]
  },
  {
   "cell_type": "code",
   "execution_count": 45,
   "metadata": {},
   "outputs": [
    {
     "data": {
      "image/png": "[encoded data removed]",
      "text/plain": [
       "<Figure size 720x432 with 1 Axes>"
      ]
     },
     "metadata": {},
     "output_type": "display_data"
    }
   ],
   "source": [
    "#sns.set(font_scale=2)\n",
    "plt.figure(figsize=(10,6))\n",
    "choiceplot = sns.barplot(x='Social Condition', y='recoded_stress', data= plottingdata,palette= 'rocket',errorbar=('ci', 68))\n",
    "choiceplot.set_ylabel('Affect Rating')\n",
    "choiceplot.set_xlabel('Social Condition')\n",
    "choiceplot.set_ylim(0, 7)\n",
    "choiceplot.figure.savefig('ANOVA_affectplot.png',bbox_inches='tight')"
   ]
  },
  {
   "cell_type": "code",
   "execution_count": 57,
   "metadata": {},
   "outputs": [
    {
     "data": {
      "text/plain": [
       "(1.0, 7.0)"
      ]
     },
     "execution_count": 57,
     "metadata": {},
     "output_type": "execute_result"
    },
    {
     "data": {
      "image/png": "[encoded data removed]",
      "text/plain": [
       "<Figure size 720x432 with 1 Axes>"
      ]
     },
     "metadata": {},
     "output_type": "display_data"
    }
   ],
   "source": [
    "sns.set(font_scale=2)\n",
    "plt.figure(figsize=(10,6))\n",
    "choiceplot = sns.barplot(x='Social Condition', y='salience_mean', data= plottingdata,palette= 'rocket',errorbar=('ci', 68))\n",
    "choiceplot.set_ylabel('Likelihood to Share')\n",
    "choiceplot.set_xlabel('Social Condition')\n",
    "choiceplot.set_ylim(1, 7)\n",
    "#choiceplot.figure.savefig('ANOVA_sharingplot.png',bbox_inches='tight')"
   ]
  }
 ],
 "metadata": {
  "kernelspec": {
   "display_name": "Python 3",
   "language": "python",
   "name": "python3"
  },
  "language_info": {
   "codemirror_mode": {
    "name": "ipython",
    "version": 3
   },
   "file_extension": ".py",
   "mimetype": "text/x-python",
   "name": "python",
   "nbconvert_exporter": "python",
   "pygments_lexer": "ipython3",
   "version": "3.8.5"
  }
 },
 "nbformat": 4,
 "nbformat_minor": 5
}
