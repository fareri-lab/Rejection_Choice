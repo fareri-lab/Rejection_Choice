{
 "cells": [
  {
   "cell_type": "code",
   "execution_count": 5,
   "id": "9fbc95a4",
   "metadata": {},
   "outputs": [
    {
     "name": "stdout",
     "output_type": "stream",
     "text": [
      "/Users/jordansiegel/opt/anaconda3/bin/python: can't open file 'install': [Errno 2] No such file or directory\r\n"
     ]
    }
   ],
   "source": [
    "!{sys.executable} install pip"
   ]
  },
  {
   "cell_type": "code",
   "execution_count": 6,
   "id": "43d70d09",
   "metadata": {},
   "outputs": [
    {
     "name": "stdout",
     "output_type": "stream",
     "text": [
      "/Users/jordansiegel/opt/anaconda3/bin/python: can't open file 'pip': [Errno 2] No such file or directory\r\n"
     ]
    }
   ],
   "source": [
    "import sys\n",
    "!{sys.executable} pip install pingouin"
   ]
  },
  {
   "cell_type": "code",
   "execution_count": 9,
   "id": "c4f79634",
   "metadata": {},
   "outputs": [
    {
     "name": "stdout",
     "output_type": "stream",
     "text": [
      "Collecting pingouin\n",
      "  Using cached pingouin-0.5.3-py3-none-any.whl (198 kB)\n",
      "Requirement already satisfied: pandas>=1.0 in /Users/jordansiegel/opt/anaconda3/lib/python3.8/site-packages (from pingouin) (1.0.3)\n",
      "Collecting pandas-flavor>=0.2.0\n",
      "  Using cached pandas_flavor-0.5.0-py3-none-any.whl (7.1 kB)\n",
      "Collecting scipy>=1.7\n",
      "  Downloading scipy-1.10.1-cp38-cp38-macosx_10_9_x86_64.whl (35.0 MB)\n",
      "\u001b[K     |████████████████████████████████| 35.0 MB 4.3 MB/s eta 0:00:01\n",
      "\u001b[?25hCollecting numpy>=1.19\n",
      "  Downloading numpy-1.24.2-cp38-cp38-macosx_10_9_x86_64.whl (19.8 MB)\n",
      "\u001b[K     |████████████████████████████████| 19.8 MB 14.3 MB/s eta 0:00:01\n",
      "\u001b[?25hCollecting tabulate\n",
      "  Downloading tabulate-0.9.0-py3-none-any.whl (35 kB)\n",
      "Requirement already satisfied: seaborn>=0.11 in /Users/jordansiegel/opt/anaconda3/lib/python3.8/site-packages (from pingouin) (0.11.1)\n",
      "Requirement already satisfied: matplotlib>=3.0.2 in /Users/jordansiegel/opt/anaconda3/lib/python3.8/site-packages (from pingouin) (3.1.3)\n",
      "Requirement already satisfied: scikit-learn in /Users/jordansiegel/opt/anaconda3/lib/python3.8/site-packages (from pingouin) (0.24.2)\n",
      "Collecting outdated\n",
      "  Using cached outdated-0.2.2-py2.py3-none-any.whl (7.5 kB)\n",
      "Collecting statsmodels>=0.13\n",
      "  Downloading statsmodels-0.13.5-cp38-cp38-macosx_10_9_x86_64.whl (9.6 MB)\n",
      "\u001b[K     |████████████████████████████████| 9.6 MB 23.0 MB/s eta 0:00:01\n",
      "\u001b[?25hRequirement already satisfied: python-dateutil>=2.1 in /Users/jordansiegel/opt/anaconda3/lib/python3.8/site-packages (from matplotlib>=3.0.2->pingouin) (2.8.1)\n",
      "Requirement already satisfied: kiwisolver>=1.0.1 in /Users/jordansiegel/opt/anaconda3/lib/python3.8/site-packages (from matplotlib>=3.0.2->pingouin) (1.3.1)\n",
      "Requirement already satisfied: pyparsing!=2.0.4,!=2.1.2,!=2.1.6,>=2.0.1 in /Users/jordansiegel/opt/anaconda3/lib/python3.8/site-packages (from matplotlib>=3.0.2->pingouin) (2.4.7)\n",
      "Requirement already satisfied: cycler>=0.10 in /Users/jordansiegel/opt/anaconda3/lib/python3.8/site-packages (from matplotlib>=3.0.2->pingouin) (0.10.0)\n",
      "Requirement already satisfied: six in /Users/jordansiegel/opt/anaconda3/lib/python3.8/site-packages (from cycler>=0.10->matplotlib>=3.0.2->pingouin) (1.16.0)\n",
      "Requirement already satisfied: pytz>=2017.2 in /Users/jordansiegel/opt/anaconda3/lib/python3.8/site-packages (from pandas>=1.0->pingouin) (2021.1)\n",
      "Collecting lazy-loader>=0.1\n",
      "  Using cached lazy_loader-0.2-py3-none-any.whl (8.6 kB)\n",
      "Requirement already satisfied: xarray in /Users/jordansiegel/opt/anaconda3/lib/python3.8/site-packages (from pandas-flavor>=0.2.0->pingouin) (0.15.1)\n",
      "Collecting packaging>=21.3\n",
      "  Downloading packaging-23.0-py3-none-any.whl (42 kB)\n",
      "\u001b[K     |████████████████████████████████| 42 kB 6.4 MB/s  eta 0:00:01\n",
      "\u001b[?25hCollecting patsy>=0.5.2\n",
      "  Downloading patsy-0.5.3-py2.py3-none-any.whl (233 kB)\n",
      "\u001b[K     |████████████████████████████████| 233 kB 35.4 MB/s eta 0:00:01\n",
      "\u001b[?25hCollecting littleutils\n",
      "  Using cached littleutils-0.2.2.tar.gz (6.6 kB)\n",
      "Requirement already satisfied: requests in /Users/jordansiegel/opt/anaconda3/lib/python3.8/site-packages (from outdated->pingouin) (2.25.1)\n",
      "Requirement already satisfied: setuptools>=44 in /Users/jordansiegel/opt/anaconda3/lib/python3.8/site-packages (from outdated->pingouin) (52.0.0.post20210125)\n",
      "Requirement already satisfied: urllib3<1.27,>=1.21.1 in /Users/jordansiegel/opt/anaconda3/lib/python3.8/site-packages (from requests->outdated->pingouin) (1.26.4)\n",
      "Requirement already satisfied: idna<3,>=2.5 in /Users/jordansiegel/opt/anaconda3/lib/python3.8/site-packages (from requests->outdated->pingouin) (2.10)\n",
      "Requirement already satisfied: certifi>=2017.4.17 in /Users/jordansiegel/opt/anaconda3/lib/python3.8/site-packages (from requests->outdated->pingouin) (2021.5.30)\n",
      "Requirement already satisfied: chardet<5,>=3.0.2 in /Users/jordansiegel/opt/anaconda3/lib/python3.8/site-packages (from requests->outdated->pingouin) (4.0.0)\n",
      "Requirement already satisfied: threadpoolctl>=2.0.0 in /Users/jordansiegel/opt/anaconda3/lib/python3.8/site-packages (from scikit-learn->pingouin) (2.1.0)\n",
      "Requirement already satisfied: joblib>=0.11 in /Users/jordansiegel/opt/anaconda3/lib/python3.8/site-packages (from scikit-learn->pingouin) (1.0.1)\n",
      "Building wheels for collected packages: littleutils\n",
      "  Building wheel for littleutils (setup.py) ... \u001b[?25ldone\n",
      "\u001b[?25h  Created wheel for littleutils: filename=littleutils-0.2.2-py3-none-any.whl size=7048 sha256=76a5bfe9d3addd19596e472f443bf72e75fcf4c6f5a55190e13cc3e871d75a8d\n",
      "  Stored in directory: /Users/jordansiegel/Library/Caches/pip/wheels/6a/33/c4/0ef84d7f5568c2823e3d63a6e08988852fb9e4bc822034870a\n",
      "Successfully built littleutils\n",
      "Installing collected packages: numpy, scipy, patsy, packaging, littleutils, lazy-loader, tabulate, statsmodels, pandas-flavor, outdated, pingouin\n",
      "  Attempting uninstall: numpy\n",
      "    Found existing installation: numpy 1.18.1\n",
      "    Uninstalling numpy-1.18.1:\n",
      "      Successfully uninstalled numpy-1.18.1\n",
      "  Attempting uninstall: scipy\n",
      "    Found existing installation: scipy 1.6.2\n",
      "    Uninstalling scipy-1.6.2:\n",
      "      Successfully uninstalled scipy-1.6.2\n",
      "  Attempting uninstall: patsy\n",
      "    Found existing installation: patsy 0.5.1\n",
      "    Uninstalling patsy-0.5.1:\n",
      "      Successfully uninstalled patsy-0.5.1\n",
      "  Attempting uninstall: packaging\n",
      "    Found existing installation: packaging 20.9\n",
      "    Uninstalling packaging-20.9:\n",
      "      Successfully uninstalled packaging-20.9\n",
      "  Attempting uninstall: statsmodels\n",
      "    Found existing installation: statsmodels 0.11.1\n",
      "    Uninstalling statsmodels-0.11.1:\n",
      "      Successfully uninstalled statsmodels-0.11.1\n",
      "\u001b[31mERROR: pip's dependency resolver does not currently take into account all the packages that are installed. This behaviour is the source of the following dependency conflicts.\n",
      "holoviz 0.11.6 requires numpy==1.18.1, but you have numpy 1.24.2 which is incompatible.\n",
      "fastparquet 0.5.0 requires pandas>=1.1.0, but you have pandas 1.0.3 which is incompatible.\u001b[0m\n",
      "Successfully installed lazy-loader-0.2 littleutils-0.2.2 numpy-1.24.2 outdated-0.2.2 packaging-23.0 pandas-flavor-0.5.0 patsy-0.5.3 pingouin-0.5.3 scipy-1.10.1 statsmodels-0.13.5 tabulate-0.9.0\n",
      "Note: you may need to restart the kernel to use updated packages.\n"
     ]
    }
   ],
   "source": [
    "%pip install pingouin"
   ]
  },
  {
   "cell_type": "code",
   "execution_count": 1,
   "id": "57e1e4a0",
   "metadata": {},
   "outputs": [
    {
     "name": "stderr",
     "output_type": "stream",
     "text": [
      "/Users/jordansiegel/opt/anaconda3/lib/python3.8/site-packages/pandas/_testing.py:24: FutureWarning: In the future `np.bool` will be defined as the corresponding NumPy scalar.\n",
      "  import pandas._libs.testing as _testing\n"
     ]
    },
    {
     "ename": "AttributeError",
     "evalue": "module 'numpy' has no attribute 'bool'.\n`np.bool` was a deprecated alias for the builtin `bool`. To avoid this error in existing code, use `bool` by itself. Doing this will not modify any behavior and is safe. If you specifically wanted the numpy scalar type, use `np.bool_` here.\nThe aliases was originally deprecated in NumPy 1.20; for more details and guidance see the original release note at:\n    https://numpy.org/devdocs/release/1.20.0-notes.html#deprecations",
     "output_type": "error",
     "traceback": [
      "\u001b[0;31m---------------------------------------------------------------------------\u001b[0m",
      "\u001b[0;31mAttributeError\u001b[0m                            Traceback (most recent call last)",
      "\u001b[0;32m<ipython-input-1-19b878d5327b>\u001b[0m in \u001b[0;36m<module>\u001b[0;34m\u001b[0m\n\u001b[0;32m----> 1\u001b[0;31m \u001b[0;32mimport\u001b[0m \u001b[0mpandas\u001b[0m \u001b[0;32mas\u001b[0m \u001b[0mpd\u001b[0m\u001b[0;34m\u001b[0m\u001b[0;34m\u001b[0m\u001b[0m\n\u001b[0m\u001b[1;32m      2\u001b[0m \u001b[0;32mimport\u001b[0m \u001b[0mnumpy\u001b[0m \u001b[0;32mas\u001b[0m \u001b[0mnp\u001b[0m\u001b[0;34m\u001b[0m\u001b[0;34m\u001b[0m\u001b[0m\n\u001b[1;32m      3\u001b[0m \u001b[0;32mimport\u001b[0m \u001b[0mos\u001b[0m\u001b[0;34m\u001b[0m\u001b[0;34m\u001b[0m\u001b[0m\n\u001b[1;32m      4\u001b[0m \u001b[0;32mimport\u001b[0m \u001b[0mstatistics\u001b[0m\u001b[0;34m\u001b[0m\u001b[0;34m\u001b[0m\u001b[0m\n\u001b[1;32m      5\u001b[0m \u001b[0;32mimport\u001b[0m \u001b[0mnumpy\u001b[0m \u001b[0;32mas\u001b[0m \u001b[0mnp\u001b[0m\u001b[0;34m\u001b[0m\u001b[0;34m\u001b[0m\u001b[0m\n",
      "\u001b[0;32m~/opt/anaconda3/lib/python3.8/site-packages/pandas/__init__.py\u001b[0m in \u001b[0;36m<module>\u001b[0;34m\u001b[0m\n\u001b[1;32m    178\u001b[0m \u001b[0;34m\u001b[0m\u001b[0m\n\u001b[1;32m    179\u001b[0m \u001b[0;32mfrom\u001b[0m \u001b[0mpandas\u001b[0m\u001b[0;34m.\u001b[0m\u001b[0mutil\u001b[0m\u001b[0;34m.\u001b[0m\u001b[0m_tester\u001b[0m \u001b[0;32mimport\u001b[0m \u001b[0mtest\u001b[0m\u001b[0;34m\u001b[0m\u001b[0;34m\u001b[0m\u001b[0m\n\u001b[0;32m--> 180\u001b[0;31m \u001b[0;32mimport\u001b[0m \u001b[0mpandas\u001b[0m\u001b[0;34m.\u001b[0m\u001b[0mtesting\u001b[0m\u001b[0;34m\u001b[0m\u001b[0;34m\u001b[0m\u001b[0m\n\u001b[0m\u001b[1;32m    181\u001b[0m \u001b[0;32mimport\u001b[0m \u001b[0mpandas\u001b[0m\u001b[0;34m.\u001b[0m\u001b[0marrays\u001b[0m\u001b[0;34m\u001b[0m\u001b[0;34m\u001b[0m\u001b[0m\n\u001b[1;32m    182\u001b[0m \u001b[0;34m\u001b[0m\u001b[0m\n",
      "\u001b[0;32m~/opt/anaconda3/lib/python3.8/site-packages/pandas/testing.py\u001b[0m in \u001b[0;36m<module>\u001b[0;34m\u001b[0m\n\u001b[1;32m      3\u001b[0m \"\"\"\n\u001b[1;32m      4\u001b[0m \u001b[0;34m\u001b[0m\u001b[0m\n\u001b[0;32m----> 5\u001b[0;31m from pandas._testing import (\n\u001b[0m\u001b[1;32m      6\u001b[0m     \u001b[0massert_extension_array_equal\u001b[0m\u001b[0;34m,\u001b[0m\u001b[0;34m\u001b[0m\u001b[0;34m\u001b[0m\u001b[0m\n\u001b[1;32m      7\u001b[0m     \u001b[0massert_frame_equal\u001b[0m\u001b[0;34m,\u001b[0m\u001b[0;34m\u001b[0m\u001b[0;34m\u001b[0m\u001b[0m\n",
      "\u001b[0;32m~/opt/anaconda3/lib/python3.8/site-packages/pandas/_testing.py\u001b[0m in \u001b[0;36m<module>\u001b[0;34m\u001b[0m\n\u001b[1;32m     22\u001b[0m )\n\u001b[1;32m     23\u001b[0m \u001b[0;34m\u001b[0m\u001b[0m\n\u001b[0;32m---> 24\u001b[0;31m \u001b[0;32mimport\u001b[0m \u001b[0mpandas\u001b[0m\u001b[0;34m.\u001b[0m\u001b[0m_libs\u001b[0m\u001b[0;34m.\u001b[0m\u001b[0mtesting\u001b[0m \u001b[0;32mas\u001b[0m \u001b[0m_testing\u001b[0m\u001b[0;34m\u001b[0m\u001b[0;34m\u001b[0m\u001b[0m\n\u001b[0m\u001b[1;32m     25\u001b[0m \u001b[0;32mfrom\u001b[0m \u001b[0mpandas\u001b[0m\u001b[0;34m.\u001b[0m\u001b[0m_typing\u001b[0m \u001b[0;32mimport\u001b[0m \u001b[0mFilePathOrBuffer\u001b[0m\u001b[0;34m,\u001b[0m \u001b[0mFrameOrSeries\u001b[0m\u001b[0;34m\u001b[0m\u001b[0;34m\u001b[0m\u001b[0m\n\u001b[1;32m     26\u001b[0m \u001b[0;32mfrom\u001b[0m \u001b[0mpandas\u001b[0m\u001b[0;34m.\u001b[0m\u001b[0mcompat\u001b[0m \u001b[0;32mimport\u001b[0m \u001b[0m_get_lzma_file\u001b[0m\u001b[0;34m,\u001b[0m \u001b[0m_import_lzma\u001b[0m\u001b[0;34m\u001b[0m\u001b[0;34m\u001b[0m\u001b[0m\n",
      "\u001b[0;32mpandas/_libs/testing.pyx\u001b[0m in \u001b[0;36minit pandas._libs.testing\u001b[0;34m()\u001b[0m\n",
      "\u001b[0;32m~/opt/anaconda3/lib/python3.8/site-packages/numpy/__init__.py\u001b[0m in \u001b[0;36m__getattr__\u001b[0;34m(attr)\u001b[0m\n\u001b[1;32m    303\u001b[0m \u001b[0;34m\u001b[0m\u001b[0m\n\u001b[1;32m    304\u001b[0m         \u001b[0;32mif\u001b[0m \u001b[0mattr\u001b[0m \u001b[0;32min\u001b[0m \u001b[0m__former_attrs__\u001b[0m\u001b[0;34m:\u001b[0m\u001b[0;34m\u001b[0m\u001b[0;34m\u001b[0m\u001b[0m\n\u001b[0;32m--> 305\u001b[0;31m             \u001b[0;32mraise\u001b[0m \u001b[0mAttributeError\u001b[0m\u001b[0;34m(\u001b[0m\u001b[0m__former_attrs__\u001b[0m\u001b[0;34m[\u001b[0m\u001b[0mattr\u001b[0m\u001b[0;34m]\u001b[0m\u001b[0;34m)\u001b[0m\u001b[0;34m\u001b[0m\u001b[0;34m\u001b[0m\u001b[0m\n\u001b[0m\u001b[1;32m    306\u001b[0m \u001b[0;34m\u001b[0m\u001b[0m\n\u001b[1;32m    307\u001b[0m         \u001b[0;31m# Importing Tester requires importing all of UnitTest which is not a\u001b[0m\u001b[0;34m\u001b[0m\u001b[0;34m\u001b[0m\u001b[0;34m\u001b[0m\u001b[0m\n",
      "\u001b[0;31mAttributeError\u001b[0m: module 'numpy' has no attribute 'bool'.\n`np.bool` was a deprecated alias for the builtin `bool`. To avoid this error in existing code, use `bool` by itself. Doing this will not modify any behavior and is safe. If you specifically wanted the numpy scalar type, use `np.bool_` here.\nThe aliases was originally deprecated in NumPy 1.20; for more details and guidance see the original release note at:\n    https://numpy.org/devdocs/release/1.20.0-notes.html#deprecations"
     ]
    }
   ],
   "source": [
    "import pandas as pd\n",
    "import numpy as np\n",
    "import os \n",
    "import statistics \n",
    "import numpy as np\n",
    "import pandas as pd\n",
    "from pathlib import Path\n",
    "from scipy.stats import ttest_rel\n",
    "import matplotlib.pyplot as plt\n",
    "import math\n",
    "from statsmodels.stats.anova import AnovaRM\n",
    "from numpy import mean, std, cov\n",
    "from numpy.random import seed, randn\n",
    "import random as rd\n",
    "from sklearn import preprocessing\n",
    "from sklearn import datasets\n",
    "from sklearn.preprocessing import StandardScaler\n",
    "from sklearn.decomposition import PCA\n",
    "import matplotlib.pyplot as plt\n",
    "from matplotlib import pyplot\n",
    "from __future__ import division\n",
    "import sys\n",
    "import scipy\n",
    "from math import sqrt\n",
    "import scipy.stats as stats\n",
    "from scipy import stats \n",
    "from scipy.stats import t, pearsonr, sem\n",
    "import seaborn as sns\n",
    "from statistics import mean, stdev\n",
    "import statsmodels.api as sm\n",
    "import statsmodels.formula.api as smf\n",
    "import math\n",
    "import pingouin as pg\n"
   ]
  },
  {
   "cell_type": "code",
   "execution_count": 3,
   "id": "1aa2716c",
   "metadata": {},
   "outputs": [
    {
     "name": "stdout",
     "output_type": "stream",
     "text": [
      "\u001b[31mERROR: Could not find a version that satisfies the requirement mxnet-mkl==1.6.0 (from versions: none)\u001b[0m\n",
      "\u001b[31mERROR: No matching distribution found for mxnet-mkl==1.6.0\u001b[0m\n",
      "Note: you may need to restart the kernel to use updated packages.\n"
     ]
    }
   ],
   "source": [
    "%pip install mxnet-mkl==1.6.0 numpy==1.23.1"
   ]
  },
  {
   "cell_type": "code",
   "execution_count": null,
   "id": "5f798480",
   "metadata": {},
   "outputs": [],
   "source": [
    "current_dir = os.getcwd()\n",
    "updatedchoicedata = pd.read_csv('shortformdata.csv')\n",
    "updatedchoicedata=updatedchoicedata.sort_values(['condition']).reset_index(drop=True)\n"
   ]
  },
  {
   "cell_type": "code",
   "execution_count": null,
   "id": "ea440777",
   "metadata": {},
   "outputs": [],
   "source": [
    "print(updatedchoicedata)"
   ]
  },
  {
   "cell_type": "code",
   "execution_count": 39,
   "id": "be1862f1",
   "metadata": {
    "scrolled": false
   },
   "outputs": [
    {
     "ename": "ValueError",
     "evalue": "The data set contains more than one observation per subject and cell. Either aggregate the data manually, or pass the `aggregate_func` parameter.",
     "output_type": "error",
     "traceback": [
      "\u001b[0;31m---------------------------------------------------------------------------\u001b[0m",
      "\u001b[0;31mValueError\u001b[0m                                Traceback (most recent call last)",
      "\u001b[0;32m<ipython-input-39-9d1ea6cc1b77>\u001b[0m in \u001b[0;36m<module>\u001b[0;34m\u001b[0m\n\u001b[0;32m----> 1\u001b[0;31m anova = AnovaRM(updatedchoicedata, depvar='choice',\n\u001b[0m\u001b[1;32m      2\u001b[0m               subject='PROLIFIC_ID', within=['condition']).fit()\n\u001b[1;32m      3\u001b[0m \u001b[0mprint\u001b[0m\u001b[0;34m(\u001b[0m\u001b[0manova\u001b[0m\u001b[0;34m)\u001b[0m\u001b[0;34m\u001b[0m\u001b[0;34m\u001b[0m\u001b[0m\n",
      "\u001b[0;32m~/opt/anaconda3/lib/python3.8/site-packages/statsmodels/stats/anova.py\u001b[0m in \u001b[0;36m__init__\u001b[0;34m(self, data, depvar, subject, within, between, aggregate_func)\u001b[0m\n\u001b[1;32m    501\u001b[0m                        \u001b[0;34m'subject and cell. Either aggregate the data manually, '\u001b[0m\u001b[0;34m\u001b[0m\u001b[0;34m\u001b[0m\u001b[0m\n\u001b[1;32m    502\u001b[0m                        'or pass the `aggregate_func` parameter.')\n\u001b[0;32m--> 503\u001b[0;31m                 \u001b[0;32mraise\u001b[0m \u001b[0mValueError\u001b[0m\u001b[0;34m(\u001b[0m\u001b[0mmsg\u001b[0m\u001b[0;34m)\u001b[0m\u001b[0;34m\u001b[0m\u001b[0;34m\u001b[0m\u001b[0m\n\u001b[0m\u001b[1;32m    504\u001b[0m \u001b[0;34m\u001b[0m\u001b[0m\n\u001b[1;32m    505\u001b[0m         \u001b[0mself\u001b[0m\u001b[0;34m.\u001b[0m\u001b[0m_check_data_balanced\u001b[0m\u001b[0;34m(\u001b[0m\u001b[0;34m)\u001b[0m\u001b[0;34m\u001b[0m\u001b[0;34m\u001b[0m\u001b[0m\n",
      "\u001b[0;31mValueError\u001b[0m: The data set contains more than one observation per subject and cell. Either aggregate the data manually, or pass the `aggregate_func` parameter."
     ]
    }
   ],
   "source": [
    "anova = AnovaRM(updatedchoicedata, depvar='choice',\n",
    "              subject='PROLIFIC_ID', within=['condition']).fit()\n",
    "print(anova)"
   ]
  },
  {
   "cell_type": "code",
   "execution_count": 31,
   "id": "2192903e",
   "metadata": {},
   "outputs": [
    {
     "ename": "ValueError",
     "evalue": "The data set contains more than one observation per subject and cell. Either aggregate the data manually, or pass the `aggregate_func` parameter.",
     "output_type": "error",
     "traceback": [
      "\u001b[0;31m---------------------------------------------------------------------------\u001b[0m",
      "\u001b[0;31mValueError\u001b[0m                                Traceback (most recent call last)",
      "\u001b[0;32m<ipython-input-31-57b9a9e7ea70>\u001b[0m in \u001b[0;36m<module>\u001b[0;34m\u001b[0m\n\u001b[0;32m----> 1\u001b[0;31m anova = AnovaRM(updatedchoicedata, depvar='salience',\n\u001b[0m\u001b[1;32m      2\u001b[0m               subject='PROLIFIC_ID', within=['condition']).fit()\n\u001b[1;32m      3\u001b[0m \u001b[0mprint\u001b[0m\u001b[0;34m(\u001b[0m\u001b[0manova\u001b[0m\u001b[0;34m)\u001b[0m\u001b[0;34m\u001b[0m\u001b[0;34m\u001b[0m\u001b[0m\n",
      "\u001b[0;32m~/opt/anaconda3/lib/python3.8/site-packages/statsmodels/stats/anova.py\u001b[0m in \u001b[0;36m__init__\u001b[0;34m(self, data, depvar, subject, within, between, aggregate_func)\u001b[0m\n\u001b[1;32m    501\u001b[0m                        \u001b[0;34m'subject and cell. Either aggregate the data manually, '\u001b[0m\u001b[0;34m\u001b[0m\u001b[0;34m\u001b[0m\u001b[0m\n\u001b[1;32m    502\u001b[0m                        'or pass the `aggregate_func` parameter.')\n\u001b[0;32m--> 503\u001b[0;31m                 \u001b[0;32mraise\u001b[0m \u001b[0mValueError\u001b[0m\u001b[0;34m(\u001b[0m\u001b[0mmsg\u001b[0m\u001b[0;34m)\u001b[0m\u001b[0;34m\u001b[0m\u001b[0;34m\u001b[0m\u001b[0m\n\u001b[0m\u001b[1;32m    504\u001b[0m \u001b[0;34m\u001b[0m\u001b[0m\n\u001b[1;32m    505\u001b[0m         \u001b[0mself\u001b[0m\u001b[0;34m.\u001b[0m\u001b[0m_check_data_balanced\u001b[0m\u001b[0;34m(\u001b[0m\u001b[0;34m)\u001b[0m\u001b[0;34m\u001b[0m\u001b[0;34m\u001b[0m\u001b[0m\n",
      "\u001b[0;31mValueError\u001b[0m: The data set contains more than one observation per subject and cell. Either aggregate the data manually, or pass the `aggregate_func` parameter."
     ]
    }
   ],
   "source": [
    "anova = AnovaRM(updatedchoicedata, depvar='salience',\n",
    "              subject='PROLIFIC_ID', within=['condition']).fit()\n",
    "print(anova)"
   ]
  },
  {
   "cell_type": "code",
   "execution_count": 18,
   "id": "2d570051",
   "metadata": {},
   "outputs": [
    {
     "name": "stdout",
     "output_type": "stream",
     "text": [
      "                 Anova\n",
      "=======================================\n",
      "          F Value Num DF  Den DF Pr > F\n",
      "---------------------------------------\n",
      "condition  1.5931 2.0000 96.0000 0.2086\n",
      "=======================================\n",
      "\n"
     ]
    }
   ],
   "source": [
    "anova = AnovaRM(updatedchoicedata, depvar='stress',\n",
    "              subject='PROLIFIC_ID', within=['condition']).fit()\n",
    "print(anova)"
   ]
  },
  {
   "cell_type": "code",
   "execution_count": 8,
   "id": "9e382fd4",
   "metadata": {},
   "outputs": [
    {
     "name": "stdout",
     "output_type": "stream",
     "text": [
      "    index               PROLIFIC_ID    choice  condition  salience  stress\n",
      "0       0  5a4636c92f91ec0001dcba07  0.000000        0.0       3.0     6.0\n",
      "1       1  5ff27bb4ad8fba794c1b96fa  0.000000        0.0       2.0     7.0\n",
      "2       2  63d13e2a6dd3ec4a5f6bff7b  0.200000        0.0       4.0     6.0\n",
      "3       3  63ced670c8d001d1d5057140  1.000000        0.0       4.0     6.0\n",
      "4       4  605b5b5feff0e95f2cd60834  0.000000        0.0       1.0     7.0\n",
      "5       5  63235c5bf70d8e4f79b205cd  0.000000        0.0       2.0     5.0\n",
      "6       6  608209b96e955ba5201eff25  1.000000        0.0       3.0     5.0\n",
      "7       7  631f3abc8826b6e7e8982648  0.000000        0.0       3.0     4.0\n",
      "8       8  60bff9298f56d55c8ecd9adf  1.000000        0.0       1.0     3.0\n",
      "9       9  630386f64c5bbd56ab1c3b0f  1.000000        0.0       3.0     9.0\n",
      "10     10  60dbf4d94a3b5564b68881e8  0.000000        0.0       1.0     6.0\n",
      "11     11  62fb84322433c8d7e890a145  0.000000        0.0       4.0     5.0\n",
      "12     12  60ef2700e476748689a999f7  1.000000        0.0       2.0     1.0\n",
      "13     13  62a885d5b6af18b3d4579e1b  0.000000        0.0       3.0     7.0\n",
      "14     14  60fcebba7345a976efc9c080  0.166667        0.0       2.0     5.0\n",
      "15     15  628f827eeb876ed2617881e7  0.666667        0.0       5.0     9.0\n",
      "16     16  60fd56db5fe37ebeca00bc83  1.000000        0.0       2.0     5.0\n",
      "17     17  6154a88b71a7f4347658b0f7  0.500000        0.0       3.0     1.0\n",
      "18     18  60fd5a99c4e4ead0c9a6fff4  1.000000        0.0       3.0     3.0\n",
      "19     19  61338374ecef87bfdfd1c7bb  0.000000        0.0       3.0     6.0\n",
      "20     20  60fd80b85dd6b22f66d16822  0.000000        0.0       3.0     4.0\n",
      "21     21  6112dccad39227e361c13866  0.833333        0.0       3.0     5.0\n",
      "22     22  60fdb9ec6c3006abe82e5182  0.000000        0.0       3.0     5.0\n",
      "23     23  6111234ac8cfa49e38acbfb4  0.000000        0.0       3.0     1.0\n",
      "24     24  60ff33eea57872b7188f12e2  0.000000        0.0       3.0     5.0\n",
      "25     25  61006614d4c56450afce3a6b  1.000000        0.0       4.0     3.0\n",
      "26     26  63d1b0363f9bd5a6062dfb1c  0.500000        0.0       2.0     6.0\n",
      "27     27  5f32bc368853aa03df112fc6  0.000000        0.0       3.0     3.0\n",
      "28     28  6056bcf1cee7a41435889255  0.000000        0.0       2.0     9.0\n",
      "29     29  610024bfd6e1038ba3b1601d  1.000000        0.0       3.0     2.0\n",
      "30     30  5b6c312fa1fda800015fe165  1.000000        0.0       2.0     3.0\n",
      "31     31  63ddc6baab6a2130b8a41bf7  0.000000        0.0       3.0     4.0\n",
      "32     32  63d3f98237a95683bfa381e3  1.000000        0.0       1.0     3.0\n",
      "33     33  5dcb685070d51c8275d7bd54  1.000000        0.0       3.0     2.0\n",
      "34     34  63d7c5cbacd85e95302f3a62  1.000000        0.0       1.0     4.0\n",
      "35     35  63e52399159a69bf0ea848c6  0.000000        0.0       2.0     6.0\n",
      "36     36  5dee8ee31255595293a9906b  0.200000        0.0       2.0     2.0\n",
      "37     37  63d5bb0d1cc3800ad1e343dc  0.000000        0.0       3.0     2.0\n",
      "38     38  5d55d562e04e1c0001f5e682  0.000000        0.0       1.0     7.0\n",
      "39     39  5ec75df0d799ae1c11a8115c  0.000000        0.0       1.0     5.0\n",
      "40     40  5adef850eb60400001539109  1.000000        0.0       3.0     4.0\n",
      "41     41  63eac31811a6da58d4f32d76  0.400000        0.0       3.0     9.0\n",
      "42     42  5ad2c8334d061300011b1985  0.500000        0.0       2.0     3.0\n",
      "43     43  5eefc651cb94ad4c4d017b86  0.800000        0.0       1.0     5.0\n",
      "44     44  63d3f9d0ab6c170778b0d3d1  0.166667        0.0       5.0     9.0\n",
      "45     45  63fac97f0d4e8f6bfd753d90  0.000000        0.0       1.0     5.0\n",
      "46     46  5f16f559325a640008bb9a07  1.000000        0.0       2.0     1.0\n",
      "47     47  63d40481d12fc9cc4c1adab0  0.200000        0.0       2.0     4.0\n",
      "48     48  63e51e528df11f83a1aacab8  0.000000        0.0       3.0     3.0\n",
      "    index               PROLIFIC_ID    choice  condition  salience  stress\n",
      "0      49  63e52399159a69bf0ea848c6  0.090909        1.0       1.0     6.5\n",
      "1      50  6111234ac8cfa49e38acbfb4  0.090909        1.0       1.5     2.0\n",
      "2      51  6112dccad39227e361c13866  0.181818        1.0       1.0     2.5\n",
      "3      52  61006614d4c56450afce3a6b  1.000000        1.0       4.0     3.0\n",
      "4      53  63e51e528df11f83a1aacab8  0.700000        1.0       3.0     2.5\n",
      "5      54  63eac31811a6da58d4f32d76  0.000000        1.0       3.0     9.0\n",
      "6      55  61338374ecef87bfdfd1c7bb  0.000000        1.0       2.5     6.5\n",
      "7      56  63d1b0363f9bd5a6062dfb1c  1.000000        1.0       2.0     7.0\n",
      "8      57  63ddc6baab6a2130b8a41bf7  0.000000        1.0       1.5     2.5\n",
      "9      58  628f827eeb876ed2617881e7  0.727273        1.0       4.0     6.5\n",
      "10     59  63d7c5cbacd85e95302f3a62  1.000000        1.0       1.0     3.5\n",
      "11     60  62fb84322433c8d7e890a145  0.090909        1.0       2.0     4.0\n",
      "12     61  63d5bb0d1cc3800ad1e343dc  0.000000        1.0       2.0     2.5\n",
      "13     62  630386f64c5bbd56ab1c3b0f  1.000000        1.0       3.0     9.0\n",
      "14     63  63d40481d12fc9cc4c1adab0  0.000000        1.0       1.5     1.5\n",
      "15     64  631f3abc8826b6e7e8982648  0.454545        1.0       1.0     2.0\n",
      "16     65  63235c5bf70d8e4f79b205cd  0.181818        1.0       2.5     4.5\n",
      "17     66  63d3f9d0ab6c170778b0d3d1  0.090909        1.0       4.0     8.0\n",
      "18     67  63fac97f0d4e8f6bfd753d90  0.000000        1.0       1.0     5.0\n",
      "19     68  63ced670c8d001d1d5057140  1.000000        1.0       3.5     6.5\n",
      "20     69  63d13e2a6dd3ec4a5f6bff7b  0.000000        1.0       2.0     4.5\n",
      "21     70  63d3f98237a95683bfa381e3  0.583333        1.0       1.5     1.5\n",
      "22     71  6154a88b71a7f4347658b0f7  0.583333        1.0       1.5     1.0\n",
      "23     72  62a885d5b6af18b3d4579e1b  0.000000        1.0       3.5     7.0\n",
      "24     73  610024bfd6e1038ba3b1601d  1.000000        1.0       1.0     1.5\n",
      "25     74  5f16f559325a640008bb9a07  1.000000        1.0       1.5     1.0\n",
      "26     75  60bff9298f56d55c8ecd9adf  0.666667        1.0       1.5     2.5\n",
      "27     76  5dcb685070d51c8275d7bd54  1.000000        1.0       2.0     2.5\n",
      "28     77  605b5b5feff0e95f2cd60834  0.583333        1.0       1.0     6.0\n",
      "29     78  60dbf4d94a3b5564b68881e8  0.000000        1.0       1.5     7.5\n",
      "30     79  5d55d562e04e1c0001f5e682  0.090909        1.0       2.0     6.5\n",
      "31     80  60ef2700e476748689a999f7  1.000000        1.0       1.0     1.0\n",
      "32     81  5ec75df0d799ae1c11a8115c  0.181818        1.0       2.0     4.5\n",
      "33     82  6056bcf1cee7a41435889255  0.000000        1.0       1.5     8.5\n",
      "34     83  60fcebba7345a976efc9c080  0.181818        1.0       2.0     5.5\n",
      "35     84  5b6c312fa1fda800015fe165  1.000000        1.0       2.0     3.0\n",
      "36     85  5dee8ee31255595293a9906b  0.000000        1.0       1.5     2.0\n",
      "37     86  60fd56db5fe37ebeca00bc83  0.916667        1.0       3.5     6.0\n",
      "38     87  608209b96e955ba5201eff25  1.000000        1.0       2.0     5.0\n",
      "39     88  5adef850eb60400001539109  1.000000        1.0       3.0     2.0\n",
      "40     89  60fd5a99c4e4ead0c9a6fff4  1.000000        1.0       2.5     3.0\n",
      "41     90  5ff27bb4ad8fba794c1b96fa  0.000000        1.0       1.5     7.0\n",
      "42     91  5eefc651cb94ad4c4d017b86  0.363636        1.0       1.5     5.0\n",
      "43     92  60fd80b85dd6b22f66d16822  0.090909        1.0       1.5     4.5\n",
      "44     93  5ad2c8334d061300011b1985  0.500000        1.0       3.0     4.0\n",
      "45     94  60fdb9ec6c3006abe82e5182  0.800000        1.0       2.0     3.5\n",
      "46     95  5f32bc368853aa03df112fc6  1.000000        1.0       2.0     4.5\n",
      "47     96  5a4636c92f91ec0001dcba07  0.090909        1.0       1.5     5.5\n",
      "48     97  60ff33eea57872b7188f12e2  0.000000        1.0       2.0     4.5\n",
      "    index               PROLIFIC_ID    choice  condition  salience  stress\n",
      "0      98  63d3f98237a95683bfa381e3  0.363636        2.0       2.5     4.0\n",
      "1      99  5dee8ee31255595293a9906b  0.000000        2.0       3.0     2.0\n",
      "2     100  63d40481d12fc9cc4c1adab0  0.000000        2.0       2.0     2.0\n",
      "3     101  5ec75df0d799ae1c11a8115c  0.000000        2.0       3.5     3.0\n",
      "4     102  63d3f9d0ab6c170778b0d3d1  0.000000        2.0       4.5     8.5\n",
      "5     103  610024bfd6e1038ba3b1601d  1.000000        2.0       4.0     1.5\n",
      "6     104  63d5bb0d1cc3800ad1e343dc  0.181818        2.0       4.0     2.5\n",
      "7     105  5d55d562e04e1c0001f5e682  0.000000        2.0       2.0     6.0\n",
      "8     106  5eefc651cb94ad4c4d017b86  0.727273        2.0       3.5     3.0\n",
      "9     107  5b6c312fa1fda800015fe165  1.000000        2.0       3.5     6.5\n",
      "10    108  63ddc6baab6a2130b8a41bf7  0.000000        2.0       2.5     3.5\n",
      "11    109  5adef850eb60400001539109  1.000000        2.0       3.0     4.5\n",
      "12    110  63e51e528df11f83a1aacab8  0.500000        2.0       3.5     4.0\n",
      "13    111  5ad2c8334d061300011b1985  0.363636        2.0       4.5     2.5\n",
      "14    112  63e52399159a69bf0ea848c6  0.000000        2.0       2.5     6.5\n",
      "15    113  5a4636c92f91ec0001dcba07  0.000000        2.0       3.0     5.0\n",
      "16    114  63eac31811a6da58d4f32d76  0.000000        2.0       3.0     9.0\n",
      "17    115  5dcb685070d51c8275d7bd54  1.000000        2.0       2.5     2.5\n",
      "18    116  63d7c5cbacd85e95302f3a62  1.000000        2.0       1.0     3.5\n",
      "19    117  63ced670c8d001d1d5057140  1.000000        2.0       4.0     7.0\n",
      "20    118  5f16f559325a640008bb9a07  1.000000        2.0       3.5     1.0\n",
      "21    119  60fdb9ec6c3006abe82e5182  0.000000        2.0       3.5     4.5\n",
      "22    120  61006614d4c56450afce3a6b  0.666667        2.0       3.5     3.0\n",
      "23    121  60fd80b85dd6b22f66d16822  0.090909        2.0       3.5     5.5\n",
      "24    122  6111234ac8cfa49e38acbfb4  0.000000        2.0       2.5     1.0\n",
      "25    123  60fd5a99c4e4ead0c9a6fff4  1.000000        2.0       3.5     3.0\n",
      "26    124  6112dccad39227e361c13866  0.500000        2.0       3.0     4.5\n",
      "27    125  60fd56db5fe37ebeca00bc83  1.000000        2.0       3.5     7.0\n",
      "28    126  61338374ecef87bfdfd1c7bb  0.000000        2.0       2.5     7.5\n",
      "29    127  60fcebba7345a976efc9c080  0.272727        2.0       2.5     5.0\n",
      "30    128  6154a88b71a7f4347658b0f7  0.500000        2.0       4.0     1.0\n",
      "31    129  60ef2700e476748689a999f7  0.900000        2.0       3.5     1.0\n",
      "32    130  628f827eeb876ed2617881e7  0.500000        2.0       4.0     6.5\n",
      "33    131  63d1b0363f9bd5a6062dfb1c  0.909091        2.0       4.0     3.0\n",
      "34    132  60dbf4d94a3b5564b68881e8  0.000000        2.0       2.5     6.0\n",
      "35    133  60bff9298f56d55c8ecd9adf  0.636364        2.0       3.0     2.5\n",
      "36    134  62fb84322433c8d7e890a145  0.090909        2.0       4.0     5.5\n",
      "37    135  608209b96e955ba5201eff25  1.000000        2.0       4.0     6.5\n",
      "38    136  630386f64c5bbd56ab1c3b0f  1.000000        2.0       3.0     8.0\n",
      "39    137  605b5b5feff0e95f2cd60834  0.363636        2.0       1.5     6.0\n",
      "40    138  631f3abc8826b6e7e8982648  0.272727        2.0       1.5     4.5\n",
      "41    139  6056bcf1cee7a41435889255  0.181818        2.0       2.0     9.0\n",
      "42    140  63235c5bf70d8e4f79b205cd  0.000000        2.0       1.5     7.0\n",
      "43    141  5ff27bb4ad8fba794c1b96fa  0.000000        2.0       2.5     6.0\n",
      "44    142  60ff33eea57872b7188f12e2  0.000000        2.0       3.5     5.0\n",
      "45    143  5f32bc368853aa03df112fc6  0.583333        2.0       5.0     1.0\n",
      "46    144  63d13e2a6dd3ec4a5f6bff7b  0.000000        2.0       2.5     5.0\n",
      "47    145  62a885d5b6af18b3d4579e1b  0.000000        2.0       3.0     7.0\n",
      "48    146  63fac97f0d4e8f6bfd753d90  0.000000        2.0       1.0     5.0\n"
     ]
    }
   ],
   "source": [
    "#indexing data frame to isolate variables by condition\n",
    "neutralcondition = updatedchoicedata[updatedchoicedata['condition'] == 0].reset_index()\n",
    "rejectioncondition = updatedchoicedata[updatedchoicedata['condition'] == 1].reset_index()\n",
    "acceptcondition = updatedchoicedata[updatedchoicedata['condition'] == 2].reset_index()\n",
    "\n",
    "print(neutralcondition)\n",
    "print(rejectioncondition)\n",
    "print(acceptcondition)"
   ]
  },
  {
   "cell_type": "code",
   "execution_count": 9,
   "id": "69c2585f",
   "metadata": {},
   "outputs": [
    {
     "name": "stdout",
     "output_type": "stream",
     "text": [
      "T-statistic value: -6.810735432877967\n",
      "P-value: 1.434600959004139e-08\n",
      "-1.1388168872650586\n",
      "T-statistic value: -2.685380346549405\n",
      "P-value: 0.009917968990255713\n",
      "-0.5171214978924699\n",
      "T-statistic value: 2.5965324522257975\n",
      "P-value: 0.01246158209185934\n",
      "0.5379939648643677\n"
     ]
    }
   ],
   "source": [
    "#%% paired samples t-test for condition by salience\n",
    "t_stat, p_value = ttest_rel(rejectioncondition['salience'],acceptcondition['salience'])\n",
    "print(\"T-statistic value:\", t_stat)\n",
    "print('P-value:', p_value)\n",
    "\n",
    "#effect size t-test rej v acc salience level (likelihood to share in the future)\n",
    "cohens_d = (mean(rejectioncondition['salience']) - mean(acceptcondition['salience'])) / (sqrt((stdev(rejectioncondition['salience']) ** 2 + stdev(acceptcondition['salience']) ** 2) / 2))\n",
    "print(cohens_d)\n",
    "\n",
    "#%% paired samples t-test for condition by salience\n",
    "t_stat, p_value = ttest_rel(rejectioncondition['salience'],neutralcondition['salience'])\n",
    "print(\"T-statistic value:\", t_stat)\n",
    "print('P-value:', p_value)\n",
    "\n",
    "#effect size t-test rej v acc salience level (likelihood to share in the future)\n",
    "cohens_d = (mean(rejectioncondition['salience']) - mean(neutralcondition['salience'])) / (sqrt((stdev(rejectioncondition['salience']) ** 2 + stdev(neutralcondition['salience']) ** 2) / 2))\n",
    "print(cohens_d)\n",
    "\n",
    "#%% paired samples t-test for condition by salience\n",
    "t_stat, p_value = ttest_rel(acceptcondition['salience'],neutralcondition['salience'])\n",
    "print(\"T-statistic value:\", t_stat)\n",
    "print('P-value:', p_value)\n",
    "\n",
    "#effect size t-test rej v acc salience level (likelihood to share in the future)\n",
    "cohens_d = (mean(acceptcondition['salience']) - mean(neutralcondition['salience'])) / (sqrt((stdev(acceptcondition['salience']) ** 2 + stdev(neutralcondition['salience']) ** 2) / 2))\n",
    "print(cohens_d)"
   ]
  },
  {
   "cell_type": "code",
   "execution_count": 19,
   "id": "ad068a74",
   "metadata": {},
   "outputs": [
    {
     "name": "stdout",
     "output_type": "stream",
     "text": [
      "T-statistic value: 0.6709058782539766\n",
      "P-value: 0.5054961991131117\n",
      "0.12874029354104904\n",
      "T-statistic value: 0.4384305718190721\n",
      "P-value: 0.6630411760614487\n",
      "0.09874952465404903\n",
      "T-statistic value: -0.12190132490471718\n",
      "P-value: 0.9034860909688563\n",
      "-0.025110099691364376\n"
     ]
    }
   ],
   "source": [
    "#%% paired samples t-test for condition by salience\n",
    "t_stat, p_value = ttest_rel(rejectioncondition['choice'],acceptcondition['choice'])\n",
    "print(\"T-statistic value:\", t_stat)\n",
    "print('P-value:', p_value)\n",
    "\n",
    "#effect size t-test rej v acc salience level (likelihood to share in the future)\n",
    "cohens_d = (mean(rejectioncondition['choice']) - mean(acceptcondition['choice'])) / (sqrt((stdev(rejectioncondition['choice']) ** 2 + stdev(acceptcondition['choice']) ** 2) / 2))\n",
    "print(cohens_d)\n",
    "\n",
    "#%% paired samples t-test for condition by salience\n",
    "t_stat, p_value = ttest_rel(rejectioncondition['choice'],neutralcondition['choice'])\n",
    "print(\"T-statistic value:\", t_stat)\n",
    "print('P-value:', p_value)\n",
    "\n",
    "#effect size t-test rej v acc salience level (likelihood to share in the future)\n",
    "cohens_d = (mean(rejectioncondition['choice']) - mean(neutralcondition['choice'])) / (sqrt((stdev(rejectioncondition['choice']) ** 2 + stdev(neutralcondition['choice']) ** 2) / 2))\n",
    "print(cohens_d)\n",
    "\n",
    "#%% paired samples t-test for condition by salience\n",
    "t_stat, p_value = ttest_rel(acceptcondition['choice'],neutralcondition['choice'])\n",
    "print(\"T-statistic value:\", t_stat)\n",
    "print('P-value:', p_value)\n",
    "\n",
    "#effect size t-test rej v acc salience level (likelihood to share in the future)\n",
    "cohens_d = (mean(acceptcondition['choice']) - mean(neutralcondition['choice'])) / (sqrt((stdev(acceptcondition['choice']) ** 2 + stdev(neutralcondition['choice']) ** 2) / 2))\n",
    "print(cohens_d)"
   ]
  },
  {
   "cell_type": "code",
   "execution_count": null,
   "id": "ae1b199e",
   "metadata": {},
   "outputs": [],
   "source": []
  }
 ],
 "metadata": {
  "kernelspec": {
   "display_name": "Python 3",
   "language": "python",
   "name": "python3"
  },
  "language_info": {
   "codemirror_mode": {
    "name": "ipython",
    "version": 3
   },
   "file_extension": ".py",
   "mimetype": "text/x-python",
   "name": "python",
   "nbconvert_exporter": "python",
   "pygments_lexer": "ipython3",
   "version": "3.8.10"
  }
 },
 "nbformat": 4,
 "nbformat_minor": 5
}
