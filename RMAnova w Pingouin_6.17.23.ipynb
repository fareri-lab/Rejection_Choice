{
 "cells": [
  {
   "cell_type": "code",
   "execution_count": 1,
   "id": "253ae133",
   "metadata": {},
   "outputs": [],
   "source": [
    "import pandas as pd\n",
    "import numpy as np\n",
    "import os \n",
    "import statistics \n",
    "import numpy as np\n",
    "import pandas as pd\n",
    "from pathlib import Path\n",
    "from scipy.stats import ttest_rel\n",
    "import matplotlib.pyplot as plt\n",
    "import math\n",
    "from statsmodels.stats.anova import AnovaRM\n",
    "from numpy import mean, std, cov\n",
    "from numpy.random import seed, randn\n",
    "import random as rd\n",
    "from sklearn import preprocessing\n",
    "from sklearn import datasets\n",
    "from sklearn.preprocessing import StandardScaler\n",
    "from sklearn.decomposition import PCA\n",
    "import matplotlib.pyplot as plt\n",
    "from matplotlib import pyplot\n",
    "from __future__ import division\n",
    "import sys\n",
    "import scipy\n",
    "from math import sqrt\n",
    "import scipy.stats as stats\n",
    "from scipy import stats \n",
    "from scipy.stats import t, pearsonr, sem\n",
    "import seaborn as sns\n",
    "from statistics import mean, stdev\n",
    "import statsmodels.api as sm\n",
    "import statsmodels.formula.api as smf\n",
    "import math\n",
    "import pingouin as pg\n",
    "from pingouin import ttest\n",
    "from scipy.special import logsumexp"
   ]
  },
  {
   "cell_type": "code",
   "execution_count": 2,
   "id": "b1e2d7e0",
   "metadata": {},
   "outputs": [],
   "source": [
    "current_dir = os.getcwd()\n",
    "updatedchoicedata = pd.read_csv('shortformdata.csv')\n"
   ]
  },
  {
   "cell_type": "code",
   "execution_count": 3,
   "id": "bbf3a286",
   "metadata": {},
   "outputs": [
    {
     "name": "stdout",
     "output_type": "stream",
     "text": [
      "                  PROLIFIC_ID  condition_recode  afterstresschange  \\\n",
      "0    5a4636c92f91ec0001dcba07                 0                  0   \n",
      "1    5a4636c92f91ec0001dcba07                 1                  0   \n",
      "2    5a4636c92f91ec0001dcba07                 2                  0   \n",
      "3    5ad2c8334d061300011b1985                 0                  0   \n",
      "4    5ad2c8334d061300011b1985                 1                  0   \n",
      "..                        ...               ...                ...   \n",
      "160  628f827eeb876ed2617881e7                 1                  1   \n",
      "161  628f827eeb876ed2617881e7                 2                  1   \n",
      "162  5f9873550513db147c9d2958                 0                  1   \n",
      "163  5f9873550513db147c9d2958                 1                  1   \n",
      "164  5f9873550513db147c9d2958                 2                  1   \n",
      "\n",
      "     salience_mean  stress_mean  recoded_stress    choice  rej-acc  ifnegvalue  \n",
      "0              3.0          6.0             4.0  0.000000     -0.5           1  \n",
      "1              1.5          5.5             4.5  0.090909     -0.5           1  \n",
      "2              3.0          5.0             5.0  0.000000     -0.5           1  \n",
      "3              2.0          3.0             7.0  0.500000     -1.5           1  \n",
      "4              3.0          4.0             6.0  0.500000     -1.5           1  \n",
      "..             ...          ...             ...       ...      ...         ...  \n",
      "160            4.0          6.5             6.5  0.833333      0.0           0  \n",
      "161            4.0          6.5             6.5  0.333333      0.0           0  \n",
      "162            2.0          5.0             5.0  0.500000      0.0           0  \n",
      "163            1.5          5.0             5.0  0.583333      0.0           0  \n",
      "164            1.2          5.0             5.0  0.454545      0.0           0  \n",
      "\n",
      "[165 rows x 9 columns]\n"
     ]
    }
   ],
   "source": [
    "print(updatedchoicedata)"
   ]
  },
  {
   "cell_type": "code",
   "execution_count": 4,
   "id": "bc755840",
   "metadata": {},
   "outputs": [],
   "source": [
    "anovachoice = pg.rm_anova(data=updatedchoicedata, dv='choice', within='condition_recode', subject='PROLIFIC_ID', detailed=True, correction = True)"
   ]
  },
  {
   "cell_type": "code",
   "execution_count": 5,
   "id": "6ced157a",
   "metadata": {},
   "outputs": [
    {
     "name": "stdout",
     "output_type": "stream",
     "text": [
      "             Source        SS   DF        MS         F     p-unc  p-GG-corr  \\\n",
      "0  condition_recode  0.141446    2  0.070723  2.606242  0.078537   0.090314   \n",
      "1             Error  2.876407  106  0.027136       NaN       NaN        NaN   \n",
      "\n",
      "        ng2       eps sphericity   W-spher  p-spher  \n",
      "0  0.004956  0.813884      False  0.771324  0.00117  \n",
      "1       NaN       NaN        NaN       NaN      NaN  \n"
     ]
    }
   ],
   "source": [
    "print(anovachoice)"
   ]
  },
  {
   "cell_type": "code",
   "execution_count": 6,
   "id": "51b61f23",
   "metadata": {},
   "outputs": [
    {
     "name": "stdout",
     "output_type": "stream",
     "text": [
      "             Source         SS   DF         MS         F         p-unc  \\\n",
      "0  condition_recode  29.772716    2  14.886358  32.27739  1.128299e-11   \n",
      "1             Error  48.887284  106   0.461201       NaN           NaN   \n",
      "\n",
      "        ng2      eps  \n",
      "0  0.171926  0.98757  \n",
      "1       NaN      NaN  \n"
     ]
    }
   ],
   "source": [
    "anovasalience = pg.rm_anova(data=updatedchoicedata, dv='salience_mean', within='condition_recode', subject='PROLIFIC_ID', detailed=True)\n",
    "print(anovasalience)"
   ]
  },
  {
   "cell_type": "code",
   "execution_count": 7,
   "id": "2124f325",
   "metadata": {},
   "outputs": [
    {
     "name": "stdout",
     "output_type": "stream",
     "text": [
      "             Source         SS   DF        MS         F     p-unc  p-GG-corr  \\\n",
      "0  condition_recode  12.873457    2  6.436728  7.771594  0.000709   0.001093   \n",
      "1             Error  87.793210  106  0.828238       NaN       NaN        NaN   \n",
      "\n",
      "        ng2       eps sphericity   W-spher   p-spher  \n",
      "0  0.017009  0.906795       True  0.897215  0.059608  \n",
      "1       NaN       NaN        NaN       NaN       NaN  \n"
     ]
    }
   ],
   "source": [
    "anovastress = pg.rm_anova(data=updatedchoicedata, dv='recoded_stress', within='condition_recode', subject='PROLIFIC_ID', detailed=True, correction = True)\n",
    "print(anovastress)"
   ]
  },
  {
   "cell_type": "code",
   "execution_count": 8,
   "id": "27279b26",
   "metadata": {},
   "outputs": [],
   "source": [
    "rej = updatedchoicedata.loc[updatedchoicedata['condition_recode']==1].reset_index(drop=True)\n",
    "acc = updatedchoicedata.loc[updatedchoicedata['condition_recode']==2].reset_index(drop=True)\n",
    "neu = updatedchoicedata.loc[updatedchoicedata['condition_recode']==0].reset_index(drop=True)\n"
   ]
  },
  {
   "cell_type": "code",
   "execution_count": 9,
   "id": "47eb97b8",
   "metadata": {},
   "outputs": [
    {
     "name": "stdout",
     "output_type": "stream",
     "text": [
      "           T  dof alternative  p-val          CI95%  cohen-d    BF10  power\n",
      "T-test -3.41   54        less    0.0  [-inf, -0.34]     0.31  45.619   0.74\n"
     ]
    }
   ],
   "source": [
    "rej_accstressttest = ttest(rej['recoded_stress'], acc['recoded_stress'], paired=True, alternative='less').round(2)\n",
    "print(rej_accstressttest)"
   ]
  },
  {
   "cell_type": "code",
   "execution_count": 10,
   "id": "18238a99",
   "metadata": {},
   "outputs": [
    {
     "name": "stdout",
     "output_type": "stream",
     "text": [
      "           T  dof alternative  p-val          CI95%  cohen-d  BF10  power\n",
      "T-test -2.91   54        less    0.0  [-inf, -0.19]      0.2  12.6   0.44\n"
     ]
    }
   ],
   "source": [
    "rej_neustressttest = ttest(rej['recoded_stress'], neu['recoded_stress'], paired=True, alternative='less').round(2)\n",
    "print(rej_neustressttest)"
   ]
  },
  {
   "cell_type": "code",
   "execution_count": 11,
   "id": "b17b7a52",
   "metadata": {},
   "outputs": [
    {
     "name": "stdout",
     "output_type": "stream",
     "text": [
      "           T  dof alternative  p-val         CI95%  cohen-d  BF10  power\n",
      "T-test -1.27   54        less    0.1  [-inf, 0.07]     0.11  0.63   0.19\n"
     ]
    }
   ],
   "source": [
    "neu_accstressttest = ttest(neu['recoded_stress'], acc['recoded_stress'], paired=True, alternative='less').round(2)\n",
    "print(neu_accstressttest)"
   ]
  },
  {
   "cell_type": "code",
   "execution_count": 12,
   "id": "f0d6945a",
   "metadata": {},
   "outputs": [
    {
     "name": "stdout",
     "output_type": "stream",
     "text": [
      "           T  dof alternative  p-val          CI95%  cohen-d       BF10  power\n",
      "T-test -7.71   54        less    0.0  [-inf, -0.81]     1.11  7.165e+07    1.0\n"
     ]
    }
   ],
   "source": [
    "rej_accsaliencettest = ttest(rej['salience_mean'], acc['salience_mean'], paired=True, alternative='less').round(2)\n",
    "print(rej_accsaliencettest)"
   ]
  },
  {
   "cell_type": "code",
   "execution_count": 13,
   "id": "8ffcd83b",
   "metadata": {},
   "outputs": [
    {
     "name": "stdout",
     "output_type": "stream",
     "text": [
      "          T  dof alternative  p-val          CI95%  cohen-d      BF10  power\n",
      "T-test -4.5   54        less    0.0  [-inf, -0.34]     0.56  1126.817   0.99\n"
     ]
    }
   ],
   "source": [
    "rej_neusaliencettest = ttest(rej['salience_mean'], neu['salience_mean'], paired=True, alternative='less').round(2)\n",
    "print(rej_neusaliencettest)"
   ]
  },
  {
   "cell_type": "code",
   "execution_count": 14,
   "id": "277b746e",
   "metadata": {},
   "outputs": [
    {
     "name": "stdout",
     "output_type": "stream",
     "text": [
      "           T  dof alternative  p-val          CI95%  cohen-d   BF10  power\n",
      "T-test -3.62   54        less    0.0  [-inf, -0.26]     0.48  81.17   0.97\n"
     ]
    }
   ],
   "source": [
    "neu_accsaliencettest = ttest(neu['salience_mean'], acc['salience_mean'], paired=True, alternative='less').round(2)\n",
    "print(neu_accsaliencettest)"
   ]
  },
  {
   "cell_type": "code",
   "execution_count": 22,
   "id": "c276f7f3",
   "metadata": {},
   "outputs": [
    {
     "name": "stdout",
     "output_type": "stream",
     "text": [
      "                 PROLIFIC_ID  condition_recode  afterstresschange  \\\n",
      "0   5a4636c92f91ec0001dcba07                 1                  0   \n",
      "1   5ad2c8334d061300011b1985                 1                  0   \n",
      "2   5adef850eb60400001539109                 1                  0   \n",
      "3   5b6c312fa1fda800015fe165                 1                  1   \n",
      "4   5d55d562e04e1c0001f5e682                 1                  0   \n",
      "5   5dcb685070d51c8275d7bd54                 1                  0   \n",
      "6   5dee8ee31255595293a9906b                 1                  0   \n",
      "7   5ec75df0d799ae1c11a8115c                 1                  0   \n",
      "8   5eefc651cb94ad4c4d017b86                 1                  0   \n",
      "9   5f16f559325a640008bb9a07                 1                  0   \n",
      "10  5f32bc368853aa03df112fc6                 1                  0   \n",
      "11  5ff27bb4ad8fba794c1b96fa                 1                  0   \n",
      "12  6056bcf1cee7a41435889255                 1                  1   \n",
      "13  605b5b5feff0e95f2cd60834                 1                  1   \n",
      "14  608209b96e955ba5201eff25                 1                  1   \n",
      "15  60bff9298f56d55c8ecd9adf                 1                  0   \n",
      "16  60dbf4d94a3b5564b68881e8                 1                  0   \n",
      "17  60ef2700e476748689a999f7                 1                  0   \n",
      "18  60fcebba7345a976efc9c080                 1                  0   \n",
      "19  60fd56db5fe37ebeca00bc83                 1                  1   \n",
      "20  60fd5a99c4e4ead0c9a6fff4                 1                  1   \n",
      "21  60fd80b85dd6b22f66d16822                 1                  1   \n",
      "22  60fdb9ec6c3006abe82e5182                 1                  1   \n",
      "23  60ff33eea57872b7188f12e2                 1                  1   \n",
      "24  610024bfd6e1038ba3b1601d                 1                  0   \n",
      "25  61006614d4c56450afce3a6b                 1                  0   \n",
      "26  6111234ac8cfa49e38acbfb4                 1                  0   \n",
      "27  6112dccad39227e361c13866                 1                  1   \n",
      "28  61338374ecef87bfdfd1c7bb                 1                  0   \n",
      "29  6154a88b71a7f4347658b0f7                 1                  0   \n",
      "30  628f827eeb876ed2617881e7                 1                  1   \n",
      "31  62a885d5b6af18b3d4579e1b                 1                  1   \n",
      "32  62fb84322433c8d7e890a145                 1                  1   \n",
      "33  630386f64c5bbd56ab1c3b0f                 1                  0   \n",
      "34  631f3abc8826b6e7e8982648                 1                  0   \n",
      "35  63235c5bf70d8e4f79b205cd                 1                  0   \n",
      "36  63ced670c8d001d1d5057140                 1                  1   \n",
      "37  63d13e2a6dd3ec4a5f6bff7b                 1                  1   \n",
      "38  63d1b0363f9bd5a6062dfb1c                 1                  0   \n",
      "39  63d3f98237a95683bfa381e3                 1                  1   \n",
      "40  63d3f9d0ab6c170778b0d3d1                 1                  1   \n",
      "41  63d40481d12fc9cc4c1adab0                 1                  1   \n",
      "42  63d5bb0d1cc3800ad1e343dc                 1                  0   \n",
      "43  63d7c5cbacd85e95302f3a62                 1                  1   \n",
      "44  63ddc6baab6a2130b8a41bf7                 1                  1   \n",
      "45  63e51e528df11f83a1aacab8                 1                  0   \n",
      "46  63e52399159a69bf0ea848c6                 1                  0   \n",
      "47  63eac31811a6da58d4f32d76                 1                  1   \n",
      "48  63fac97f0d4e8f6bfd753d90                 1                  1   \n",
      "49  60fd89617258b322c92fdd03                 1                  1   \n",
      "50  63ea4ab1ce4168cbe9f63775                 1                  1   \n",
      "51  63d7f2b15b4a5938642f3a7b                 1                  1   \n",
      "52  64023a98627b1116180dff0b                 1                  1   \n",
      "53  628f827eeb876ed2617881e7                 1                  1   \n",
      "54  5f9873550513db147c9d2958                 1                  1   \n",
      "\n",
      "    salience_mean  stress_mean  recoded_stress    choice  rej-acc  ifnegvalue  \n",
      "0             1.5          5.5             4.5  0.090909     -0.5           1  \n",
      "1             3.0          4.0             6.0  0.500000     -1.5           1  \n",
      "2             3.0          2.0             8.0  1.000000      2.5           0  \n",
      "3             2.0          3.0             3.0  1.000000     -3.5           1  \n",
      "4             2.0          6.5             3.5  0.090909     -0.5           1  \n",
      "5             2.0          2.5             7.5  1.000000      0.0           0  \n",
      "6             1.5          2.0             8.0  0.000000      0.0           0  \n",
      "7             2.0          4.5             5.5  0.181818     -1.5           1  \n",
      "8             1.5          5.0             5.0  0.363636     -2.0           1  \n",
      "9             1.5          1.0             9.0  1.000000      0.0           0  \n",
      "10            2.0          4.5             5.5  1.000000     -3.5           1  \n",
      "11            1.5          7.0             3.0  0.000000     -1.0           1  \n",
      "12            1.5          8.5             8.5  0.000000     -0.5           1  \n",
      "13            1.0          6.0             6.0  0.583333      0.0           0  \n",
      "14            2.0          5.0             5.0  1.000000     -1.5           1  \n",
      "15            1.5          2.5             7.5  0.666667      0.0           0  \n",
      "16            1.5          7.5             2.5  0.000000     -1.5           1  \n",
      "17            1.0          1.0             9.0  1.000000      0.0           0  \n",
      "18            2.0          5.5             4.5  0.181818     -0.5           1  \n",
      "19            3.5          6.0             6.0  0.916667     -1.0           1  \n",
      "20            2.5          3.0             3.0  1.000000      0.0           0  \n",
      "21            1.5          4.5             4.5  0.090909     -1.0           1  \n",
      "22            2.0          3.5             3.5  0.800000     -1.0           1  \n",
      "23            2.0          4.5             4.5  0.000000     -0.5           1  \n",
      "24            1.0          1.5             8.5  1.000000      0.0           0  \n",
      "25            4.0          3.0             7.0  1.000000      0.0           0  \n",
      "26            1.5          2.0             8.0  0.090909     -1.0           1  \n",
      "27            1.0          2.5             2.5  0.181818     -2.0           1  \n",
      "28            2.5          6.5             3.5  0.000000      1.0           0  \n",
      "29            1.5          1.0             9.0  0.583333      0.0           0  \n",
      "30            4.0          6.5             6.5  0.727273      0.0           0  \n",
      "31            3.5          7.0             7.0  0.000000      0.0           0  \n",
      "32            2.0          4.0             4.0  0.090909     -1.5           1  \n",
      "33            3.0          9.0             1.0  1.000000     -1.0           1  \n",
      "34            1.0          2.0             8.0  0.454545      2.5           0  \n",
      "35            2.5          4.5             5.5  0.181818      2.5           0  \n",
      "36            3.5          6.5             6.5  1.000000     -0.5           1  \n",
      "37            2.0          4.5             4.5  0.000000     -0.5           1  \n",
      "38            2.0          7.0             3.0  1.000000     -4.0           1  \n",
      "39            1.5          1.5             1.5  0.583333     -2.5           1  \n",
      "40            4.0          8.0             8.0  0.090909     -0.5           1  \n",
      "41            1.5          1.5             1.5  0.000000     -0.5           1  \n",
      "42            2.0          2.5             7.5  0.000000      0.0           0  \n",
      "43            1.0          3.5             3.5  1.000000      0.0           0  \n",
      "44            1.5          2.5             2.5  0.000000     -1.0           1  \n",
      "45            3.0          2.5             7.5  0.700000      1.5           0  \n",
      "46            1.0          6.5             3.5  0.090909      0.0           0  \n",
      "47            3.0          9.0             9.0  0.000000      0.0           0  \n",
      "48            1.0          5.0             5.0  0.000000      0.0           0  \n",
      "49            1.5          5.0             5.0  1.000000     -1.5           1  \n",
      "50            1.0          5.0             3.0  0.200000      2.0           0  \n",
      "51            1.5          1.5             1.0  0.000000     -4.5           1  \n",
      "52            1.5          2.0             2.0  0.666667     -4.0           1  \n",
      "53            4.0          6.5             6.5  0.833333      0.0           0  \n",
      "54            1.5          5.0             5.0  0.583333      0.0           0  \n"
     ]
    }
   ],
   "source": [
    "print(rej)"
   ]
  },
  {
   "cell_type": "code",
   "execution_count": 15,
   "id": "0daf0129",
   "metadata": {},
   "outputs": [
    {
     "data": {
      "text/plain": [
       "55"
      ]
     },
     "execution_count": 15,
     "metadata": {},
     "output_type": "execute_result"
    }
   ],
   "source": [
    "len(rej)"
   ]
  },
  {
   "cell_type": "code",
   "execution_count": 16,
   "id": "59b6596c",
   "metadata": {},
   "outputs": [],
   "source": [
    "mostaffectedpps = updatedchoicedata.loc[updatedchoicedata['ifnegvalue']==1].reset_index(drop=True)\n",
    "leastaffectedpps = updatedchoicedata.loc[updatedchoicedata['ifnegvalue']==0].reset_index(drop=True)"
   ]
  },
  {
   "cell_type": "code",
   "execution_count": 17,
   "id": "bcee672a",
   "metadata": {},
   "outputs": [
    {
     "name": "stdout",
     "output_type": "stream",
     "text": [
      "90\n"
     ]
    }
   ],
   "source": [
    "print(len(mostaffectedpps))"
   ]
  },
  {
   "cell_type": "code",
   "execution_count": 18,
   "id": "1b979084",
   "metadata": {},
   "outputs": [],
   "source": [
    "mostaffectedanovachoice = pg.rm_anova(data=mostaffectedpps, dv='choice', within='condition_recode', subject='PROLIFIC_ID', detailed=True, correction = True)"
   ]
  },
  {
   "cell_type": "code",
   "execution_count": 19,
   "id": "9946ca03",
   "metadata": {},
   "outputs": [
    {
     "name": "stdout",
     "output_type": "stream",
     "text": [
      "             Source        SS  DF        MS         F     p-unc  p-GG-corr  \\\n",
      "0  condition_recode  0.058327   2  0.029164  0.859876  0.428539   0.411267   \n",
      "1             Error  1.967126  58  0.033916       NaN       NaN        NaN   \n",
      "\n",
      "        ng2      eps sphericity   W-spher   p-spher  \n",
      "0  0.003847  0.83137      False  0.797166  0.041849  \n",
      "1       NaN      NaN        NaN       NaN       NaN  \n"
     ]
    }
   ],
   "source": [
    "print(mostaffectedanovachoice)"
   ]
  },
  {
   "cell_type": "code",
   "execution_count": 20,
   "id": "5b165bf4",
   "metadata": {},
   "outputs": [],
   "source": [
    "leastaffectedanovachoice = pg.rm_anova(data=leastaffectedpps, dv='choice', within='condition_recode', subject='PROLIFIC_ID', detailed=True, correction = True)"
   ]
  },
  {
   "cell_type": "code",
   "execution_count": 21,
   "id": "caeb7f25",
   "metadata": {},
   "outputs": [
    {
     "name": "stdout",
     "output_type": "stream",
     "text": [
      "             Source        SS  DF        MS         F     p-unc  p-GG-corr  \\\n",
      "0  condition_recode  0.087473   2  0.043736  2.223237  0.119763    0.13768   \n",
      "1             Error  0.904927  46  0.019672       NaN       NaN        NaN   \n",
      "\n",
      "        ng2       eps sphericity   W-spher  p-spher  \n",
      "0  0.006845  0.706168      False  0.583906  0.00269  \n",
      "1       NaN       NaN        NaN       NaN      NaN  \n"
     ]
    }
   ],
   "source": [
    "print(leastaffectedanovachoice)"
   ]
  },
  {
   "cell_type": "code",
   "execution_count": null,
   "id": "d4c2e53a",
   "metadata": {},
   "outputs": [],
   "source": []
  }
 ],
 "metadata": {
  "kernelspec": {
   "display_name": "Python 3",
   "language": "python",
   "name": "python3"
  },
  "language_info": {
   "codemirror_mode": {
    "name": "ipython",
    "version": 3
   },
   "file_extension": ".py",
   "mimetype": "text/x-python",
   "name": "python",
   "nbconvert_exporter": "python",
   "pygments_lexer": "ipython3",
   "version": "3.8.10"
  }
 },
 "nbformat": 4,
 "nbformat_minor": 5
}
