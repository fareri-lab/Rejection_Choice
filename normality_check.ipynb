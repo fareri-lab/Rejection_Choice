{
 "cells": [
  {
   "cell_type": "code",
   "execution_count": 4,
   "id": "22dc8f8a",
   "metadata": {},
   "outputs": [],
   "source": [
    "import pandas as pd\n",
    "import numpy as np\n",
    "import os \n",
    "import statistics \n",
    "from pathlib import Path\n",
    "from scipy.stats import ttest_rel\n",
    "import matplotlib.pyplot as plt\n",
    "import math\n",
    "from statsmodels.stats.anova import AnovaRM\n",
    "from numpy import mean, std, cov\n",
    "from numpy.random import seed, randn\n",
    "import random as rd\n",
    "#from sklearn import preprocessing\n",
    "#from sklearn import datasets\n",
    "#from sklearn.preprocessing import StandardScaler\n",
    "#from sklearn.decomposition import PCA\n",
    "import matplotlib.pyplot as plt\n",
    "from matplotlib import pyplot\n",
    "from __future__ import division\n",
    "import sys\n",
    "import scipy\n",
    "from math import sqrt\n",
    "import scipy.stats as stats\n",
    "from scipy import stats \n",
    "from scipy.stats import t, pearsonr, sem, spearmanr\n",
    "import seaborn as sns\n",
    "from statistics import mean, stdev\n",
    "import statsmodels.api as sm\n",
    "import statsmodels.formula.api as smf\n",
    "import math\n",
    "import pingouin as pg\n",
    "from pingouin import ttest\n",
    "from scipy.special import logsumexp\n",
    "from scipy.stats import skew, shapiro, kstest, norm"
   ]
  },
  {
   "cell_type": "code",
   "execution_count": 2,
   "id": "17372db1",
   "metadata": {},
   "outputs": [
    {
     "name": "stderr",
     "output_type": "stream",
     "text": [
      "/Users/jordansiegel/opt/anaconda3/lib/python3.8/site-packages/outdated/utils.py:14: OutdatedPackageWarning: The package pingouin is out of date. Your version is 0.5.3, the latest is 0.5.4.\n",
      "Set the environment variable OUTDATED_IGNORE=1 to disable these warnings.\n",
      "  return warn(\n"
     ]
    }
   ],
   "source": [
    "current_dir = os.getcwd()\n",
    "updatedchoicedata = pd.read_csv('shortformdata_DF.csv')\n",
    "plottingdata = pd.read_csv('longformdata_DF_plotting.csv')\n",
    "aq = pd.read_csv('%s/scoring/aq.csv'%(current_dir))\n",
    "brcs = pd.read_csv('%s/scoring/brcs.csv'%(current_dir))\n",
    "erq = pd.read_csv('%s/scoring/erq.csv'%(current_dir))\n",
    "ntbs = pd.read_csv('%s/scoring/ntbs.csv'%(current_dir))\n",
    "scs = pd.read_csv('%s/scoring/scs.csv'%(current_dir))\n",
    "srq = pd.read_csv('%s/scoring/srq.csv'%(current_dir))\n",
    "pss = pd.read_csv('%s/scoring/pss.csv'%(current_dir))\n",
    "rsq = pd.read_csv('%s/scoring/rsq.csv'%(current_dir))\n",
    "rr = pd.read_csv('%s/scoring/rr.csv'%(current_dir))\n",
    "mspss = pd.read_csv('%s/scoring/mspss.csv'%(current_dir))\n",
    "LSAS = pd.read_csv('%s/scoring/LSAS.csv'%(current_dir))\n",
    "DII = pd.read_csv('%s/scoring/DII.csv'%(current_dir))\n",
    "dast = pd.read_csv('%s/scoring/dast.csv'%(current_dir))"
   ]
  },
  {
   "cell_type": "code",
   "execution_count": 7,
   "id": "929a9d6e",
   "metadata": {},
   "outputs": [
    {
     "name": "stdout",
     "output_type": "stream",
     "text": [
      "Skewness of recoded_stress: -0.06462078552798053\n",
      "Shapiro-Wilk Test: Statistics=0.9688754081726074, p=2.6199066269327886e-05\n",
      "Sample does not look Gaussian (reject H0)\n"
     ]
    }
   ],
   "source": [
    "column_name = 'recoded_stress'  # Replace with your actual column name\n",
    "data_skewness = skew(updatedchoicedata['recoded_stress'])\n",
    "print(f\"Skewness of {column_name}: {data_skewness}\")\n",
    "stat, p = shapiro(updatedchoicedata['recoded_stress'])\n",
    "print(f'Shapiro-Wilk Test: Statistics={stat}, p={p}')\n",
    "alpha = 0.05\n",
    "if p > alpha:\n",
    "    print('Sample looks Gaussian (fail to reject H0)')\n",
    "else:\n",
    "    print('Sample does not look Gaussian (reject H0)')"
   ]
  },
  {
   "cell_type": "code",
   "execution_count": 8,
   "id": "014f75d2",
   "metadata": {},
   "outputs": [
    {
     "name": "stdout",
     "output_type": "stream",
     "text": [
      "Skewness of choice: 0.38344251288826303\n",
      "Shapiro-Wilk Test: Statistics=0.8150149583816528, p=1.2744977855557376e-16\n",
      "Sample does not look Gaussian (reject H0)\n"
     ]
    }
   ],
   "source": [
    "column_name = 'choice'  # Replace with your actual column name\n",
    "data_skewness = skew(updatedchoicedata['choice'])\n",
    "print(f\"Skewness of {column_name}: {data_skewness}\")\n",
    "stat, p = shapiro(updatedchoicedata['choice'])\n",
    "print(f'Shapiro-Wilk Test: Statistics={stat}, p={p}')\n",
    "alpha = 0.05\n",
    "if p > alpha:\n",
    "    print('Sample looks Gaussian (fail to reject H0)')\n",
    "else:\n",
    "    print('Sample does not look Gaussian (reject H0)')"
   ]
  },
  {
   "cell_type": "code",
   "execution_count": null,
   "id": "6ef6d54e",
   "metadata": {},
   "outputs": [],
   "source": []
  }
 ],
 "metadata": {
  "kernelspec": {
   "display_name": "Python 3",
   "language": "python",
   "name": "python3"
  },
  "language_info": {
   "codemirror_mode": {
    "name": "ipython",
    "version": 3
   },
   "file_extension": ".py",
   "mimetype": "text/x-python",
   "name": "python",
   "nbconvert_exporter": "python",
   "pygments_lexer": "ipython3",
   "version": "3.8.10"
  }
 },
 "nbformat": 4,
 "nbformat_minor": 5
}
