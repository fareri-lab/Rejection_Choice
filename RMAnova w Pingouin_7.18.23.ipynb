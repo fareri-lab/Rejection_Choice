{
 "cells": [
  {
   "cell_type": "code",
   "execution_count": 1,
   "id": "253ae133",
   "metadata": {},
   "outputs": [],
   "source": [
    "import pandas as pd\n",
    "import numpy as np\n",
    "import os \n",
    "import statistics \n",
    "import numpy as np\n",
    "import pandas as pd\n",
    "from pathlib import Path\n",
    "from scipy.stats import ttest_rel\n",
    "import matplotlib.pyplot as plt\n",
    "import math\n",
    "from statsmodels.stats.anova import AnovaRM\n",
    "from numpy import mean, std, cov\n",
    "from numpy.random import seed, randn\n",
    "import random as rd\n",
    "from sklearn import preprocessing\n",
    "from sklearn import datasets\n",
    "from sklearn.preprocessing import StandardScaler\n",
    "from sklearn.decomposition import PCA\n",
    "import matplotlib.pyplot as plt\n",
    "from matplotlib import pyplot\n",
    "from __future__ import division\n",
    "import sys\n",
    "import scipy\n",
    "from math import sqrt\n",
    "import scipy.stats as stats\n",
    "from scipy import stats \n",
    "from scipy.stats import t, pearsonr, sem\n",
    "import seaborn as sns\n",
    "from statistics import mean, stdev\n",
    "import statsmodels.api as sm\n",
    "import statsmodels.formula.api as smf\n",
    "import math\n",
    "import pingouin as pg\n",
    "from pingouin import ttest\n",
    "from scipy.special import logsumexp"
   ]
  },
  {
   "cell_type": "code",
   "execution_count": 2,
   "id": "b1e2d7e0",
   "metadata": {},
   "outputs": [],
   "source": [
    "current_dir = os.getcwd()\n",
    "updatedchoicedata = pd.read_csv('shortformdata_DF.csv')\n"
   ]
  },
  {
   "cell_type": "code",
   "execution_count": 4,
   "id": "bbf3a286",
   "metadata": {},
   "outputs": [
    {
     "name": "stdout",
     "output_type": "stream",
     "text": [
      "                  PROLIFIC_ID  condition_recode  afterstresschange  \\\n",
      "0    568d286ab5a2c2000cb6a91c                 0                1.0   \n",
      "1    568d286ab5a2c2000cb6a91c                 1                1.0   \n",
      "2    568d286ab5a2c2000cb6a91c                 2                1.0   \n",
      "3    595727bd7c76640001aa8f6e                 0                1.0   \n",
      "4    595727bd7c76640001aa8f6e                 1                1.0   \n",
      "..                        ...               ...                ...   \n",
      "202  641361334c91a0c6ff4c5b79                 1                1.0   \n",
      "203  641361334c91a0c6ff4c5b79                 2                1.0   \n",
      "204  641a3df3c874807a1a8734bc                 0                1.0   \n",
      "205  641a3df3c874807a1a8734bc                 1                1.0   \n",
      "206  641a3df3c874807a1a8734bc                 2                1.0   \n",
      "\n",
      "     salience_mean  stress_mean  recoded_stress    choice  rej-acc  ifnegvalue  \n",
      "0              4.0          5.0             5.0  0.833333     -0.5           1  \n",
      "1              1.5          4.5             4.5  1.000000     -0.5           1  \n",
      "2              3.5          5.0             5.0  1.000000     -0.5           1  \n",
      "3              4.0          5.0             5.0  0.600000      1.0           0  \n",
      "4              4.0          7.0             7.0  0.250000      1.0           0  \n",
      "..             ...          ...             ...       ...      ...         ...  \n",
      "202            1.0          9.0             9.0  1.000000      0.0           0  \n",
      "203            1.0          9.0             9.0  1.000000      0.0           0  \n",
      "204            3.0          6.0             6.0  0.500000     -1.0           1  \n",
      "205            3.0          6.0             6.0  0.166667     -1.0           1  \n",
      "206            5.0          7.0             7.0  0.181818     -1.0           1  \n",
      "\n",
      "[207 rows x 9 columns]\n"
     ]
    }
   ],
   "source": [
    "print(updatedchoicedata)"
   ]
  },
  {
   "cell_type": "code",
   "execution_count": 5,
   "id": "bc755840",
   "metadata": {},
   "outputs": [],
   "source": [
    "anovachoice = pg.rm_anova(data=updatedchoicedata, dv='choice', within='condition_recode', subject='PROLIFIC_ID', detailed=True, correction = True)"
   ]
  },
  {
   "cell_type": "code",
   "execution_count": 6,
   "id": "6ced157a",
   "metadata": {},
   "outputs": [
    {
     "name": "stdout",
     "output_type": "stream",
     "text": [
      "             Source        SS   DF        MS         F     p-unc  p-GG-corr  \\\n",
      "0  condition_recode  0.082809    2  0.041405  1.591366  0.207471   0.210256   \n",
      "1             Error  3.486447  134  0.026018       NaN       NaN        NaN   \n",
      "\n",
      "        ng2       eps sphericity   W-spher   p-spher  \n",
      "0  0.002409  0.878738      False  0.862005  0.007444  \n",
      "1       NaN       NaN        NaN       NaN       NaN  \n"
     ]
    }
   ],
   "source": [
    "print(anovachoice)"
   ]
  },
  {
   "cell_type": "code",
   "execution_count": 7,
   "id": "51b61f23",
   "metadata": {},
   "outputs": [
    {
     "name": "stdout",
     "output_type": "stream",
     "text": [
      "             Source         SS   DF         MS          F         p-unc  \\\n",
      "0  condition_recode  40.816176    2  20.408088  42.496705  5.094966e-15   \n",
      "1             Error  64.350490  134   0.480228        NaN           NaN   \n",
      "\n",
      "      p-GG-corr       ng2       eps sphericity   W-spher   p-spher  \n",
      "0  6.460215e-15  0.177868  0.991826       True  0.991759  0.761036  \n",
      "1           NaN       NaN       NaN        NaN       NaN       NaN  \n"
     ]
    }
   ],
   "source": [
    "anovasalience = pg.rm_anova(data=updatedchoicedata, dv='salience_mean', within='condition_recode', subject='PROLIFIC_ID', detailed=True, correction = True)\n",
    "print(anovasalience)"
   ]
  },
  {
   "cell_type": "code",
   "execution_count": 8,
   "id": "2124f325",
   "metadata": {},
   "outputs": [
    {
     "name": "stdout",
     "output_type": "stream",
     "text": [
      "             Source          SS   DF        MS         F    p-unc  p-GG-corr  \\\n",
      "0  condition_recode   18.154412    2  9.077206  9.489435  0.00014   0.000159   \n",
      "1             Error  128.178922  134  0.956559       NaN      NaN        NaN   \n",
      "\n",
      "        ng2       eps sphericity   W-spher   p-spher  \n",
      "0  0.019772  0.978825       True  0.978367  0.485907  \n",
      "1       NaN       NaN        NaN       NaN       NaN  \n"
     ]
    }
   ],
   "source": [
    "anovastress = pg.rm_anova(data=updatedchoicedata, dv='recoded_stress', within='condition_recode', subject='PROLIFIC_ID', detailed=True, correction = True)\n",
    "print(anovastress)"
   ]
  },
  {
   "cell_type": "code",
   "execution_count": 9,
   "id": "27279b26",
   "metadata": {},
   "outputs": [],
   "source": [
    "rej = updatedchoicedata.loc[updatedchoicedata['condition_recode']==1].reset_index(drop=True)\n",
    "acc = updatedchoicedata.loc[updatedchoicedata['condition_recode']==2].reset_index(drop=True)\n",
    "neu = updatedchoicedata.loc[updatedchoicedata['condition_recode']==0].reset_index(drop=True)\n"
   ]
  },
  {
   "cell_type": "code",
   "execution_count": 10,
   "id": "47eb97b8",
   "metadata": {},
   "outputs": [
    {
     "name": "stdout",
     "output_type": "stream",
     "text": [
      "           T  dof alternative  p-val          CI95%  cohen-d     BF10  power\n",
      "T-test -4.28   68        less    0.0  [-inf, -0.48]     0.37  672.417   0.92\n"
     ]
    }
   ],
   "source": [
    "rej_accstressttest = ttest(rej['recoded_stress'], acc['recoded_stress'], paired=True, alternative='less').round(2)\n",
    "print(rej_accstressttest)"
   ]
  },
  {
   "cell_type": "code",
   "execution_count": 11,
   "id": "18238a99",
   "metadata": {},
   "outputs": [
    {
     "name": "stdout",
     "output_type": "stream",
     "text": [
      "           T  dof alternative  p-val          CI95%  cohen-d   BF10  power\n",
      "T-test -2.59   68        less   0.01  [-inf, -0.15]     0.19  5.749   0.48\n"
     ]
    }
   ],
   "source": [
    "rej_neustressttest = ttest(rej['recoded_stress'], neu['recoded_stress'], paired=True, alternative='less').round(2)\n",
    "print(rej_neustressttest)"
   ]
  },
  {
   "cell_type": "code",
   "execution_count": 12,
   "id": "b17b7a52",
   "metadata": {},
   "outputs": [
    {
     "name": "stdout",
     "output_type": "stream",
     "text": [
      "          T  dof alternative  p-val          CI95%  cohen-d BF10  power\n",
      "T-test -2.2   68        less   0.02  [-inf, -0.08]     0.17  2.5   0.41\n"
     ]
    }
   ],
   "source": [
    "neu_accstressttest = ttest(neu['recoded_stress'], acc['recoded_stress'], paired=True, alternative='less').round(2)\n",
    "print(neu_accstressttest)"
   ]
  },
  {
   "cell_type": "code",
   "execution_count": 13,
   "id": "f0d6945a",
   "metadata": {},
   "outputs": [
    {
     "name": "stdout",
     "output_type": "stream",
     "text": [
      "           T  dof alternative  p-val          CI95%  cohen-d       BF10  power\n",
      "T-test -9.37   68        less    0.0  [-inf, -0.92]     1.23  2.052e+11    1.0\n"
     ]
    }
   ],
   "source": [
    "rej_accsaliencettest = ttest(rej['salience_mean'], acc['salience_mean'], paired=True, alternative='less').round(2)\n",
    "print(rej_accsaliencettest)"
   ]
  },
  {
   "cell_type": "code",
   "execution_count": 14,
   "id": "8ffcd83b",
   "metadata": {},
   "outputs": [
    {
     "name": "stdout",
     "output_type": "stream",
     "text": [
      "           T  dof alternative  p-val          CI95%  cohen-d      BF10  power\n",
      "T-test -4.78   68        less    0.0  [-inf, -0.35]     0.56  3550.867    1.0\n"
     ]
    }
   ],
   "source": [
    "rej_neusaliencettest = ttest(rej['salience_mean'], neu['salience_mean'], paired=True, alternative='less').round(2)\n",
    "print(rej_neusaliencettest)"
   ]
  },
  {
   "cell_type": "code",
   "execution_count": 15,
   "id": "277b746e",
   "metadata": {},
   "outputs": [
    {
     "name": "stdout",
     "output_type": "stream",
     "text": [
      "          T  dof alternative  p-val          CI95%  cohen-d      BF10  power\n",
      "T-test -4.7   68        less    0.0  [-inf, -0.37]     0.57  2757.302    1.0\n"
     ]
    }
   ],
   "source": [
    "neu_accsaliencettest = ttest(neu['salience_mean'], acc['salience_mean'], paired=True, alternative='less').round(2)\n",
    "print(neu_accsaliencettest)"
   ]
  },
  {
   "cell_type": "code",
   "execution_count": 16,
   "id": "c276f7f3",
   "metadata": {},
   "outputs": [
    {
     "name": "stdout",
     "output_type": "stream",
     "text": [
      "                 PROLIFIC_ID  condition_recode  afterstresschange  \\\n",
      "0   568d286ab5a2c2000cb6a91c                 1                1.0   \n",
      "1   595727bd7c76640001aa8f6e                 1                1.0   \n",
      "2   5a4636c92f91ec0001dcba07                 1                0.0   \n",
      "3   5ad2c8334d061300011b1985                 1                0.0   \n",
      "4   5adef850eb60400001539109                 1                0.0   \n",
      "..                       ...               ...                ...   \n",
      "64  63eac31811a6da58d4f32d76                 1                1.0   \n",
      "65  63fac97f0d4e8f6bfd753d90                 1                1.0   \n",
      "66  64023a98627b1116180dff0b                 1                1.0   \n",
      "67  641361334c91a0c6ff4c5b79                 1                1.0   \n",
      "68  641a3df3c874807a1a8734bc                 1                1.0   \n",
      "\n",
      "    salience_mean  stress_mean  recoded_stress    choice  rej-acc  ifnegvalue  \n",
      "0             1.5          4.5             4.5  1.000000     -0.5           1  \n",
      "1             4.0          7.0             7.0  0.250000      1.0           0  \n",
      "2             1.5          5.5             4.5  0.090909     -0.5           1  \n",
      "3             3.0          4.0             6.0  0.500000     -1.5           1  \n",
      "4             3.0          2.0             8.0  1.000000      2.5           0  \n",
      "..            ...          ...             ...       ...      ...         ...  \n",
      "64            3.0          9.0             9.0  0.000000      0.0           0  \n",
      "65            1.0          5.0             5.0  0.000000      0.0           0  \n",
      "66            1.5          2.0             2.0  0.666667     -4.0           1  \n",
      "67            1.0          9.0             9.0  1.000000      0.0           0  \n",
      "68            3.0          6.0             6.0  0.166667     -1.0           1  \n",
      "\n",
      "[69 rows x 9 columns]\n"
     ]
    }
   ],
   "source": [
    "print(rej)"
   ]
  },
  {
   "cell_type": "code",
   "execution_count": 17,
   "id": "0daf0129",
   "metadata": {},
   "outputs": [
    {
     "data": {
      "text/plain": [
       "69"
      ]
     },
     "execution_count": 17,
     "metadata": {},
     "output_type": "execute_result"
    }
   ],
   "source": [
    "len(rej)"
   ]
  },
  {
   "cell_type": "code",
   "execution_count": 18,
   "id": "59b6596c",
   "metadata": {},
   "outputs": [],
   "source": [
    "mostaffectedpps = updatedchoicedata.loc[updatedchoicedata['ifnegvalue']==1].reset_index(drop=True)\n",
    "leastaffectedpps = updatedchoicedata.loc[updatedchoicedata['ifnegvalue']==0].reset_index(drop=True)"
   ]
  },
  {
   "cell_type": "code",
   "execution_count": 19,
   "id": "bcee672a",
   "metadata": {},
   "outputs": [
    {
     "name": "stdout",
     "output_type": "stream",
     "text": [
      "123\n"
     ]
    }
   ],
   "source": [
    "print(len(mostaffectedpps))"
   ]
  },
  {
   "cell_type": "code",
   "execution_count": 20,
   "id": "1b979084",
   "metadata": {},
   "outputs": [],
   "source": [
    "mostaffectedanovachoice = pg.rm_anova(data=mostaffectedpps, dv='choice', within='condition_recode', subject='PROLIFIC_ID', detailed=True, correction = True)"
   ]
  },
  {
   "cell_type": "code",
   "execution_count": 21,
   "id": "9946ca03",
   "metadata": {},
   "outputs": [
    {
     "name": "stdout",
     "output_type": "stream",
     "text": [
      "             Source        SS  DF        MS         F     p-unc  p-GG-corr  \\\n",
      "0  condition_recode  0.025705   2  0.012853  0.408484  0.666071   0.650227   \n",
      "1             Error  2.454188  78  0.031464       NaN       NaN        NaN   \n",
      "\n",
      "        ng2      eps sphericity   W-spher   p-spher  \n",
      "0  0.001398  0.92476       True  0.918638  0.199408  \n",
      "1       NaN      NaN        NaN       NaN       NaN  \n"
     ]
    }
   ],
   "source": [
    "print(mostaffectedanovachoice)"
   ]
  },
  {
   "cell_type": "code",
   "execution_count": 22,
   "id": "5b165bf4",
   "metadata": {},
   "outputs": [],
   "source": [
    "leastaffectedanovachoice = pg.rm_anova(data=leastaffectedpps, dv='choice', within='condition_recode', subject='PROLIFIC_ID', detailed=True, correction = True)"
   ]
  },
  {
   "cell_type": "code",
   "execution_count": 23,
   "id": "caeb7f25",
   "metadata": {},
   "outputs": [
    {
     "name": "stdout",
     "output_type": "stream",
     "text": [
      "             Source        SS  DF        MS        F     p-unc  p-GG-corr  \\\n",
      "0  condition_recode  0.069120   2  0.034560  1.82921  0.170348    0.18321   \n",
      "1             Error  1.020243  54  0.018893      NaN       NaN        NaN   \n",
      "\n",
      "        ng2       eps sphericity   W-spher   p-spher  \n",
      "0  0.004682  0.679211      False  0.527704  0.000246  \n",
      "1       NaN       NaN        NaN       NaN       NaN  \n"
     ]
    }
   ],
   "source": [
    "print(leastaffectedanovachoice)"
   ]
  },
  {
   "cell_type": "code",
   "execution_count": 24,
   "id": "d4c2e53a",
   "metadata": {},
   "outputs": [
    {
     "name": "stdout",
     "output_type": "stream",
     "text": [
      "rejchoice_mean\n",
      "0.42863416776460256\n",
      "rejchoice_std\n",
      "0.41053453482829694\n"
     ]
    }
   ],
   "source": [
    "#proportion of self-choice in neutral condition\n",
    "rejchoice_mean = rej['choice'].mean()\n",
    "rejchoice_std = rej['choice'].std()\n",
    "print('rejchoice_mean')\n",
    "print(rejchoice_mean)\n",
    "print('rejchoice_std')\n",
    "print(rejchoice_std)"
   ]
  },
  {
   "cell_type": "code",
   "execution_count": 25,
   "id": "b0847121",
   "metadata": {},
   "outputs": [
    {
     "name": "stdout",
     "output_type": "stream",
     "text": [
      "accchoice_mean\n",
      "0.38030303030303025\n",
      "accchoice_std\n",
      "0.3960757238732947\n"
     ]
    }
   ],
   "source": [
    "accchoice_mean = acc['choice'].mean()\n",
    "accchoice_std = acc['choice'].std()\n",
    "print('accchoice_mean')\n",
    "print(accchoice_mean)\n",
    "print('accchoice_std')\n",
    "print(accchoice_std)"
   ]
  },
  {
   "cell_type": "code",
   "execution_count": 26,
   "id": "d66008c9",
   "metadata": {},
   "outputs": [
    {
     "name": "stdout",
     "output_type": "stream",
     "text": [
      "neuchoice_mean\n",
      "0.39975845410628014\n",
      "neuchoice_std\n",
      "0.43139169788803955\n"
     ]
    }
   ],
   "source": [
    "neuchoice_mean = neu['choice'].mean()\n",
    "neuchoice_std = neu['choice'].std()\n",
    "print('neuchoice_mean')\n",
    "print(neuchoice_mean)\n",
    "print('neuchoice_std')\n",
    "print(neuchoice_std)"
   ]
  },
  {
   "cell_type": "code",
   "execution_count": null,
   "id": "d1792e76",
   "metadata": {},
   "outputs": [],
   "source": []
  },
  {
   "cell_type": "code",
   "execution_count": null,
   "id": "037d7f7e",
   "metadata": {},
   "outputs": [],
   "source": []
  }
 ],
 "metadata": {
  "kernelspec": {
   "display_name": "Python 3",
   "language": "python",
   "name": "python3"
  },
  "language_info": {
   "codemirror_mode": {
    "name": "ipython",
    "version": 3
   },
   "file_extension": ".py",
   "mimetype": "text/x-python",
   "name": "python",
   "nbconvert_exporter": "python",
   "pygments_lexer": "ipython3",
   "version": "3.8.10"
  }
 },
 "nbformat": 4,
 "nbformat_minor": 5
}
