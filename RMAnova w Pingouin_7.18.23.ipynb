{
 "cells": [
  {
   "cell_type": "code",
   "execution_count": 148,
   "id": "253ae133",
   "metadata": {},
   "outputs": [],
   "source": [
    "import pandas as pd\n",
    "import numpy as np\n",
    "import os \n",
    "import statistics \n",
    "import numpy as np\n",
    "import pandas as pd\n",
    "from pathlib import Path\n",
    "from scipy.stats import ttest_rel\n",
    "import matplotlib.pyplot as plt\n",
    "import math\n",
    "from statsmodels.stats.anova import AnovaRM\n",
    "from numpy import mean, std, cov\n",
    "from numpy.random import seed, randn\n",
    "import random as rd\n",
    "from sklearn import preprocessing\n",
    "from sklearn import datasets\n",
    "from sklearn.preprocessing import StandardScaler\n",
    "from sklearn.decomposition import PCA\n",
    "import matplotlib.pyplot as plt\n",
    "from matplotlib import pyplot\n",
    "from __future__ import division\n",
    "import sys\n",
    "import scipy\n",
    "from math import sqrt\n",
    "import scipy.stats as stats\n",
    "from scipy import stats \n",
    "from scipy.stats import t, pearsonr, sem, spearmanr\n",
    "import seaborn as sns\n",
    "from statistics import mean, stdev\n",
    "import statsmodels.api as sm\n",
    "import statsmodels.formula.api as smf\n",
    "import math\n",
    "import pingouin as pg\n",
    "from pingouin import ttest\n",
    "from scipy.special import logsumexp"
   ]
  },
  {
   "cell_type": "code",
   "execution_count": 149,
   "id": "b1e2d7e0",
   "metadata": {},
   "outputs": [],
   "source": [
    "current_dir = os.getcwd()\n",
    "updatedchoicedata = pd.read_csv('shortformdata_DF.csv')\n"
   ]
  },
  {
   "cell_type": "code",
   "execution_count": 150,
   "id": "bbf3a286",
   "metadata": {},
   "outputs": [
    {
     "name": "stdout",
     "output_type": "stream",
     "text": [
      "                  PROLIFIC_ID  condition_recode  afterstresschange  \\\n",
      "0    568d286ab5a2c2000cb6a91c                 0                1.0   \n",
      "1    568d286ab5a2c2000cb6a91c                 1                1.0   \n",
      "2    568d286ab5a2c2000cb6a91c                 2                1.0   \n",
      "3    595727bd7c76640001aa8f6e                 0                1.0   \n",
      "4    595727bd7c76640001aa8f6e                 1                1.0   \n",
      "..                        ...               ...                ...   \n",
      "196  641361334c91a0c6ff4c5b79                 1                1.0   \n",
      "197  641361334c91a0c6ff4c5b79                 2                1.0   \n",
      "198  641a3df3c874807a1a8734bc                 0                1.0   \n",
      "199  641a3df3c874807a1a8734bc                 1                1.0   \n",
      "200  641a3df3c874807a1a8734bc                 2                1.0   \n",
      "\n",
      "     salience_mean  stress_mean  recoded_stress    choice  rej-acc  ifnegvalue  \n",
      "0              4.0          5.0             5.0  0.833333     -0.5           1  \n",
      "1              1.5          4.5             4.5  1.000000     -0.5           1  \n",
      "2              3.5          5.0             5.0  1.000000     -0.5           1  \n",
      "3              4.0          5.0             5.0  0.600000      1.0           0  \n",
      "4              4.0          7.0             7.0  0.250000      1.0           0  \n",
      "..             ...          ...             ...       ...      ...         ...  \n",
      "196            1.0          9.0             9.0  1.000000      0.0           0  \n",
      "197            1.0          9.0             9.0  1.000000      0.0           0  \n",
      "198            3.0          6.0             6.0  0.500000     -1.0           1  \n",
      "199            3.0          6.0             6.0  0.166667     -1.0           1  \n",
      "200            5.0          7.0             7.0  0.181818     -1.0           1  \n",
      "\n",
      "[201 rows x 9 columns]\n"
     ]
    }
   ],
   "source": [
    "print(updatedchoicedata)"
   ]
  },
  {
   "cell_type": "code",
   "execution_count": 151,
   "id": "bc755840",
   "metadata": {},
   "outputs": [],
   "source": [
    "anovachoice = pg.rm_anova(data=updatedchoicedata, dv='choice', within='condition_recode', subject='PROLIFIC_ID', detailed=True, correction = True)"
   ]
  },
  {
   "cell_type": "code",
   "execution_count": 152,
   "id": "6ced157a",
   "metadata": {},
   "outputs": [
    {
     "name": "stdout",
     "output_type": "stream",
     "text": [
      "             Source        SS   DF        MS         F     p-unc  p-GG-corr  \\\n",
      "0  condition_recode  0.073489    2  0.036745  1.398559  0.250587   0.250683   \n",
      "1             Error  3.468066  132  0.026273       NaN       NaN        NaN   \n",
      "\n",
      "        ng2       eps sphericity   W-spher   p-spher  \n",
      "0  0.002149  0.874549      False  0.856553  0.006524  \n",
      "1       NaN       NaN        NaN       NaN       NaN  \n"
     ]
    }
   ],
   "source": [
    "print(anovachoice)"
   ]
  },
  {
   "cell_type": "code",
   "execution_count": 153,
   "id": "51b61f23",
   "metadata": {},
   "outputs": [
    {
     "name": "stdout",
     "output_type": "stream",
     "text": [
      "             Source         SS   DF         MS          F         p-unc  \\\n",
      "0  condition_recode  41.450249    2  20.725124  43.389805  3.291757e-15   \n",
      "1             Error  63.049751  132   0.477650        NaN           NaN   \n",
      "\n",
      "      p-GG-corr       ng2       eps sphericity   W-spher   p-spher  \n",
      "0  3.835181e-15  0.189288  0.994816       True  0.994789  0.843842  \n",
      "1           NaN       NaN       NaN        NaN       NaN       NaN  \n"
     ]
    }
   ],
   "source": [
    "anovasalience = pg.rm_anova(data=updatedchoicedata, dv='salience_mean', within='condition_recode', subject='PROLIFIC_ID', detailed=True, correction = True)\n",
    "print(anovasalience)"
   ]
  },
  {
   "cell_type": "code",
   "execution_count": 154,
   "id": "2124f325",
   "metadata": {},
   "outputs": [
    {
     "name": "stdout",
     "output_type": "stream",
     "text": [
      "             Source          SS   DF        MS         F     p-unc  p-GG-corr  \\\n",
      "0  condition_recode   18.300995    2  9.150498  9.751416  0.000112   0.000139   \n",
      "1             Error  123.865672  132  0.938376       NaN       NaN        NaN   \n",
      "\n",
      "        ng2       eps sphericity   W-spher   p-spher  \n",
      "0  0.020236  0.966373       True  0.965203  0.316303  \n",
      "1       NaN       NaN        NaN       NaN       NaN  \n"
     ]
    }
   ],
   "source": [
    "anovastress = pg.rm_anova(data=updatedchoicedata, dv='recoded_stress', within='condition_recode', subject='PROLIFIC_ID', detailed=True, correction = True)\n",
    "print(anovastress)"
   ]
  },
  {
   "cell_type": "code",
   "execution_count": 155,
   "id": "27279b26",
   "metadata": {},
   "outputs": [],
   "source": [
    "rej = updatedchoicedata.loc[updatedchoicedata['condition_recode']==1].reset_index(drop=True)\n",
    "acc = updatedchoicedata.loc[updatedchoicedata['condition_recode']==2].reset_index(drop=True)\n",
    "neu = updatedchoicedata.loc[updatedchoicedata['condition_recode']==0].reset_index(drop=True)\n"
   ]
  },
  {
   "cell_type": "code",
   "execution_count": 156,
   "id": "47eb97b8",
   "metadata": {},
   "outputs": [
    {
     "name": "stdout",
     "output_type": "stream",
     "text": [
      "           T  dof alternative  p-val          CI95%  cohen-d     BF10  power\n",
      "T-test -4.12   66        less    0.0  [-inf, -0.44]     0.35  392.838   0.89\n"
     ]
    }
   ],
   "source": [
    "rej_accstressttest = ttest(rej['recoded_stress'], acc['recoded_stress'], paired=True, alternative='less').round(2)\n",
    "print(rej_accstressttest)"
   ]
  },
  {
   "cell_type": "code",
   "execution_count": 157,
   "id": "18238a99",
   "metadata": {},
   "outputs": [
    {
     "name": "stdout",
     "output_type": "stream",
     "text": [
      "           T  dof alternative  p-val          CI95%  cohen-d  BF10  power\n",
      "T-test -2.29   66        less   0.01  [-inf, -0.11]     0.17  3.05   0.41\n"
     ]
    }
   ],
   "source": [
    "rej_neustressttest = ttest(rej['recoded_stress'], neu['recoded_stress'], paired=True, alternative='less').round(2)\n",
    "print(rej_neustressttest)"
   ]
  },
  {
   "cell_type": "code",
   "execution_count": 158,
   "id": "b17b7a52",
   "metadata": {},
   "outputs": [
    {
     "name": "stdout",
     "output_type": "stream",
     "text": [
      "          T  dof alternative  p-val         CI95%  cohen-d   BF10  power\n",
      "T-test -2.3   66        less   0.01  [-inf, -0.1]     0.17  3.133   0.41\n"
     ]
    }
   ],
   "source": [
    "neu_accstressttest = ttest(neu['recoded_stress'], acc['recoded_stress'], paired=True, alternative='less').round(2)\n",
    "print(neu_accstressttest)"
   ]
  },
  {
   "cell_type": "code",
   "execution_count": 159,
   "id": "f0d6945a",
   "metadata": {},
   "outputs": [
    {
     "name": "stdout",
     "output_type": "stream",
     "text": [
      "           T  dof alternative  p-val          CI95%  cohen-d       BF10  power\n",
      "T-test -9.29   66        less    0.0  [-inf, -0.91]     1.24  1.134e+11    1.0\n"
     ]
    }
   ],
   "source": [
    "rej_accsaliencettest = ttest(rej['salience_mean'], acc['salience_mean'], paired=True, alternative='less').round(2)\n",
    "print(rej_accsaliencettest)"
   ]
  },
  {
   "cell_type": "code",
   "execution_count": 160,
   "id": "8ffcd83b",
   "metadata": {},
   "outputs": [
    {
     "name": "stdout",
     "output_type": "stream",
     "text": [
      "           T  dof alternative  p-val          CI95%  cohen-d     BF10  power\n",
      "T-test -4.59   66        less    0.0  [-inf, -0.34]     0.57  1825.27    1.0\n"
     ]
    }
   ],
   "source": [
    "rej_neusaliencettest = ttest(rej['salience_mean'], neu['salience_mean'], paired=True, alternative='less').round(2)\n",
    "print(rej_neusaliencettest)"
   ]
  },
  {
   "cell_type": "code",
   "execution_count": 161,
   "id": "277b746e",
   "metadata": {},
   "outputs": [
    {
     "name": "stdout",
     "output_type": "stream",
     "text": [
      "           T  dof alternative  p-val          CI95%  cohen-d      BF10  power\n",
      "T-test -4.74   66        less    0.0  [-inf, -0.38]     0.58  3004.275    1.0\n"
     ]
    }
   ],
   "source": [
    "neu_accsaliencettest = ttest(neu['salience_mean'], acc['salience_mean'], paired=True, alternative='less').round(2)\n",
    "print(neu_accsaliencettest)"
   ]
  },
  {
   "cell_type": "code",
   "execution_count": 162,
   "id": "c276f7f3",
   "metadata": {},
   "outputs": [
    {
     "name": "stdout",
     "output_type": "stream",
     "text": [
      "                 PROLIFIC_ID  condition_recode  afterstresschange  \\\n",
      "0   568d286ab5a2c2000cb6a91c                 1                1.0   \n",
      "1   595727bd7c76640001aa8f6e                 1                1.0   \n",
      "2   5a4636c92f91ec0001dcba07                 1                0.0   \n",
      "3   5ad2c8334d061300011b1985                 1                0.0   \n",
      "4   5adef850eb60400001539109                 1                0.0   \n",
      "..                       ...               ...                ...   \n",
      "62  63eac31811a6da58d4f32d76                 1                1.0   \n",
      "63  63fac97f0d4e8f6bfd753d90                 1                1.0   \n",
      "64  64023a98627b1116180dff0b                 1                1.0   \n",
      "65  641361334c91a0c6ff4c5b79                 1                1.0   \n",
      "66  641a3df3c874807a1a8734bc                 1                1.0   \n",
      "\n",
      "    salience_mean  stress_mean  recoded_stress    choice  rej-acc  ifnegvalue  \n",
      "0             1.5          4.5             4.5  1.000000     -0.5           1  \n",
      "1             4.0          7.0             7.0  0.250000      1.0           0  \n",
      "2             1.5          5.5             4.5  0.090909     -0.5           1  \n",
      "3             3.0          4.0             6.0  0.500000     -1.5           1  \n",
      "4             3.0          2.0             8.0  1.000000      2.5           0  \n",
      "..            ...          ...             ...       ...      ...         ...  \n",
      "62            3.0          9.0             9.0  0.000000      0.0           0  \n",
      "63            1.0          5.0             5.0  0.000000      0.0           0  \n",
      "64            1.5          2.0             2.0  0.666667     -4.0           1  \n",
      "65            1.0          9.0             9.0  1.000000      0.0           0  \n",
      "66            3.0          6.0             6.0  0.166667     -1.0           1  \n",
      "\n",
      "[67 rows x 9 columns]\n"
     ]
    }
   ],
   "source": [
    "print(rej)"
   ]
  },
  {
   "cell_type": "code",
   "execution_count": 163,
   "id": "0daf0129",
   "metadata": {},
   "outputs": [
    {
     "name": "stdout",
     "output_type": "stream",
     "text": [
      "67\n",
      "67\n",
      "67\n"
     ]
    }
   ],
   "source": [
    "print(len(rej))\n",
    "print(len(neu))\n",
    "print(len(acc))"
   ]
  },
  {
   "cell_type": "code",
   "execution_count": 164,
   "id": "59b6596c",
   "metadata": {},
   "outputs": [],
   "source": [
    "mostaffectedpps = updatedchoicedata.loc[updatedchoicedata['ifnegvalue']==1].reset_index(drop=True)\n",
    "leastaffectedpps = updatedchoicedata.loc[updatedchoicedata['ifnegvalue']==0].reset_index(drop=True)"
   ]
  },
  {
   "cell_type": "code",
   "execution_count": 165,
   "id": "bcee672a",
   "metadata": {},
   "outputs": [
    {
     "name": "stdout",
     "output_type": "stream",
     "text": [
      "120\n"
     ]
    }
   ],
   "source": [
    "print(len(mostaffectedpps))"
   ]
  },
  {
   "cell_type": "code",
   "execution_count": 166,
   "id": "1b979084",
   "metadata": {},
   "outputs": [],
   "source": [
    "mostaffectedanovachoice = pg.rm_anova(data=mostaffectedpps, dv='choice', within='condition_recode', subject='PROLIFIC_ID', detailed=True, correction = True)"
   ]
  },
  {
   "cell_type": "code",
   "execution_count": 167,
   "id": "9946ca03",
   "metadata": {},
   "outputs": [
    {
     "name": "stdout",
     "output_type": "stream",
     "text": [
      "             Source        SS  DF        MS         F     p-unc  p-GG-corr  \\\n",
      "0  condition_recode  0.025705   2  0.012853  0.408484  0.666071   0.650227   \n",
      "1             Error  2.454188  78  0.031464       NaN       NaN        NaN   \n",
      "\n",
      "        ng2      eps sphericity   W-spher   p-spher  \n",
      "0  0.001398  0.92476       True  0.918638  0.199408  \n",
      "1       NaN      NaN        NaN       NaN       NaN  \n"
     ]
    }
   ],
   "source": [
    "print(mostaffectedanovachoice)"
   ]
  },
  {
   "cell_type": "code",
   "execution_count": 168,
   "id": "5b165bf4",
   "metadata": {},
   "outputs": [],
   "source": [
    "leastaffectedanovachoice = pg.rm_anova(data=leastaffectedpps, dv='choice', within='condition_recode', subject='PROLIFIC_ID', detailed=True, correction = True)"
   ]
  },
  {
   "cell_type": "code",
   "execution_count": 169,
   "id": "caeb7f25",
   "metadata": {},
   "outputs": [
    {
     "name": "stdout",
     "output_type": "stream",
     "text": [
      "             Source        SS  DF        MS         F     p-unc  p-GG-corr  \\\n",
      "0  condition_recode  0.056029   2  0.028014  1.448581  0.244225   0.244465   \n",
      "1             Error  1.005634  52  0.019339       NaN       NaN        NaN   \n",
      "\n",
      "        ng2       eps sphericity   W-spher   p-spher  \n",
      "0  0.003816  0.664269      False  0.494585  0.000151  \n",
      "1       NaN       NaN        NaN       NaN       NaN  \n"
     ]
    }
   ],
   "source": [
    "print(leastaffectedanovachoice)"
   ]
  },
  {
   "cell_type": "code",
   "execution_count": 170,
   "id": "d4c2e53a",
   "metadata": {},
   "outputs": [
    {
     "name": "stdout",
     "output_type": "stream",
     "text": [
      "rejchoice_mean\n",
      "0.4305744007236545\n",
      "rejchoice_std\n",
      "0.4117122529795472\n"
     ]
    }
   ],
   "source": [
    "#proportion of self-choice in neutral condition\n",
    "rejchoice_mean = rej['choice'].mean()\n",
    "rejchoice_std = rej['choice'].std()\n",
    "print('rejchoice_mean')\n",
    "print(rejchoice_mean)\n",
    "print('rejchoice_std')\n",
    "print(rejchoice_std)"
   ]
  },
  {
   "cell_type": "code",
   "execution_count": 171,
   "id": "b0847121",
   "metadata": {},
   "outputs": [
    {
     "name": "stdout",
     "output_type": "stream",
     "text": [
      "accchoice_mean\n",
      "0.3841926729986432\n",
      "accchoice_std\n",
      "0.3990062494947449\n"
     ]
    }
   ],
   "source": [
    "accchoice_mean = acc['choice'].mean()\n",
    "accchoice_std = acc['choice'].std()\n",
    "print('accchoice_mean')\n",
    "print(accchoice_mean)\n",
    "print('accchoice_std')\n",
    "print(accchoice_std)"
   ]
  },
  {
   "cell_type": "code",
   "execution_count": 172,
   "id": "d66008c9",
   "metadata": {},
   "outputs": [
    {
     "name": "stdout",
     "output_type": "stream",
     "text": [
      "neuchoice_mean\n",
      "0.4017412935323383\n",
      "neuchoice_std\n",
      "0.43385879493495255\n"
     ]
    }
   ],
   "source": [
    "neuchoice_mean = neu['choice'].mean()\n",
    "neuchoice_std = neu['choice'].std()\n",
    "print('neuchoice_mean')\n",
    "print(neuchoice_mean)\n",
    "print('neuchoice_std')\n",
    "print(neuchoice_std)"
   ]
  },
  {
   "cell_type": "code",
   "execution_count": 188,
   "id": "d1792e76",
   "metadata": {},
   "outputs": [],
   "source": [
    "aq = pd.read_csv('%s/scoring/aq.csv'%(current_dir))\n",
    "brcs = pd.read_csv('%s/scoring/brcs.csv'%(current_dir))\n",
    "erq = pd.read_csv('%s/scoring/erq.csv'%(current_dir))\n",
    "ntbs = pd.read_csv('%s/scoring/ntbs.csv'%(current_dir))\n",
    "scs = pd.read_csv('%s/scoring/scs.csv'%(current_dir))\n",
    "srq = pd.read_csv('%s/scoring/srq.csv'%(current_dir))\n",
    "pss = pd.read_csv('%s/scoring/pss.csv'%(current_dir))\n",
    "rsq = pd.read_csv('%s/scoring/rsq.csv'%(current_dir))\n",
    "rr = pd.read_csv('%s/scoring/rr.csv'%(current_dir))\n",
    "mspss = pd.read_csv('%s/scoring/mspss.csv'%(current_dir))"
   ]
  },
  {
   "cell_type": "code",
   "execution_count": 174,
   "id": "3f4e58ea",
   "metadata": {},
   "outputs": [
    {
     "name": "stdout",
     "output_type": "stream",
     "text": [
      "67\n",
      "67\n",
      "67\n",
      "67\n",
      "67\n",
      "67\n"
     ]
    }
   ],
   "source": [
    "rejchoice = rej['choice']\n",
    "accchoice = acc['choice']\n",
    "neuchoice = neu['choice']\n",
    "print(len(rejchoice))\n",
    "print(len(accchoice))\n",
    "print(len(neuchoice))\n",
    "print(len(aq))\n",
    "print(len(ntbs))\n",
    "print(len(mspss))"
   ]
  },
  {
   "cell_type": "code",
   "execution_count": 175,
   "id": "4ce19ae3",
   "metadata": {},
   "outputs": [
    {
     "name": "stdout",
     "output_type": "stream",
     "text": [
      "                 Prolific_ID    AQ\n",
      "0   568d286ab5a2c2000cb6a91c  24.0\n",
      "1   595727bd7c76640001aa8f6e  33.0\n",
      "2   5a4636c92f91ec0001dcba07  32.0\n",
      "3   5ad2c8334d061300011b1985  11.0\n",
      "4   5adef850eb60400001539109  21.0\n",
      "..                       ...   ...\n",
      "62  63eac31811a6da58d4f32d76  16.0\n",
      "63  63fac97f0d4e8f6bfd753d90  30.0\n",
      "64  64023a98627b1116180dff0b  30.0\n",
      "65  641361334c91a0c6ff4c5b79  10.0\n",
      "66  641a3df3c874807a1a8734bc  20.0\n",
      "\n",
      "[67 rows x 2 columns]\n"
     ]
    }
   ],
   "source": [
    "print(aq)"
   ]
  },
  {
   "cell_type": "code",
   "execution_count": 176,
   "id": "5c14f752",
   "metadata": {},
   "outputs": [],
   "source": [
    "rejchoice = rej['choice']\n",
    "accchoice = acc['choice']\n",
    "neuchoice = neu['choice']\n",
    "\n",
    "rejstress = rej['recoded_stress']\n",
    "accstress = acc['recoded_stress']\n",
    "neustress = neu['recoded_stress']\n",
    "\n",
    "rejsalience = rej['salience_mean']\n",
    "accsalience = acc['salience_mean']\n",
    "neusalience = neu['salience_mean']"
   ]
  },
  {
   "cell_type": "code",
   "execution_count": 177,
   "id": "1763b732",
   "metadata": {},
   "outputs": [
    {
     "data": {
      "image/png": "[encoded data removed]",
      "text/plain": [
       "<Figure size 432x288 with 1 Axes>"
      ]
     },
     "metadata": {
      "needs_background": "light"
     },
     "output_type": "display_data"
    },
    {
     "name": "stdout",
     "output_type": "stream",
     "text": [
      "[[68.95251018 -0.44580952]\n",
      " [-0.44580952  0.16950698]]\n",
      "Spearmans correlation: -0.165\n",
      "p value: 0.1814\n",
      "Accept null hypothesis that the means are equal.\n"
     ]
    }
   ],
   "source": [
    "# prop_choicerej // aq\n",
    "pyplot.scatter(aq['AQ'],rejchoice)\n",
    "pyplot.show()\n",
    "covariance = cov(aq['AQ'],rejchoice)\n",
    "print(covariance)\n",
    "corr, _ = spearmanr(aq['AQ'],rejchoice)\n",
    "print('Spearmans correlation: %.3f' % corr)\n",
    "r,p = scipy.stats.spearmanr(aq['AQ'],rejchoice)\n",
    "print('p value: %.4f' % p)\n",
    "\n",
    "alpha = 0.10\n",
    "if p > alpha:\n",
    " print('Accept null hypothesis that the means are equal.')\n",
    "else:\n",
    "    print('Reject the null hypothesis that the means are equal.')"
   ]
  },
  {
   "cell_type": "code",
   "execution_count": 178,
   "id": "ea3df056",
   "metadata": {},
   "outputs": [
    {
     "data": {
      "image/png": "[encoded data removed]",
      "text/plain": [
       "<Figure size 432x288 with 1 Axes>"
      ]
     },
     "metadata": {
      "needs_background": "light"
     },
     "output_type": "display_data"
    },
    {
     "name": "stdout",
     "output_type": "stream",
     "text": [
      "[[17.30710086 -0.72841474]\n",
      " [-0.72841474  0.16950698]]\n",
      "Spearmans correlation: -0.413\n",
      "p value: 0.0005\n",
      "Reject the null hypothesis that the means are equal.\n"
     ]
    }
   ],
   "source": [
    "# prop_choicerej // ntbs\n",
    "pyplot.scatter(ntbs['NTBS_score'],rejchoice)\n",
    "pyplot.show()\n",
    "covariance = cov(ntbs['NTBS_score'],rejchoice)\n",
    "print(covariance)\n",
    "corr, _ = spearmanr(ntbs['NTBS_score'],rejchoice)\n",
    "print('Spearmans correlation: %.3f' % corr)\n",
    "r,p = scipy.stats.spearmanr(ntbs['NTBS_score'],rejchoice)\n",
    "print('p value: %.4f' % p)\n",
    "\n",
    "alpha = 0.10\n",
    "if p > alpha:\n",
    " print('Accept null hypothesis that the means are equal.')\n",
    "else:\n",
    "    print('Reject the null hypothesis that the means are equal.')"
   ]
  },
  {
   "cell_type": "code",
   "execution_count": 179,
   "id": "cf0fb966",
   "metadata": {},
   "outputs": [
    {
     "data": {
      "image/png": "[encoded data removed]",
      "text/plain": [
       "<Figure size 432x288 with 1 Axes>"
      ]
     },
     "metadata": {
      "needs_background": "light"
     },
     "output_type": "display_data"
    },
    {
     "name": "stdout",
     "output_type": "stream",
     "text": [
      "[[1.24124689e+01 4.17313399e-03]\n",
      " [4.17313399e-03 1.69506979e-01]]\n",
      "Spearmans correlation: -0.004\n",
      "p value: 0.9760\n",
      "Accept null hypothesis that the means are equal.\n"
     ]
    }
   ],
   "source": [
    "# prop_choicerej // rsq\n",
    "pyplot.scatter(rsq[\"RSQ_finalscore\"],rejchoice)\n",
    "pyplot.show()\n",
    "covariance = cov(rsq[\"RSQ_finalscore\"],rejchoice)\n",
    "print(covariance)\n",
    "corr, _ = spearmanr(rsq[\"RSQ_finalscore\"],rejchoice)\n",
    "print('Spearmans correlation: %.3f' % corr)\n",
    "r,p = scipy.stats.spearmanr(rsq[\"RSQ_finalscore\"],rejchoice)\n",
    "print('p value: %.4f' % p)\n",
    "\n",
    "alpha = 0.10\n",
    "if p > alpha:\n",
    " print('Accept null hypothesis that the means are equal.')\n",
    "else:\n",
    "    print('Reject the null hypothesis that the means are equal.')\n"
   ]
  },
  {
   "cell_type": "code",
   "execution_count": 180,
   "id": "ca4dfc24",
   "metadata": {},
   "outputs": [
    {
     "data": {
      "image/png": "[encoded data removed]",
      "text/plain": [
       "<Figure size 432x288 with 1 Axes>"
      ]
     },
     "metadata": {
      "needs_background": "light"
     },
     "output_type": "display_data"
    },
    {
     "name": "stdout",
     "output_type": "stream",
     "text": [
      "[[83.55540479  0.18047401]\n",
      " [ 0.18047401  0.16950698]]\n",
      "Spearmans correlation: 0.066\n",
      "p value: 0.5942\n",
      "Accept null hypothesis that the means are equal.\n"
     ]
    }
   ],
   "source": [
    "# prop_choicerej // pss\n",
    "\n",
    "pyplot.scatter(pss[\"PSS_score\"],rejchoice)\n",
    "pyplot.show()\n",
    "covariance = cov(pss[\"PSS_score\"],rejchoice)\n",
    "print(covariance)\n",
    "corr, _ = spearmanr(pss[\"PSS_score\"],rejchoice)\n",
    "print('Spearmans correlation: %.3f' % corr)\n",
    "r,p = scipy.stats.spearmanr(pss[\"PSS_score\"],rejchoice)\n",
    "print('p value: %.4f' % p)\n",
    "\n",
    "alpha = 0.10\n",
    "if p > alpha:\n",
    " print('Accept null hypothesis that the means are equal.')\n",
    "else:\n",
    "    print('Reject the null hypothesis that the means are equal.')"
   ]
  },
  {
   "cell_type": "code",
   "execution_count": 181,
   "id": "f0fba19b",
   "metadata": {},
   "outputs": [
    {
     "data": {
      "image/png": "[encoded data removed]",
      "text/plain": [
       "<Figure size 432x288 with 1 Axes>"
      ]
     },
     "metadata": {
      "needs_background": "light"
     },
     "output_type": "display_data"
    },
    {
     "name": "stdout",
     "output_type": "stream",
     "text": [
      "[[ 1.90326775 -0.06620667]\n",
      " [-0.06620667  0.16950698]]\n",
      "Spearmans correlation: -0.102\n",
      "p value: 0.4130\n",
      "Accept null hypothesis that the means are equal.\n"
     ]
    }
   ],
   "source": [
    "# prop_choicerej // erq emotional suppression\n",
    "pyplot.scatter(erq['ERQ_emosuppression'],rejchoice)\n",
    "pyplot.show()\n",
    "covariance = cov(erq['ERQ_emosuppression'],rejchoice)\n",
    "print(covariance)\n",
    "corr, _ = spearmanr(erq['ERQ_emosuppression'],rejchoice)\n",
    "print('Spearmans correlation: %.3f' % corr)\n",
    "r,p = scipy.stats.spearmanr(erq['ERQ_emosuppression'],rejchoice)\n",
    "print('p value: %.4f' % p)\n",
    "\n",
    "alpha = 0.10\n",
    "if p > alpha:\n",
    " print('Accept null hypothesis that the means are equal.')\n",
    "else:\n",
    "    print('Reject the null hypothesis that the means are equal.')\n"
   ]
  },
  {
   "cell_type": "code",
   "execution_count": 182,
   "id": "a77c2fbd",
   "metadata": {},
   "outputs": [
    {
     "data": {
      "image/png": "[encoded data removed]",
      "text/plain": [
       "<Figure size 432x288 with 1 Axes>"
      ]
     },
     "metadata": {
      "needs_background": "light"
     },
     "output_type": "display_data"
    },
    {
     "name": "stdout",
     "output_type": "stream",
     "text": [
      "[[1.91327454 0.01554698]\n",
      " [0.01554698 0.16950698]]\n",
      "Spearmans correlation: 0.030\n",
      "p value: 0.8068\n",
      "Accept null hypothesis that the means are equal.\n"
     ]
    }
   ],
   "source": [
    "# prop_choicerej // erq emotional cogreappraisal\n",
    "pyplot.scatter(erq['ERQ_cogreappraisal'],rejchoice)\n",
    "pyplot.show()\n",
    "covariance = cov(erq['ERQ_cogreappraisal'],rejchoice)\n",
    "print(covariance)\n",
    "corr, _ = spearmanr(erq['ERQ_cogreappraisal'],rejchoice)\n",
    "print('Spearmans correlation: %.3f' % corr)\n",
    "r,p = scipy.stats.spearmanr(erq['ERQ_cogreappraisal'],rejchoice)\n",
    "print('p value: %.4f' % p)\n",
    "\n",
    "alpha = 0.10\n",
    "if p > alpha:\n",
    " print('Accept null hypothesis that the means are equal.')\n",
    "else:\n",
    "    print('Reject the null hypothesis that the means are equal.')\n"
   ]
  },
  {
   "cell_type": "code",
   "execution_count": 183,
   "id": "15960ba5",
   "metadata": {},
   "outputs": [
    {
     "data": {
      "image/png": "[encoded data removed]",
      "text/plain": [
       "<Figure size 432x288 with 1 Axes>"
      ]
     },
     "metadata": {
      "needs_background": "light"
     },
     "output_type": "display_data"
    },
    {
     "name": "stdout",
     "output_type": "stream",
     "text": [
      "[[5.49665762e+02 9.27326864e-01]\n",
      " [9.27326864e-01 1.69506979e-01]]\n",
      "Spearmans correlation: 0.105\n",
      "p value: 0.3958\n",
      "Accept null hypothesis that the means are equal.\n"
     ]
    }
   ],
   "source": [
    "# prop_choicerej // scs\n",
    "\n",
    "pyplot.scatter(scs[\"SCS_score\"],rejchoice)\n",
    "pyplot.show()\n",
    "covariance = cov(scs[\"SCS_score\"],rejchoice)\n",
    "print(covariance)\n",
    "corr, _ = spearmanr(scs[\"SCS_score\"],rejchoice)\n",
    "print('Spearmans correlation: %.3f' % corr)\n",
    "r,p = scipy.stats.spearmanr(scs[\"SCS_score\"],rejchoice)\n",
    "print('p value: %.4f' % p)\n",
    "\n",
    "alpha = 0.10\n",
    "if p > alpha:\n",
    " print('Accept null hypothesis that the means are equal.')\n",
    "else:\n",
    "    print('Reject the null hypothesis that the means are equal.')"
   ]
  },
  {
   "cell_type": "code",
   "execution_count": 190,
   "id": "fec24a4c",
   "metadata": {},
   "outputs": [
    {
     "data": {
      "image/png": "[encoded data removed]",
      "text/plain": [
       "<Figure size 432x288 with 1 Axes>"
      ]
     },
     "metadata": {
      "needs_background": "light"
     },
     "output_type": "display_data"
    },
    {
     "name": "stdout",
     "output_type": "stream",
     "text": [
      "[[ 1.64009498 -0.15361365]\n",
      " [-0.15361365  0.16950698]]\n",
      "Spearmans correlation: -0.265\n",
      "p value: 0.0304\n",
      "Reject the null hypothesis that the means are equal.\n"
     ]
    }
   ],
   "source": [
    "# prop_choicerej // srq admiration\n",
    "\n",
    "pyplot.scatter(srq[\"SRQ_admiration\"],rejchoice)\n",
    "pyplot.show()\n",
    "covariance = cov(srq[\"SRQ_admiration\"],rejchoice)\n",
    "print(covariance)\n",
    "corr, _ = spearmanr(srq[\"SRQ_admiration\"],rejchoice)\n",
    "print('Spearmans correlation: %.3f' % corr)\n",
    "r,p = scipy.stats.spearmanr(srq[\"SRQ_admiration\"],rejchoice)\n",
    "print('p value: %.4f' % p)\n",
    "\n",
    "alpha = 0.10\n",
    "if p > alpha:\n",
    " print('Accept null hypothesis that the means are equal.')\n",
    "else:\n",
    "    print('Reject the null hypothesis that the means are equal.')"
   ]
  },
  {
   "cell_type": "code",
   "execution_count": 191,
   "id": "7b467e33",
   "metadata": {},
   "outputs": [
    {
     "data": {
      "image/png": "[encoded data removed]",
      "text/plain": [
       "<Figure size 432x288 with 1 Axes>"
      ]
     },
     "metadata": {
      "needs_background": "light"
     },
     "output_type": "display_data"
    },
    {
     "name": "stdout",
     "output_type": "stream",
     "text": [
      "[[ 1.01054726e+00 -9.96395433e-05]\n",
      " [-9.96395433e-05  1.69506979e-01]]\n",
      "Spearmans correlation: -0.046\n",
      "p value: 0.7130\n",
      "Accept null hypothesis that the means are equal.\n"
     ]
    }
   ],
   "source": [
    "# prop_choicerej // srq negsocpot\n",
    "\n",
    "pyplot.scatter(srq['SRQ_negsocpot'],rejchoice)\n",
    "pyplot.show()\n",
    "covariance = cov(srq['SRQ_negsocpot'],rejchoice)\n",
    "print(covariance)\n",
    "corr, _ = spearmanr(srq['SRQ_negsocpot'],rejchoice)\n",
    "print('Spearmans correlation: %.3f' % corr)\n",
    "r,p = scipy.stats.spearmanr(srq['SRQ_negsocpot'],rejchoice)\n",
    "print('p value: %.4f' % p)\n",
    "\n",
    "alpha = 0.10\n",
    "if p > alpha:\n",
    " print('Accept null hypothesis that the means are equal.')\n",
    "else:\n",
    "    print('Reject the null hypothesis that the means are equal.')"
   ]
  },
  {
   "cell_type": "code",
   "execution_count": 192,
   "id": "4d83b33a",
   "metadata": {},
   "outputs": [
    {
     "data": {
      "image/png": "[encoded data removed]",
      "text/plain": [
       "<Figure size 432x288 with 1 Axes>"
      ]
     },
     "metadata": {
      "needs_background": "light"
     },
     "output_type": "display_data"
    },
    {
     "name": "stdout",
     "output_type": "stream",
     "text": [
      "[[0.38588874 0.00255616]\n",
      " [0.00255616 0.16950698]]\n",
      "Spearmans correlation: 0.010\n",
      "p value: 0.9340\n",
      "Accept null hypothesis that the means are equal.\n"
     ]
    }
   ],
   "source": [
    "# prop_choicerej // srq prosocint\n",
    "\n",
    "pyplot.scatter(srq['SRQ_prosocint'],rejchoice)\n",
    "pyplot.show()\n",
    "covariance = cov(srq['SRQ_prosocint'],rejchoice)\n",
    "print(covariance)\n",
    "corr, _ = spearmanr(srq['SRQ_prosocint'],rejchoice)\n",
    "print('Spearmans correlation: %.3f' % corr)\n",
    "r,p = scipy.stats.spearmanr(srq['SRQ_prosocint'],rejchoice)\n",
    "print('p value: %.4f' % p)\n",
    "\n",
    "alpha = 0.10\n",
    "if p > alpha:\n",
    " print('Accept null hypothesis that the means are equal.')\n",
    "else:\n",
    "    print('Reject the null hypothesis that the means are equal.')"
   ]
  },
  {
   "cell_type": "code",
   "execution_count": 193,
   "id": "c39a4c33",
   "metadata": {},
   "outputs": [
    {
     "data": {
      "image/png": "[encoded data removed]",
      "text/plain": [
       "<Figure size 432x288 with 1 Axes>"
      ]
     },
     "metadata": {
      "needs_background": "light"
     },
     "output_type": "display_data"
    },
    {
     "name": "stdout",
     "output_type": "stream",
     "text": [
      "[[ 2.32257902 -0.06640957]\n",
      " [-0.06640957  0.16950698]]\n",
      "Spearmans correlation: -0.114\n",
      "p value: 0.3581\n",
      "Accept null hypothesis that the means are equal.\n"
     ]
    }
   ],
   "source": [
    "# prop_choicerej // srq sexrel\n",
    "\n",
    "pyplot.scatter(srq['SRQ_sexrel'],rejchoice)\n",
    "pyplot.show()\n",
    "covariance = cov(srq['SRQ_sexrel'],rejchoice)\n",
    "print(covariance)\n",
    "corr, _ = spearmanr(srq['SRQ_sexrel'],rejchoice)\n",
    "print('Spearmans correlation: %.3f' % corr)\n",
    "r,p = scipy.stats.spearmanr(srq['SRQ_sexrel'],rejchoice)\n",
    "print('p value: %.4f' % p)\n",
    "\n",
    "alpha = 0.10\n",
    "if p > alpha:\n",
    " print('Accept null hypothesis that the means are equal.')\n",
    "else:\n",
    "    print('Reject the null hypothesis that the means are equal.')"
   ]
  },
  {
   "cell_type": "code",
   "execution_count": 194,
   "id": "e4a5c944",
   "metadata": {},
   "outputs": [
    {
     "data": {
      "image/png": "[encoded data removed]",
      "text/plain": [
       "<Figure size 432x288 with 1 Axes>"
      ]
     },
     "metadata": {
      "needs_background": "light"
     },
     "output_type": "display_data"
    },
    {
     "name": "stdout",
     "output_type": "stream",
     "text": [
      "[[ 1.43213227 -0.03292045]\n",
      " [-0.03292045  0.16950698]]\n",
      "Spearmans correlation: -0.040\n",
      "p value: 0.7463\n",
      "Accept null hypothesis that the means are equal.\n"
     ]
    }
   ],
   "source": [
    "# prop_choicerej // srq sociability\n",
    "\n",
    "pyplot.scatter(srq['SRQ_sociability'],rejchoice)\n",
    "pyplot.show()\n",
    "covariance = cov(srq['SRQ_sociability'],rejchoice)\n",
    "print(covariance)\n",
    "corr, _ = spearmanr(srq['SRQ_sociability'],rejchoice)\n",
    "print('Spearmans correlation: %.3f' % corr)\n",
    "r,p = scipy.stats.spearmanr(srq['SRQ_sociability'],rejchoice)\n",
    "print('p value: %.4f' % p)\n",
    "\n",
    "alpha = 0.10\n",
    "if p > alpha:\n",
    " print('Accept null hypothesis that the means are equal.')\n",
    "else:\n",
    "    print('Reject the null hypothesis that the means are equal.')"
   ]
  },
  {
   "cell_type": "code",
   "execution_count": 195,
   "id": "6647efbd",
   "metadata": {},
   "outputs": [
    {
     "data": {
      "text/plain": [
       "<matplotlib.axes._subplots.AxesSubplot at 0x7f89b017afd0>"
      ]
     },
     "execution_count": 195,
     "metadata": {},
     "output_type": "execute_result"
    },
    {
     "data": {
      "image/png": "[encoded data removed]",
      "text/plain": [
       "<Figure size 432x288 with 1 Axes>"
      ]
     },
     "metadata": {
      "needs_background": "light"
     },
     "output_type": "display_data"
    }
   ],
   "source": [
    "sns.histplot(data= rejchoice, kde=True)"
   ]
  },
  {
   "cell_type": "code",
   "execution_count": 196,
   "id": "18b9a720",
   "metadata": {},
   "outputs": [
    {
     "data": {
      "text/plain": [
       "<matplotlib.axes._subplots.AxesSubplot at 0x7f89d84a0e80>"
      ]
     },
     "execution_count": 196,
     "metadata": {},
     "output_type": "execute_result"
    },
    {
     "data": {
      "image/png": "[encoded data removed]",
      "text/plain": [
       "<Figure size 432x288 with 1 Axes>"
      ]
     },
     "metadata": {
      "needs_background": "light"
     },
     "output_type": "display_data"
    }
   ],
   "source": [
    "sns.histplot(data= accchoice, kde=True)"
   ]
  },
  {
   "cell_type": "code",
   "execution_count": 197,
   "id": "58f56a85",
   "metadata": {},
   "outputs": [
    {
     "data": {
      "text/plain": [
       "<matplotlib.axes._subplots.AxesSubplot at 0x7f89900cf220>"
      ]
     },
     "execution_count": 197,
     "metadata": {},
     "output_type": "execute_result"
    },
    {
     "data": {
      "image/png": "[encoded data removed]",
      "text/plain": [
       "<Figure size 432x288 with 1 Axes>"
      ]
     },
     "metadata": {
      "needs_background": "light"
     },
     "output_type": "display_data"
    }
   ],
   "source": [
    "sns.histplot(data= neuchoice, kde=True)"
   ]
  },
  {
   "cell_type": "code",
   "execution_count": 198,
   "id": "60d1d6d2",
   "metadata": {},
   "outputs": [
    {
     "data": {
      "image/png": "[encoded data removed]",
      "text/plain": [
       "<Figure size 432x288 with 1 Axes>"
      ]
     },
     "metadata": {
      "needs_background": "light"
     },
     "output_type": "display_data"
    },
    {
     "name": "stdout",
     "output_type": "stream",
     "text": [
      "[[ 0.16950698 -0.72841474]\n",
      " [-0.72841474 17.30710086]]\n",
      "Spearmans correlation: -0.413\n",
      "p value: 0.0005\n",
      "Reject the null hypothesis that the means are equal.\n"
     ]
    }
   ],
   "source": [
    "# prop_choicerej // ntbs\n",
    "pyplot.scatter(rejchoice, ntbs['NTBS_score'])\n",
    "pyplot.show()\n",
    "covariance = cov(rejchoice, ntbs['NTBS_score'])\n",
    "print(covariance)\n",
    "corr, _ = spearmanr(rejchoice, ntbs['NTBS_score'])\n",
    "print('Spearmans correlation: %.3f' % corr)\n",
    "r,p = scipy.stats.spearmanr(rejchoice, ntbs['NTBS_score'])\n",
    "print('p value: %.4f' % p)\n",
    "\n",
    "alpha = 0.10\n",
    "if p > alpha:\n",
    " print('Accept null hypothesis that the means are equal.')\n",
    "else:\n",
    "    print('Reject the null hypothesis that the means are equal.')"
   ]
  },
  {
   "cell_type": "code",
   "execution_count": 199,
   "id": "77b52471",
   "metadata": {},
   "outputs": [
    {
     "data": {
      "image/png": "[encoded data removed]",
      "text/plain": [
       "<Figure size 432x288 with 1 Axes>"
      ]
     },
     "metadata": {
      "needs_background": "light"
     },
     "output_type": "display_data"
    },
    {
     "name": "stdout",
     "output_type": "stream",
     "text": [
      "[[ 5.25011307 -3.673564  ]\n",
      " [-3.673564   17.30710086]]\n",
      "Spearmans correlation: -0.402\n",
      "p value: 0.0007\n",
      "Reject the null hypothesis that the means are equal.\n"
     ]
    }
   ],
   "source": [
    "# rejstress // ntbs\n",
    "pyplot.scatter(rejstress, ntbs['NTBS_score'])\n",
    "pyplot.show()\n",
    "covariance = cov(rejstress, ntbs['NTBS_score'])\n",
    "print(covariance)\n",
    "corr, _ = spearmanr(rejstress, ntbs['NTBS_score'])\n",
    "print('Spearmans correlation: %.3f' % corr)\n",
    "r,p = scipy.stats.spearmanr(rejstress, ntbs['NTBS_score'])\n",
    "print('p value: %.4f' % p)\n",
    "\n",
    "alpha = 0.10\n",
    "if p > alpha:\n",
    " print('Accept null hypothesis that the means are equal.')\n",
    "else:\n",
    "    print('Reject the null hypothesis that the means are equal.')\n",
    "\n"
   ]
  },
  {
   "cell_type": "code",
   "execution_count": 200,
   "id": "dea2ee9e",
   "metadata": {},
   "outputs": [
    {
     "data": {
      "image/png": "[encoded data removed]",
      "text/plain": [
       "<Figure size 432x288 with 1 Axes>"
      ]
     },
     "metadata": {
      "needs_background": "light"
     },
     "output_type": "display_data"
    },
    {
     "name": "stdout",
     "output_type": "stream",
     "text": [
      "[[ 5.25011307 -3.673564  ]\n",
      " [-3.673564   17.30710086]]\n",
      "Pearsons correlation: -0.385\n",
      "p value: 0.0013\n",
      "Reject the null hypothesis that the means are equal.\n"
     ]
    }
   ],
   "source": [
    "#rejstress // ntbs\n",
    "pyplot.scatter(rejstress, ntbs['NTBS_score'])\n",
    "pyplot.show()\n",
    "covariance = cov(rejstress, ntbs['NTBS_score'])\n",
    "print(covariance)\n",
    "corr, _ = pearsonr(rejstress, ntbs['NTBS_score'])\n",
    "print('Pearsons correlation: %.3f' % corr)\n",
    "r,p = scipy.stats.pearsonr(rejstress, ntbs['NTBS_score'])\n",
    "print('p value: %.4f' % p)\n",
    "\n",
    "alpha = 0.10\n",
    "if p > alpha:\n",
    " print('Accept null hypothesis that the means are equal.')\n",
    "else:\n",
    "    print('Reject the null hypothesis that the means are equal.')"
   ]
  },
  {
   "cell_type": "code",
   "execution_count": 137,
   "id": "7729e90e",
   "metadata": {},
   "outputs": [
    {
     "data": {
      "image/png": "[encoded data removed]",
      "text/plain": [
       "<Figure size 432x288 with 1 Axes>"
      ]
     },
     "metadata": {
      "needs_background": "light"
     },
     "output_type": "display_data"
    },
    {
     "name": "stdout",
     "output_type": "stream",
     "text": [
      "[[ 0.16950698 -0.1257216 ]\n",
      " [-0.1257216  10.22795115]]\n",
      "Spearmansr correlation: -0.049\n",
      "p value: 0.6951\n",
      "Accept null hypothesis that the means are equal.\n"
     ]
    }
   ],
   "source": [
    "# prop_choicerej // rr\n",
    "pyplot.scatter(rejchoice, rr['RR_score'])\n",
    "pyplot.show()\n",
    "covariance = cov(rejchoice, rr['RR_score'])\n",
    "print(covariance)\n",
    "corr, _ = spearmanr(rejchoice, rr['RR_score'])\n",
    "print('Spearmansr correlation: %.3f' % corr)\n",
    "r,p = scipy.stats.spearmanr(rejchoice, rr['RR_score'])\n",
    "print('p value: %.4f' % p)\n",
    "\n",
    "alpha = 0.10\n",
    "if p > alpha:\n",
    " print('Accept null hypothesis that the means are equal.')\n",
    "else:\n",
    "    print('Reject the null hypothesis that the means are equal.')"
   ]
  },
  {
   "cell_type": "code",
   "execution_count": 138,
   "id": "369dc6ad",
   "metadata": {},
   "outputs": [
    {
     "data": {
      "image/png": "[encoded data removed]",
      "text/plain": [
       "<Figure size 432x288 with 1 Axes>"
      ]
     },
     "metadata": {
      "needs_background": "light"
     },
     "output_type": "display_data"
    },
    {
     "name": "stdout",
     "output_type": "stream",
     "text": [
      "[[ 0.16950698 -0.050455  ]\n",
      " [-0.050455    1.54231054]]\n",
      "Spearmansr correlation: -0.063\n",
      "p value: 0.6153\n",
      "Accept null hypothesis that the means are equal.\n"
     ]
    }
   ],
   "source": [
    "# prop_choicerej // mspss\n",
    "pyplot.scatter(rejchoice, mspss['MSPSS_score'])\n",
    "pyplot.show()\n",
    "covariance = cov(rejchoice, mspss['MSPSS_score'])\n",
    "print(covariance)\n",
    "corr, _ = spearmanr(rejchoice, mspss['MSPSS_score'])\n",
    "print('Spearmansr correlation: %.3f' % corr)\n",
    "r,p = scipy.stats.spearmanr(rejchoice, mspss['MSPSS_score'])\n",
    "print('p value: %.4f' % p)\n",
    "\n",
    "alpha = 0.10\n",
    "if p > alpha:\n",
    " print('Accept null hypothesis that the means are equal.')\n",
    "else:\n",
    "    print('Reject the null hypothesis that the means are equal.')"
   ]
  },
  {
   "cell_type": "code",
   "execution_count": null,
   "id": "cbdd639c",
   "metadata": {},
   "outputs": [],
   "source": []
  }
 ],
 "metadata": {
  "kernelspec": {
   "display_name": "Python 3",
   "language": "python",
   "name": "python3"
  },
  "language_info": {
   "codemirror_mode": {
    "name": "ipython",
    "version": 3
   },
   "file_extension": ".py",
   "mimetype": "text/x-python",
   "name": "python",
   "nbconvert_exporter": "python",
   "pygments_lexer": "ipython3",
   "version": "3.8.10"
  }
 },
 "nbformat": 4,
 "nbformat_minor": 5
}
