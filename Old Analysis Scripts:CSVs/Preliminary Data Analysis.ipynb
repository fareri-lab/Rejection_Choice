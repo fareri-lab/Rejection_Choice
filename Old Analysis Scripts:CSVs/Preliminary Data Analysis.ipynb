{
 "cells": [
  {
   "cell_type": "code",
   "execution_count": 31,
   "id": "c21f33cc",
   "metadata": {},
   "outputs": [],
   "source": [
    "import pandas as pd\n",
    "import numpy as np\n",
    "import os \n",
    "import statistics \n",
    "import numpy as np\n",
    "import pandas as pd\n",
    "from pathlib import Path\n",
    "from scipy.stats import ttest_rel\n",
    "import matplotlib as mpl\n",
    "import matplotlib.pyplot as plt\n",
    "\n",
    "import seaborn as sns\n",
    "#import seaborn.objects as so\n",
    "\n",
    "current_dir = os.getcwd()\n",
    "alltaskdata = pd.read_csv('RejChoice_MasterData.csv')\n",
    "taskdata = pd.read_csv('Taskdata_foranalysis.csv')\n",
    "taskdata = taskdata.sort_values(by=['Prolific_id'])\n",
    "selfreportdata = pd.read_csv('%s/scoring/selfreportdata_master.csv'%(current_dir))\n",
    "correlationdataframe = pd.read_xlsx(updatedchoicedata.xlsx)"
   ]
  },
  {
   "cell_type": "code",
   "execution_count": 2,
   "id": "78f778ab",
   "metadata": {},
   "outputs": [
    {
     "name": "stdout",
     "output_type": "stream",
     "text": [
      "/Users/jordansiegel/Documents/GitHub/Rejection_Choice\n"
     ]
    }
   ],
   "source": [
    "print(current_dir)"
   ]
  },
  {
   "cell_type": "code",
   "execution_count": 5,
   "id": "39e66734",
   "metadata": {},
   "outputs": [
    {
     "name": "stdout",
     "output_type": "stream",
     "text": [
      "                 PROLIFIC_ID         AQ       BRCS  ERQ_emosuppression  \\\n",
      "0   5a4636c92f91ec0001dcba07  32.000000  14.000000            4.250000   \n",
      "1   5ad2c8334d061300011b1985  11.000000  18.000000            3.000000   \n",
      "2   5adef850eb60400001539109  21.000000  15.000000            5.250000   \n",
      "3   5d55d562e04e1c0001f5e682   7.000000  18.000000            1.000000   \n",
      "4   5dcb685070d51c8275d7bd54   8.000000  17.000000            1.000000   \n",
      "5   5dee8ee31255595293a9906b  14.000000  16.000000            3.500000   \n",
      "6   5ec75df0d799ae1c11a8115c  28.000000  19.000000            6.000000   \n",
      "7   5eefc651cb94ad4c4d017b86  17.000000  17.000000            1.500000   \n",
      "8   5f16f559325a640008bb9a07  31.000000  13.000000            4.250000   \n",
      "9   5f32bc368853aa03df112fc6  13.000000  17.000000            2.000000   \n",
      "10  5ff27bb4ad8fba794c1b96fa  31.000000  16.000000            2.750000   \n",
      "11  60bff9298f56d55c8ecd9adf  19.000000  15.000000            2.000000   \n",
      "12  60dbf4d94a3b5564b68881e8  13.000000  15.000000            5.000000   \n",
      "13  60ef2700e476748689a999f7  33.000000  12.000000            4.500000   \n",
      "14  60fcebba7345a976efc9c080  16.000000  17.000000            1.250000   \n",
      "15  610024bfd6e1038ba3b1601d  18.000000  14.000000            4.750000   \n",
      "16  61006614d4c56450afce3a6b  26.000000  17.000000            3.750000   \n",
      "17  6111234ac8cfa49e38acbfb4  10.000000  15.000000            4.500000   \n",
      "18  61338374ecef87bfdfd1c7bb  16.000000  19.000000            1.000000   \n",
      "19  6154a88b71a7f4347658b0f7  27.000000  16.000000            5.750000   \n",
      "20  630386f64c5bbd56ab1c3b0f  21.000000  15.000000            1.250000   \n",
      "21  631f3abc8826b6e7e8982648  32.000000   8.000000            4.250000   \n",
      "22  63235c5bf70d8e4f79b205cd  20.000000  15.000000            3.500000   \n",
      "23  63d1b0363f9bd5a6062dfb1c  21.000000  17.000000            5.500000   \n",
      "24  63d5bb0d1cc3800ad1e343dc  13.000000  20.000000            2.500000   \n",
      "25  63e51e528df11f83a1aacab8  37.000000  14.000000            5.000000   \n",
      "26  63e52399159a69bf0ea848c6  29.000000  19.000000            2.750000   \n",
      "27                       NaN  20.888889  15.851852            3.398148   \n",
      "\n",
      "    ERQ_cogreappraisal       NTBS        PSS     RSQ    SCS  SRQ_admiration  \\\n",
      "0             5.000000  38.000000  17.000000   4.000   74.0            4.00   \n",
      "1             6.833333  32.000000  10.000000   9.500  102.0            6.25   \n",
      "2             4.166667  30.000000  21.000000  10.375   59.0            6.00   \n",
      "3             5.000000  34.000000   5.000000   6.375  116.0            7.00   \n",
      "4             4.333333  38.000000   4.000000  10.625  116.0            7.00   \n",
      "5             5.000000  28.000000  19.000000  11.875   89.0            5.00   \n",
      "6             6.666667  26.000000   3.000000   5.750   70.0            5.25   \n",
      "7             5.333333  32.000000  16.000000   5.875  100.0            6.00   \n",
      "8             4.000000  36.000000  15.000000  11.875   86.0            7.00   \n",
      "9             5.833333  33.000000   8.000000  10.625  108.0            4.25   \n",
      "10            2.833333  25.000000  28.000000  11.250   67.0            5.00   \n",
      "11            6.833333  36.000000  23.000000  11.750   77.0            6.75   \n",
      "12            4.000000  28.000000  17.000000  12.125   81.0            2.25   \n",
      "13            3.000000  37.000000  40.000000  13.750   20.0            6.00   \n",
      "14            6.166667  27.000000   9.000000   6.625  117.0            3.50   \n",
      "15            5.166667  33.000000  15.000000  11.250   89.0            5.00   \n",
      "16            5.500000  24.000000  17.000000  10.125   88.0            6.00   \n",
      "17            2.666667  33.000000  27.000000   7.500  110.0            4.25   \n",
      "18            4.500000  37.000000   9.000000   8.750  103.0            7.00   \n",
      "19            3.833333  28.000000  22.000000   9.875   62.0            3.75   \n",
      "20            1.666667  27.000000  23.000000   8.125   98.0            5.50   \n",
      "21            3.500000  30.000000   2.000000  10.875   67.0            4.50   \n",
      "22            3.166667  39.000000  25.000000   7.500   76.0            7.00   \n",
      "23            4.666667  30.000000  33.000000  11.000   65.0            6.00   \n",
      "24            6.000000  38.000000  12.000000  13.250  115.0            7.00   \n",
      "25            5.333333  36.000000  19.000000  10.250   66.0            5.00   \n",
      "26            5.333333  28.000000  17.000000   9.250   53.0            2.25   \n",
      "27            4.679012  31.962963  16.888889     NaN    NaN             NaN   \n",
      "\n",
      "    ...  SRQ_sexrel  SRQ_sociability  DAST  DII_functionalimpulsivity  \\\n",
      "0   ...    4.666667         4.666667   4.0                        5.0   \n",
      "1   ...    3.666667         4.333333   6.0                        7.0   \n",
      "2   ...    5.000000         5.333333   6.0                        7.0   \n",
      "3   ...    7.000000         6.666667   4.0                        7.0   \n",
      "4   ...    7.000000         6.666667   5.0                        3.0   \n",
      "5   ...    5.000000         5.333333   5.0                        6.0   \n",
      "6   ...    6.000000         3.333333   4.0                        8.0   \n",
      "7   ...    5.000000         6.000000   5.0                        4.0   \n",
      "8   ...    6.000000         6.333333   5.0                        5.0   \n",
      "9   ...    3.666667         4.333333   3.0                        8.0   \n",
      "10  ...    1.000000         5.333333   4.0                        3.0   \n",
      "11  ...    6.666667         6.333333   4.0                        4.0   \n",
      "12  ...    6.000000         2.333333   4.0                        5.0   \n",
      "13  ...    2.000000         5.666667   5.0                        4.0   \n",
      "14  ...    7.000000         4.666667   4.0                        4.0   \n",
      "15  ...    4.000000         4.000000   7.0                        5.0   \n",
      "16  ...    6.333333         6.000000   6.0                        7.0   \n",
      "17  ...    5.000000         4.666667   4.0                        5.0   \n",
      "18  ...    5.666667         5.333333   4.0                        7.0   \n",
      "19  ...    6.000000         5.000000   4.0                        6.0   \n",
      "20  ...    4.000000         4.000000   4.0                        5.0   \n",
      "21  ...    2.666667         2.666667   5.0                        7.0   \n",
      "22  ...    4.000000         6.000000   3.0                        8.0   \n",
      "23  ...    7.000000         5.666667   4.0                        4.0   \n",
      "24  ...    7.000000         7.000000   4.0                        5.0   \n",
      "25  ...    1.000000         3.000000   5.0                        4.0   \n",
      "26  ...    5.000000         2.333333   5.0                        7.0   \n",
      "27  ...         NaN              NaN   NaN                        NaN   \n",
      "\n",
      "    DII_dysfunctionalimpulsivity  LSAS_avoidance  LSAS_fear  LSAS_total  \\\n",
      "0                            3.0            35.0       37.0        72.0   \n",
      "1                            2.0            28.0       31.0        59.0   \n",
      "2                            2.0            26.0       27.0        53.0   \n",
      "3                            2.0            24.0       32.0        56.0   \n",
      "4                            2.0            36.0       37.0        73.0   \n",
      "5                            1.0            60.0       51.0       111.0   \n",
      "6                            3.0            35.0       35.0        70.0   \n",
      "7                            2.0            23.0       36.0        59.0   \n",
      "8                            2.0            27.0       26.0        53.0   \n",
      "9                            6.0            28.0       63.0        91.0   \n",
      "10                           3.0             6.0        8.0        14.0   \n",
      "11                           2.0            11.0       13.0        24.0   \n",
      "12                           2.0            92.0       93.0       185.0   \n",
      "13                           3.0            13.0       13.0        26.0   \n",
      "14                           2.0            40.0       38.0        78.0   \n",
      "15                           2.0            68.0       65.0       133.0   \n",
      "16                           7.0            23.0       17.0        40.0   \n",
      "17                           2.0            26.0       28.0        54.0   \n",
      "18                           3.0            65.0       63.0       128.0   \n",
      "19                           2.0            33.0       24.0        57.0   \n",
      "20                           2.0            17.0       19.0        36.0   \n",
      "21                           5.0            55.0       27.0        82.0   \n",
      "22                           1.0            79.0       89.0       168.0   \n",
      "23                           1.0            24.0       24.0        48.0   \n",
      "24                           2.0            53.0       51.0       104.0   \n",
      "25                           4.0            82.0       68.0       150.0   \n",
      "26                           1.0            57.0       54.0       111.0   \n",
      "27                           NaN             NaN        NaN         NaN   \n",
      "\n",
      "       MSPSS    RR  \n",
      "0   5.583333  25.0  \n",
      "1   6.166667  26.0  \n",
      "2   3.250000  31.0  \n",
      "3   6.916667  29.0  \n",
      "4   4.916667  20.0  \n",
      "5   6.166667  25.0  \n",
      "6   6.750000  29.0  \n",
      "7   6.083333  25.0  \n",
      "8   6.166667  26.0  \n",
      "9   3.583333  17.0  \n",
      "10  5.083333  22.0  \n",
      "11  6.166667  26.0  \n",
      "12  2.916667  21.0  \n",
      "13  7.000000  22.0  \n",
      "14  3.916667  22.0  \n",
      "15  6.500000  26.0  \n",
      "16  6.416667  25.0  \n",
      "17  6.500000  27.0  \n",
      "18  3.666667  24.0  \n",
      "19  6.000000  30.0  \n",
      "20  5.500000  22.0  \n",
      "21  5.250000  29.0  \n",
      "22  4.416667  28.0  \n",
      "23  7.000000  32.0  \n",
      "24  4.500000  24.0  \n",
      "25  4.666667  28.0  \n",
      "26  4.500000  23.0  \n",
      "27       NaN   NaN  \n",
      "\n",
      "[28 rows x 22 columns]\n"
     ]
    }
   ],
   "source": [
    "print(selfreportdata)"
   ]
  },
  {
   "cell_type": "code",
   "execution_count": 6,
   "id": "779f1670",
   "metadata": {},
   "outputs": [
    {
     "name": "stdout",
     "output_type": "stream",
     "text": [
      "1.2767380790480258\n",
      "10.430595867400488\n",
      "0.35535080747981285\n",
      "4.244383550885449\n"
     ]
    }
   ],
   "source": [
    "photosharert = alltaskdata['sharenextphoto_keyrt']\n",
    "photosharert = pd.DataFrame(photosharert).replace(np.nan, 0)\n",
    "photosharert_mean = photosharert['sharenextphoto_keyrt'].mean()\n",
    "photosharert_stdev = statistics.stdev(photosharert['sharenextphoto_keyrt'])\n",
    "print(photosharert_mean)\n",
    "print(photosharert_stdev)\n",
    "\n",
    "lotteryrt = alltaskdata['resumeafterlottery_keysrt']\n",
    "lotteryrt = pd.DataFrame(lotteryrt).replace(np.nan, 0)\n",
    "lotteryrt_mean = lotteryrt['resumeafterlottery_keysrt'].mean()\n",
    "lotteryrt_stdev =statistics.stdev(lotteryrt['resumeafterlottery_keysrt'])\n",
    "print(lotteryrt_mean)\n",
    "print(lotteryrt_stdev)"
   ]
  },
  {
   "cell_type": "code",
   "execution_count": 7,
   "id": "068aeb5b",
   "metadata": {},
   "outputs": [
    {
     "name": "stdout",
     "output_type": "stream",
     "text": [
      "1.5162701234567892\n",
      "0.7806952368572857\n"
     ]
    }
   ],
   "source": [
    "#find mean response time & stdev for choice across all participants\n",
    "choicert = pd.DataFrame()\n",
    "choicert = taskdata['choice_keysrt']\n",
    "choicert = pd.DataFrame(choicert)\n",
    "choicert['choice_keysrt'] = choicert['choice_keysrt'].replace(np.nan, 0)\n",
    "\n",
    "choicert_mean = choicert['choice_keysrt'].mean()\n",
    "print(choicert_mean)\n",
    "\n",
    "choicert_stdev = statistics.stdev(choicert['choice_keysrt'])\n",
    "print(choicert_stdev)"
   ]
  },
  {
   "cell_type": "code",
   "execution_count": 44,
   "id": "deb1f8d0",
   "metadata": {},
   "outputs": [
    {
     "name": "stdout",
     "output_type": "stream",
     "text": [
      "0.4365079365079365\n",
      "0.49628071119860356\n"
     ]
    }
   ],
   "source": [
    "#self is set to 1, computer is set to 0\n",
    "\n",
    "#overall proportion of times self was selected as a choice\n",
    "choice = pd.DataFrame()\n",
    "choice = taskdata['choiceresponse']\n",
    "choice = pd.DataFrame(choice)\n",
    "overallchoiceproportion = choice['choiceresponse'].mean()\n",
    "overallchoice_std = choice['choiceresponse'].std()\n",
    "print(overallchoiceproportion)\n",
    "print(overallchoice_std)"
   ]
  },
  {
   "cell_type": "code",
   "execution_count": 12,
   "id": "5dcefb09",
   "metadata": {},
   "outputs": [
    {
     "name": "stdout",
     "output_type": "stream",
     "text": [
      "neutral_by_choice\n",
      "0.3881578947368421\n",
      "0.48894185118942823\n",
      "rej_by_choice\n",
      "0.49337748344370863\n",
      "0.5007859436443733\n",
      "acc_by_choice\n",
      "0.40397350993377484\n",
      "0.4915067071259199\n"
     ]
    }
   ],
   "source": [
    "\n",
    "#overall proportion of selecting self across conditions\n",
    "#neutral = 0, rejection = 1, acceptance = 2\n",
    "#make dataframe for calculation\n",
    "\n",
    "choice['condition'] = taskdata['condition']\n",
    "choice = pd.DataFrame(choice)\n",
    "choice = choice.dropna()\n",
    "\n",
    "#slice dataframe to include only rows where condition is neutral\n",
    "neutralchoice = choice[choice['condition'] == 0]\n",
    "\n",
    "#calculate mean on subsection of data\n",
    "neutralchoice_mean = neutralchoice['choiceresponse'].mean()\n",
    "neutralchoice_std = neutralchoice['choiceresponse'].std()\n",
    "print('neutral_by_choice')\n",
    "print(neutralchoice_mean)\n",
    "print(neutralchoice_std)\n",
    "\n",
    "#make subsection of dataframe\n",
    "rejchoice = choice[choice['condition'] == 1]\n",
    "\n",
    "#calculate mean on subsection of data\n",
    "rejchoice_mean = rejchoice['choiceresponse'].mean()\n",
    "rejchoice_std = rejchoice['choiceresponse'].std()\n",
    "print('rej_by_choice')\n",
    "print(rejchoice_mean)\n",
    "print(rejchoice_std)\n",
    "\n",
    "#generate new dataframe with acceptance condition only\n",
    "acceptancechoice = choice[choice['condition'] == 2]\n",
    "\n",
    "#calculate mean based on acceptance condition only data frame\n",
    "acceptancechoice_mean = acceptancechoice['choiceresponse'].mean()\n",
    "acceptancechoice_std = acceptancechoice['choiceresponse'].std() \n",
    "print('acc_by_choice')                \n",
    "print(acceptancechoice_mean)\n",
    "print(acceptancechoice_std)\n"
   ]
  },
  {
   "cell_type": "code",
   "execution_count": 13,
   "id": "3e20dc90",
   "metadata": {},
   "outputs": [
    {
     "name": "stdout",
     "output_type": "stream",
     "text": [
      "neutralsalience\n",
      "2.3703703703703702\n",
      "0.8257418188603314\n",
      "rejectionsalience\n",
      "1.962962962962963\n",
      "0.8611957191808763\n",
      "accsalience\n",
      "3.1296296296296298\n",
      "1.0024050885107814\n"
     ]
    }
   ],
   "source": [
    "#salience levels by condition\n",
    "\n",
    "salience = pd.DataFrame(taskdata['salience'])\n",
    "salience['condition'] = taskdata['condition']\n",
    "\n",
    "#slice dataframe to include only rows where condition is neutral\n",
    "neutralsalience = salience[salience['condition'] == 0]\n",
    "\n",
    "#calculate mean salience scoress across neutral condition\n",
    "neutralsalience_mean = neutralsalience['salience'].mean()\n",
    "neutralsalience_std = neutralsalience['salience'].std()\n",
    "print('neutralsalience') \n",
    "print(neutralsalience_mean)\n",
    "print(neutralsalience_std)\n",
    "\n",
    "#slice dataframe to include only rows where condition is rejection\n",
    "rejsalience = salience[salience['condition'] == 1]\n",
    "\n",
    "#calculate mean salience scores across rejection condition\n",
    "rejsalience_mean = rejsalience['salience'].mean()\n",
    "rejsalience_std = rejsalience['salience'].std()\n",
    "print('rejectionsalience')\n",
    "print(rejsalience_mean)\n",
    "print(rejsalience_std)\n",
    "\n",
    "#slice dataframe to include only rows where condition is acceptance\n",
    "accsalience = salience[salience['condition'] == 2]\n",
    "\n",
    "#calculate mean salience scores across acceptance condition\n",
    "accsalience_mean = accsalience['salience'].mean()\n",
    "accsalience_std = accsalience['salience'].std()\n",
    "print('accsalience')\n",
    "print(accsalience_mean)\n",
    "print(accsalience_std)"
   ]
  },
  {
   "cell_type": "code",
   "execution_count": 14,
   "id": "2b17fd8d",
   "metadata": {},
   "outputs": [
    {
     "name": "stdout",
     "output_type": "stream",
     "text": [
      "neutralstress\n",
      "4.0\n",
      "2.149678583514838\n",
      "rejstress\n",
      "4.0\n",
      "2.280622369024052\n",
      "accstress\n",
      "3.6666666666666665\n",
      "2.23121674728714\n"
     ]
    }
   ],
   "source": [
    "stress = pd.DataFrame(taskdata['stress'])\n",
    "stress['condition'] = taskdata['condition']\n",
    "\n",
    "#slice dataframe to include only rows where condition is neutral\n",
    "neutralstress = stress[stress['condition'] == 0]\n",
    "\n",
    "#calculate mean for stress by neutral\n",
    "neutralstress_mean = neutralstress['stress'].mean()\n",
    "neutralstress_std = neutralstress['stress'].std()\n",
    "print('neutralstress')\n",
    "print(neutralstress_mean)\n",
    "print(neutralstress_std)\n",
    "\n",
    "#slice dataframe to include only rows where condition is rejection\n",
    "rejstress = stress[stress['condition'] == 1]\n",
    "\n",
    "#calculate mean for stress by rejection\n",
    "rejstress_mean = rejstress['stress'].mean()\n",
    "rejstress_std = rejstress['stress'].std()\n",
    "print('rejstress')\n",
    "print(rejstress_mean)\n",
    "print(rejstress_std)\n",
    "# print(rejstress_std)\n",
    "\n",
    "#slice dataframe to include only rows where condition is acceptance\n",
    "accstress = stress[stress['condition'] == 2]\n",
    "\n",
    "#calculate mean for stress by acceptance\n",
    "accstress_mean = accstress['stress'].mean()\n",
    "accstress_std = accstress['stress'].std()\n",
    "print('accstress')\n",
    "print(accstress_mean)\n",
    "print(accstress_std)"
   ]
  },
  {
   "cell_type": "code",
   "execution_count": 15,
   "id": "dde71753",
   "metadata": {},
   "outputs": [
    {
     "name": "stdout",
     "output_type": "stream",
     "text": [
      "T-statistic value: 3.163856889959637\n",
      "P-value: 0.0017160933281561777\n"
     ]
    }
   ],
   "source": [
    "#paired samples t-test for condition by choice\n",
    "t_stat, p_value = ttest_rel(rejchoice['choiceresponse'],acceptancechoice['choiceresponse'])\n",
    "print(\"T-statistic value:\", t_stat)\n",
    "print('P-value:', p_value)"
   ]
  },
  {
   "cell_type": "code",
   "execution_count": 16,
   "id": "f4fc3632",
   "metadata": {},
   "outputs": [
    {
     "name": "stdout",
     "output_type": "stream",
     "text": [
      "T-statistic value: -16.256467244537706\n",
      "P-value: 7.715294045469519e-44\n"
     ]
    }
   ],
   "source": [
    "#%% paired samples t-test for condition by salience\n",
    "\n",
    "t_stat, p_value = ttest_rel(rejsalience['salience'],accsalience['salience'])\n",
    "print(\"T-statistic value:\", t_stat)\n",
    "print('P-value:', p_value)"
   ]
  },
  {
   "cell_type": "code",
   "execution_count": 17,
   "id": "011a1f67",
   "metadata": {},
   "outputs": [
    {
     "name": "stdout",
     "output_type": "stream",
     "text": [
      "T-statistic value: 3.483932699747145\n",
      "P-value: 0.0005622708934060388\n"
     ]
    }
   ],
   "source": [
    "#paired samples t-test for condition by stress\n",
    "t_stat, p_value = ttest_rel(rejstress['stress'],accstress['stress'])\n",
    "print(\"T-statistic value:\", t_stat)\n",
    "print('P-value:', p_value)"
   ]
  },
  {
   "cell_type": "code",
   "execution_count": 45,
   "id": "c4c723e1",
   "metadata": {},
   "outputs": [],
   "source": [
    "overallchoice = choice['choiceresponse']\n",
    "prop_choicerej = rejchoice['condition']\n",
    "prop_choiceacc = acceptancechoice['condition']\n",
    "prop_choiceneu = neutralchoice['condition']\n",
    "aq = selfreportdata.AQ #autism quotient\n",
    "BRCS = selfreportdata.BRCS #brief resilience coping scale\n",
    "ERQ_emosuppression = selfreportdata.ERQ_emosuppression #ERQ emotional suppression\n",
    "ERQ_cogreappraisal = selfreportdata.ERQ_cogreappraisal #ERQ cognitive reappraisal\n",
    "mspss = selfreportdata.MSPSS #perceived social support\n",
    "ntbs = selfreportdata.NTBS #need to belong scale\n",
    "pss = selfreportdata.PSS #perceived stress scale\n",
    "rsq = selfreportdata.RSQ #rejection sensitivty questionnaire\n",
    "scs = selfreportdata.SCS #social connectedness scale\n",
    "rr = selfreportdata.RR #reward responsiveness\n",
    "lsas = selfreportdata.LSAS_total #social anxiety scale total\n",
    "DII_functional = selfreportdata.DII_functionalimpulsivity\n",
    "DII_dysfunctional = selfreportdata.DII_dysfunctionalimpulsivity\n",
    "dast = selfreportdata.DAST #drug abuse screening test\n",
    "SRQ_admiration = selfreportdata.SRQ_admiration #social reward subscale\n",
    "SRQ_negsocpot = selfreportdata.SRQ_negsocpot # social reward subscale\n",
    "SRQ_prosocint = selfreportdata.SRQ_prosocint # social reward subscale\n",
    "SRQ_sexrel = selfreportdata.SRQ_sexrel # social reward subscale\n",
    "SRQ_sociability = selfreportdata.SRQ_sociability # social reward subscale\n"
   ]
  },
  {
   "cell_type": "code",
   "execution_count": 51,
   "id": "5113b342",
   "metadata": {},
   "outputs": [
    {
     "ename": "ValueError",
     "evalue": "x and y must be the same size",
     "output_type": "error",
     "traceback": [
      "\u001b[0;31m---------------------------------------------------------------------------\u001b[0m",
      "\u001b[0;31mValueError\u001b[0m                                Traceback (most recent call last)",
      "\u001b[0;32m<ipython-input-51-23f5ac70ed56>\u001b[0m in \u001b[0;36m<module>\u001b[0;34m\u001b[0m\n\u001b[1;32m      1\u001b[0m \u001b[0;31m# rejchoice // aq\u001b[0m\u001b[0;34m\u001b[0m\u001b[0;34m\u001b[0m\u001b[0;34m\u001b[0m\u001b[0m\n\u001b[0;32m----> 2\u001b[0;31m \u001b[0mplt\u001b[0m\u001b[0;34m.\u001b[0m\u001b[0mscatter\u001b[0m\u001b[0;34m(\u001b[0m\u001b[0mrejchoice\u001b[0m\u001b[0;34m[\u001b[0m\u001b[0;34m'choiceresponse'\u001b[0m\u001b[0;34m]\u001b[0m\u001b[0;34m,\u001b[0m \u001b[0maq\u001b[0m\u001b[0;34m)\u001b[0m\u001b[0;34m\u001b[0m\u001b[0;34m\u001b[0m\u001b[0m\n\u001b[0m\u001b[1;32m      3\u001b[0m \u001b[0mplt\u001b[0m\u001b[0;34m.\u001b[0m\u001b[0mshow\u001b[0m\u001b[0;34m(\u001b[0m\u001b[0;34m)\u001b[0m\u001b[0;34m\u001b[0m\u001b[0;34m\u001b[0m\u001b[0m\n\u001b[1;32m      4\u001b[0m \u001b[0mcovariance\u001b[0m \u001b[0;34m=\u001b[0m \u001b[0mcov\u001b[0m\u001b[0;34m(\u001b[0m\u001b[0mrejchoice\u001b[0m\u001b[0;34m[\u001b[0m\u001b[0;34m'choiceresponse'\u001b[0m\u001b[0;34m]\u001b[0m\u001b[0;34m,\u001b[0m \u001b[0maq\u001b[0m\u001b[0;34m)\u001b[0m\u001b[0;34m\u001b[0m\u001b[0;34m\u001b[0m\u001b[0m\n\u001b[1;32m      5\u001b[0m \u001b[0mprint\u001b[0m\u001b[0;34m(\u001b[0m\u001b[0mcovariance\u001b[0m\u001b[0;34m)\u001b[0m\u001b[0;34m\u001b[0m\u001b[0;34m\u001b[0m\u001b[0m\n",
      "\u001b[0;32m~/opt/anaconda3/lib/python3.8/site-packages/matplotlib/pyplot.py\u001b[0m in \u001b[0;36mscatter\u001b[0;34m(x, y, s, c, marker, cmap, norm, vmin, vmax, alpha, linewidths, verts, edgecolors, plotnonfinite, data, **kwargs)\u001b[0m\n\u001b[1;32m   2841\u001b[0m         \u001b[0mvmin\u001b[0m\u001b[0;34m=\u001b[0m\u001b[0;32mNone\u001b[0m\u001b[0;34m,\u001b[0m \u001b[0mvmax\u001b[0m\u001b[0;34m=\u001b[0m\u001b[0;32mNone\u001b[0m\u001b[0;34m,\u001b[0m \u001b[0malpha\u001b[0m\u001b[0;34m=\u001b[0m\u001b[0;32mNone\u001b[0m\u001b[0;34m,\u001b[0m \u001b[0mlinewidths\u001b[0m\u001b[0;34m=\u001b[0m\u001b[0;32mNone\u001b[0m\u001b[0;34m,\u001b[0m \u001b[0mverts\u001b[0m\u001b[0;34m=\u001b[0m\u001b[0;32mNone\u001b[0m\u001b[0;34m,\u001b[0m\u001b[0;34m\u001b[0m\u001b[0;34m\u001b[0m\u001b[0m\n\u001b[1;32m   2842\u001b[0m         edgecolors=None, *, plotnonfinite=False, data=None, **kwargs):\n\u001b[0;32m-> 2843\u001b[0;31m     __ret = gca().scatter(\n\u001b[0m\u001b[1;32m   2844\u001b[0m         \u001b[0mx\u001b[0m\u001b[0;34m,\u001b[0m \u001b[0my\u001b[0m\u001b[0;34m,\u001b[0m \u001b[0ms\u001b[0m\u001b[0;34m=\u001b[0m\u001b[0ms\u001b[0m\u001b[0;34m,\u001b[0m \u001b[0mc\u001b[0m\u001b[0;34m=\u001b[0m\u001b[0mc\u001b[0m\u001b[0;34m,\u001b[0m \u001b[0mmarker\u001b[0m\u001b[0;34m=\u001b[0m\u001b[0mmarker\u001b[0m\u001b[0;34m,\u001b[0m \u001b[0mcmap\u001b[0m\u001b[0;34m=\u001b[0m\u001b[0mcmap\u001b[0m\u001b[0;34m,\u001b[0m \u001b[0mnorm\u001b[0m\u001b[0;34m=\u001b[0m\u001b[0mnorm\u001b[0m\u001b[0;34m,\u001b[0m\u001b[0;34m\u001b[0m\u001b[0;34m\u001b[0m\u001b[0m\n\u001b[1;32m   2845\u001b[0m         \u001b[0mvmin\u001b[0m\u001b[0;34m=\u001b[0m\u001b[0mvmin\u001b[0m\u001b[0;34m,\u001b[0m \u001b[0mvmax\u001b[0m\u001b[0;34m=\u001b[0m\u001b[0mvmax\u001b[0m\u001b[0;34m,\u001b[0m \u001b[0malpha\u001b[0m\u001b[0;34m=\u001b[0m\u001b[0malpha\u001b[0m\u001b[0;34m,\u001b[0m \u001b[0mlinewidths\u001b[0m\u001b[0;34m=\u001b[0m\u001b[0mlinewidths\u001b[0m\u001b[0;34m,\u001b[0m\u001b[0;34m\u001b[0m\u001b[0;34m\u001b[0m\u001b[0m\n",
      "\u001b[0;32m~/opt/anaconda3/lib/python3.8/site-packages/matplotlib/__init__.py\u001b[0m in \u001b[0;36minner\u001b[0;34m(ax, data, *args, **kwargs)\u001b[0m\n\u001b[1;32m   1597\u001b[0m     \u001b[0;32mdef\u001b[0m \u001b[0minner\u001b[0m\u001b[0;34m(\u001b[0m\u001b[0max\u001b[0m\u001b[0;34m,\u001b[0m \u001b[0;34m*\u001b[0m\u001b[0margs\u001b[0m\u001b[0;34m,\u001b[0m \u001b[0mdata\u001b[0m\u001b[0;34m=\u001b[0m\u001b[0;32mNone\u001b[0m\u001b[0;34m,\u001b[0m \u001b[0;34m**\u001b[0m\u001b[0mkwargs\u001b[0m\u001b[0;34m)\u001b[0m\u001b[0;34m:\u001b[0m\u001b[0;34m\u001b[0m\u001b[0;34m\u001b[0m\u001b[0m\n\u001b[1;32m   1598\u001b[0m         \u001b[0;32mif\u001b[0m \u001b[0mdata\u001b[0m \u001b[0;32mis\u001b[0m \u001b[0;32mNone\u001b[0m\u001b[0;34m:\u001b[0m\u001b[0;34m\u001b[0m\u001b[0;34m\u001b[0m\u001b[0m\n\u001b[0;32m-> 1599\u001b[0;31m             \u001b[0;32mreturn\u001b[0m \u001b[0mfunc\u001b[0m\u001b[0;34m(\u001b[0m\u001b[0max\u001b[0m\u001b[0;34m,\u001b[0m \u001b[0;34m*\u001b[0m\u001b[0mmap\u001b[0m\u001b[0;34m(\u001b[0m\u001b[0msanitize_sequence\u001b[0m\u001b[0;34m,\u001b[0m \u001b[0margs\u001b[0m\u001b[0;34m)\u001b[0m\u001b[0;34m,\u001b[0m \u001b[0;34m**\u001b[0m\u001b[0mkwargs\u001b[0m\u001b[0;34m)\u001b[0m\u001b[0;34m\u001b[0m\u001b[0;34m\u001b[0m\u001b[0m\n\u001b[0m\u001b[1;32m   1600\u001b[0m \u001b[0;34m\u001b[0m\u001b[0m\n\u001b[1;32m   1601\u001b[0m         \u001b[0mbound\u001b[0m \u001b[0;34m=\u001b[0m \u001b[0mnew_sig\u001b[0m\u001b[0;34m.\u001b[0m\u001b[0mbind\u001b[0m\u001b[0;34m(\u001b[0m\u001b[0max\u001b[0m\u001b[0;34m,\u001b[0m \u001b[0;34m*\u001b[0m\u001b[0margs\u001b[0m\u001b[0;34m,\u001b[0m \u001b[0;34m**\u001b[0m\u001b[0mkwargs\u001b[0m\u001b[0;34m)\u001b[0m\u001b[0;34m\u001b[0m\u001b[0;34m\u001b[0m\u001b[0m\n",
      "\u001b[0;32m~/opt/anaconda3/lib/python3.8/site-packages/matplotlib/axes/_axes.py\u001b[0m in \u001b[0;36mscatter\u001b[0;34m(self, x, y, s, c, marker, cmap, norm, vmin, vmax, alpha, linewidths, verts, edgecolors, plotnonfinite, **kwargs)\u001b[0m\n\u001b[1;32m   4441\u001b[0m         \u001b[0my\u001b[0m \u001b[0;34m=\u001b[0m \u001b[0mnp\u001b[0m\u001b[0;34m.\u001b[0m\u001b[0mma\u001b[0m\u001b[0;34m.\u001b[0m\u001b[0mravel\u001b[0m\u001b[0;34m(\u001b[0m\u001b[0my\u001b[0m\u001b[0;34m)\u001b[0m\u001b[0;34m\u001b[0m\u001b[0;34m\u001b[0m\u001b[0m\n\u001b[1;32m   4442\u001b[0m         \u001b[0;32mif\u001b[0m \u001b[0mx\u001b[0m\u001b[0;34m.\u001b[0m\u001b[0msize\u001b[0m \u001b[0;34m!=\u001b[0m \u001b[0my\u001b[0m\u001b[0;34m.\u001b[0m\u001b[0msize\u001b[0m\u001b[0;34m:\u001b[0m\u001b[0;34m\u001b[0m\u001b[0;34m\u001b[0m\u001b[0m\n\u001b[0;32m-> 4443\u001b[0;31m             \u001b[0;32mraise\u001b[0m \u001b[0mValueError\u001b[0m\u001b[0;34m(\u001b[0m\u001b[0;34m\"x and y must be the same size\"\u001b[0m\u001b[0;34m)\u001b[0m\u001b[0;34m\u001b[0m\u001b[0;34m\u001b[0m\u001b[0m\n\u001b[0m\u001b[1;32m   4444\u001b[0m \u001b[0;34m\u001b[0m\u001b[0m\n\u001b[1;32m   4445\u001b[0m         \u001b[0;32mif\u001b[0m \u001b[0ms\u001b[0m \u001b[0;32mis\u001b[0m \u001b[0;32mNone\u001b[0m\u001b[0;34m:\u001b[0m\u001b[0;34m\u001b[0m\u001b[0;34m\u001b[0m\u001b[0m\n",
      "\u001b[0;31mValueError\u001b[0m: x and y must be the same size"
     ]
    },
    {
     "data": {
      "image/png": "[encoded data removed]",
      "text/plain": [
       "<Figure size 432x288 with 1 Axes>"
      ]
     },
     "metadata": {
      "needs_background": "light"
     },
     "output_type": "display_data"
    }
   ],
   "source": [
    "# rejchoice // aq\n",
    "plt.scatter(rejchoice['choiceresponse'], aq)\n",
    "plt.show()\n",
    "covariance = cov(rejchoice['choiceresponse'], aq)\n",
    "print(covariance)\n",
    "corr, _ = pearsonr(rejchoice['choiceresponse'], aq)\n",
    "print('Pearsons correlation: %.3f' % corr)\n",
    "r,p = scipy.stats.pearsonr(rejchoice['choiceresponse'], aq)\n",
    "print('p value: %.4f' % p)"
   ]
  },
  {
   "cell_type": "code",
   "execution_count": 49,
   "id": "dabe5902",
   "metadata": {},
   "outputs": [
    {
     "name": "stdout",
     "output_type": "stream",
     "text": [
      "     choiceresponse  condition\n",
      "464             0.0          1\n",
      "64              0.0          1\n",
      "63              0.0          1\n",
      "62              1.0          1\n",
      "61              0.0          1\n",
      "..              ...        ...\n",
      "672             1.0          1\n",
      "666             0.0          1\n",
      "673             0.0          1\n",
      "675             1.0          1\n",
      "674             1.0          1\n",
      "\n",
      "[302 rows x 2 columns]\n"
     ]
    }
   ],
   "source": [
    "print(rejchoice)"
   ]
  },
  {
   "cell_type": "code",
   "execution_count": null,
   "id": "fd6f2dd0",
   "metadata": {},
   "outputs": [],
   "source": []
  }
 ],
 "metadata": {
  "kernelspec": {
   "display_name": "Python 3",
   "language": "python",
   "name": "python3"
  },
  "language_info": {
   "codemirror_mode": {
    "name": "ipython",
    "version": 3
   },
   "file_extension": ".py",
   "mimetype": "text/x-python",
   "name": "python",
   "nbconvert_exporter": "python",
   "pygments_lexer": "ipython3",
   "version": "3.8.10"
  }
 },
 "nbformat": 4,
 "nbformat_minor": 5
}
