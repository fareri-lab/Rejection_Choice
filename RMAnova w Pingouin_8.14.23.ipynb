{
 "cells": [
  {
   "cell_type": "code",
   "execution_count": 1,
   "id": "f8cb8032",
   "metadata": {},
   "outputs": [],
   "source": [
    "import pandas as pd\n",
    "import numpy as np\n",
    "import os \n",
    "import statistics \n",
    "from pathlib import Path\n",
    "from scipy.stats import ttest_rel\n",
    "import matplotlib.pyplot as plt\n",
    "import math\n",
    "from statsmodels.stats.anova import AnovaRM\n",
    "from numpy import mean, std, cov\n",
    "from numpy.random import seed, randn\n",
    "import random as rd\n",
    "#from sklearn import preprocessing\n",
    "#from sklearn import datasets\n",
    "#from sklearn.preprocessing import StandardScaler\n",
    "#from sklearn.decomposition import PCA\n",
    "import matplotlib.pyplot as plt\n",
    "from matplotlib import pyplot\n",
    "from __future__ import division\n",
    "import sys\n",
    "import scipy\n",
    "from math import sqrt\n",
    "import scipy.stats as stats\n",
    "from scipy import stats \n",
    "from scipy.stats import t, pearsonr, sem, spearmanr\n",
    "import seaborn as sns\n",
    "from statistics import mean, stdev\n",
    "import statsmodels.api as sm\n",
    "import statsmodels.formula.api as smf\n",
    "import math\n",
    "import pingouin as pg\n",
    "from pingouin import ttest\n",
    "from scipy.special import logsumexp"
   ]
  },
  {
   "cell_type": "code",
   "execution_count": 2,
   "id": "83d4a5da",
   "metadata": {},
   "outputs": [],
   "source": [
    "current_dir = os.getcwd()\n",
    "updatedchoicedata = pd.read_csv('shortformdata_DF.csv')\n",
    "plottingdata = pd.read_csv('longformdata_DF_plotting.csv')"
   ]
  },
  {
   "cell_type": "code",
   "execution_count": 3,
   "id": "1d7e7cec",
   "metadata": {},
   "outputs": [
    {
     "data": {
      "text/html": [
       "<div>\n",
       "<style scoped>\n",
       "    .dataframe tbody tr th:only-of-type {\n",
       "        vertical-align: middle;\n",
       "    }\n",
       "\n",
       "    .dataframe tbody tr th {\n",
       "        vertical-align: top;\n",
       "    }\n",
       "\n",
       "    .dataframe thead th {\n",
       "        text-align: right;\n",
       "    }\n",
       "</style>\n",
       "<table border=\"1\" class=\"dataframe\">\n",
       "  <thead>\n",
       "    <tr style=\"text-align: right;\">\n",
       "      <th></th>\n",
       "      <th>PROLIFIC_ID</th>\n",
       "      <th>condition_recode</th>\n",
       "      <th>afterstresschange</th>\n",
       "      <th>salience_mean</th>\n",
       "      <th>stress_mean</th>\n",
       "      <th>recoded_stress</th>\n",
       "      <th>choice</th>\n",
       "      <th>rej-acc</th>\n",
       "      <th>ifnegvalue</th>\n",
       "    </tr>\n",
       "  </thead>\n",
       "  <tbody>\n",
       "    <tr>\n",
       "      <th>0</th>\n",
       "      <td>568d286ab5a2c2000cb6a91c</td>\n",
       "      <td>0</td>\n",
       "      <td>1.0</td>\n",
       "      <td>4.0</td>\n",
       "      <td>5.0</td>\n",
       "      <td>5.0</td>\n",
       "      <td>0.833333</td>\n",
       "      <td>-0.5</td>\n",
       "      <td>1</td>\n",
       "    </tr>\n",
       "    <tr>\n",
       "      <th>1</th>\n",
       "      <td>568d286ab5a2c2000cb6a91c</td>\n",
       "      <td>1</td>\n",
       "      <td>1.0</td>\n",
       "      <td>1.5</td>\n",
       "      <td>4.5</td>\n",
       "      <td>4.5</td>\n",
       "      <td>1.000000</td>\n",
       "      <td>-0.5</td>\n",
       "      <td>1</td>\n",
       "    </tr>\n",
       "    <tr>\n",
       "      <th>2</th>\n",
       "      <td>568d286ab5a2c2000cb6a91c</td>\n",
       "      <td>2</td>\n",
       "      <td>1.0</td>\n",
       "      <td>3.5</td>\n",
       "      <td>5.0</td>\n",
       "      <td>5.0</td>\n",
       "      <td>1.000000</td>\n",
       "      <td>-0.5</td>\n",
       "      <td>1</td>\n",
       "    </tr>\n",
       "    <tr>\n",
       "      <th>3</th>\n",
       "      <td>595727bd7c76640001aa8f6e</td>\n",
       "      <td>0</td>\n",
       "      <td>1.0</td>\n",
       "      <td>4.0</td>\n",
       "      <td>5.0</td>\n",
       "      <td>5.0</td>\n",
       "      <td>0.600000</td>\n",
       "      <td>1.0</td>\n",
       "      <td>0</td>\n",
       "    </tr>\n",
       "    <tr>\n",
       "      <th>4</th>\n",
       "      <td>595727bd7c76640001aa8f6e</td>\n",
       "      <td>1</td>\n",
       "      <td>1.0</td>\n",
       "      <td>4.0</td>\n",
       "      <td>7.0</td>\n",
       "      <td>7.0</td>\n",
       "      <td>0.250000</td>\n",
       "      <td>1.0</td>\n",
       "      <td>0</td>\n",
       "    </tr>\n",
       "    <tr>\n",
       "      <th>...</th>\n",
       "      <td>...</td>\n",
       "      <td>...</td>\n",
       "      <td>...</td>\n",
       "      <td>...</td>\n",
       "      <td>...</td>\n",
       "      <td>...</td>\n",
       "      <td>...</td>\n",
       "      <td>...</td>\n",
       "      <td>...</td>\n",
       "    </tr>\n",
       "    <tr>\n",
       "      <th>244</th>\n",
       "      <td>641361334c91a0c6ff4c5b79</td>\n",
       "      <td>1</td>\n",
       "      <td>1.0</td>\n",
       "      <td>1.0</td>\n",
       "      <td>9.0</td>\n",
       "      <td>9.0</td>\n",
       "      <td>1.000000</td>\n",
       "      <td>0.0</td>\n",
       "      <td>0</td>\n",
       "    </tr>\n",
       "    <tr>\n",
       "      <th>245</th>\n",
       "      <td>641361334c91a0c6ff4c5b79</td>\n",
       "      <td>2</td>\n",
       "      <td>1.0</td>\n",
       "      <td>1.0</td>\n",
       "      <td>9.0</td>\n",
       "      <td>9.0</td>\n",
       "      <td>1.000000</td>\n",
       "      <td>0.0</td>\n",
       "      <td>0</td>\n",
       "    </tr>\n",
       "    <tr>\n",
       "      <th>246</th>\n",
       "      <td>641a3df3c874807a1a8734bc</td>\n",
       "      <td>0</td>\n",
       "      <td>1.0</td>\n",
       "      <td>3.0</td>\n",
       "      <td>6.0</td>\n",
       "      <td>6.0</td>\n",
       "      <td>0.500000</td>\n",
       "      <td>-1.0</td>\n",
       "      <td>1</td>\n",
       "    </tr>\n",
       "    <tr>\n",
       "      <th>247</th>\n",
       "      <td>641a3df3c874807a1a8734bc</td>\n",
       "      <td>1</td>\n",
       "      <td>1.0</td>\n",
       "      <td>3.0</td>\n",
       "      <td>6.0</td>\n",
       "      <td>6.0</td>\n",
       "      <td>0.166667</td>\n",
       "      <td>-1.0</td>\n",
       "      <td>1</td>\n",
       "    </tr>\n",
       "    <tr>\n",
       "      <th>248</th>\n",
       "      <td>641a3df3c874807a1a8734bc</td>\n",
       "      <td>2</td>\n",
       "      <td>1.0</td>\n",
       "      <td>5.0</td>\n",
       "      <td>7.0</td>\n",
       "      <td>7.0</td>\n",
       "      <td>0.181818</td>\n",
       "      <td>-1.0</td>\n",
       "      <td>1</td>\n",
       "    </tr>\n",
       "  </tbody>\n",
       "</table>\n",
       "<p>249 rows × 9 columns</p>\n",
       "</div>"
      ],
      "text/plain": [
       "                  PROLIFIC_ID  condition_recode  afterstresschange  \\\n",
       "0    568d286ab5a2c2000cb6a91c                 0                1.0   \n",
       "1    568d286ab5a2c2000cb6a91c                 1                1.0   \n",
       "2    568d286ab5a2c2000cb6a91c                 2                1.0   \n",
       "3    595727bd7c76640001aa8f6e                 0                1.0   \n",
       "4    595727bd7c76640001aa8f6e                 1                1.0   \n",
       "..                        ...               ...                ...   \n",
       "244  641361334c91a0c6ff4c5b79                 1                1.0   \n",
       "245  641361334c91a0c6ff4c5b79                 2                1.0   \n",
       "246  641a3df3c874807a1a8734bc                 0                1.0   \n",
       "247  641a3df3c874807a1a8734bc                 1                1.0   \n",
       "248  641a3df3c874807a1a8734bc                 2                1.0   \n",
       "\n",
       "     salience_mean  stress_mean  recoded_stress    choice  rej-acc  ifnegvalue  \n",
       "0              4.0          5.0             5.0  0.833333     -0.5           1  \n",
       "1              1.5          4.5             4.5  1.000000     -0.5           1  \n",
       "2              3.5          5.0             5.0  1.000000     -0.5           1  \n",
       "3              4.0          5.0             5.0  0.600000      1.0           0  \n",
       "4              4.0          7.0             7.0  0.250000      1.0           0  \n",
       "..             ...          ...             ...       ...      ...         ...  \n",
       "244            1.0          9.0             9.0  1.000000      0.0           0  \n",
       "245            1.0          9.0             9.0  1.000000      0.0           0  \n",
       "246            3.0          6.0             6.0  0.500000     -1.0           1  \n",
       "247            3.0          6.0             6.0  0.166667     -1.0           1  \n",
       "248            5.0          7.0             7.0  0.181818     -1.0           1  \n",
       "\n",
       "[249 rows x 9 columns]"
      ]
     },
     "metadata": {},
     "output_type": "display_data"
    }
   ],
   "source": [
    "display(updatedchoicedata)"
   ]
  },
  {
   "cell_type": "code",
   "execution_count": 4,
   "id": "272dac97",
   "metadata": {},
   "outputs": [
    {
     "data": {
      "text/html": [
       "<div>\n",
       "<style scoped>\n",
       "    .dataframe tbody tr th:only-of-type {\n",
       "        vertical-align: middle;\n",
       "    }\n",
       "\n",
       "    .dataframe tbody tr th {\n",
       "        vertical-align: top;\n",
       "    }\n",
       "\n",
       "    .dataframe thead th {\n",
       "        text-align: right;\n",
       "    }\n",
       "</style>\n",
       "<table border=\"1\" class=\"dataframe\">\n",
       "  <thead>\n",
       "    <tr style=\"text-align: right;\">\n",
       "      <th></th>\n",
       "      <th>subID</th>\n",
       "      <th>Social Condition</th>\n",
       "      <th>condition_recode</th>\n",
       "      <th>afterstresschange</th>\n",
       "      <th>salience_mean</th>\n",
       "      <th>stress_mean</th>\n",
       "      <th>recoded_stress</th>\n",
       "      <th>Choice</th>\n",
       "      <th>rej-acc</th>\n",
       "      <th>ifnegvalue</th>\n",
       "    </tr>\n",
       "  </thead>\n",
       "  <tbody>\n",
       "    <tr>\n",
       "      <th>0</th>\n",
       "      <td>568d286ab5a2c2000cb6a91c</td>\n",
       "      <td>Neutral</td>\n",
       "      <td>0</td>\n",
       "      <td>1</td>\n",
       "      <td>4.0</td>\n",
       "      <td>5.0</td>\n",
       "      <td>5.0</td>\n",
       "      <td>0.833333</td>\n",
       "      <td>-0.5</td>\n",
       "      <td>1</td>\n",
       "    </tr>\n",
       "    <tr>\n",
       "      <th>1</th>\n",
       "      <td>595727bd7c76640001aa8f6e</td>\n",
       "      <td>Neutral</td>\n",
       "      <td>0</td>\n",
       "      <td>1</td>\n",
       "      <td>4.0</td>\n",
       "      <td>5.0</td>\n",
       "      <td>5.0</td>\n",
       "      <td>0.600000</td>\n",
       "      <td>1.0</td>\n",
       "      <td>0</td>\n",
       "    </tr>\n",
       "    <tr>\n",
       "      <th>2</th>\n",
       "      <td>5a4636c92f91ec0001dcba07</td>\n",
       "      <td>Neutral</td>\n",
       "      <td>0</td>\n",
       "      <td>0</td>\n",
       "      <td>3.0</td>\n",
       "      <td>6.0</td>\n",
       "      <td>4.0</td>\n",
       "      <td>0.000000</td>\n",
       "      <td>-0.5</td>\n",
       "      <td>1</td>\n",
       "    </tr>\n",
       "    <tr>\n",
       "      <th>3</th>\n",
       "      <td>5ad2c8334d061300011b1985</td>\n",
       "      <td>Neutral</td>\n",
       "      <td>0</td>\n",
       "      <td>0</td>\n",
       "      <td>2.0</td>\n",
       "      <td>3.0</td>\n",
       "      <td>7.0</td>\n",
       "      <td>0.500000</td>\n",
       "      <td>-1.5</td>\n",
       "      <td>1</td>\n",
       "    </tr>\n",
       "    <tr>\n",
       "      <th>4</th>\n",
       "      <td>5adef850eb60400001539109</td>\n",
       "      <td>Neutral</td>\n",
       "      <td>0</td>\n",
       "      <td>0</td>\n",
       "      <td>3.0</td>\n",
       "      <td>4.0</td>\n",
       "      <td>6.0</td>\n",
       "      <td>1.000000</td>\n",
       "      <td>2.5</td>\n",
       "      <td>0</td>\n",
       "    </tr>\n",
       "    <tr>\n",
       "      <th>...</th>\n",
       "      <td>...</td>\n",
       "      <td>...</td>\n",
       "      <td>...</td>\n",
       "      <td>...</td>\n",
       "      <td>...</td>\n",
       "      <td>...</td>\n",
       "      <td>...</td>\n",
       "      <td>...</td>\n",
       "      <td>...</td>\n",
       "      <td>...</td>\n",
       "    </tr>\n",
       "    <tr>\n",
       "      <th>196</th>\n",
       "      <td>63eac31811a6da58d4f32d76</td>\n",
       "      <td>Acceptance</td>\n",
       "      <td>2</td>\n",
       "      <td>1</td>\n",
       "      <td>3.0</td>\n",
       "      <td>9.0</td>\n",
       "      <td>9.0</td>\n",
       "      <td>0.000000</td>\n",
       "      <td>0.0</td>\n",
       "      <td>0</td>\n",
       "    </tr>\n",
       "    <tr>\n",
       "      <th>197</th>\n",
       "      <td>63fac97f0d4e8f6bfd753d90</td>\n",
       "      <td>Acceptance</td>\n",
       "      <td>2</td>\n",
       "      <td>1</td>\n",
       "      <td>1.0</td>\n",
       "      <td>5.0</td>\n",
       "      <td>5.0</td>\n",
       "      <td>0.000000</td>\n",
       "      <td>0.0</td>\n",
       "      <td>0</td>\n",
       "    </tr>\n",
       "    <tr>\n",
       "      <th>198</th>\n",
       "      <td>64023a98627b1116180dff0b</td>\n",
       "      <td>Acceptance</td>\n",
       "      <td>2</td>\n",
       "      <td>1</td>\n",
       "      <td>4.0</td>\n",
       "      <td>6.0</td>\n",
       "      <td>6.0</td>\n",
       "      <td>0.000000</td>\n",
       "      <td>-4.0</td>\n",
       "      <td>1</td>\n",
       "    </tr>\n",
       "    <tr>\n",
       "      <th>199</th>\n",
       "      <td>641361334c91a0c6ff4c5b79</td>\n",
       "      <td>Acceptance</td>\n",
       "      <td>2</td>\n",
       "      <td>1</td>\n",
       "      <td>1.0</td>\n",
       "      <td>9.0</td>\n",
       "      <td>9.0</td>\n",
       "      <td>1.000000</td>\n",
       "      <td>0.0</td>\n",
       "      <td>0</td>\n",
       "    </tr>\n",
       "    <tr>\n",
       "      <th>200</th>\n",
       "      <td>641a3df3c874807a1a8734bc</td>\n",
       "      <td>Acceptance</td>\n",
       "      <td>2</td>\n",
       "      <td>1</td>\n",
       "      <td>5.0</td>\n",
       "      <td>7.0</td>\n",
       "      <td>7.0</td>\n",
       "      <td>0.181818</td>\n",
       "      <td>-1.0</td>\n",
       "      <td>1</td>\n",
       "    </tr>\n",
       "  </tbody>\n",
       "</table>\n",
       "<p>201 rows × 10 columns</p>\n",
       "</div>"
      ],
      "text/plain": [
       "                        subID Social Condition  condition_recode  \\\n",
       "0    568d286ab5a2c2000cb6a91c          Neutral                 0   \n",
       "1    595727bd7c76640001aa8f6e          Neutral                 0   \n",
       "2    5a4636c92f91ec0001dcba07          Neutral                 0   \n",
       "3    5ad2c8334d061300011b1985          Neutral                 0   \n",
       "4    5adef850eb60400001539109          Neutral                 0   \n",
       "..                        ...              ...               ...   \n",
       "196  63eac31811a6da58d4f32d76       Acceptance                 2   \n",
       "197  63fac97f0d4e8f6bfd753d90       Acceptance                 2   \n",
       "198  64023a98627b1116180dff0b       Acceptance                 2   \n",
       "199  641361334c91a0c6ff4c5b79       Acceptance                 2   \n",
       "200  641a3df3c874807a1a8734bc       Acceptance                 2   \n",
       "\n",
       "     afterstresschange  salience_mean  stress_mean  recoded_stress    Choice  \\\n",
       "0                    1            4.0          5.0             5.0  0.833333   \n",
       "1                    1            4.0          5.0             5.0  0.600000   \n",
       "2                    0            3.0          6.0             4.0  0.000000   \n",
       "3                    0            2.0          3.0             7.0  0.500000   \n",
       "4                    0            3.0          4.0             6.0  1.000000   \n",
       "..                 ...            ...          ...             ...       ...   \n",
       "196                  1            3.0          9.0             9.0  0.000000   \n",
       "197                  1            1.0          5.0             5.0  0.000000   \n",
       "198                  1            4.0          6.0             6.0  0.000000   \n",
       "199                  1            1.0          9.0             9.0  1.000000   \n",
       "200                  1            5.0          7.0             7.0  0.181818   \n",
       "\n",
       "     rej-acc  ifnegvalue  \n",
       "0       -0.5           1  \n",
       "1        1.0           0  \n",
       "2       -0.5           1  \n",
       "3       -1.5           1  \n",
       "4        2.5           0  \n",
       "..       ...         ...  \n",
       "196      0.0           0  \n",
       "197      0.0           0  \n",
       "198     -4.0           1  \n",
       "199      0.0           0  \n",
       "200     -1.0           1  \n",
       "\n",
       "[201 rows x 10 columns]"
      ]
     },
     "metadata": {},
     "output_type": "display_data"
    }
   ],
   "source": [
    "display(plottingdata)"
   ]
  },
  {
   "cell_type": "code",
   "execution_count": 5,
   "id": "f14adac8",
   "metadata": {},
   "outputs": [],
   "source": [
    "anovachoice = pg.rm_anova(data=updatedchoicedata, dv='choice', within='condition_recode', subject='PROLIFIC_ID', detailed=True, correction = True)"
   ]
  },
  {
   "cell_type": "code",
   "execution_count": 6,
   "id": "0f08a033",
   "metadata": {},
   "outputs": [
    {
     "name": "stdout",
     "output_type": "stream",
     "text": [
      "             Source        SS   DF        MS        F     p-unc  p-GG-corr  \\\n",
      "0  condition_recode  0.120297    2  0.060149  2.14803  0.119986   0.125229   \n",
      "1             Error  4.592286  164  0.028002      NaN       NaN        NaN   \n",
      "\n",
      "        ng2       eps sphericity   W-spher   p-spher  \n",
      "0  0.002973  0.905752      False  0.895946  0.011679  \n",
      "1       NaN       NaN        NaN       NaN       NaN  \n"
     ]
    }
   ],
   "source": [
    "print(anovachoice)"
   ]
  },
  {
   "cell_type": "code",
   "execution_count": 7,
   "id": "14d4692c",
   "metadata": {},
   "outputs": [
    {
     "name": "stdout",
     "output_type": "stream",
     "text": [
      "             Source         SS   DF         MS          F         p-unc  \\\n",
      "0  condition_recode  50.475904    2  25.237952  56.551181  2.092651e-19   \n",
      "1             Error  73.190763  164   0.446285        NaN           NaN   \n",
      "\n",
      "      p-GG-corr       ng2       eps sphericity   W-spher   p-spher  \n",
      "0  2.151698e-19  0.188212  0.999285       True  0.999284  0.971415  \n",
      "1           NaN       NaN       NaN        NaN       NaN       NaN  \n"
     ]
    }
   ],
   "source": [
    "anovasalience = pg.rm_anova(data=updatedchoicedata, dv='salience_mean', within='condition_recode', subject='PROLIFIC_ID', detailed=True, correction = True)\n",
    "print(anovasalience)"
   ]
  },
  {
   "cell_type": "code",
   "execution_count": 8,
   "id": "9ec27fab",
   "metadata": {},
   "outputs": [
    {
     "name": "stdout",
     "output_type": "stream",
     "text": [
      "             Source          SS   DF         MS          F     p-unc  \\\n",
      "0  condition_recode   23.158635    2  11.579317  14.440244  0.000002   \n",
      "1             Error  131.508032  164   0.801878        NaN       NaN   \n",
      "\n",
      "   p-GG-corr     ng2       eps sphericity   W-spher   p-spher  \n",
      "0   0.000002  0.0226  0.968229       True  0.967187  0.258921  \n",
      "1        NaN     NaN       NaN        NaN       NaN       NaN  \n"
     ]
    }
   ],
   "source": [
    "anovastress = pg.rm_anova(data=updatedchoicedata, dv='recoded_stress', within='condition_recode', subject='PROLIFIC_ID', detailed=True, correction = True)\n",
    "print(anovastress)"
   ]
  },
  {
   "cell_type": "code",
   "execution_count": 9,
   "id": "2b228a3b",
   "metadata": {},
   "outputs": [],
   "source": [
    "rej = updatedchoicedata.loc[updatedchoicedata['condition_recode']==1].reset_index(drop=True)\n",
    "acc = updatedchoicedata.loc[updatedchoicedata['condition_recode']==2].reset_index(drop=True)\n",
    "neu = updatedchoicedata.loc[updatedchoicedata['condition_recode']==0].reset_index(drop=True)\n"
   ]
  },
  {
   "cell_type": "code",
   "execution_count": 10,
   "id": "daa195e6",
   "metadata": {},
   "outputs": [
    {
     "name": "stdout",
     "output_type": "stream",
     "text": [
      "           T  dof alternative  p-val         CI95%  cohen-d       BF10  power\n",
      "T-test -5.01   82        less    0.0  [-inf, -0.5]     0.37  1.016e+04   0.96\n"
     ]
    }
   ],
   "source": [
    "rej_accstressttest = ttest(rej['recoded_stress'], acc['recoded_stress'], paired=True, alternative='less').round(2)\n",
    "print(rej_accstressttest)"
   ]
  },
  {
   "cell_type": "code",
   "execution_count": 11,
   "id": "02d549aa",
   "metadata": {},
   "outputs": [
    {
     "name": "stdout",
     "output_type": "stream",
     "text": [
      "           T  dof alternative  p-val          CI95%  cohen-d  BF10  power\n",
      "T-test -2.71   82        less    0.0  [-inf, -0.15]     0.18  7.36   0.49\n"
     ]
    }
   ],
   "source": [
    "rej_neustressttest = ttest(rej['recoded_stress'], neu['recoded_stress'], paired=True, alternative='less').round(2)\n",
    "print(rej_neustressttest)"
   ]
  },
  {
   "cell_type": "code",
   "execution_count": 12,
   "id": "2e76bd07",
   "metadata": {},
   "outputs": [
    {
     "name": "stdout",
     "output_type": "stream",
     "text": [
      "           T  dof alternative  p-val          CI95%  cohen-d    BF10  power\n",
      "T-test -2.89   82        less    0.0  [-inf, -0.16]     0.19  11.448   0.53\n"
     ]
    }
   ],
   "source": [
    "neu_accstressttest = ttest(neu['recoded_stress'], acc['recoded_stress'], paired=True, alternative='less').round(2)\n",
    "print(neu_accstressttest)"
   ]
  },
  {
   "cell_type": "code",
   "execution_count": 13,
   "id": "8ef3bf2a",
   "metadata": {},
   "outputs": [
    {
     "name": "stdout",
     "output_type": "stream",
     "text": [
      "            T  dof alternative  p-val          CI95%  cohen-d       BF10  \\\n",
      "T-test -10.76   82        less    0.0  [-inf, -0.93]     1.24  5.006e+14   \n",
      "\n",
      "        power  \n",
      "T-test    1.0  \n"
     ]
    }
   ],
   "source": [
    "rej_accsaliencettest = ttest(rej['salience_mean'], acc['salience_mean'], paired=True, alternative='less').round(2)\n",
    "print(rej_accsaliencettest)"
   ]
  },
  {
   "cell_type": "code",
   "execution_count": 14,
   "id": "b3d53c56",
   "metadata": {},
   "outputs": [
    {
     "name": "stdout",
     "output_type": "stream",
     "text": [
      "           T  dof alternative  p-val         CI95%  cohen-d       BF10  power\n",
      "T-test -5.52   82        less    0.0  [-inf, -0.4]     0.62  7.091e+04    1.0\n"
     ]
    }
   ],
   "source": [
    "rej_neusaliencettest = ttest(rej['salience_mean'], neu['salience_mean'], paired=True, alternative='less').round(2)\n",
    "print(rej_neusaliencettest)"
   ]
  },
  {
   "cell_type": "code",
   "execution_count": 15,
   "id": "b0974122",
   "metadata": {},
   "outputs": [
    {
     "name": "stdout",
     "output_type": "stream",
     "text": [
      "           T  dof alternative  p-val          CI95%  cohen-d      BF10  power\n",
      "T-test -5.04   82        less    0.0  [-inf, -0.35]     0.53  1.15e+04    1.0\n"
     ]
    }
   ],
   "source": [
    "neu_accsaliencettest = ttest(neu['salience_mean'], acc['salience_mean'], paired=True, alternative='less').round(2)\n",
    "print(neu_accsaliencettest)"
   ]
  },
  {
   "cell_type": "code",
   "execution_count": 16,
   "id": "b52377ad",
   "metadata": {},
   "outputs": [
    {
     "name": "stdout",
     "output_type": "stream",
     "text": [
      "                 PROLIFIC_ID  condition_recode  afterstresschange  \\\n",
      "0   568d286ab5a2c2000cb6a91c                 1                1.0   \n",
      "1   595727bd7c76640001aa8f6e                 1                1.0   \n",
      "2   5a4636c92f91ec0001dcba07                 1                0.0   \n",
      "3   5ad2c8334d061300011b1985                 1                0.0   \n",
      "4   5adef850eb60400001539109                 1                0.0   \n",
      "..                       ...               ...                ...   \n",
      "78  63fac97f0d4e8f6bfd753d90                 1                1.0   \n",
      "79  6400d8ca785ee04d9b02ae9c                 1                1.0   \n",
      "80  64023a98627b1116180dff0b                 1                1.0   \n",
      "81  641361334c91a0c6ff4c5b79                 1                1.0   \n",
      "82  641a3df3c874807a1a8734bc                 1                1.0   \n",
      "\n",
      "    salience_mean  stress_mean  recoded_stress    choice  rej-acc  ifnegvalue  \n",
      "0             1.5          4.5             4.5  1.000000     -0.5           1  \n",
      "1             4.0          7.0             7.0  0.250000      1.0           0  \n",
      "2             1.5          5.5             4.5  0.090909     -0.5           1  \n",
      "3             3.0          4.0             6.0  0.500000     -1.5           1  \n",
      "4             3.0          2.0             8.0  1.000000      2.5           0  \n",
      "..            ...          ...             ...       ...      ...         ...  \n",
      "78            1.0          5.0             5.0  0.000000      0.0           0  \n",
      "79            1.0          2.5             2.5  0.545455     -1.5           1  \n",
      "80            1.5          2.0             2.0  0.666667     -4.0           1  \n",
      "81            1.0          9.0             9.0  1.000000      0.0           0  \n",
      "82            3.0          6.0             6.0  0.166667     -1.0           1  \n",
      "\n",
      "[83 rows x 9 columns]\n"
     ]
    }
   ],
   "source": [
    "print(rej)"
   ]
  },
  {
   "cell_type": "code",
   "execution_count": 17,
   "id": "ef54b376",
   "metadata": {},
   "outputs": [
    {
     "name": "stdout",
     "output_type": "stream",
     "text": [
      "83\n",
      "83\n",
      "83\n"
     ]
    }
   ],
   "source": [
    "print(len(rej))\n",
    "print(len(neu))\n",
    "print(len(acc))"
   ]
  },
  {
   "cell_type": "code",
   "execution_count": 18,
   "id": "39c381ec",
   "metadata": {},
   "outputs": [],
   "source": [
    "mostaffectedpps = updatedchoicedata.loc[updatedchoicedata['ifnegvalue']==1].reset_index(drop=True)\n",
    "leastaffectedpps = updatedchoicedata.loc[updatedchoicedata['ifnegvalue']==0].reset_index(drop=True)"
   ]
  },
  {
   "cell_type": "code",
   "execution_count": 19,
   "id": "3c48fe5c",
   "metadata": {},
   "outputs": [
    {
     "name": "stdout",
     "output_type": "stream",
     "text": [
      "150\n"
     ]
    }
   ],
   "source": [
    "print(len(mostaffectedpps))"
   ]
  },
  {
   "cell_type": "code",
   "execution_count": 20,
   "id": "0c1ee4cb",
   "metadata": {},
   "outputs": [],
   "source": [
    "mostaffectedanovachoice = pg.rm_anova(data=mostaffectedpps, dv='choice', within='condition_recode', subject='PROLIFIC_ID', detailed=True, correction = True)"
   ]
  },
  {
   "cell_type": "code",
   "execution_count": 21,
   "id": "562f5af0",
   "metadata": {},
   "outputs": [
    {
     "name": "stdout",
     "output_type": "stream",
     "text": [
      "             Source        SS  DF        MS         F    p-unc  p-GG-corr  \\\n",
      "0  condition_recode  0.049966   2  0.024983  0.809963  0.44783     0.4375   \n",
      "1             Error  3.022787  98  0.030845       NaN      NaN        NaN   \n",
      "\n",
      "        ng2       eps sphericity  W-spher   p-spher  \n",
      "0  0.002321  0.907227       True  0.89774  0.075096  \n",
      "1       NaN       NaN        NaN      NaN       NaN  \n"
     ]
    }
   ],
   "source": [
    "print(mostaffectedanovachoice)"
   ]
  },
  {
   "cell_type": "code",
   "execution_count": 22,
   "id": "e408b826",
   "metadata": {},
   "outputs": [],
   "source": [
    "leastaffectedanovachoice = pg.rm_anova(data=leastaffectedpps, dv='choice', within='condition_recode', subject='PROLIFIC_ID', detailed=True, correction = True)"
   ]
  },
  {
   "cell_type": "code",
   "execution_count": 23,
   "id": "07ecf356",
   "metadata": {},
   "outputs": [
    {
     "name": "stdout",
     "output_type": "stream",
     "text": [
      "             Source        SS  DF        MS         F     p-unc  p-GG-corr  \\\n",
      "0  condition_recode  0.076647   2  0.038324  1.569046  0.216148   0.218689   \n",
      "1             Error  1.563183  64  0.024425       NaN       NaN        NaN   \n",
      "\n",
      "        ng2       eps sphericity   W-spher   p-spher  \n",
      "0  0.004594  0.882735       True  0.867158  0.109779  \n",
      "1       NaN       NaN        NaN       NaN       NaN  \n"
     ]
    }
   ],
   "source": [
    "print(leastaffectedanovachoice)"
   ]
  },
  {
   "cell_type": "code",
   "execution_count": 24,
   "id": "b718d488",
   "metadata": {},
   "outputs": [
    {
     "name": "stdout",
     "output_type": "stream",
     "text": [
      "rejchoice_mean\n",
      "0.4505293902884264\n",
      "rejchoice_std\n",
      "0.4003628358502712\n"
     ]
    }
   ],
   "source": [
    "#proportion of self-choice in neutral condition\n",
    "rejchoice_mean = rej['choice'].mean()\n",
    "rejchoice_std = rej['choice'].std()\n",
    "print('rejchoice_mean')\n",
    "print(rejchoice_mean)\n",
    "print('rejchoice_std')\n",
    "print(rejchoice_std)"
   ]
  },
  {
   "cell_type": "code",
   "execution_count": 25,
   "id": "8f781f1c",
   "metadata": {},
   "outputs": [
    {
     "name": "stdout",
     "output_type": "stream",
     "text": [
      "accchoice_mean\n",
      "0.40158817086527926\n",
      "accchoice_std\n",
      "0.39197181209465354\n"
     ]
    }
   ],
   "source": [
    "accchoice_mean = acc['choice'].mean()\n",
    "accchoice_std = acc['choice'].std()\n",
    "print('accchoice_mean')\n",
    "print(accchoice_mean)\n",
    "print('accchoice_std')\n",
    "print(accchoice_std)"
   ]
  },
  {
   "cell_type": "code",
   "execution_count": 26,
   "id": "5212c247",
   "metadata": {},
   "outputs": [
    {
     "name": "stdout",
     "output_type": "stream",
     "text": [
      "neuchoice_mean\n",
      "0.4066265060240964\n",
      "neuchoice_std\n",
      "0.42190961347744804\n"
     ]
    }
   ],
   "source": [
    "neuchoice_mean = neu['choice'].mean()\n",
    "neuchoice_std = neu['choice'].std()\n",
    "print('neuchoice_mean')\n",
    "print(neuchoice_mean)\n",
    "print('neuchoice_std')\n",
    "print(neuchoice_std)"
   ]
  },
  {
   "cell_type": "code",
   "execution_count": 89,
   "id": "5e5f652c",
   "metadata": {},
   "outputs": [],
   "source": [
    "aq = pd.read_csv('%s/scoring/aq.csv'%(current_dir))\n",
    "brcs = pd.read_csv('%s/scoring/brcs.csv'%(current_dir))\n",
    "erq = pd.read_csv('%s/scoring/erq.csv'%(current_dir))\n",
    "ntbs = pd.read_csv('%s/scoring/ntbs.csv'%(current_dir))\n",
    "scs = pd.read_csv('%s/scoring/scs.csv'%(current_dir))\n",
    "srq = pd.read_csv('%s/scoring/srq.csv'%(current_dir))\n",
    "pss = pd.read_csv('%s/scoring/pss.csv'%(current_dir))\n",
    "rsq = pd.read_csv('%s/scoring/rsq.csv'%(current_dir))\n",
    "rr = pd.read_csv('%s/scoring/rr.csv'%(current_dir))\n",
    "mspss = pd.read_csv('%s/scoring/mspss.csv'%(current_dir))\n",
    "LSAS = pd.read_csv('%s/scoring/LSAS.csv'%(current_dir))\n",
    "DII = pd.read_csv('%s/scoring/DII.csv'%(current_dir))\n",
    "dast = pd.read_csv('%s/scoring/dast.csv'%(current_dir))"
   ]
  },
  {
   "cell_type": "code",
   "execution_count": 35,
   "id": "cca82da5",
   "metadata": {},
   "outputs": [
    {
     "name": "stdout",
     "output_type": "stream",
     "text": [
      "83\n",
      "83\n",
      "83\n",
      "83\n",
      "83\n",
      "83\n"
     ]
    }
   ],
   "source": [
    "rejchoice = rej['choice']\n",
    "accchoice = acc['choice']\n",
    "neuchoice = neu['choice']\n",
    "print(len(rejchoice))\n",
    "print(len(accchoice))\n",
    "print(len(neuchoice))\n",
    "print(len(aq))\n",
    "print(len(ntbs))\n",
    "print(len(mspss))"
   ]
  },
  {
   "cell_type": "code",
   "execution_count": 36,
   "id": "6164eb5f",
   "metadata": {},
   "outputs": [
    {
     "name": "stdout",
     "output_type": "stream",
     "text": [
      "                 Prolific_ID    AQ\n",
      "0   568d286ab5a2c2000cb6a91c  24.0\n",
      "1   595727bd7c76640001aa8f6e  33.0\n",
      "2   5a4636c92f91ec0001dcba07  32.0\n",
      "3   5ad2c8334d061300011b1985  11.0\n",
      "4   5adef850eb60400001539109  21.0\n",
      "..                       ...   ...\n",
      "78  63fac97f0d4e8f6bfd753d90  30.0\n",
      "79  6400d8ca785ee04d9b02ae9c  19.0\n",
      "80  64023a98627b1116180dff0b  30.0\n",
      "81  641361334c91a0c6ff4c5b79  10.0\n",
      "82  641a3df3c874807a1a8734bc  20.0\n",
      "\n",
      "[83 rows x 2 columns]\n"
     ]
    }
   ],
   "source": [
    "print(aq)"
   ]
  },
  {
   "cell_type": "code",
   "execution_count": 37,
   "id": "cb95d9e4",
   "metadata": {},
   "outputs": [],
   "source": [
    "rejchoice = rej['choice']\n",
    "accchoice = acc['choice']\n",
    "neuchoice = neu['choice']\n",
    "\n",
    "rejstress = rej['recoded_stress']\n",
    "accstress = acc['recoded_stress']\n",
    "neustress = neu['recoded_stress']\n",
    "\n",
    "rejsalience = rej['salience_mean']\n",
    "accsalience = acc['salience_mean']\n",
    "neusalience = neu['salience_mean']"
   ]
  },
  {
   "cell_type": "code",
   "execution_count": 95,
   "id": "5591ee42",
   "metadata": {},
   "outputs": [
    {
     "data": {
      "image/png": "[encoded data removed]",
      "text/plain": [
       "<Figure size 432x288 with 1 Axes>"
      ]
     },
     "metadata": {},
     "output_type": "display_data"
    },
    {
     "name": "stdout",
     "output_type": "stream",
     "text": [
      "[[64.98971496 -0.56931852]\n",
      " [-0.56931852  0.1602904 ]]\n",
      "Spearmans correlation: -0.207\n",
      "p value: 0.0604\n",
      "Accept null hypothesis that the means are equal.\n"
     ]
    }
   ],
   "source": [
    "# prop_choicerej // aq\n",
    "pyplot.scatter(aq['AQ'],rejchoice)\n",
    "pyplot.show()\n",
    "covariance = cov(aq['AQ'],rejchoice)\n",
    "print(covariance)\n",
    "corr, _ = spearmanr(aq['AQ'],rejchoice)\n",
    "print('Spearmans correlation: %.3f' % corr)\n",
    "r,p = scipy.stats.spearmanr(aq['AQ'],rejchoice)\n",
    "print('p value: %.4f' % p)\n",
    "\n",
    "alpha = 0.05\n",
    "if p > alpha:\n",
    " print('Accept null hypothesis that the means are equal.')\n",
    "else:\n",
    "    print('Reject the null hypothesis that the means are equal.')"
   ]
  },
  {
   "cell_type": "code",
   "execution_count": 96,
   "id": "59e71abc",
   "metadata": {},
   "outputs": [
    {
     "data": {
      "image/png": "[encoded data removed]",
      "text/plain": [
       "<Figure size 432x288 with 1 Axes>"
      ]
     },
     "metadata": {},
     "output_type": "display_data"
    },
    {
     "name": "stdout",
     "output_type": "stream",
     "text": [
      "[[16.68645313 -0.5543097 ]\n",
      " [-0.5543097   0.1602904 ]]\n",
      "Spearmans correlation: -0.337\n",
      "p value: 0.0018\n",
      "Reject the null hypothesis that the means are equal.\n"
     ]
    }
   ],
   "source": [
    "# prop_choicerej // ntbs\n",
    "pyplot.scatter(ntbs['NTBS_score'],rejchoice)\n",
    "pyplot.show()\n",
    "covariance = cov(ntbs['NTBS_score'],rejchoice)\n",
    "print(covariance)\n",
    "corr, _ = spearmanr(ntbs['NTBS_score'],rejchoice)\n",
    "print('Spearmans correlation: %.3f' % corr)\n",
    "r,p = scipy.stats.spearmanr(ntbs['NTBS_score'],rejchoice)\n",
    "print('p value: %.4f' % p)\n",
    "\n",
    "alpha = 0.05\n",
    "if p > alpha:\n",
    " print('Accept null hypothesis that the means are equal.')\n",
    "else:\n",
    "    print('Reject the null hypothesis that the means are equal.')"
   ]
  },
  {
   "cell_type": "code",
   "execution_count": 97,
   "id": "dc711b12",
   "metadata": {},
   "outputs": [
    {
     "data": {
      "image/png": "[encoded data removed]",
      "text/plain": [
       "<Figure size 432x288 with 1 Axes>"
      ]
     },
     "metadata": {},
     "output_type": "display_data"
    },
    {
     "name": "stdout",
     "output_type": "stream",
     "text": [
      "[[12.12875129 -0.07691089]\n",
      " [-0.07691089  0.1602904 ]]\n",
      "Spearmans correlation: -0.044\n",
      "p value: 0.6931\n",
      "Accept null hypothesis that the means are equal.\n"
     ]
    }
   ],
   "source": [
    "# prop_choicerej // rsq\n",
    "pyplot.scatter(rsq[\"RSQ_finalscore\"],rejchoice)\n",
    "pyplot.show()\n",
    "covariance = cov(rsq[\"RSQ_finalscore\"],rejchoice)\n",
    "print(covariance)\n",
    "corr, _ = spearmanr(rsq[\"RSQ_finalscore\"],rejchoice)\n",
    "print('Spearmans correlation: %.3f' % corr)\n",
    "r,p = scipy.stats.spearmanr(rsq[\"RSQ_finalscore\"],rejchoice)\n",
    "print('p value: %.4f' % p)\n",
    "\n",
    "alpha = 0.05\n",
    "if p > alpha:\n",
    " print('Accept null hypothesis that the means are equal.')\n",
    "else:\n",
    "    print('Reject the null hypothesis that the means are equal.')\n"
   ]
  },
  {
   "cell_type": "code",
   "execution_count": 98,
   "id": "ca3cac7a",
   "metadata": {},
   "outputs": [
    {
     "data": {
      "image/png": "[encoded data removed]",
      "text/plain": [
       "<Figure size 432x288 with 1 Axes>"
      ]
     },
     "metadata": {},
     "output_type": "display_data"
    },
    {
     "name": "stdout",
     "output_type": "stream",
     "text": [
      "[[84.46635322 -0.27080985]\n",
      " [-0.27080985  0.1602904 ]]\n",
      "Spearmans correlation: -0.057\n",
      "p value: 0.6092\n",
      "Accept null hypothesis that the means are equal.\n"
     ]
    }
   ],
   "source": [
    "# prop_choicerej // pss\n",
    "\n",
    "pyplot.scatter(pss[\"PSS_score\"],rejchoice)\n",
    "pyplot.show()\n",
    "covariance = cov(pss[\"PSS_score\"],rejchoice)\n",
    "print(covariance)\n",
    "corr, _ = spearmanr(pss[\"PSS_score\"],rejchoice)\n",
    "print('Spearmans correlation: %.3f' % corr)\n",
    "r,p = scipy.stats.spearmanr(pss[\"PSS_score\"],rejchoice)\n",
    "print('p value: %.4f' % p)\n",
    "\n",
    "alpha = 0.05\n",
    "if p > alpha:\n",
    " print('Accept null hypothesis that the means are equal.')\n",
    "else:\n",
    "    print('Reject the null hypothesis that the means are equal.')"
   ]
  },
  {
   "cell_type": "code",
   "execution_count": 99,
   "id": "94977e95",
   "metadata": {},
   "outputs": [
    {
     "data": {
      "image/png": "[encoded data removed]",
      "text/plain": [
       "<Figure size 432x288 with 1 Axes>"
      ]
     },
     "metadata": {},
     "output_type": "display_data"
    },
    {
     "name": "stdout",
     "output_type": "stream",
     "text": [
      "[[ 1.8008375  -0.09312294]\n",
      " [-0.09312294  0.1602904 ]]\n",
      "Spearmans correlation: -0.156\n",
      "p value: 0.1588\n",
      "Accept null hypothesis that the means are equal.\n"
     ]
    }
   ],
   "source": [
    "# prop_choicerej // erq emotional suppression\n",
    "pyplot.scatter(erq['ERQ_emosuppression'],rejchoice)\n",
    "pyplot.show()\n",
    "covariance = cov(erq['ERQ_emosuppression'],rejchoice)\n",
    "print(covariance)\n",
    "corr, _ = spearmanr(erq['ERQ_emosuppression'],rejchoice)\n",
    "print('Spearmans correlation: %.3f' % corr)\n",
    "r,p = scipy.stats.spearmanr(erq['ERQ_emosuppression'],rejchoice)\n",
    "print('p value: %.4f' % p)\n",
    "\n",
    "alpha = 0.05\n",
    "if p > alpha:\n",
    " print('Accept null hypothesis that the means are equal.')\n",
    "else:\n",
    "    print('Reject the null hypothesis that the means are equal.')\n"
   ]
  },
  {
   "cell_type": "code",
   "execution_count": 100,
   "id": "8250537b",
   "metadata": {},
   "outputs": [
    {
     "data": {
      "image/png": "[encoded data removed]",
      "text/plain": [
       "<Figure size 432x288 with 1 Axes>"
      ]
     },
     "metadata": {},
     "output_type": "display_data"
    },
    {
     "name": "stdout",
     "output_type": "stream",
     "text": [
      "[[1.79945799 0.02043299]\n",
      " [0.02043299 0.1602904 ]]\n",
      "Spearmans correlation: 0.049\n",
      "p value: 0.6601\n",
      "Accept null hypothesis that the means are equal.\n"
     ]
    }
   ],
   "source": [
    "# prop_choicerej // erq emotional cogreappraisal\n",
    "pyplot.scatter(erq['ERQ_cogreappraisal'],rejchoice)\n",
    "pyplot.show()\n",
    "covariance = cov(erq['ERQ_cogreappraisal'],rejchoice)\n",
    "print(covariance)\n",
    "corr, _ = spearmanr(erq['ERQ_cogreappraisal'],rejchoice)\n",
    "print('Spearmans correlation: %.3f' % corr)\n",
    "r,p = scipy.stats.spearmanr(erq['ERQ_cogreappraisal'],rejchoice)\n",
    "print('p value: %.4f' % p)\n",
    "\n",
    "alpha = 0.05\n",
    "if p > alpha:\n",
    " print('Accept null hypothesis that the means are equal.')\n",
    "else:\n",
    "    print('Reject the null hypothesis that the means are equal.')\n"
   ]
  },
  {
   "cell_type": "code",
   "execution_count": 101,
   "id": "b5758a6e",
   "metadata": {},
   "outputs": [
    {
     "data": {
      "image/png": "[encoded data removed]",
      "text/plain": [
       "<Figure size 432x288 with 1 Axes>"
      ]
     },
     "metadata": {},
     "output_type": "display_data"
    },
    {
     "name": "stdout",
     "output_type": "stream",
     "text": [
      "[[5.37141052e+02 1.73854576e+00]\n",
      " [1.73854576e+00 1.60290400e-01]]\n",
      "Spearmans correlation: 0.205\n",
      "p value: 0.0627\n",
      "Accept null hypothesis that the means are equal.\n"
     ]
    }
   ],
   "source": [
    "# prop_choicerej // scs\n",
    "\n",
    "pyplot.scatter(scs[\"SCS_score\"],rejchoice)\n",
    "pyplot.show()\n",
    "covariance = cov(scs[\"SCS_score\"],rejchoice)\n",
    "print(covariance)\n",
    "corr, _ = spearmanr(scs[\"SCS_score\"],rejchoice)\n",
    "print('Spearmans correlation: %.3f' % corr)\n",
    "r,p = scipy.stats.spearmanr(scs[\"SCS_score\"],rejchoice)\n",
    "print('p value: %.4f' % p)\n",
    "\n",
    "alpha = 0.05\n",
    "if p > alpha:\n",
    " print('Accept null hypothesis that the means are equal.')\n",
    "else:\n",
    "    print('Reject the null hypothesis that the means are equal.')"
   ]
  },
  {
   "cell_type": "code",
   "execution_count": 102,
   "id": "98878d6d",
   "metadata": {},
   "outputs": [
    {
     "data": {
      "image/png": "[encoded data removed]",
      "text/plain": [
       "<Figure size 432x288 with 1 Axes>"
      ]
     },
     "metadata": {},
     "output_type": "display_data"
    },
    {
     "name": "stdout",
     "output_type": "stream",
     "text": [
      "[[ 1.42126433 -0.11899828]\n",
      " [-0.11899828  0.1602904 ]]\n",
      "Spearmans correlation: -0.233\n",
      "p value: 0.0339\n",
      "Reject the null hypothesis that the means are equal.\n"
     ]
    }
   ],
   "source": [
    "# prop_choicerej // srq admiration\n",
    "\n",
    "pyplot.scatter(srq[\"SRQ_admiration\"],rejchoice)\n",
    "pyplot.show()\n",
    "covariance = cov(srq[\"SRQ_admiration\"],rejchoice)\n",
    "print(covariance)\n",
    "corr, _ = spearmanr(srq[\"SRQ_admiration\"],rejchoice)\n",
    "print('Spearmans correlation: %.3f' % corr)\n",
    "r,p = scipy.stats.spearmanr(srq[\"SRQ_admiration\"],rejchoice)\n",
    "print('p value: %.4f' % p)\n",
    "\n",
    "alpha = 0.05\n",
    "if p > alpha:\n",
    " print('Accept null hypothesis that the means are equal.')\n",
    "else:\n",
    "    print('Reject the null hypothesis that the means are equal.')"
   ]
  },
  {
   "cell_type": "code",
   "execution_count": 103,
   "id": "01b5ee5d",
   "metadata": {},
   "outputs": [
    {
     "data": {
      "image/png": "[encoded data removed]",
      "text/plain": [
       "<Figure size 432x288 with 1 Axes>"
      ]
     },
     "metadata": {},
     "output_type": "display_data"
    },
    {
     "name": "stdout",
     "output_type": "stream",
     "text": [
      "[[0.93310608 0.0113863 ]\n",
      " [0.0113863  0.1602904 ]]\n",
      "Spearmans correlation: -0.025\n",
      "p value: 0.8200\n",
      "Accept null hypothesis that the means are equal.\n"
     ]
    }
   ],
   "source": [
    "# prop_choicerej // srq negsocpot\n",
    "\n",
    "pyplot.scatter(srq['SRQ_negsocpot'],rejchoice)\n",
    "pyplot.show()\n",
    "covariance = cov(srq['SRQ_negsocpot'],rejchoice)\n",
    "print(covariance)\n",
    "corr, _ = spearmanr(srq['SRQ_negsocpot'],rejchoice)\n",
    "print('Spearmans correlation: %.3f' % corr)\n",
    "r,p = scipy.stats.spearmanr(srq['SRQ_negsocpot'],rejchoice)\n",
    "print('p value: %.4f' % p)\n",
    "\n",
    "alpha = 0.05\n",
    "if p > alpha:\n",
    " print('Accept null hypothesis that the means are equal.')\n",
    "else:\n",
    "    print('Reject the null hypothesis that the means are equal.')"
   ]
  },
  {
   "cell_type": "code",
   "execution_count": 104,
   "id": "13bd56a7",
   "metadata": {},
   "outputs": [
    {
     "data": {
      "image/png": "[encoded data removed]",
      "text/plain": [
       "<Figure size 432x288 with 1 Axes>"
      ]
     },
     "metadata": {},
     "output_type": "display_data"
    },
    {
     "name": "stdout",
     "output_type": "stream",
     "text": [
      "[[ 0.35646195 -0.00364255]\n",
      " [-0.00364255  0.1602904 ]]\n",
      "Spearmans correlation: -0.008\n",
      "p value: 0.9409\n",
      "Accept null hypothesis that the means are equal.\n"
     ]
    }
   ],
   "source": [
    "# prop_choicerej // srq prosocint\n",
    "\n",
    "pyplot.scatter(srq['SRQ_prosocint'],rejchoice)\n",
    "pyplot.show()\n",
    "covariance = cov(srq['SRQ_prosocint'],rejchoice)\n",
    "print(covariance)\n",
    "corr, _ = spearmanr(srq['SRQ_prosocint'],rejchoice)\n",
    "print('Spearmans correlation: %.3f' % corr)\n",
    "r,p = scipy.stats.spearmanr(srq['SRQ_prosocint'],rejchoice)\n",
    "print('p value: %.4f' % p)\n",
    "\n",
    "alpha = 0.05\n",
    "if p > alpha:\n",
    " print('Accept null hypothesis that the means are equal.')\n",
    "else:\n",
    "    print('Reject the null hypothesis that the means are equal.')"
   ]
  },
  {
   "cell_type": "code",
   "execution_count": 105,
   "id": "2487982b",
   "metadata": {},
   "outputs": [
    {
     "data": {
      "image/png": "[encoded data removed]",
      "text/plain": [
       "<Figure size 432x288 with 1 Axes>"
      ]
     },
     "metadata": {},
     "output_type": "display_data"
    },
    {
     "name": "stdout",
     "output_type": "stream",
     "text": [
      "[[ 2.21771639 -0.04604352]\n",
      " [-0.04604352  0.1602904 ]]\n",
      "Spearmans correlation: -0.098\n",
      "p value: 0.3778\n",
      "Accept null hypothesis that the means are equal.\n"
     ]
    }
   ],
   "source": [
    "# prop_choicerej // srq sexrel\n",
    "\n",
    "pyplot.scatter(srq['SRQ_sexrel'],rejchoice)\n",
    "pyplot.show()\n",
    "covariance = cov(srq['SRQ_sexrel'],rejchoice)\n",
    "print(covariance)\n",
    "corr, _ = spearmanr(srq['SRQ_sexrel'],rejchoice)\n",
    "print('Spearmans correlation: %.3f' % corr)\n",
    "r,p = scipy.stats.spearmanr(srq['SRQ_sexrel'],rejchoice)\n",
    "print('p value: %.4f' % p)\n",
    "\n",
    "alpha = 0.05\n",
    "if p > alpha:\n",
    " print('Accept null hypothesis that the means are equal.')\n",
    "else:\n",
    "    print('Reject the null hypothesis that the means are equal.')"
   ]
  },
  {
   "cell_type": "code",
   "execution_count": 106,
   "id": "5efb6b81",
   "metadata": {},
   "outputs": [
    {
     "data": {
      "image/png": "[encoded data removed]",
      "text/plain": [
       "<Figure size 432x288 with 1 Axes>"
      ]
     },
     "metadata": {},
     "output_type": "display_data"
    },
    {
     "name": "stdout",
     "output_type": "stream",
     "text": [
      "[[ 1.40131257 -0.01104143]\n",
      " [-0.01104143  0.1602904 ]]\n",
      "Spearmans correlation: 0.001\n",
      "p value: 0.9923\n",
      "Accept null hypothesis that the means are equal.\n"
     ]
    }
   ],
   "source": [
    "# prop_choicerej // srq sociability\n",
    "\n",
    "pyplot.scatter(srq['SRQ_sociability'],rejchoice)\n",
    "pyplot.show()\n",
    "covariance = cov(srq['SRQ_sociability'],rejchoice)\n",
    "print(covariance)\n",
    "corr, _ = spearmanr(srq['SRQ_sociability'],rejchoice)\n",
    "print('Spearmans correlation: %.3f' % corr)\n",
    "r,p = scipy.stats.spearmanr(srq['SRQ_sociability'],rejchoice)\n",
    "print('p value: %.4f' % p)\n",
    "\n",
    "alpha = 0.05\n",
    "if p > alpha:\n",
    " print('Accept null hypothesis that the means are equal.')\n",
    "else:\n",
    "    print('Reject the null hypothesis that the means are equal.')"
   ]
  },
  {
   "cell_type": "code",
   "execution_count": 107,
   "id": "65f69468",
   "metadata": {},
   "outputs": [
    {
     "data": {
      "text/plain": [
       "<matplotlib.axes._subplots.AxesSubplot at 0x7fdb527dad60>"
      ]
     },
     "execution_count": 107,
     "metadata": {},
     "output_type": "execute_result"
    },
    {
     "data": {
      "image/png": "[encoded data removed]",
      "text/plain": [
       "<Figure size 432x288 with 1 Axes>"
      ]
     },
     "metadata": {},
     "output_type": "display_data"
    }
   ],
   "source": [
    "sns.histplot(data= rejchoice, kde=True)"
   ]
  },
  {
   "cell_type": "code",
   "execution_count": 108,
   "id": "721ff8bf",
   "metadata": {},
   "outputs": [
    {
     "data": {
      "text/plain": [
       "<matplotlib.axes._subplots.AxesSubplot at 0x7fdb1030cd30>"
      ]
     },
     "execution_count": 108,
     "metadata": {},
     "output_type": "execute_result"
    },
    {
     "data": {
      "image/png": "[encoded data removed]",
      "text/plain": [
       "<Figure size 432x288 with 1 Axes>"
      ]
     },
     "metadata": {},
     "output_type": "display_data"
    }
   ],
   "source": [
    "sns.histplot(data= accchoice, kde=True)"
   ]
  },
  {
   "cell_type": "code",
   "execution_count": 109,
   "id": "971bcdfb",
   "metadata": {},
   "outputs": [
    {
     "data": {
      "text/plain": [
       "<matplotlib.axes._subplots.AxesSubplot at 0x7fdb20b30b80>"
      ]
     },
     "execution_count": 109,
     "metadata": {},
     "output_type": "execute_result"
    },
    {
     "data": {
      "image/png": "[encoded data removed]",
      "text/plain": [
       "<Figure size 432x288 with 1 Axes>"
      ]
     },
     "metadata": {},
     "output_type": "display_data"
    }
   ],
   "source": [
    "sns.histplot(data= neuchoice, kde=True)"
   ]
  },
  {
   "cell_type": "code",
   "execution_count": 110,
   "id": "f5278cdb",
   "metadata": {},
   "outputs": [
    {
     "data": {
      "image/png": "[encoded data removed]",
      "text/plain": [
       "<Figure size 432x288 with 1 Axes>"
      ]
     },
     "metadata": {},
     "output_type": "display_data"
    },
    {
     "name": "stdout",
     "output_type": "stream",
     "text": [
      "[[ 0.1602904  -0.5543097 ]\n",
      " [-0.5543097  16.68645313]]\n",
      "Spearmans correlation: -0.337\n",
      "p value: 0.0018\n",
      "Reject the null hypothesis that the means are equal.\n"
     ]
    }
   ],
   "source": [
    "# prop_choicerej // ntbs\n",
    "pyplot.scatter(rejchoice, ntbs['NTBS_score'])\n",
    "pyplot.show()\n",
    "covariance = cov(rejchoice, ntbs['NTBS_score'])\n",
    "print(covariance)\n",
    "corr, _ = spearmanr(rejchoice, ntbs['NTBS_score'])\n",
    "print('Spearmans correlation: %.3f' % corr)\n",
    "r,p = scipy.stats.spearmanr(rejchoice, ntbs['NTBS_score'])\n",
    "print('p value: %.4f' % p)\n",
    "\n",
    "alpha = 0.05\n",
    "if p > alpha:\n",
    " print('Accept null hypothesis that the means are equal.')\n",
    "else:\n",
    "    print('Reject the null hypothesis that the means are equal.')"
   ]
  },
  {
   "cell_type": "code",
   "execution_count": 111,
   "id": "8c99b10c",
   "metadata": {},
   "outputs": [
    {
     "data": {
      "image/png": "[encoded data removed]",
      "text/plain": [
       "<Figure size 432x288 with 1 Axes>"
      ]
     },
     "metadata": {},
     "output_type": "display_data"
    },
    {
     "name": "stdout",
     "output_type": "stream",
     "text": [
      "[[ 4.8008375  -2.57346459]\n",
      " [-2.57346459 16.68645313]]\n",
      "Spearmans correlation: -0.283\n",
      "p value: 0.0096\n",
      "Reject the null hypothesis that the means are equal.\n"
     ]
    }
   ],
   "source": [
    "# rejstress // ntbs\n",
    "pyplot.scatter(rejstress, ntbs['NTBS_score'])\n",
    "pyplot.show()\n",
    "covariance = cov(rejstress, ntbs['NTBS_score'])\n",
    "print(covariance)\n",
    "corr, _ = spearmanr(rejstress, ntbs['NTBS_score'])\n",
    "print('Spearmans correlation: %.3f' % corr)\n",
    "r,p = scipy.stats.spearmanr(rejstress, ntbs['NTBS_score'])\n",
    "print('p value: %.4f' % p)\n",
    "\n",
    "alpha = 0.05\n",
    "if p > alpha:\n",
    " print('Accept null hypothesis that the means are equal.')\n",
    "else:\n",
    "    print('Reject the null hypothesis that the means are equal.')\n",
    "\n"
   ]
  },
  {
   "cell_type": "code",
   "execution_count": 112,
   "id": "c14fec58",
   "metadata": {},
   "outputs": [
    {
     "data": {
      "image/png": "[encoded data removed]",
      "text/plain": [
       "<Figure size 432x288 with 1 Axes>"
      ]
     },
     "metadata": {},
     "output_type": "display_data"
    },
    {
     "name": "stdout",
     "output_type": "stream",
     "text": [
      "[[ 4.8008375  -2.57346459]\n",
      " [-2.57346459 16.68645313]]\n",
      "Pearsons correlation: -0.288\n",
      "p value: 0.0084\n",
      "Reject the null hypothesis that the means are equal.\n"
     ]
    }
   ],
   "source": [
    "#rejstress // ntbs\n",
    "pyplot.scatter(rejstress, ntbs['NTBS_score'])\n",
    "pyplot.show()\n",
    "covariance = cov(rejstress, ntbs['NTBS_score'])\n",
    "print(covariance)\n",
    "corr, _ = pearsonr(rejstress, ntbs['NTBS_score'])\n",
    "print('Pearsons correlation: %.3f' % corr)\n",
    "r,p = scipy.stats.pearsonr(rejstress, ntbs['NTBS_score'])\n",
    "print('p value: %.4f' % p)\n",
    "\n",
    "alpha = 0.05\n",
    "if p > alpha:\n",
    " print('Accept null hypothesis that the means are equal.')\n",
    "else:\n",
    "    print('Reject the null hypothesis that the means are equal.')"
   ]
  },
  {
   "cell_type": "code",
   "execution_count": 113,
   "id": "9e092746",
   "metadata": {},
   "outputs": [
    {
     "data": {
      "image/png": "[encoded data removed]",
      "text/plain": [
       "<Figure size 432x288 with 1 Axes>"
      ]
     },
     "metadata": {},
     "output_type": "display_data"
    },
    {
     "name": "stdout",
     "output_type": "stream",
     "text": [
      "[[ 0.1602904 -0.0665253]\n",
      " [-0.0665253 12.1827799]]\n",
      "Spearmansr correlation: -0.027\n",
      "p value: 0.8056\n",
      "Accept null hypothesis that the means are equal.\n"
     ]
    }
   ],
   "source": [
    "# prop_choicerej // rr\n",
    "pyplot.scatter(rejchoice, rr['RR_score'])\n",
    "pyplot.show()\n",
    "covariance = cov(rejchoice, rr['RR_score'])\n",
    "print(covariance)\n",
    "corr, _ = spearmanr(rejchoice, rr['RR_score'])\n",
    "print('Spearmansr correlation: %.3f' % corr)\n",
    "r,p = scipy.stats.spearmanr(rejchoice, rr['RR_score'])\n",
    "print('p value: %.4f' % p)\n",
    "\n",
    "alpha = 0.05\n",
    "if p > alpha:\n",
    " print('Accept null hypothesis that the means are equal.')\n",
    "else:\n",
    "    print('Reject the null hypothesis that the means are equal.')"
   ]
  },
  {
   "cell_type": "code",
   "execution_count": 114,
   "id": "ca2bb7eb",
   "metadata": {},
   "outputs": [
    {
     "data": {
      "image/png": "[encoded data removed]",
      "text/plain": [
       "<Figure size 432x288 with 1 Axes>"
      ]
     },
     "metadata": {},
     "output_type": "display_data"
    },
    {
     "name": "stdout",
     "output_type": "stream",
     "text": [
      "[[ 0.1602904  -0.00539265]\n",
      " [-0.00539265  1.45284798]]\n",
      "Spearmansr correlation: 0.011\n",
      "p value: 0.9244\n",
      "Accept null hypothesis that the means are equal.\n"
     ]
    }
   ],
   "source": [
    "# prop_choicerej // mspss\n",
    "pyplot.scatter(rejchoice, mspss['MSPSS_score'])\n",
    "pyplot.show()\n",
    "covariance = cov(rejchoice, mspss['MSPSS_score'])\n",
    "print(covariance)\n",
    "corr, _ = spearmanr(rejchoice, mspss['MSPSS_score'])\n",
    "print('Spearmansr correlation: %.3f' % corr)\n",
    "r,p = scipy.stats.spearmanr(rejchoice, mspss['MSPSS_score'])\n",
    "print('p value: %.4f' % p)\n",
    "\n",
    "alpha = 0.05\n",
    "if p > alpha:\n",
    " print('Accept null hypothesis that the means are equal.')\n",
    "else:\n",
    "    print('Reject the null hypothesis that the means are equal.')"
   ]
  },
  {
   "cell_type": "code",
   "execution_count": 115,
   "id": "ee03413d",
   "metadata": {},
   "outputs": [],
   "source": [
    "ntbschoicescatter = pd.DataFrame()\n",
    "ntbschoicescatter['ntbs_'] = ntbs['NTBS_score']\n",
    "ntbschoicescatter['rejchoice_'] = rejchoice\n"
   ]
  },
  {
   "cell_type": "code",
   "execution_count": 116,
   "id": "bfe96bbb",
   "metadata": {},
   "outputs": [
    {
     "name": "stdout",
     "output_type": "stream",
     "text": [
      "    ntbs_  rejchoice_\n",
      "0      34    1.000000\n",
      "1      31    0.250000\n",
      "2      38    0.090909\n",
      "3      32    0.500000\n",
      "4      30    1.000000\n",
      "..    ...         ...\n",
      "78     32    0.000000\n",
      "79     33    0.545455\n",
      "80     36    0.666667\n",
      "81     34    1.000000\n",
      "82     34    0.166667\n",
      "\n",
      "[83 rows x 2 columns]\n"
     ]
    }
   ],
   "source": [
    "print(ntbschoicescatter)"
   ]
  },
  {
   "cell_type": "code",
   "execution_count": 87,
   "id": "5eb389ed",
   "metadata": {},
   "outputs": [],
   "source": [
    "#r = scipy.stats.pearsonr(x=ntbschoicescatter.ntbs, y=ntbschoicescatter.rejchoice)[0]\n",
    "#scatterntbschoice = sns.scatterplot(data=ntbschoicescatter, x=ntbschoicescatter.ntbs, y=ntbschoicescatter.rejchoice)\n",
    "#scatterntbschoice.set_title('Need to Belong and Choice')\n",
    "#scatterntbschoice= plt.text(24, .8, 'r = ' + str(round(r, 2)))\n",
    "#plt.savefig('ntbschoicescatterplot.png')\n"
   ]
  },
  {
   "cell_type": "code",
   "execution_count": 61,
   "id": "560a53f5",
   "metadata": {},
   "outputs": [
    {
     "name": "stdout",
     "output_type": "stream",
     "text": [
      "    ntbs_  rejstress_\n",
      "0      34         4.5\n",
      "1      31         7.0\n",
      "2      38         4.5\n",
      "3      32         6.0\n",
      "4      30         8.0\n",
      "..    ...         ...\n",
      "78     32         5.0\n",
      "79     33         2.5\n",
      "80     36         2.0\n",
      "81     34         9.0\n",
      "82     34         6.0\n",
      "\n",
      "[83 rows x 2 columns]\n"
     ]
    }
   ],
   "source": [
    "ntbsstressscatter = pd.DataFrame()\n",
    "ntbsstressscatter['ntbs_'] = ntbs['NTBS_score']\n",
    "ntbsstressscatter['rejstress_'] = rej['recoded_stress']\n",
    "print(ntbsstressscatter)\n"
   ]
  },
  {
   "cell_type": "code",
   "execution_count": 62,
   "id": "1fdee24c",
   "metadata": {},
   "outputs": [
    {
     "data": {
      "image/png": "[encoded data removed]",
      "text/plain": [
       "<Figure size 432x288 with 1 Axes>"
      ]
     },
     "metadata": {
      "needs_background": "light"
     },
     "output_type": "display_data"
    }
   ],
   "source": [
    "r = scipy.stats.pearsonr(x=ntbsstressscatter.ntbs_, y=ntbsstressscatter.rejstress_)[0]\n",
    "ntbs_stress_scatter = sns.regplot(x= \"ntbs_\", y= \"rejstress_\", data= ntbsstressscatter)\n",
    "ntbs_stress_scatter.set_ylabel('Affect Rating')\n",
    "ntbs_stress_scatter.set_xlabel('Need to Belong Scale')\n",
    "#ntbs_stress_scatter.text(24, 1.5, 'r = ' + str(round(r, 2)))\n",
    "plt.savefig('ntbs_stress_scatter.png', bbox_inches='tight')\n"
   ]
  },
  {
   "cell_type": "code",
   "execution_count": 63,
   "id": "13fccf9e",
   "metadata": {},
   "outputs": [
    {
     "data": {
      "image/png": "[encoded data removed]",
      "text/plain": [
       "<Figure size 432x288 with 1 Axes>"
      ]
     },
     "metadata": {
      "needs_background": "light"
     },
     "output_type": "display_data"
    }
   ],
   "source": [
    "r = scipy.stats.spearmanr(a=ntbschoicescatter.ntbs_, b=ntbschoicescatter.rejchoice_)[0]\n",
    "scatterntbschoice = sns.regplot(x= \"ntbs_\", y= \"rejchoice_\", data= ntbschoicescatter)\n",
    "scatterntbschoice.set_ylabel('Self Choice %')\n",
    "scatterntbschoice.set_xlabel('Need to Belong Scale')\n",
    "#scatterntbschoice= plt.text(24, .85, 'r = ' + str(round(r, 2)))\n",
    "plt.savefig('ntbs_choice_scatterplot.png',bbox_inches='tight')"
   ]
  },
  {
   "cell_type": "code",
   "execution_count": 64,
   "id": "6732c399",
   "metadata": {},
   "outputs": [
    {
     "name": "stdout",
     "output_type": "stream",
     "text": [
      "    ntbs_  rejstress_\n",
      "0      34         4.5\n",
      "1      31         7.0\n",
      "2      38         4.5\n",
      "3      32         6.0\n",
      "4      30         8.0\n",
      "..    ...         ...\n",
      "78     32         5.0\n",
      "79     33         2.5\n",
      "80     36         2.0\n",
      "81     34         9.0\n",
      "82     34         6.0\n",
      "\n",
      "[83 rows x 2 columns]\n"
     ]
    }
   ],
   "source": [
    "ntbssaliencescatter = pd.DataFrame()\n",
    "ntbssaliencescatter['ntbs_'] = ntbs['NTBS_score']\n",
    "ntbssaliencescatter['salience_'] = rej['salience_mean']\n",
    "print(ntbsstressscatter)"
   ]
  },
  {
   "cell_type": "code",
   "execution_count": 65,
   "id": "d4eb3d7b",
   "metadata": {},
   "outputs": [
    {
     "data": {
      "image/png": "[encoded data removed]",
      "text/plain": [
       "<Figure size 432x288 with 1 Axes>"
      ]
     },
     "metadata": {
      "needs_background": "light"
     },
     "output_type": "display_data"
    }
   ],
   "source": [
    "r = scipy.stats.pearsonr(x=ntbschoicescatter.ntbs_, y=ntbschoicescatter.rejchoice_)[0]\n",
    "scatterntbssalience = sns.regplot(x= \"ntbs_\", y= \"salience_\", data= ntbssaliencescatter)\n",
    "scatterntbssalience.set_ylabel('Likelihood to Share')\n",
    "scatterntbssalience.set_xlabel('Need to Belong Scale')\n",
    "#scatterntbssalience= plt.text(24, 3.5, 'r = ' + str(round(r, 2)))\n",
    "plt.savefig('ntbs_salience_scatterplot.png',bbox_inches='tight')"
   ]
  },
  {
   "cell_type": "code",
   "execution_count": 66,
   "id": "befb45ee",
   "metadata": {},
   "outputs": [
    {
     "name": "stdout",
     "output_type": "stream",
     "text": [
      "     AQ_  rejchoice_\n",
      "0   24.0    1.000000\n",
      "1   33.0    0.250000\n",
      "2   32.0    0.090909\n",
      "3   11.0    0.500000\n",
      "4   21.0    1.000000\n",
      "..   ...         ...\n",
      "78  30.0    0.000000\n",
      "79  19.0    0.545455\n",
      "80  30.0    0.666667\n",
      "81  10.0    1.000000\n",
      "82  20.0    0.166667\n",
      "\n",
      "[83 rows x 2 columns]\n"
     ]
    }
   ],
   "source": [
    "aqchoicescatter = pd.DataFrame()\n",
    "aqchoicescatter['AQ_'] = aq['AQ']\n",
    "aqchoicescatter['rejchoice_'] = rejchoice\n",
    "print(aqchoicescatter)"
   ]
  },
  {
   "cell_type": "code",
   "execution_count": 67,
   "id": "d5aa6fcb",
   "metadata": {},
   "outputs": [
    {
     "data": {
      "image/png": "[encoded data removed]",
      "text/plain": [
       "<Figure size 432x288 with 1 Axes>"
      ]
     },
     "metadata": {
      "needs_background": "light"
     },
     "output_type": "display_data"
    }
   ],
   "source": [
    "r = scipy.stats.spearmanr(a=aqchoicescatter.AQ_, b=aqchoicescatter.rejchoice_)[0]\n",
    "scatter_aq_choice = sns.regplot(x= \"AQ_\", y= \"rejchoice_\", data= aqchoicescatter)\n",
    "scatter_aq_choice.set_title('Autism Quotient and Choice')\n",
    "scatter_aq_choice.set_ylabel('Self Choice %')\n",
    "scatter_aq_choice.set_xlabel('Autism Quotient')\n",
    "scatter_aq_choice= plt.text(9.5, .82, 'r = ' + str(round(r, 2)))\n",
    "plt.savefig('aq_choice_scatterplot.png',bbox_inches='tight')"
   ]
  },
  {
   "cell_type": "code",
   "execution_count": 68,
   "id": "29842a03",
   "metadata": {},
   "outputs": [
    {
     "name": "stdout",
     "output_type": "stream",
     "text": [
      "    SRQ_admiration_  rejchoice_\n",
      "0              2.50    1.000000\n",
      "1              5.25    0.250000\n",
      "2              4.00    0.090909\n",
      "3              6.25    0.500000\n",
      "4              6.00    1.000000\n",
      "..              ...         ...\n",
      "78             6.00    0.000000\n",
      "79             5.00    0.545455\n",
      "80             5.00    0.666667\n",
      "81             7.00    1.000000\n",
      "82             6.25    0.166667\n",
      "\n",
      "[83 rows x 2 columns]\n"
     ]
    }
   ],
   "source": [
    "srqadmirationchoicescatter = pd.DataFrame()\n",
    "srqadmirationchoicescatter['SRQ_admiration_'] = srq['SRQ_admiration']\n",
    "srqadmirationchoicescatter['rejchoice_'] = rejchoice\n",
    "print(srqadmirationchoicescatter)"
   ]
  },
  {
   "cell_type": "code",
   "execution_count": 69,
   "id": "a8182bef",
   "metadata": {},
   "outputs": [
    {
     "data": {
      "image/png": "[encoded data removed]",
      "text/plain": [
       "<Figure size 432x288 with 1 Axes>"
      ]
     },
     "metadata": {
      "needs_background": "light"
     },
     "output_type": "display_data"
    }
   ],
   "source": [
    "r = scipy.stats.spearmanr(a=srqadmirationchoicescatter.SRQ_admiration_, b=srqadmirationchoicescatter.rejchoice_)[0]\n",
    "scatter_srqadmiration_choice = sns.regplot(x= \"SRQ_admiration_\", y= \"rejchoice_\", data= srqadmirationchoicescatter, scatter_kws={\"color\": \"green\"}, line_kws={\"color\": \"green\"})\n",
    "scatter_srqadmiration_choice.set_ylabel('Self Choice %')\n",
    "scatter_srqadmiration_choice.set_xlabel('SRQ Admiration Subscale')\n",
    "#scatter_srqadmiration_choice= plt.text(2, .82, 'r = ' + str(round(r, 2)))\n",
    "plt.savefig('srqadmiration_choice_scatterplot.png', bbox_inches='tight')"
   ]
  },
  {
   "cell_type": "code",
   "execution_count": 70,
   "id": "50ae0510",
   "metadata": {},
   "outputs": [
    {
     "name": "stdout",
     "output_type": "stream",
     "text": [
      "rejstress_mean\n",
      "5.234939759036145\n",
      "rejstress_std\n",
      "2.1910813531968114\n"
     ]
    }
   ],
   "source": [
    "#affect ratings in rejection condition\n",
    "rejstress_mean = rej['recoded_stress'].mean()\n",
    "rejstress_std = rej['recoded_stress'].std()\n",
    "print('rejstress_mean')\n",
    "print(rejstress_mean)\n",
    "print('rejstress_std')\n",
    "print(rejstress_std)"
   ]
  },
  {
   "cell_type": "code",
   "execution_count": 71,
   "id": "3de242ba",
   "metadata": {},
   "outputs": [
    {
     "name": "stdout",
     "output_type": "stream",
     "text": [
      "neustress_mean\n",
      "5.614457831325301\n",
      "neustress_std\n",
      "2.0352462864161796\n"
     ]
    }
   ],
   "source": [
    "#affect ratings in neutral condition\n",
    "neustress_mean = neu['recoded_stress'].mean()\n",
    "neustress_std = neu['recoded_stress'].std()\n",
    "print('neustress_mean')\n",
    "print(neustress_mean)\n",
    "print('neustress_std')\n",
    "print(neustress_std)"
   ]
  },
  {
   "cell_type": "code",
   "execution_count": 72,
   "id": "90f3af46",
   "metadata": {},
   "outputs": [
    {
     "name": "stdout",
     "output_type": "stream",
     "text": [
      "accstress_mean\n",
      "5.981927710843373\n",
      "accstress_std\n",
      "1.8085936173611061\n"
     ]
    }
   ],
   "source": [
    "#affect ratings in acceptance condition\n",
    "accstress_mean = acc['recoded_stress'].mean()\n",
    "accstress_std = acc['recoded_stress'].std()\n",
    "print('accstress_mean')\n",
    "print(accstress_mean)\n",
    "print('accstress_std')\n",
    "print(accstress_std)"
   ]
  },
  {
   "cell_type": "code",
   "execution_count": 86,
   "id": "fd0ad58a",
   "metadata": {},
   "outputs": [],
   "source": [
    "#sns.set(font_scale=2)\n",
    "#plt.figure(figsize=(10,6))\n",
    "#choiceplot = sns.barplot(x='Social Condition', y='Choice', palette='rocket',data= plottingdata,errorbar=('ci', 68))\n",
    "#choiceplot.set_ylabel('Self Choice %')\n",
    "#sns.set_style('white')\n",
    "#choiceplot.set_ylim(0,1)\n",
    "#choiceplot.figure.savefig('ANOVA_choiceplot.png',bbox_inches='tight')"
   ]
  },
  {
   "cell_type": "code",
   "execution_count": 85,
   "id": "0fb17337",
   "metadata": {},
   "outputs": [],
   "source": [
    "#sns.set(font_scale=2)\n",
    "#plt.figure(figsize=(10,6))\n",
    "#choiceplot = sns.barplot(x='Social Condition', y='recoded_stress', data= plottingdata,palette= 'rocket',errorbar=('ci', 68))\n",
    "#choiceplot.set_ylabel('Affect Rating')\n",
    "#choiceplot.set_xlabel('Social Condition')\n",
    "#choiceplot.set_ylim(1, 9)\n",
    "#choiceplot.figure.savefig('ANOVA_affectplot.png',bbox_inches='tight')"
   ]
  },
  {
   "cell_type": "code",
   "execution_count": 83,
   "id": "fda63aa8",
   "metadata": {},
   "outputs": [],
   "source": [
    "#sns.set(font_scale=2)\n",
    "#sns.set_style('white')\n",
    "#plt.figure(figsize=(10,6))\n",
    "#choiceplot = sns.barplot(x='Social Condition', y='salience_mean', data= plottingdata,palette= 'rocket',errorbar=('ci', 68))\n",
    "#choiceplot.set_ylabel('Likelihood to Share')\n",
    "#choiceplot.set_xlabel('Social Condition')\n",
    "#choiceplot.set_ylim(1, 7)\n",
    "#choiceplot.figure.savefig('ANOVA_sharingplot.png',bbox_inches='tight')"
   ]
  },
  {
   "cell_type": "code",
   "execution_count": 84,
   "id": "635d97ad",
   "metadata": {},
   "outputs": [],
   "source": [
    "# Let's predict the tip ($) based on the total bill (also in $)\n",
    "#updatedchoicedata = updatedchoicedata.DataFrame()\n",
    "#lm = pg.linear_regression(updatedchoicedata['condition_recode'],updatedchoicedata['recoded_stress'],updatedchoicedata['choice'])\n",
    "#lm.round(2)\n",
    "#print(lm)"
   ]
  },
  {
   "cell_type": "code",
   "execution_count": 77,
   "id": "430b2f9d",
   "metadata": {},
   "outputs": [
    {
     "data": {
      "image/png": "[encoded data removed]",
      "text/plain": [
       "<Figure size 432x288 with 1 Axes>"
      ]
     },
     "metadata": {},
     "output_type": "display_data"
    },
    {
     "name": "stdout",
     "output_type": "stream",
     "text": [
      "[[ 1.49413077e+03 -3.24988958e+00]\n",
      " [-3.24988958e+00  1.60290400e-01]]\n",
      "Spearmans correlation: -0.245\n",
      "p value: 0.0255\n",
      "Reject the null hypothesis that the means are equal.\n"
     ]
    }
   ],
   "source": [
    "pyplot.scatter(LSAS[\"LSAS_total\"],rejchoice)\n",
    "pyplot.show()\n",
    "covariance = cov(LSAS[\"LSAS_total\"],rejchoice)\n",
    "print(covariance)\n",
    "corr, _ = spearmanr(LSAS[\"LSAS_total\"],rejchoice)\n",
    "print('Spearmans correlation: %.3f' % corr)\n",
    "r,p = scipy.stats.spearmanr(LSAS[\"LSAS_total\"],rejchoice)\n",
    "print('p value: %.4f' % p)\n",
    "\n",
    "alpha = 0.10\n",
    "if p > alpha:\n",
    " print('Accept null hypothesis that the means are equal.')\n",
    "else:\n",
    "    print('Reject the null hypothesis that the means are equal.')"
   ]
  },
  {
   "cell_type": "code",
   "execution_count": 80,
   "id": "2de8763a",
   "metadata": {},
   "outputs": [
    {
     "data": {
      "image/png": "[encoded data removed]",
      "text/plain": [
       "<Figure size 432x288 with 1 Axes>"
      ]
     },
     "metadata": {},
     "output_type": "display_data"
    },
    {
     "name": "stdout",
     "output_type": "stream",
     "text": [
      "[[3.00852189e+00 2.97954568e-03]\n",
      " [2.97954568e-03 1.60290400e-01]]\n",
      "Spearmans correlation: -0.027\n",
      "p value: 0.8067\n",
      "Accept null hypothesis that the means are equal.\n"
     ]
    }
   ],
   "source": [
    "pyplot.scatter(DII[\"DII_dysfuntionalimpulsivity\"],rejchoice)\n",
    "pyplot.show()\n",
    "covariance = cov(DII[\"DII_dysfuntionalimpulsivity\"],rejchoice)\n",
    "print(covariance)\n",
    "corr, _ = spearmanr(DII[\"DII_dysfuntionalimpulsivity\"],rejchoice)\n",
    "print('Spearmans correlation: %.3f' % corr)\n",
    "r,p = scipy.stats.spearmanr(DII[\"DII_dysfuntionalimpulsivity\"],rejchoice)\n",
    "print('p value: %.4f' % p)\n",
    "\n",
    "alpha = 0.10\n",
    "if p > alpha:\n",
    " print('Accept null hypothesis that the means are equal.')\n",
    "else:\n",
    "    print('Reject the null hypothesis that the means are equal.')"
   ]
  },
  {
   "cell_type": "code",
   "execution_count": 82,
   "id": "3a775df9",
   "metadata": {},
   "outputs": [
    {
     "data": {
      "image/png": "[encoded data removed]",
      "text/plain": [
       "<Figure size 432x288 with 1 Axes>"
      ]
     },
     "metadata": {},
     "output_type": "display_data"
    },
    {
     "name": "stdout",
     "output_type": "stream",
     "text": [
      "[[ 2.39759036 -0.02738871]\n",
      " [-0.02738871  0.1602904 ]]\n",
      "Spearmans correlation: -0.034\n",
      "p value: 0.7582\n",
      "Accept null hypothesis that the means are equal.\n"
     ]
    }
   ],
   "source": [
    "pyplot.scatter(DII[\"DII_functionalimpulsivity\"],rejchoice)\n",
    "pyplot.show()\n",
    "covariance = cov(DII[\"DII_functionalimpulsivity\"],rejchoice)\n",
    "print(covariance)\n",
    "corr, _ = spearmanr(DII[\"DII_functionalimpulsivity\"],rejchoice)\n",
    "print('Spearmans correlation: %.3f' % corr)\n",
    "r,p = scipy.stats.spearmanr(DII[\"DII_functionalimpulsivity\"],rejchoice)\n",
    "print('p value: %.4f' % p)\n",
    "\n",
    "alpha = 0.10\n",
    "if p > alpha:\n",
    " print('Accept null hypothesis that the means are equal.')\n",
    "else:\n",
    "    print('Reject the null hypothesis that the means are equal.')"
   ]
  },
  {
   "cell_type": "code",
   "execution_count": 90,
   "id": "92e2ba51",
   "metadata": {},
   "outputs": [
    {
     "data": {
      "image/png": "[encoded data removed]",
      "text/plain": [
       "<Figure size 432x288 with 1 Axes>"
      ]
     },
     "metadata": {},
     "output_type": "display_data"
    },
    {
     "name": "stdout",
     "output_type": "stream",
     "text": [
      "[[0.71466353 0.10745154]\n",
      " [0.10745154 0.1602904 ]]\n",
      "Spearmans correlation: 0.307\n",
      "p value: 0.0048\n",
      "Reject the null hypothesis that the means are equal.\n"
     ]
    }
   ],
   "source": [
    "pyplot.scatter(dast[\"DAST_score\"],rejchoice)\n",
    "pyplot.show()\n",
    "covariance = cov(dast[\"DAST_score\"],rejchoice)\n",
    "print(covariance)\n",
    "corr, _ = spearmanr(dast[\"DAST_score\"],rejchoice)\n",
    "print('Spearmans correlation: %.3f' % corr)\n",
    "r,p = scipy.stats.spearmanr(dast[\"DAST_score\"],rejchoice)\n",
    "print('p value: %.4f' % p)\n",
    "\n",
    "alpha = 0.10\n",
    "if p > alpha:\n",
    " print('Accept null hypothesis that the means are equal.')\n",
    "else:\n",
    "    print('Reject the null hypothesis that the means are equal.')"
   ]
  },
  {
   "cell_type": "code",
   "execution_count": null,
   "id": "8a58af12",
   "metadata": {},
   "outputs": [],
   "source": []
  }
 ],
 "metadata": {
  "kernelspec": {
   "display_name": "Python 3",
   "language": "python",
   "name": "python3"
  },
  "language_info": {
   "codemirror_mode": {
    "name": "ipython",
    "version": 3
   },
   "file_extension": ".py",
   "mimetype": "text/x-python",
   "name": "python",
   "nbconvert_exporter": "python",
   "pygments_lexer": "ipython3",
   "version": "3.8.10"
  }
 },
 "nbformat": 4,
 "nbformat_minor": 5
}
